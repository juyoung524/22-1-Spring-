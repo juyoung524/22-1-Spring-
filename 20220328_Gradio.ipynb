{
  "nbformat": 4,
  "nbformat_minor": 0,
  "metadata": {
    "colab": {
      "name": "20220328 Gradio.ipynb",
      "provenance": [],
      "include_colab_link": true
    },
    "kernelspec": {
      "name": "python3",
      "display_name": "Python 3"
    },
    "language_info": {
      "name": "python"
    }
  },
  "cells": [
    {
      "cell_type": "markdown",
      "metadata": {
        "id": "view-in-github",
        "colab_type": "text"
      },
      "source": [
        "<a href=\"https://colab.research.google.com/github/juyoung524/22-1-Spring-/blob/main/20220328_Gradio.ipynb\" target=\"_parent\"><img src=\"https://colab.research.google.com/assets/colab-badge.svg\" alt=\"Open In Colab\"/></a>"
      ]
    },
    {
      "cell_type": "markdown",
      "source": [
        "입력으로 a, b를 받아서 +를 해 주는 함수 정의"
      ],
      "metadata": {
        "id": "IZKh6clEkdaj"
      }
    },
    {
      "cell_type": "code",
      "execution_count": null,
      "metadata": {
        "id": "ZhrL6xVSQ9bS"
      },
      "outputs": [],
      "source": [
        "def sum(a, b):\n",
        "\n",
        "  c = int(a + b)\n",
        "  c = '정답은 ' + str(c) + '입니다'\n",
        "  return str(c)"
      ]
    },
    {
      "cell_type": "code",
      "source": [
        "sum(2,3)\n",
        "\n",
        "#Float가 여기서 만들어져서 계산 과정에서 2+3 더하면서 float로 바뀜"
      ],
      "metadata": {
        "id": "1HIgbjYWSBNX",
        "outputId": "b5686204-a698-4b5f-c4c8-300c9b402374",
        "colab": {
          "base_uri": "https://localhost:8080/",
          "height": 35
        }
      },
      "execution_count": null,
      "outputs": [
        {
          "output_type": "execute_result",
          "data": {
            "text/plain": [
              "'정답은 5입니다'"
            ],
            "application/vnd.google.colaboratory.intrinsic+json": {
              "type": "string"
            }
          },
          "metadata": {},
          "execution_count": 2
        }
      ]
    },
    {
      "cell_type": "markdown",
      "source": [
        "웹(웹 데모)으로 예쁘게 만들어 주는 작업도 중요함. 그래서 gradio 사용하는 것\n",
        "\n",
        "아직 gradio 안 깔려 있어서 까는 거 먼저 해야 함 (!pip install gradio하면 한참 다운로드 받고, 깔림)"
      ],
      "metadata": {
        "id": "6XmR9bJ5k_8l"
      }
    },
    {
      "cell_type": "code",
      "source": [
        "!pip install gradio"
      ],
      "metadata": {
        "id": "sfMdWugISD5M"
      },
      "execution_count": null,
      "outputs": []
    },
    {
      "cell_type": "code",
      "source": [
        "import gradio as gr"
      ],
      "metadata": {
        "id": "buyjOWYWS41q"
      },
      "execution_count": null,
      "outputs": []
    },
    {
      "cell_type": "markdown",
      "source": [
        "gr.Interface, 괄호 열고 함수명(sum), inputs(입력), outputs(출력)\n",
        "\n",
        "input 2개, output 1개 (개수는 맞음)\n",
        "\n",
        "Type이 맞는지 봐야 함\n",
        "\n",
        "input- number,\n",
        "\n",
        "output- number가 없어. Text밖에 없음"
      ],
      "metadata": {
        "id": "Zip85NhQlZhn"
      }
    },
    {
      "cell_type": "markdown",
      "source": [
        "launch까지 해줘야지 실제 웹 데모가 만들어짐. launch하지 않으면 실행만 되고 웹 데모가 만들어지지는 않음\n",
        "\n",
        "72시간 동안 데모가 살아있음. 옆에다 올려놓으면 공짜로 hosting까지 해 줌"
      ],
      "metadata": {
        "id": "X4RIDAWkmwK6"
      }
    },
    {
      "cell_type": "code",
      "source": [
        "iface = gr.Interface(sum, inputs = [\"number\", \"number\"], outputs = [\"text\"])\n",
        "iface.launch()"
      ],
      "metadata": {
        "id": "vNlrBEbSS7ge"
      },
      "execution_count": null,
      "outputs": []
    },
    {
      "cell_type": "markdown",
      "source": [
        "미적으로 좀 예쁘게 하고 싶을 때는 어떻게 할까? 지금 나와 있는 상태에서 하는 것은 어려움. Decoration하기 위해서는 아래 참조\n",
        "\n",
        "gr.inputs.Number(label='input1')"
      ],
      "metadata": {
        "id": "7_6vDdM5oQ05"
      }
    },
    {
      "cell_type": "code",
      "source": [
        "iface = gr.Interface(sum, [gr.inputs.Number(label='input1'), gr.inputs.Number(label='input2')], gr.outputs.Textbox(label='answer'))\n",
        "iface.launch()"
      ],
      "metadata": {
        "id": "9C_eEMRCWExA"
      },
      "execution_count": null,
      "outputs": []
    },
    {
      "cell_type": "markdown",
      "source": [
        "Input 1, 2, Output 해서 좀 더 예뻐짐\n",
        "\n",
        "Gradio는 함수가 있어야 함. 제일 첫 번째 받는 인자는 '함수 이름', 그 다음에 입력과 출력 적어주는 것임\n",
        "\n",
        "간단히는 inputs = [\"number\", \"number\"] (숫자인지, 오디오인지...)\n",
        "\n",
        "Decoration 해주고 싶으면 List로 gr.input.유형, 개수 만큼 해 주면 됨"
      ],
      "metadata": {
        "id": "X2fC2i7io__q"
      }
    }
  ]
}