{
  "nbformat": 4,
  "nbformat_minor": 0,
  "metadata": {
    "kernelspec": {
      "display_name": "Python 3",
      "language": "python",
      "name": "python3"
    },
    "language_info": {
      "codemirror_mode": {
        "name": "ipython",
        "version": 3
      },
      "file_extension": ".py",
      "mimetype": "text/x-python",
      "name": "python",
      "nbconvert_exporter": "python",
      "pygments_lexer": "ipython3",
      "version": "3.7.1"
    },
    "colab": {
      "name": "nlp.ipynb",
      "provenance": [],
      "include_colab_link": true
    }
  },
  "cells": [
    {
      "cell_type": "markdown",
      "metadata": {
        "id": "view-in-github",
        "colab_type": "text"
      },
      "source": [
        "<a href=\"https://colab.research.google.com/github/juyoung524/22-1-Spring-/blob/main/20220509(%EC%88%98%EC%97%85).ipynb\" target=\"_parent\"><img src=\"https://colab.research.google.com/assets/colab-badge.svg\" alt=\"Open In Colab\"/></a>"
      ]
    },
    {
      "cell_type": "markdown",
      "metadata": {
        "id": "ltUO0sYwyGfU"
      },
      "source": [
        "### Tokenization"
      ]
    },
    {
      "cell_type": "code",
      "metadata": {
        "id": "di6xZ08xsgO7"
      },
      "source": [
        "import nltk"
      ],
      "execution_count": 16,
      "outputs": []
    },
    {
      "cell_type": "code",
      "source": [
        "# copy a file from github\n",
        "import os\n",
        "url = \"https://raw.githubusercontent.com/hsnam95/class2022Spring/main/crime_punishment.txt\"\n",
        "os.system(\"curl \" + url + \" > crime_punishment.txt\")\n",
        "\n",
        "# read a text file in the server\n",
        "file = open(\"crime_punishment.txt\")\n",
        "text = file.read().replace(\"\\n\", \" \")\n",
        "file.close()"
      ],
      "metadata": {
        "id": "btgs9Nt-2Yj-"
      },
      "execution_count": null,
      "outputs": []
    },
    {
      "cell_type": "code",
      "metadata": {
        "id": "tbHEyyNHntcZ"
      },
      "source": [
        "# or copy/pase text here\n",
        "text = 'Here’s to the crazy ones, the misfits, the rebels, the troublemakers, the round pegs in the square holes. \\\n",
        "The ones who see things differently — they’re not fond of rules. \\\n",
        "You can quote them, disagree with them, glorify or vilify them, \\\n",
        "but the only thing you can’t do is ignore them because they change things. \\\n",
        "They push the human race forward, and while some may see them as the crazy ones, we see genius, \\\n",
        "because the ones who are crazy enough to think that they can change the world, are the ones who do.'"
      ],
      "execution_count": null,
      "outputs": []
    },
    {
      "cell_type": "code",
      "source": [
        "# write out a text file\n",
        "file = open(\"tmp.txt\", \"w\")\n",
        "file.write(text)\n",
        "file.close()"
      ],
      "metadata": {
        "id": "9saTcc9C4Cjn"
      },
      "execution_count": null,
      "outputs": []
    },
    {
      "cell_type": "code",
      "metadata": {
        "id": "45jV2UYs1GEC"
      },
      "source": [
        "text.split()"
      ],
      "execution_count": null,
      "outputs": []
    },
    {
      "cell_type": "code",
      "metadata": {
        "id": "NFR-cRaahTPy"
      },
      "source": [
        "' '.join(text.split())"
      ],
      "execution_count": null,
      "outputs": []
    },
    {
      "cell_type": "code",
      "metadata": {
        "id": "Gq_lPZMHntcb"
      },
      "source": [
        "from nltk.tokenize import word_tokenize\n",
        "nltk.download('punkt')\n",
        "words = word_tokenize(text)"
      ],
      "execution_count": null,
      "outputs": []
    },
    {
      "cell_type": "code",
      "metadata": {
        "id": "RC1fe7nWF6wN"
      },
      "source": [
        "from nltk.tokenize import RegexpTokenizer\n",
        "retokenize = RegexpTokenizer(\"[\\w]+\")\n",
        "words = retokenize.tokenize(text)"
      ],
      "execution_count": null,
      "outputs": []
    },
    {
      "cell_type": "markdown",
      "metadata": {
        "id": "Pc42Plwx56YS"
      },
      "source": [
        "### Normalization  \n",
        "**Stemming** 어간 추출 대충의 패턴 규칙으로 어미를 잘라내는 것 (사전에 없는 어간 나올 수 있음)\n",
        "\n",
        "**Lemmatization** 표제어(기본 사전형) 추출.\n"
      ]
    },
    {
      "cell_type": "code",
      "metadata": {
        "id": "lsFfoAr259Fs"
      },
      "source": [
        "from nltk.stem import PorterStemmer\n",
        "stemmer = PorterStemmer()\n",
        "[stemmer.stem(w) for w in words]"
      ],
      "execution_count": null,
      "outputs": []
    },
    {
      "cell_type": "code",
      "metadata": {
        "id": "HkbgNiPd8BdL"
      },
      "source": [
        "from nltk.stem import LancasterStemmer\n",
        "stemmer = LancasterStemmer()\n",
        "[stemmer.stem(w) for w in words]"
      ],
      "execution_count": null,
      "outputs": []
    },
    {
      "cell_type": "code",
      "metadata": {
        "id": "VIIh5pYd8f74"
      },
      "source": [
        "from nltk.stem import WordNetLemmatizer\n",
        "nltk.download('wordnet')\n",
        "lemmatizer = WordNetLemmatizer()\n",
        "[lemmatizer.lemmatize(w) for w in words]"
      ],
      "execution_count": null,
      "outputs": []
    },
    {
      "cell_type": "markdown",
      "metadata": {
        "id": "RPgIzrjm8_1N"
      },
      "source": [
        "### Stopword"
      ]
    },
    {
      "cell_type": "code",
      "metadata": {
        "id": "WdM2FaN8ntcc"
      },
      "source": [
        "from nltk.corpus import stopwords  \n",
        "nltk.download('stopwords')\n",
        "print(words)\n",
        "words = [w for w in words if not w in stopwords.words('english')]\n",
        "print(words)"
      ],
      "execution_count": null,
      "outputs": []
    },
    {
      "cell_type": "markdown",
      "metadata": {
        "id": "OmwXTL0UA5aw"
      },
      "source": [
        "### Collocation, Concordance"
      ]
    },
    {
      "cell_type": "code",
      "metadata": {
        "id": "Fll4ygxNA3OJ"
      },
      "source": [
        "nltk.download('gutenberg')\n",
        "text = nltk.corpus.gutenberg.raw('austen-emma.txt')\n",
        "words = retokenize.tokenize(text)"
      ],
      "execution_count": null,
      "outputs": []
    },
    {
      "cell_type": "code",
      "metadata": {
        "id": "NqVXlhIrAtmf"
      },
      "source": [
        "nltk.Text(words).collocations()  # default: (num=20, window_size=2)"
      ],
      "execution_count": null,
      "outputs": []
    },
    {
      "cell_type": "code",
      "metadata": {
        "id": "Aq0wiutwA_au"
      },
      "source": [
        "nltk.Text(words).concordance('Emma', 79, 10)"
      ],
      "execution_count": null,
      "outputs": []
    },
    {
      "cell_type": "code",
      "metadata": {
        "id": "hIAIhXvP_BjU"
      },
      "source": [
        "nltk.Text(words).dispersion_plot([\"Emma\", \"Knightley\", \"Frank\", \"Jane\", \"Harriet\", \"Robert\"])"
      ],
      "execution_count": null,
      "outputs": []
    },
    {
      "cell_type": "code",
      "metadata": {
        "id": "lWYZOFxq_ex2"
      },
      "source": [
        "# Distributional similarity: \n",
        "# find other words which appear in the same contexts as the specified word; \n",
        "# list most similar words first.\n",
        "nltk.Text(words).similar(\"Emma\")"
      ],
      "execution_count": null,
      "outputs": []
    },
    {
      "cell_type": "code",
      "metadata": {
        "id": "ZihiVSBK_vy7"
      },
      "source": [
        "# Find contexts where the specified words appear; list most frequent common contexts first.\n",
        "nltk.Text(words).common_contexts([\"Emma\", \"she\"])"
      ],
      "execution_count": null,
      "outputs": []
    },
    {
      "cell_type": "markdown",
      "metadata": {
        "id": "A8TrCE14vGcT"
      },
      "source": [
        "### Frequency distribution, Frequency plot"
      ]
    },
    {
      "cell_type": "code",
      "metadata": {
        "id": "UdY3m6zSBHic"
      },
      "source": [
        "fd = nltk.FreqDist(words).most_common(20)\n",
        "fd"
      ],
      "execution_count": null,
      "outputs": []
    },
    {
      "cell_type": "code",
      "metadata": {
        "id": "1tpZThNV-ftv"
      },
      "source": [
        "nltk.Text(words).plot(20)"
      ],
      "execution_count": null,
      "outputs": []
    },
    {
      "cell_type": "markdown",
      "metadata": {
        "id": "JSOSzIovvKvE"
      },
      "source": [
        "### Dictionary"
      ]
    },
    {
      "cell_type": "code",
      "metadata": {
        "id": "UIcAOAvqntce",
        "colab": {
          "base_uri": "https://localhost:8080/"
        },
        "outputId": "1a4f7b49-0a89-4728-8d1e-28afcf6a04b7"
      },
      "source": [
        "nltk.download('words')\n",
        "nltk.corpus.words.words('en')[-20:-1]\n"
      ],
      "execution_count": null,
      "outputs": [
        {
          "output_type": "stream",
          "name": "stdout",
          "text": [
            "[nltk_data] Downloading package words to /root/nltk_data...\n",
            "[nltk_data]   Unzipping corpora/words.zip.\n"
          ]
        },
        {
          "output_type": "execute_result",
          "data": {
            "text/plain": [
              "['zymosis',\n",
              " 'zymosterol',\n",
              " 'zymosthenic',\n",
              " 'zymotechnic',\n",
              " 'zymotechnical',\n",
              " 'zymotechnics',\n",
              " 'zymotechny',\n",
              " 'zymotic',\n",
              " 'zymotically',\n",
              " 'zymotize',\n",
              " 'zymotoxic',\n",
              " 'zymurgy',\n",
              " 'Zyrenian',\n",
              " 'Zyrian',\n",
              " 'Zyryan',\n",
              " 'zythem',\n",
              " 'Zythia',\n",
              " 'zythum',\n",
              " 'Zyzomys']"
            ]
          },
          "metadata": {},
          "execution_count": 4
        }
      ]
    },
    {
      "cell_type": "code",
      "metadata": {
        "id": "GjAy_Ju7ntce"
      },
      "source": [
        "len(nltk.corpus.words.words('en'))"
      ],
      "execution_count": null,
      "outputs": []
    },
    {
      "cell_type": "markdown",
      "metadata": {
        "id": "UyIIqwosCRZa"
      },
      "source": [
        "### Extract information (pos tag, named entity)\n"
      ]
    },
    {
      "cell_type": "markdown",
      "source": [
        "#### **POS tag list**:\n",
        "\n",
        "CC\tcoordinating conjunction \\\n",
        "CD\tcardinal digit \\\n",
        "DT\tdeterminer \\\n",
        "EX\texistential there (like: \"there is\" ... think of it like \"there exists\") \\\n",
        "FW\tforeign word \\\n",
        "IN\tpreposition/subordinating conjunction \\\n",
        "JJ\tadjective\t'big' \\\n",
        "JJR\tadjective, comparative\t'bigger' \\\n",
        "JJS\tadjective, superlative\t'biggest' \\\n",
        "LS\tlist marker\t1) \\\n",
        "MD\tmodal\tcould, will \\\n",
        "NN\tnoun, singular 'desk' \\\n",
        "NNS\tnoun plural\t'desks' \\\n",
        "NNP\tproper noun, singular\t'Harrison' \\\n",
        "NNPS\tproper noun, plural\t'Americans' \\\n",
        "PDT\tpredeterminer\t'all the kids' \\\n",
        "POS\tpossessive ending\tparent's \\\n",
        "PRP\tpersonal pronoun\tI, he, she \\\n",
        "PRP\\$\tpossessive pronoun\tmy, his, hers \\\n",
        "RB\tadverb\tvery, silently, \\\n",
        "RBR\tadverb, comparative\tbetter \\\n",
        "RBS\tadverb, superlative\tbest \\\n",
        "RP\tparticle\tgive up \\\n",
        "TO\tto\tgo 'to' the store. \\\n",
        "UH\tinterjection\terrrrrrrrm \\\n",
        "VB\tverb, base form\ttake \\\n",
        "VBD\tverb, past tense\ttook \\\n",
        "VBG\tverb, gerund/present participle\ttaking \\\n",
        "VBN\tverb, past participle\ttaken \\\n",
        "VBP\tverb, sing. present, non-3d\ttake \\\n",
        "VBZ\tverb, 3rd person sing. present\ttakes \\\n",
        "WDT\twh-determiner\twhich \\\n",
        "WP\twh-pronoun\twho, what \\\n",
        "WP\\$\tpossessive wh-pronoun\twhose \\\n",
        "WRB\twh-abverb\twhere, when \\"
      ],
      "metadata": {
        "id": "NLz0kp4kekaZ"
      }
    },
    {
      "cell_type": "code",
      "metadata": {
        "id": "8VBiObftCVwH"
      },
      "source": [
        "sent = \"I am Jhon from America and would like to go to Starbuck\"\n",
        "words = nltk.word_tokenize(sent)"
      ],
      "execution_count": null,
      "outputs": []
    },
    {
      "cell_type": "code",
      "metadata": {
        "id": "AwKdu36WCewv"
      },
      "source": [
        "nltk.download('averaged_perceptron_tagger')\n",
        "pos = nltk.pos_tag(words)"
      ],
      "execution_count": null,
      "outputs": []
    },
    {
      "cell_type": "code",
      "metadata": {
        "id": "rnjGT1HpClE0"
      },
      "source": [
        "nltk.download('maxent_ne_chunker')\n",
        "NE = nltk.ne_chunk(pos)\n",
        "# common Entity types: ORGANIZATION, PERSON, LOCATION, DATE, TIME, MONEY, and GPE (geo-political entity)"
      ],
      "execution_count": null,
      "outputs": []
    },
    {
      "cell_type": "markdown",
      "metadata": {
        "id": "jt9DEIZ4lXQF"
      },
      "source": [
        "### Wordcloud"
      ]
    },
    {
      "cell_type": "code",
      "metadata": {
        "id": "jypxOnw9hoyZ"
      },
      "source": [
        "from wordcloud import WordCloud, STOPWORDS\n",
        "import matplotlib.pyplot as plt\n",
        "\n",
        "text = nltk.corpus.gutenberg.raw('bible-kjv.txt')\n",
        "\n",
        "wc = WordCloud().generate(text) \n",
        "plt.imshow(wc)"
      ],
      "execution_count": null,
      "outputs": []
    },
    {
      "cell_type": "code",
      "metadata": {
        "id": "Q6xv5ClAl5xk"
      },
      "source": [
        "stopwords = set(STOPWORDS) \n",
        "stopwords.add('unto')\n",
        "wc = WordCloud(stopwords = stopwords).generate(text) \n",
        "plt.imshow(wc)"
      ],
      "execution_count": null,
      "outputs": []
    },
    {
      "cell_type": "markdown",
      "metadata": {
        "id": "VrVGVc0X9j7r"
      },
      "source": [
        "### Regular expression"
      ]
    },
    {
      "cell_type": "markdown",
      "source": [
        "세 가지 중요한 Function이 있음\n",
        "\n",
        "* **search**: 주어진 string에 대해서 무언가를 찾는 것\n",
        "\n",
        "* **findall**: search와는 다르게 전부 다 찾아주는 것 의미\n",
        "\n",
        "* **sub**: substitute, replace한다는 말임"
      ],
      "metadata": {
        "id": "3_DTuqId-meW"
      }
    },
    {
      "cell_type": "code",
      "metadata": {
        "id": "cQKgoQFI_cG-"
      },
      "source": [
        "import re"
      ],
      "execution_count": 1,
      "outputs": []
    },
    {
      "cell_type": "code",
      "source": [
        "re.search('a', 'abcdefa')"
      ],
      "metadata": {
        "id": "qM5Uv5IyLeLG",
        "outputId": "48112051-8622-4aed-ebbf-6dd9ad5301fe",
        "colab": {
          "base_uri": "https://localhost:8080/"
        }
      },
      "execution_count": 6,
      "outputs": [
        {
          "output_type": "execute_result",
          "data": {
            "text/plain": [
              "<re.Match object; span=(0, 1), match='a'>"
            ]
          },
          "metadata": {},
          "execution_count": 6
        }
      ]
    },
    {
      "cell_type": "markdown",
      "source": [
        "제일 먼저 나온 것을 찾아주는 것임\n",
        "\n",
        "오른쪽에 나온 string에 대해서 a를 찾아라. (**제일 처음 발견된 a를 찾아줌**)\n",
        "\n",
        "0에서 1까지라는 듯\n",
        "\n",
        "bc 넣으면 span=(1,3) 이렇게 나옴"
      ],
      "metadata": {
        "id": "gCm9eTj02Xei"
      }
    },
    {
      "cell_type": "code",
      "source": [
        "re.findall('a', 'abcdefa')"
      ],
      "metadata": {
        "id": "KSVsBeO7LyOK",
        "outputId": "f237db7d-907a-41c8-cb44-a0b93ab373af",
        "colab": {
          "base_uri": "https://localhost:8080/"
        }
      },
      "execution_count": 11,
      "outputs": [
        {
          "output_type": "execute_result",
          "data": {
            "text/plain": [
              "['a', 'a']"
            ]
          },
          "metadata": {},
          "execution_count": 11
        }
      ]
    },
    {
      "cell_type": "markdown",
      "source": [
        "다 찾아서 list로 만들어주는 것임. ['a', 'a']\n",
        "\n",
        "list에서는 ['ab', 'ab']"
      ],
      "metadata": {
        "id": "LMnJ6Hcq_XaR"
      }
    },
    {
      "cell_type": "markdown",
      "source": [
        "Regular expression 잘 쓰면 어떻게 유용하게 쓰이는지 알 수 있을 것임\n",
        "\n",
        "String 전체에서 해당하는 것 다 찾아줌\n",
        "\n",
        "바로 string 넣어줄 수도 있지만, **규칙을 어떻게 넣느냐**에 따라 **엄청나게 smart**하게 찾을 수 있음"
      ],
      "metadata": {
        "id": "F1_Ec5br2bCN"
      }
    },
    {
      "cell_type": "code",
      "source": [
        "re.sub('a', 'b', 'abcdefa')"
      ],
      "metadata": {
        "id": "BSCfOsKuLzGi",
        "outputId": "bad9a9f7-55ad-44c0-8c90-7212b43e839e",
        "colab": {
          "base_uri": "https://localhost:8080/",
          "height": 35
        }
      },
      "execution_count": 13,
      "outputs": [
        {
          "output_type": "execute_result",
          "data": {
            "text/plain": [
              "'bbcdefb'"
            ],
            "application/vnd.google.colaboratory.intrinsic+json": {
              "type": "string"
            }
          },
          "metadata": {},
          "execution_count": 13
        }
      ]
    },
    {
      "cell_type": "markdown",
      "source": [
        "substitute한다는 의미임 (sub)\n",
        "\n",
        "대상이 되는 string 'abcdefa'에서 'a'를 'b'로 바꾼다 (전부 다에 해당됨)\n",
        "\n",
        "a를 전부 다 b로 바꿔주는 function 'bbcdefb'"
      ],
      "metadata": {
        "id": "e_Lm5Jxp2orC"
      }
    },
    {
      "cell_type": "code",
      "metadata": {
        "id": "7U2pS-NL9p38"
      },
      "source": [
        "'''       Basic Regular Expression Meta-Characters, Including Wildcards, Ranges and Closures\n",
        "\n",
        ".\t        Wildcard, matches any character\n",
        "^abc\t    Matches some pattern abc at the start of a string\n",
        "abc$\t    Matches some pattern abc at the end of a string\n",
        "[abc]\t    Matches one of a set of characters\n",
        "[^abc]    Matches anything but a set of characters\n",
        "[A-Z0-9]\tMatches one of a range of characters\n",
        "ed|ing|s\tMatches one of the specified strings (disjunction)\n",
        "*\t        Zero or more of previous item, e.g. a*, [a-z]* (also known as Kleene Closure)\n",
        "+\t        One or more of previous item, e.g. a+, [a-z]+\n",
        "?\t        Zero or one of the previous item (i.e. optional), e.g. a?, [a-z]?\n",
        "{n}\t      Exactly n repeats where n is a non-negative integer\n",
        "{n,}\t    At least n repeats\n",
        "{,n}\t    No more than n repeats\n",
        "{m,n}\t    At least m and no more than n repeats\n",
        "a(b|c)+\t  Parentheses that indicate the scope of the operators\n",
        "(...)     Matches whatever regular expression is inside the parentheses\n",
        "\\d\n",
        "Matches any decimal digit; this is equivalent to the class [0-9].\n",
        "\\D\n",
        "Matches any non-digit character; this is equivalent to the class [^0-9].\n",
        "\\s\n",
        "Matches any whitespace character; this is equivalent to the class [ \\t\\n\\r\\f\\v].\n",
        "\\S\n",
        "Matches any non-whitespace character; this is equivalent to the class [^ \\t\\n\\r\\f\\v].\n",
        "\\w\n",
        "Matches any alphanumeric character; this is equivalent to the class [a-zA-Z0-9_].\n",
        "\\W\n",
        "Matches any non-alphanumeric character; this is equivalent to the class [^a-zA-Z0-9_].\n",
        "\n",
        "'''"
      ],
      "execution_count": null,
      "outputs": []
    },
    {
      "cell_type": "markdown",
      "source": [
        "넣을 수 있는 규칙이 여기 다 규정되어 있음."
      ],
      "metadata": {
        "id": "hwn0hs0xABsv"
      }
    },
    {
      "cell_type": "code",
      "source": [
        "nltk.download('words')\n",
        "engdict = nltk.corpus.words.words('en')\n",
        "engdict"
      ],
      "metadata": {
        "id": "Fu1J0mNY3TWK"
      },
      "execution_count": null,
      "outputs": []
    },
    {
      "cell_type": "code",
      "source": [
        "len(engdict)"
      ],
      "metadata": {
        "colab": {
          "base_uri": "https://localhost:8080/"
        },
        "id": "q6TUagO2AaMI",
        "outputId": "af34600c-c1b1-40b1-d70d-c5cdfcb47006"
      },
      "execution_count": 18,
      "outputs": [
        {
          "output_type": "execute_result",
          "data": {
            "text/plain": [
              "235886"
            ]
          },
          "metadata": {},
          "execution_count": 18
        }
      ]
    },
    {
      "cell_type": "markdown",
      "source": [
        "사전을 불러오기 함 (nltk에 담겨 있는 engdict 사전)\n",
        "\n",
        "**List로 23만 개의 단어**가 들어옴 len(engdict)하면 나오는 것\n",
        "\n",
        "list에 있는 각각의 string에 대하여 **search와 findall은 어디에 적용되냐면, 'string'에 적용**되는 것임 -> 그래서 밑에서 list로 engdict가 받아짐\n",
        "\n",
        "각각의 아이템 (ex. 0번째 item)에 대해서 search와 findall 쓸 것이다."
      ],
      "metadata": {
        "id": "fVdr_zSw3goA"
      }
    },
    {
      "cell_type": "code",
      "source": [
        "engdict[10]"
      ],
      "metadata": {
        "id": "dvCfHGOu3t5q",
        "outputId": "0738b4d1-9341-4ece-d61a-502b985ace75",
        "colab": {
          "base_uri": "https://localhost:8080/",
          "height": 35
        }
      },
      "execution_count": 20,
      "outputs": [
        {
          "output_type": "execute_result",
          "data": {
            "text/plain": [
              "'Aaronic'"
            ],
            "application/vnd.google.colaboratory.intrinsic+json": {
              "type": "string"
            }
          },
          "metadata": {},
          "execution_count": 20
        }
      ]
    },
    {
      "cell_type": "markdown",
      "source": [
        "각각의 아이템에 대해 search와 findall을 쓸 것임!"
      ],
      "metadata": {
        "id": "Nv8JVel13wG2"
      }
    },
    {
      "cell_type": "code",
      "metadata": {
        "id": "sp3_Dm9Q_tNQ",
        "colab": {
          "base_uri": "https://localhost:8080/"
        },
        "outputId": "68ff77b7-b333-4edb-942b-ea666cbdb2bb"
      },
      "source": [
        "engdict = nltk.corpus.words.words('en')\n",
        "\n",
        "result = [w for w in engdict if re.search('ed$', w)]\n",
        "# result = [w for w in engdict if re.search('^..j..t..$', w)]\n",
        "# result = [w for w in engdict if re.search('^[ghi][mno][jlk][def]$', w)]\n",
        "# result = [w for w in engdict if re.search('^[ah]+$', w)][:10]\n",
        "print(result[:10])"
      ],
      "execution_count": 22,
      "outputs": [
        {
          "output_type": "stream",
          "name": "stdout",
          "text": [
            "['abaissed', 'abandoned', 'abased', 'abashed', 'abatised', 'abed', 'aborted', 'abridged', 'abscessed', 'absconded']\n"
          ]
        }
      ]
    },
    {
      "cell_type": "markdown",
      "source": [
        "engdict라는 list가 있는데, **list comprehension** 잘 이용해서 (for w in engdict) engdict에 있는 각각의 아이템을 하나씩 w로 받아서 **그 개수만큼 forloop를 돈다**!\n",
        "\n",
        "각 loop에 들어오는 (w로 들어오는) 그게 if절을 통과하게 됨. \n",
        "\n",
        "**w로 들어와서 'regular expression search'**에 들어오게 됨\n",
        "\n",
        "해당되는 string에 대하여 '**ed$'를 찾아라** = 어떤 식으로의 규칙임 (regular expression) 나름대로의 규칙 적용시킨 것임\n",
        "\n",
        "첫 번째 줄에서 if에서 re.search가 w의 저 string 부분이 있으면 (뭐라도 있으면) w에 담기는 것이고, **a가 w에 없다면 if가 그냥 지나치는 것**임\n",
        "\n",
        "if는 뭐라도 잡아오면 통과되어서 w에 listing되는 것임\n",
        "\n",
        "**'ed$': string의 끝에서 이런 패턴이 있는가?** -> **String의 끝에서 'ed'라는 패턴**이 있는가?\n",
        "\n",
        "string의 시작에서는 ^라는 기호를 씀. -> 시작부에서 이런 패턴이 있는가?"
      ],
      "metadata": {
        "id": "8uyLD3Sb3MHC"
      }
    },
    {
      "cell_type": "code",
      "source": [
        "re.search('ed$', 'educated')"
      ],
      "metadata": {
        "id": "BObxoEi25Bh3",
        "outputId": "ab57faba-a982-4eeb-f677-edacb3aa0db9",
        "colab": {
          "base_uri": "https://localhost:8080/"
        }
      },
      "execution_count": 26,
      "outputs": [
        {
          "output_type": "execute_result",
          "data": {
            "text/plain": [
              "<re.Match object; span=(6, 8), match='ed'>"
            ]
          },
          "metadata": {},
          "execution_count": 26
        }
      ]
    },
    {
      "cell_type": "markdown",
      "source": [
        "re.search라는 것은 이런 string에서 이런 규칙이 발견되면 'ed' 뱉어주는 것을 의미함"
      ],
      "metadata": {
        "id": "UqDVQi0143zX"
      }
    },
    {
      "cell_type": "markdown",
      "source": [
        "**string 끝에 있는 'ed'**를 search해서 가져와라!\n",
        "\n",
        "그냥 ed라고 하면 제일 처음 hit하는 'ed'를 가져옴.\n",
        "\n",
        "^ed하면 string의 제일 앞에서 나오는 'ed'를 명시적으로 가져오게 됨 \n",
        "\n",
        "$ 표시 어떻게 쓰고 (string의 끝이라는 뜻)\n",
        "\n",
        "^ 표시 어떻게 쓰는지 (string의 시작)\n",
        "\n",
        "잘 파악하기"
      ],
      "metadata": {
        "id": "Lg2gGYhn5Hrl"
      }
    },
    {
      "cell_type": "markdown",
      "source": [
        "string 제일 뒤에 'ed'로 끝나는 게 있으면 search가 'ed'를 가져오게 됨. 그러면 통과! (ed를 가져왔기 때문에 통과)\n",
        "\n",
        "가져오지 못했으면 그냥 지나치는 것임\n",
        "\n",
        "결과적으로 list에 쌓이는 것은 'engdict'에서 'ed'로 끝나는 단어들만 쌓이는 것임"
      ],
      "metadata": {
        "id": "oHzqDiCG5YZq"
      }
    },
    {
      "cell_type": "code",
      "source": [
        "len(result)"
      ],
      "metadata": {
        "id": "ILPMYnr75s8K",
        "outputId": "79c62e9e-3151-4b20-8e97-9fc9f9d0039d",
        "colab": {
          "base_uri": "https://localhost:8080/"
        }
      },
      "execution_count": 28,
      "outputs": [
        {
          "output_type": "execute_result",
          "data": {
            "text/plain": [
              "9192"
            ]
          },
          "metadata": {},
          "execution_count": 28
        }
      ]
    },
    {
      "cell_type": "markdown",
      "source": [
        "len(engdict)가 23만 개 였는데\n",
        "\n",
        "result에서 **'ed'로 끝나는 걸 싹 다 받았더니 9192개가 들어온 것**임\n",
        "\n",
        "한 줄로 사전 전체를 search해서 영어 단어에서 'ed'로 끝나는 게 몇 개 있는지 클릭 하나로 해결된 것임. 왜 우리가 코딩 배워야 하는지 이유가 여기 있죠? 사람이 스스로 했다고 생각하면 양이 너무 많음...\n",
        "\n"
      ],
      "metadata": {
        "id": "Ld0CXetJ5vIr"
      }
    },
    {
      "cell_type": "code",
      "metadata": {
        "outputId": "84b26aba-4084-458f-a02a-52d8c98254e4",
        "colab": {
          "base_uri": "https://localhost:8080/"
        },
        "id": "F7sizs8y6Cof"
      },
      "source": [
        "engdict = nltk.corpus.words.words('en')\n",
        "\n",
        "# result = [w for w in engdict if re.search('ed$', w)]\n",
        "result = [w for w in engdict if re.search('^..j..t..$', w)]\n",
        "# result = [w for w in engdict if re.search('^[ghi][mno][jlk][def]$', w)]\n",
        "# result = [w for w in engdict if re.search('^[ah]+$', w)][:10]\n",
        "print(result[:10])"
      ],
      "execution_count": 29,
      "outputs": [
        {
          "output_type": "stream",
          "name": "stdout",
          "text": [
            "['abjectly', 'adjuster', 'dejected', 'dejectly', 'injector', 'majestic', 'objectee', 'objector', 'rejecter', 'rejector']\n"
          ]
        }
      ]
    },
    {
      "cell_type": "markdown",
      "source": [
        "중간중간에 점을 찍은 건 뭘 의미할까?\n",
        "\n",
        "wildcard, matches any character: **. 하나면 한 캐릭터**\n",
        "\n",
        "중간중간 글자들로 채워지는 것임. 그런 글자들만 한 번 찾아봐라! (총 10개 나옴)\n",
        "\n",
        "23만 개 중에서 이 조건을 만족하는 애들을 순식간에 찾아줌. 이 조건이 너무 powerful해서 우리가 생각하는 거 다 할 수 있음"
      ],
      "metadata": {
        "id": "stoK9uFo6Npa"
      }
    },
    {
      "cell_type": "code",
      "source": [
        "len(result)"
      ],
      "metadata": {
        "id": "6HdpD8kw6hs7",
        "outputId": "7df2c996-f460-4c1b-a4d8-4d77ab3f7c8f",
        "colab": {
          "base_uri": "https://localhost:8080/"
        }
      },
      "execution_count": 30,
      "outputs": [
        {
          "output_type": "execute_result",
          "data": {
            "text/plain": [
              "13"
            ]
          },
          "metadata": {},
          "execution_count": 30
        }
      ]
    },
    {
      "cell_type": "code",
      "metadata": {
        "outputId": "a6687e74-c627-4f5d-ca7b-779b6a6671f3",
        "colab": {
          "base_uri": "https://localhost:8080/"
        },
        "id": "Rz_sBn6p6ny6"
      },
      "source": [
        "engdict = nltk.corpus.words.words('en')\n",
        "\n",
        "# result = [w for w in engdict if re.search('ed$', w)]\n",
        "# result = [w for w in engdict if re.search('^..j..t..$', w)]\n",
        "result = [w for w in engdict if re.search('^[ghi][mno][jlk][def]$', w)]\n",
        "# result = [w for w in engdict if re.search('^[ah]+$', w)][:10]\n",
        "print(result[:10])"
      ],
      "execution_count": 31,
      "outputs": [
        {
          "output_type": "stream",
          "name": "stdout",
          "text": [
            "['gold', 'golf', 'hold', 'hole']\n"
          ]
        }
      ]
    },
    {
      "cell_type": "markdown",
      "source": [
        "[]대괄호 뜻이 무엇일까? Matches one of a set of characters: **대괄호 속에 들어 있는 abc 중 하나를 만족시키는 것 (ghi 중에 하나)** 그 다음 캐릭터는 **mno 중에 하나**, 그 다음 캐릭터 **jlk**, 그 다음은 **def** 캐릭터 중 하나\n",
        "\n",
        "총 4개의 캐릭터로 되어 있다는 것을 이해해야 함"
      ],
      "metadata": {
        "id": "KfaoywV361Ro"
      }
    },
    {
      "cell_type": "code",
      "metadata": {
        "outputId": "fda6609a-e5a2-49d3-d09b-f4846c756a86",
        "colab": {
          "base_uri": "https://localhost:8080/"
        },
        "id": "6zuP6hTV7I58"
      },
      "source": [
        "engdict = nltk.corpus.words.words('en')\n",
        "\n",
        "# result = [w for w in engdict if re.search('ed$', w)]\n",
        "# result = [w for w in engdict if re.search('^..j..t..$', w)]\n",
        "# result = [w for w in engdict if re.search('^[ghi][mno][jlk][def]$', w)]\n",
        "result = [w for w in engdict if re.search('^[ah]+$', w)]\n",
        "print(result[:10])"
      ],
      "execution_count": 32,
      "outputs": [
        {
          "output_type": "stream",
          "name": "stdout",
          "text": [
            "['a', 'aa', 'ah', 'aha', 'h', 'ha', 'hah']\n"
          ]
        }
      ]
    },
    {
      "cell_type": "markdown",
      "source": [
        "a 혹은 h의 캐릭터가 +$ \n",
        "\n",
        "+가 의미하는 것: one or more of previous item: a+되면 a가 한 번 이상 나와야 한다는 의미임\n",
        "\n",
        "**a 혹은 h가 한 번 이상 나오는 걸** 다 찾아라! (조건 만족하는 거 7개 밖에 없음)"
      ],
      "metadata": {
        "id": "1fipAMSK7L-K"
      }
    },
    {
      "cell_type": "code",
      "source": [
        "nltk.download('treebank')\n",
        "wsj = nltk.corpus.treebank.words()\n",
        "wsj"
      ],
      "metadata": {
        "id": "mmzgvsVZ70jw",
        "outputId": "9523100c-c30b-4b8c-b468-393c57d2ea65",
        "colab": {
          "base_uri": "https://localhost:8080/"
        }
      },
      "execution_count": 33,
      "outputs": [
        {
          "output_type": "stream",
          "name": "stdout",
          "text": [
            "[nltk_data] Downloading package treebank to /root/nltk_data...\n",
            "[nltk_data]   Unzipping corpora/treebank.zip.\n"
          ]
        },
        {
          "output_type": "execute_result",
          "data": {
            "text/plain": [
              "['Pierre', 'Vinken', ',', '61', 'years', 'old', ',', ...]"
            ]
          },
          "metadata": {},
          "execution_count": 33
        }
      ]
    },
    {
      "cell_type": "markdown",
      "source": [
        "똑같은 것을 'treebank'에서 해 보기.\n",
        "\n",
        "wsj라고 해서 신문에 있는 단어 (wallstreet journal): 비정형적인 단어도 있을 수 있음 (ex. $1200) 사전이랑 조금 다른, **현실과 훨씬 가까운 단어 corpus**라고 생각하면 됨 (덜 사전적인 단어들) \n",
        "\n",
        "len은 10만 개 정도 되고, type은 똑같이 'list'"
      ],
      "metadata": {
        "id": "uQ6kQlQl7mBS"
      }
    },
    {
      "cell_type": "code",
      "metadata": {
        "id": "B1a5mQYj4hwn",
        "outputId": "ea103559-92c1-40e0-e641-145c93f19c08",
        "colab": {
          "base_uri": "https://localhost:8080/"
        }
      },
      "source": [
        "result = [w for w in wsj if re.search('(ed|ing)$', w)]\n",
        "# result = [w for w in wsj if re.search('^[0-9]+\\.[0-9]+$', w)]\n",
        "# result = [w for w in wsj if re.search('^[A-Z]+\\$$', w)]\n",
        "# result = [w for w in wsj if re.search('^[0-9]{4}$', w)]\n",
        "# result = [w for w in wsj if re.search('^[0-9]+-[a-z]{3,5}$', w)]\n",
        "# result = [w for w in wsj if re.search('^[a-z]{5,}-[a-z]{2,3}-[a-z]{,6}$', w)]\n",
        "\n",
        "result = sorted(set(result))\n",
        "print(result[:10])"
      ],
      "execution_count": null,
      "outputs": [
        {
          "output_type": "stream",
          "name": "stdout",
          "text": [
            "['62%-owned', 'Absorbed', 'According', 'Adopting', 'Advanced', 'Advancing', 'Alfred', 'Allied', 'Annualized', 'Anything']\n"
          ]
        }
      ]
    },
    {
      "cell_type": "markdown",
      "source": [
        "wsj list에서 search를 통화하면 'ed'가 있기만 하면 통과해서 쌓인다! 라고 이해하면 될 것 같음\n",
        "\n",
        "(ed|ing)$: 괄호가 되어 있고, 그 사이에 bar이 있음. 얜 무슨 의미?\n",
        "-> ed 혹은 ing 이런 뜻임. (Bar의 의미)\n",
        "\n",
        "괄호는 그냥 묶어준 것이고, **ed 혹은 ing로 끝나는 단어를 모아서 재정의해라!**\n",
        "\n",
        "sorted가 들어가면 sort해주는 작업 나오고, **저 줄이 없으면 그냥 신문에 나오는 순서대로** 막 나옴"
      ],
      "metadata": {
        "id": "Q0vek3vD8CXV"
      }
    },
    {
      "cell_type": "code",
      "source": [
        "# result = [w for w in wsj if re.search('(ed|ing)$', w)]\n",
        "result = [w for w in wsj if re.search('^[0-9]+\\.[0-9]+$', w)]\n",
        "# result = [w for w in wsj if re.search('^[A-Z]+\\$$', w)]\n",
        "# result = [w for w in wsj if re.search('^[0-9]{4}$', w)]\n",
        "# result = [w for w in wsj if re.search('^[0-9]+-[a-z]{3,5}$', w)]\n",
        "# result = [w for w in wsj if re.search('^[a-z]{5,}-[a-z]{2,3}-[a-z]{,6}$', w)]\n",
        "\n",
        "result = sorted(set(result))\n",
        "print(result[:10])"
      ],
      "metadata": {
        "id": "wBsZCrVP8rXB",
        "outputId": "25f65027-1cd3-4e48-f398-f1df32795698",
        "colab": {
          "base_uri": "https://localhost:8080/"
        }
      },
      "execution_count": null,
      "outputs": [
        {
          "output_type": "stream",
          "name": "stdout",
          "text": [
            "['0.0085', '0.05', '0.1', '0.16', '0.2', '0.25', '0.28', '0.3', '0.4', '0.5']\n"
          ]
        }
      ]
    },
    {
      "cell_type": "markdown",
      "source": [
        "**[0-9]: '숫자'라는 뜻**임 (숫자를 저렇게 씀)\n",
        "\n",
        "숫자가 하나 이상 나온다 [0-9]+\n",
        "\n",
        "역 slash.: 이게 '.'임. \n",
        "\n",
        "그냥 ...은 그냥 'any character'을 의미함. 실제 .찍고 싶으면 /. 이렇게 찍음 \n",
        "\n",
        "또 숫자가 하나 이상 나오고 끝나는 것을 찾아라\n",
        "-> **소수점이 들어가 있는 숫자**를 의미함. 그래서 그런 숫자들이 쭉 나옴"
      ],
      "metadata": {
        "id": "Ay87ZkME8wIY"
      }
    },
    {
      "cell_type": "code",
      "source": [
        "# result = [w for w in wsj if re.search('(ed|ing)$', w)]\n",
        "# result = [w for w in wsj if re.search('^[0-9]+\\.[0-9]+$', w)]\n",
        "result = [w for w in wsj if re.search('^[A-Z]+\\$$', w)]\n",
        "# result = [w for w in wsj if re.search('^[0-9]{4}$', w)]\n",
        "# result = [w for w in wsj if re.search('^[0-9]+-[a-z]{3,5}$', w)]\n",
        "# result = [w for w in wsj if re.search('^[a-z]{5,}-[a-z]{2,3}-[a-z]{,6}$', w)]\n",
        "\n",
        "result = sorted(set(result))\n",
        "print(result[:10])"
      ],
      "metadata": {
        "id": "J6sjamAT9KaP",
        "outputId": "840bf0cc-ba39-4903-e3be-dbdb64093f91",
        "colab": {
          "base_uri": "https://localhost:8080/"
        }
      },
      "execution_count": 34,
      "outputs": [
        {
          "output_type": "stream",
          "name": "stdout",
          "text": [
            "['C$', 'US$']\n"
          ]
        }
      ]
    },
    {
      "cell_type": "markdown",
      "source": [
        "**/$가 실제 달러 표시를 의미**함.\n",
        "\n",
        "그냥 단독으로 $ 쓰면 이미 string 끝이라고 쓰였기 때문에, 실제 달러 표시 쓰고 싶으면 /$로 구분해 주는 것임 (역슬래쉬+$)\n",
        "\n",
        "**A-Z인데, 어떠한 '대문자'를 의미**함. 어떠한 대문자가 하나 이상 나오고, $로 끝나면 다 찾아와라.\n",
        "\n",
        "10만 개 중에서 2개밖에 없음"
      ],
      "metadata": {
        "id": "0YJLglkF9brK"
      }
    },
    {
      "cell_type": "code",
      "source": [
        "# result = [w for w in wsj if re.search('(ed|ing)$', w)]\n",
        "# result = [w for w in wsj if re.search('^[0-9]+\\.[0-9]+$', w)]\n",
        "# result = [w for w in wsj if re.search('^[A-Z]+\\$$', w)]\n",
        "result = [w for w in wsj if re.search('^[0-9]{4}$', w)]\n",
        "# result = [w for w in wsj if re.search('^[0-9]+-[a-z]{3,5}$', w)]\n",
        "# result = [w for w in wsj if re.search('^[a-z]{5,}-[a-z]{2,3}-[a-z]{,6}$', w)]\n",
        "\n",
        "result = sorted(set(result))\n",
        "print(result[:10])"
      ],
      "metadata": {
        "id": "U8eoycMi9Nyj",
        "colab": {
          "base_uri": "https://localhost:8080/"
        },
        "outputId": "a7f5c647-1183-4bb6-db5e-e074dbddee91"
      },
      "execution_count": 35,
      "outputs": [
        {
          "output_type": "stream",
          "name": "stdout",
          "text": [
            "['1614', '1637', '1787', '1901', '1903', '1917', '1925', '1929', '1933', '1934']\n"
          ]
        }
      ]
    },
    {
      "cell_type": "markdown",
      "source": [
        "String의 시작, 0에서 9까지의 숫자가 {4} **몇 번 나오는가**를 의미함 (준괄호 앞에 있는 게 몇 번 나오는가? 네 자리 숫자만 다 뽑아낸 것임\n",
        "\n"
      ],
      "metadata": {
        "id": "R9pw4oZ29yVw"
      }
    },
    {
      "cell_type": "code",
      "source": [
        "# result = [w for w in wsj if re.search('(ed|ing)$', w)]\n",
        "# result = [w for w in wsj if re.search('^[0-9]+\\.[0-9]+$', w)]\n",
        "# result = [w for w in wsj if re.search('^[A-Z]+\\$$', w)]\n",
        "# result = [w for w in wsj if re.search('^[0-9]{4}$', w)]\n",
        "result = [w for w in wsj if re.search('^[0-9]+-[a-z]{3,5}$', w)]\n",
        "# result = [w for w in wsj if re.search('^[a-z]{5,}-[a-z]{2,3}-[a-z]{,6}$', w)]\n",
        "\n",
        "result = sorted(set(result))\n",
        "print(result[:10])"
      ],
      "metadata": {
        "id": "JnBcg8wg9Wfm",
        "colab": {
          "base_uri": "https://localhost:8080/"
        },
        "outputId": "2de593d8-4f68-424f-978c-b68ad2570dc6"
      },
      "execution_count": 36,
      "outputs": [
        {
          "output_type": "stream",
          "name": "stdout",
          "text": [
            "['10-day', '10-lap', '10-year', '100-share', '12-point', '12-year', '14-hour', '15-day', '150-point', '190-point']\n"
          ]
        }
      ]
    },
    {
      "cell_type": "markdown",
      "source": [
        "string의 시작, 끝이 있고 숫자가 하나 이상 나오고 dash(-) 소문자가 3개~5개 사이인 걸로 끝나면 그걸 찾아라\n",
        "\n"
      ],
      "metadata": {
        "id": "clkOQYqoijmb"
      }
    },
    {
      "cell_type": "code",
      "source": [
        "# result = [w for w in wsj if re.search('(ed|ing)$', w)]\n",
        "# result = [w for w in wsj if re.search('^[0-9]+\\.[0-9]+$', w)]\n",
        "# result = [w for w in wsj if re.search('^[A-Z]+\\$$', w)]\n",
        "# result = [w for w in wsj if re.search('^[0-9]{4}$', w)]\n",
        "# result = [w for w in wsj if re.search('^[0-9]+-[a-z]{3,5}$', w)]\n",
        "result = [w for w in wsj if re.search('^[a-z]{5,}-[a-z]{2,3}-[a-z]{,6}$', w)]\n",
        "\n",
        "result = sorted(set(result))\n",
        "print(result[:10])"
      ],
      "metadata": {
        "id": "wMqPZQhcidNv",
        "colab": {
          "base_uri": "https://localhost:8080/"
        },
        "outputId": "d4533522-6b24-448c-9a6c-58f7c5c8a17d"
      },
      "execution_count": 37,
      "outputs": [
        {
          "output_type": "stream",
          "name": "stdout",
          "text": [
            "['black-and-white', 'bread-and-butter', 'father-in-law', 'machine-gun-toting', 'savings-and-loan']\n"
          ]
        }
      ]
    },
    {
      "cell_type": "markdown",
      "source": [
        "소문자가 다섯 개 이상-소문자가 2개~3개 사이-소문자가 6개 이하인 것을 다 찾아라! (10만 개 중 총 5개밖에 없음)"
      ],
      "metadata": {
        "id": "Vv7_9Rn_jaHQ"
      }
    },
    {
      "cell_type": "code",
      "source": [
        "import os\n",
        "url = \"https://raw.githubusercontent.com/hsnam95/my/main/friends_season01_script.txt\"\n",
        "os.system(\"curl \" + url + \" > friends_season01_script.txt\")\n",
        "\n",
        "# read a text file in the server\n",
        "file = open(\"friends_season01_script.txt\")\n",
        "text = file.read()\n",
        "file.close()\n",
        "text"
      ],
      "metadata": {
        "id": "05zHW52eKatf"
      },
      "execution_count": null,
      "outputs": []
    },
    {
      "cell_type": "markdown",
      "source": [
        "'Friends' season 1 대본 불러옴\n",
        "\n",
        "사람 이름 : 대사 형태, 7200줄\n",
        "\n",
        "영어 공부 하고 싶어서 사람 이름: 없이 대본만 보고 싶을 수도 있음 (영어 공부할 때 누구 말인지 별로 안 중요하니까) **한줄한줄 다 list화 하려면 어떻게 해야 할까?**\n",
        "\n",
        "type(text)하면 string이 나옴 (매우 긴, 47만 개의 캐릭터를 지닌 string임)\n",
        "\n",
        "엄청나게 큰 string이다"
      ],
      "metadata": {
        "id": "SxJ25JXijiBr"
      }
    },
    {
      "cell_type": "code",
      "source": [
        "pattern = '(?<=: ).+(?=[\\.|\\?|\\!])'\n",
        "sent = re.findall(pattern, text)\n",
        "sent\n",
        "text = '\\n'.join(sent)\n",
        "text"
      ],
      "metadata": {
        "id": "pJ7oSCMnmidT"
      },
      "execution_count": null,
      "outputs": []
    },
    {
      "cell_type": "markdown",
      "source": [
        "findall: **그 규칙에 해당하는 것을 다 찾아서 list화**해주는 것임. 대화에서 나오는 **'문장들'만 다 하나하나 리스트로 받아오고 싶다**고 할 때 제격임\n",
        "\n",
        "Pattern- **사람 이름 나오고: 빈칸 부분까지 무시**하고,\n",
        "\n",
        "**그 뒤부터 제일 끝 punctuation으로 끝나는 것까지 찾아라!**"
      ],
      "metadata": {
        "id": "Ng0J9kM5kZqG"
      }
    },
    {
      "cell_type": "code",
      "source": [
        "#pattern = '(?<=).(?=)'\n",
        "#내가 찾고자 하는 것의 앞에 무엇이 나오느냐 . 찍으면 중간에 있는 캐릭터 하나를 찾아라는 것임\n",
        "#캐릭터 하나만 다오! 라는 뜻임 (앞조건, 뒷조건, 내가 찾는 조건)\n",
        "#.+하면 (하나 이상의 캐릭터가 나오면)\n",
        "\n",
        "pattern = '(?<=: ).+(?=[\\.|\\?|\\!])'\n",
        "#왼쪽에 :이 있고 빈칸이 있고\n",
        "#캐릭터가 하나 이상 나오고\n",
        "#마침표 or 물음표 or 느낌표로 끝나는 경우\n",
        "\n",
        "sent = re.findall(pattern, text)\n",
        "sent\n",
        "text = '\\n'.join(sent)\n",
        "text"
      ],
      "metadata": {
        "id": "8yOBHr-7Qw2K",
        "outputId": "fd821031-91ef-4ee2-d936-af0f7c9a6f0a",
        "colab": {
          "base_uri": "https://localhost:8080/",
          "height": 127
        }
      },
      "execution_count": 40,
      "outputs": [
        {
          "output_type": "execute_result",
          "data": {
            "text/plain": [
              "\"how much Barry looks like Mr. Potato Head. Y'know, I mean, I always knew looked familiar, but... Anyway, I just had to get out of there, and I started wondering 'Why am I doing this, and who am I doing this for?'\\nWait\\nBring back the comedian\\nthat is not such a terrible thing\\nRight hand blue. (Phoebe has to bend over\\nall the fun, all the talking, all the sex; and none of the responsibility\\nyou dumped her. Right? I mean, this woman was unbelievably sexy, and beautiful, intelligent, unattainable..\\nIf Jill Goodacre offers you gum, you take it\\ndesperate scramble to find anything with lips just so you can have someone to kiss when the ball drops!\\nthe always interesting Nora Tyler Bing\\nRachel Green\\nif youÕre ever in a similar situation, never ever leave your hand... (he mimes Nina taking her revenge) .\\nYeah, um..\\nReally? (out loud): Sure, we have scones left\\nDear Ms. Green, thank you for your inquiry, however... oh.\\nWe have apple cinnamon.\\nOK... Dear Ms. Green... yeah... yeah... yeah..\\nOh! I got an interview\\nSak's... Fifth..\\nWell, I have got your money, and you'll never see it.\\nThank you. (to Ross): I saw your twenty-five, and I raise you..\\nOK, I am calling your seventeen\\nAhhh, that's alright\\nEarl Grey, English Breakfast, Cinnamon Stick, Camomile, Mint Medley, Blackberry, and.. oh, wait, there's one more, um.. Lemon Soother. You're not the guy that asked for the tea, are you\\nare you outing Mr\\nwhy does people continue to go there? (He checks his watch.) Oh, ah\\nW-well, what else did he say\\nToby... Oh, for God's sake, I don't know what she's talking about! There's no Rachel\""
            ],
            "application/vnd.google.colaboratory.intrinsic+json": {
              "type": "string"
            }
          },
          "metadata": {},
          "execution_count": 40
        }
      ]
    },
    {
      "cell_type": "markdown",
      "source": [
        "나의 왼쪽, 오른쪽이 어떤 환경인가? \n",
        "\n",
        "하나 이상의 캐릭터가 있고 오른쪽 환경은 **세 가지 punctuation 중 하나를 찾아라**!\n",
        "\n",
        "아주 긴 것 중에서 이런 것 만족시키는 것 list화 해라 (sent)\n",
        "\n",
        "분리했으니까 영어교재로 쓰든 뭐 어떻게 하든 사용하기 훨씬 쉬운 것임\n",
        "\n",
        "text (재결합) 줄바꿈으로 해서 전부 다 결합하는 것\n",
        "\n",
        "\\n (역슬래시+n) 하면 **줄바꿈을 가지고 다 붙여라** (긴 string이 다시 만들어지는 것임) 이 작업을 할 수 있어야 함\n",
        "\n",
        "줄바꿈으로 해서 전부 다 결합시켜야 함\n",
        "\n",
        "**' '이렇게 하면 한 칸 띄움으로 다 연결**되는 것 의미함"
      ],
      "metadata": {
        "id": "bNwmfS1gBSbS"
      }
    },
    {
      "cell_type": "code",
      "source": [
        "# write out a text file\n",
        "file = open(\"tmp.txt\", \"w\")\n",
        "file.write(text)\n",
        "file.close()"
      ],
      "metadata": {
        "id": "CHZwCWeTUPgO"
      },
      "execution_count": 41,
      "outputs": []
    },
    {
      "cell_type": "markdown",
      "source": [
        "given string이 있을 때, 그걸 **write out**할 수 있음\n",
        "\n",
        "그것을 저렇게 쓰면 나감 (download할 수 있다는 장점이 있음)\n",
        "\n"
      ],
      "metadata": {
        "id": "nlwQTPOrCKzP"
      }
    },
    {
      "cell_type": "code",
      "source": [
        "from google.colab import drive\n",
        "drive.mount('/content/drive')"
      ],
      "metadata": {
        "id": "axQCZR03CZ50",
        "outputId": "e0ac36bb-c1db-4396-f832-1f8d2fda552f",
        "colab": {
          "base_uri": "https://localhost:8080/"
        }
      },
      "execution_count": 42,
      "outputs": [
        {
          "output_type": "stream",
          "name": "stdout",
          "text": [
            "Mounted at /content/drive\n"
          ]
        }
      ]
    },
    {
      "cell_type": "markdown",
      "source": [
        "오늘 숙제: 주어진 text가 이렇게 있음. 오늘 배운 text가 friends season 1 text임\n",
        "\n",
        "남학생은 'Ross' 부분, 여학생은 여기 나오는 'Rachel'이라고 나오는 이름을 모두 여러분들의 학번으로 바꾸세요. (번호가 나오겠죠?)\n",
        "\n",
        "바꿔서 Text로 저장하기 (20220509) \n",
        "\n",
        "하나는 20220509.ipynb 파일 하나 꼭 만들고,\n",
        "\n",
        "그 파일 속에는 방금 제가 얘기한 게 코드로 들어가 있으면 됩니다. 코드 결과로 나오는 게 20220509.txt가 됩니다.\n",
        "\n",
        "re.sub 써서 해라!!\n",
        "\n",
        "그걸 썼다는 것을 code ipymb로 만들어야 함\n",
        "\n",
        "\"friends\" 영화 파일에서 Rachel을 우리 학번으로 바꿔서 아웃풋 만들어 내는 거 해봐라."
      ],
      "metadata": {
        "id": "HsR9qMahDbeQ"
      }
    }
  ]
}