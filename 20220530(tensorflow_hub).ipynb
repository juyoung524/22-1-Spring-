{
  "nbformat": 4,
  "nbformat_minor": 0,
  "metadata": {
    "colab": {
      "name": "tensorflow_hub.ipynb",
      "provenance": [],
      "include_colab_link": true
    },
    "kernelspec": {
      "name": "python3",
      "display_name": "Python 3"
    },
    "language_info": {
      "name": "python"
    }
  },
  "cells": [
    {
      "cell_type": "markdown",
      "metadata": {
        "id": "view-in-github",
        "colab_type": "text"
      },
      "source": [
        "<a href=\"https://colab.research.google.com/github/juyoung524/22-1-Spring-/blob/main/20220530(tensorflow_hub).ipynb\" target=\"_parent\"><img src=\"https://colab.research.google.com/assets/colab-badge.svg\" alt=\"Open In Colab\"/></a>"
      ]
    },
    {
      "cell_type": "markdown",
      "source": [
        "### [Tensorflow Hub](https://www.tensorflow.org/hub)"
      ],
      "metadata": {
        "id": "8dnF4rJPatAo"
      }
    },
    {
      "cell_type": "markdown",
      "source": [
        "### image classification (e.g. [inception_v3](https://tfhub.dev/google/imagenet/inception_v3/classification/5))"
      ],
      "metadata": {
        "id": "soPd171Hbbma"
      }
    },
    {
      "cell_type": "markdown",
      "source": [
        "image classification의 예를 밑에 구현해둔 것임."
      ],
      "metadata": {
        "id": "0fOZXtISN1w8"
      }
    },
    {
      "cell_type": "code",
      "source": [
        "import tensorflow.compat.v2 as tf\n",
        "import tensorflow_hub as hub"
      ],
      "metadata": {
        "id": "VIJXaAwQ9lXX"
      },
      "execution_count": 1,
      "outputs": []
    },
    {
      "cell_type": "markdown",
      "source": [
        "필요한 library 가져오기"
      ],
      "metadata": {
        "id": "koeXi7njPq2h"
      }
    },
    {
      "cell_type": "code",
      "source": [
        "model = hub.KerasLayer(\"https://tfhub.dev/google/imagenet/inception_v3/classification/5\")"
      ],
      "metadata": {
        "id": "vmzDkBCZZMF-"
      },
      "execution_count": 2,
      "outputs": []
    },
    {
      "cell_type": "markdown",
      "source": [
        "model을 이런 방식으로 가져옴. 이 모델 자체가 함수같이 쓰임 (pipeline때와 비슷)"
      ],
      "metadata": {
        "id": "aIaGrznUPsuV"
      }
    },
    {
      "cell_type": "code",
      "source": [
        "from PIL import Image\n",
        "import requests\n",
        "url = 'http://images.cocodataset.org/val2017/000000039769.jpg'\n",
        "image = Image.open(requests.get(url, stream=True).raw)"
      ],
      "metadata": {
        "id": "f3ztc_fNX79F"
      },
      "execution_count": 3,
      "outputs": []
    },
    {
      "cell_type": "markdown",
      "source": [
        "고양이 그림을 url로 지정, 받아옴 (PIL이라는 형태- 아직 numerically 쓸 수 없는 형태)"
      ],
      "metadata": {
        "id": "rxB5P2KiQjb_"
      }
    },
    {
      "cell_type": "code",
      "source": [
        "import numpy as np\n",
        "image = np.array(image)\n",
        "# reshape into shape [batch_size, height, width, num_channels]\n",
        "image = tf.reshape(image, [1, image.shape[0], image.shape[1], image.shape[2]])\n",
        "# Use `convert_image_dtype` to convert to floats in the [0,1] range.\n",
        "image = tf.image.convert_image_dtype(image, tf.float32)"
      ],
      "metadata": {
        "id": "Bqm9LV1rC4eK"
      },
      "execution_count": 4,
      "outputs": []
    },
    {
      "cell_type": "markdown",
      "source": [
        "그림을 numpy 형태로 array 만들어줘야 함. 여기에 reshape해서 예전에 numpy reshape해줬던 것처럼, 3차원 -> 4차원의 array로 바꿔줘야 함\n",
        "\n",
        "(Model 자체가 4차원으로 받기 때문임)\n",
        "\n",
        "한 번 더 convert: 쓰려고 하는 model 자체는 0에서 1 사이로 (어두우면 0, 완전 밝은 색이면 1 이런 식으로 그 사이의 숫자로 되어 있음) **0~1 사이의 숫자로 받아줘야 함**\n",
        "\n",
        "image[:,:,0] 해서 보면 0부터 255까지 256개로 되어 있음\n",
        "\n",
        "한꺼번에 처리하기 위해 4차원으로 처리하도록 함"
      ],
      "metadata": {
        "id": "JuuLvKuAP74O"
      }
    },
    {
      "cell_type": "code",
      "source": [
        "logits = model(image)\n",
        "logits"
      ],
      "metadata": {
        "id": "CRUy_pik9m3o",
        "colab": {
          "base_uri": "https://localhost:8080/"
        },
        "outputId": "35d8749d-2c48-4afd-d470-d93993b21b6a"
      },
      "execution_count": 7,
      "outputs": [
        {
          "output_type": "execute_result",
          "data": {
            "text/plain": [
              "<tf.Tensor: shape=(1, 1001), dtype=float32, numpy=\n",
              "array([[ 0.13278216, -0.98323435,  0.4061772 , ..., -0.12934873,\n",
              "         0.38595918,  0.4459334 ]], dtype=float32)>"
            ]
          },
          "metadata": {},
          "execution_count": 7
        }
      ]
    },
    {
      "cell_type": "markdown",
      "source": [
        "이런 값들이 들어와 있음. 어떤 게 제일 높은 값인가? (1000개 중에서) - argmax라는 함수"
      ],
      "metadata": {
        "id": "YJ2pUPWxRpmA"
      }
    },
    {
      "cell_type": "code",
      "source": [
        "np.argmax(logits)"
      ],
      "metadata": {
        "id": "OTBi-hrdRipO",
        "outputId": "2debe04c-3b83-4264-bcd0-dbb68c5f59ef",
        "colab": {
          "base_uri": "https://localhost:8080/"
        }
      },
      "execution_count": 8,
      "outputs": [
        {
          "output_type": "execute_result",
          "data": {
            "text/plain": [
              "282"
            ]
          },
          "metadata": {},
          "execution_count": 8
        }
      ]
    },
    {
      "cell_type": "markdown",
      "source": [
        "282번째가 가장 높은 값임\n",
        "\n",
        "사용된 label이 1000개가 있음. 282번째 것이 가장 확률이 높더라. model에서 사용되던 label임.\n",
        "\n",
        "다 copy해서 프로그램 짜도 되지만, 엑셀에 copy해서 볼 것임. 밑으로 쭉 내려서 282번째가 뭔지 볼 수 있음. 283 (0부터니까)번째: Tabby cat (제대로 인식해냄)"
      ],
      "metadata": {
        "id": "D4MzpKgARYdL"
      }
    },
    {
      "cell_type": "markdown",
      "source": [
        "model 안에 행렬들이 한참 들어 있음."
      ],
      "metadata": {
        "id": "rFPqjGHzPzrB"
      }
    },
    {
      "cell_type": "markdown",
      "source": [
        "> https://storage.googleapis.com/download.tensorflow.org/data/ImageNetLabels.txt"
      ],
      "metadata": {
        "id": "p7zLDQqWaGii"
      }
    }
  ]
}