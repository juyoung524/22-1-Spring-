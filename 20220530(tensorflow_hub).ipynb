{
  "nbformat": 4,
  "nbformat_minor": 0,
  "metadata": {
    "colab": {
      "name": "tensorflow_hub.ipynb",
      "provenance": [],
      "include_colab_link": true
    },
    "kernelspec": {
      "name": "python3",
      "display_name": "Python 3"
    },
    "language_info": {
      "name": "python"
    }
  },
  "cells": [
    {
      "cell_type": "markdown",
      "metadata": {
        "id": "view-in-github",
        "colab_type": "text"
      },
      "source": [
        "<a href=\"https://colab.research.google.com/github/juyoung524/22-1-Spring-/blob/main/20220530(tensorflow_hub).ipynb\" target=\"_parent\"><img src=\"https://colab.research.google.com/assets/colab-badge.svg\" alt=\"Open In Colab\"/></a>"
      ]
    },
    {
      "cell_type": "markdown",
      "source": [
        "### [Tensorflow Hub](https://www.tensorflow.org/hub)"
      ],
      "metadata": {
        "id": "8dnF4rJPatAo"
      }
    },
    {
      "cell_type": "markdown",
      "source": [
        "### image classification (e.g. [inception_v3](https://tfhub.dev/google/imagenet/inception_v3/classification/5))"
      ],
      "metadata": {
        "id": "soPd171Hbbma"
      }
    },
    {
      "cell_type": "markdown",
      "source": [
        "image classification의 예를 밑에 구현해둔 것임."
      ],
      "metadata": {
        "id": "0fOZXtISN1w8"
      }
    },
    {
      "cell_type": "code",
      "source": [
        "import tensorflow.compat.v2 as tf\n",
        "import tensorflow_hub as hub"
      ],
      "metadata": {
        "id": "VIJXaAwQ9lXX"
      },
      "execution_count": 10,
      "outputs": []
    },
    {
      "cell_type": "markdown",
      "source": [
        "필요한 library 가져오기"
      ],
      "metadata": {
        "id": "koeXi7njPq2h"
      }
    },
    {
      "cell_type": "code",
      "source": [
        "model = hub.KerasLayer(\"https://tfhub.dev/google/imagenet/inception_v3/classification/5\")"
      ],
      "metadata": {
        "id": "vmzDkBCZZMF-"
      },
      "execution_count": 11,
      "outputs": []
    },
    {
      "cell_type": "markdown",
      "source": [
        "model을 이런 방식으로 가져옴. 이 모델 자체가 함수같이 쓰임 (pipeline때와 비슷)"
      ],
      "metadata": {
        "id": "aIaGrznUPsuV"
      }
    },
    {
      "cell_type": "code",
      "source": [
        "from PIL import Image\n",
        "import requests\n",
        "url = 'http://images.cocodataset.org/val2017/000000039769.jpg'\n",
        "image = Image.open(requests.get(url, stream=True).raw)"
      ],
      "metadata": {
        "id": "f3ztc_fNX79F"
      },
      "execution_count": 12,
      "outputs": []
    },
    {
      "cell_type": "markdown",
      "source": [
        "고양이 그림을 url로 지정, 받아옴 (PIL이라는 형태- **아직 numerically 쓸 수 없는 형태**)"
      ],
      "metadata": {
        "id": "rxB5P2KiQjb_"
      }
    },
    {
      "cell_type": "code",
      "source": [
        "import numpy as np\n",
        "image = np.array(image)"
      ],
      "metadata": {
        "id": "Bqm9LV1rC4eK"
      },
      "execution_count": 13,
      "outputs": []
    },
    {
      "cell_type": "markdown",
      "source": [
        "3차원 array로 들어옴 (480, 640, 3) 세장이 들어옴- Color, RGB이기 때문에"
      ],
      "metadata": {
        "id": "QVelLKo28fCF"
      }
    },
    {
      "cell_type": "code",
      "source": [
        "image[:,:,0]"
      ],
      "metadata": {
        "id": "yEAghjaF8kAF",
        "outputId": "15612720-97ec-490d-d1d6-a8341769bfe5",
        "colab": {
          "base_uri": "https://localhost:8080/"
        }
      },
      "execution_count": 14,
      "outputs": [
        {
          "output_type": "execute_result",
          "data": {
            "text/plain": [
              "array([[140, 144, 146, ...,  94, 107, 102],\n",
              "       [138, 142, 139, ..., 103, 115,  96],\n",
              "       [135, 150, 142, ..., 103, 108,  93],\n",
              "       ...,\n",
              "       [237, 225, 236, ..., 171, 181, 147],\n",
              "       [230, 226, 238, ..., 114, 103,  89],\n",
              "       [238, 246, 238, ...,  74,  74,  73]], dtype=uint8)"
            ]
          },
          "metadata": {},
          "execution_count": 14
        }
      ]
    },
    {
      "cell_type": "code",
      "source": [
        "# reshape into shape [batch_size, height, width, num_channels]\n",
        "image = tf.reshape(image, [1, image.shape[0], image.shape[1], image.shape[2]])\n",
        "#3차원 array를 4차원으로 바꿔줘야 함\n",
        "#그림이 한 장 있어서 한개, 100장 있으면 100개로 들어가야 함"
      ],
      "metadata": {
        "id": "CCvT-OaE8bIW"
      },
      "execution_count": 15,
      "outputs": []
    },
    {
      "cell_type": "markdown",
      "source": [
        "위에서 3차원이었다면 여기서는 **4차원 array**가 되는 것임.\n",
        "\n",
        "1이 하나 더 들어갔을 뿐인데, 그림이 몇 개 있냐에 따라서 2, 3, 4로 바뀌어짐. **여러 장을 한꺼번에 처리**하기 위해 하는 과정임."
      ],
      "metadata": {
        "id": "Pb8_fMev9BRX"
      }
    },
    {
      "cell_type": "code",
      "source": [
        "# Use `convert_image_dtype` to convert to floats in the [0,1] range.\n",
        "image = tf.image.convert_image_dtype(image, tf.float32)"
      ],
      "metadata": {
        "id": "YdemvEk68x1V"
      },
      "execution_count": 16,
      "outputs": []
    },
    {
      "cell_type": "markdown",
      "source": [
        "**그림을 numpy 형태로 array 만들어줘야 함**. 여기에 reshape해서 예전에 numpy reshape해줬던 것처럼, 3차원 -> 4차원의 array로 바꿔줘야 함\n",
        "\n",
        "**(Model 자체가 4차원으로 받기 때문임)**\n",
        "\n",
        "한 번 더 convert: 쓰려고 하는 model 자체는 0에서 1 사이로 (어두우면 0, 완전 밝은 색이면 1 이런 식으로 그 사이의 숫자로 되어 있음) **0~1 사이의 숫자로 받아줘야 함**\n",
        "\n",
        "image[:,:,0] 해서 보면 0부터 255까지 256개로 되어 있음\n",
        "\n",
        "한꺼번에 처리하기 위해 4차원으로 처리하도록 함"
      ],
      "metadata": {
        "id": "JuuLvKuAP74O"
      }
    },
    {
      "cell_type": "markdown",
      "source": [
        "정수의 숫자가 아닌 0부터 1까지의 range, **model이 그렇게 훈련되어 있기 때문에** 바뀌어야 함. image(0,:,:,0) 이렇게 해보면 숫자들이 대부분 0에서 1 사이로 바뀌어 있음"
      ],
      "metadata": {
        "id": "1YDmhA1P9h7X"
      }
    },
    {
      "cell_type": "code",
      "source": [
        "logits = model(image)\n",
        "logits"
      ],
      "metadata": {
        "id": "CRUy_pik9m3o",
        "colab": {
          "base_uri": "https://localhost:8080/"
        },
        "outputId": "223dedf3-72a8-4b40-ac1b-a4f1e73d5b1e"
      },
      "execution_count": 17,
      "outputs": [
        {
          "output_type": "execute_result",
          "data": {
            "text/plain": [
              "<tf.Tensor: shape=(1, 1001), dtype=float32, numpy=\n",
              "array([[ 0.13278216, -0.98323435,  0.4061772 , ..., -0.12934873,\n",
              "         0.38595918,  0.4459334 ]], dtype=float32)>"
            ]
          },
          "metadata": {},
          "execution_count": 17
        }
      ]
    },
    {
      "cell_type": "markdown",
      "source": [
        "logits 확인해 보면 이런 값들이 들어와 있음. 어떤 게 제일 높은 값인가? (1000개 중에서) - **argmax라는 함수 (1000개 중에 몇 번째가 제일 높은 함수인가?**)"
      ],
      "metadata": {
        "id": "YJ2pUPWxRpmA"
      }
    },
    {
      "cell_type": "code",
      "source": [
        "np.argmax(logits)"
      ],
      "metadata": {
        "id": "OTBi-hrdRipO",
        "outputId": "77b11877-9fc3-4f0d-9a2c-c8d77d44496a",
        "colab": {
          "base_uri": "https://localhost:8080/"
        }
      },
      "execution_count": 18,
      "outputs": [
        {
          "output_type": "execute_result",
          "data": {
            "text/plain": [
              "282"
            ]
          },
          "metadata": {},
          "execution_count": 18
        }
      ]
    },
    {
      "cell_type": "markdown",
      "source": [
        "282번째가 가장 높은 값임\n",
        "\n",
        "사용된 label이 1000개가 있음. 282번째 것이 가장 확률이 높더라. model에서 사용되던 label임.\n",
        "\n",
        "다 copy해서 프로그램 짜도 되지만, 엑셀에 copy해서 볼 것임. 밑으로 쭉 내려서 282번째가 뭔지 볼 수 있음. 283 (0부터니까)번째: Tabby cat (제대로 인식해냄)"
      ],
      "metadata": {
        "id": "D4MzpKgARYdL"
      }
    },
    {
      "cell_type": "markdown",
      "source": [
        "model 안에 행렬들이 한참 들어 있음."
      ],
      "metadata": {
        "id": "rFPqjGHzPzrB"
      }
    },
    {
      "cell_type": "markdown",
      "source": [
        "> https://storage.googleapis.com/download.tensorflow.org/data/ImageNetLabels.txt"
      ],
      "metadata": {
        "id": "p7zLDQqWaGii"
      }
    }
  ]
}