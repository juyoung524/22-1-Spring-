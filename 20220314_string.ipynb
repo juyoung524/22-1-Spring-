{
  "nbformat": 4,
  "nbformat_minor": 0,
  "metadata": {
    "kernelspec": {
      "display_name": "Python 3",
      "language": "python",
      "name": "python3"
    },
    "language_info": {
      "codemirror_mode": {
        "name": "ipython",
        "version": 3
      },
      "file_extension": ".py",
      "mimetype": "text/x-python",
      "name": "python",
      "nbconvert_exporter": "python",
      "pygments_lexer": "ipython3",
      "version": "3.7.1"
    },
    "colab": {
      "name": "20220314_string.ipynb",
      "provenance": [],
      "collapsed_sections": [],
      "include_colab_link": true
    }
  },
  "cells": [
    {
      "cell_type": "markdown",
      "metadata": {
        "id": "view-in-github",
        "colab_type": "text"
      },
      "source": [
        "<a href=\"https://colab.research.google.com/github/juyoung524/22-1-Spring-/blob/main/20220314_string.ipynb\" target=\"_parent\"><img src=\"https://colab.research.google.com/assets/colab-badge.svg\" alt=\"Open In Colab\"/></a>"
      ]
    },
    {
      "cell_type": "code",
      "metadata": {
        "id": "zwpWU02YmAur",
        "outputId": "c201c12a-5a91-48a2-b1c8-97834837ea7e",
        "colab": {
          "base_uri": "https://localhost:8080/"
        }
      },
      "source": [
        "s = 'abcdef'\n",
        "print(s[0], s[5], s[-1], s[-6])\n",
        "print(s[1:3], s[1:], s[:3], s[:])"
      ],
      "execution_count": 1,
      "outputs": [
        {
          "output_type": "stream",
          "name": "stdout",
          "text": [
            "a f f a\n",
            "bc bcdef abc abcdef\n"
          ]
        }
      ]
    },
    {
      "cell_type": "markdown",
      "source": [
        ": 콜론이 있을 때는 '전부 다'를 의미함.\n",
        "s[1:] 이런 식으로 표기되어 있으면 첫 번째부터 끝까지를 의미함"
      ],
      "metadata": {
        "id": "VfXrPLsoqNun"
      }
    },
    {
      "cell_type": "markdown",
      "source": [
        "몇 번째라고 할 때 [0] (대괄호 표기)\n",
        "\n",
        "**Index할 때는 해당하는 거 포함 안 시킴** (ex. (s[1:3]하면 **콜론의 오른쪽은 포함 안 시킴**. 세 번째까지가 아니라 두 번째까지만 들어감)\n"
      ],
      "metadata": {
        "id": "payNvGVvp0W0"
      }
    },
    {
      "cell_type": "code",
      "metadata": {
        "id": "mpkdZBeWmAux",
        "outputId": "12429a47-129f-43da-931c-85a105e9b38f",
        "colab": {
          "base_uri": "https://localhost:8080/"
        }
      },
      "source": [
        "n = [100, 200, 300]\n",
        "print(n[0], n[2], n[-1], n[-3])\n",
        "print(n[1:2], n[1:], n[:2], n[:])"
      ],
      "execution_count": 2,
      "outputs": [
        {
          "output_type": "stream",
          "name": "stdout",
          "text": [
            "100 300 300 100\n",
            "[200] [200, 300] [100, 200] [100, 200, 300]\n"
          ]
        }
      ]
    },
    {
      "cell_type": "code",
      "metadata": {
        "id": "ulnefmnFmAuy",
        "outputId": "bfa9ec5f-69ee-46bb-bbaa-4a64d117bacf",
        "colab": {
          "base_uri": "https://localhost:8080/"
        }
      },
      "source": [
        "len(s)"
      ],
      "execution_count": 3,
      "outputs": [
        {
          "output_type": "execute_result",
          "data": {
            "text/plain": [
              "6"
            ]
          },
          "metadata": {},
          "execution_count": 3
        }
      ]
    },
    {
      "cell_type": "markdown",
      "source": [
        "Len: 길이 의미함 (총 6개이기 때문에 6을 뱉어냄)"
      ],
      "metadata": {
        "id": "fzf9K-g7qnwv"
      }
    },
    {
      "cell_type": "code",
      "metadata": {
        "id": "a45rgiNMmAuy",
        "outputId": "618efcbb-d2cc-4061-930f-ee0fe5137edf",
        "colab": {
          "base_uri": "https://localhost:8080/",
          "height": 35
        }
      },
      "source": [
        "s[1]+s[3]+s[4:]*10"
      ],
      "execution_count": 4,
      "outputs": [
        {
          "output_type": "execute_result",
          "data": {
            "text/plain": [
              "'bdefefefefefefefefefef'"
            ],
            "application/vnd.google.colaboratory.intrinsic+json": {
              "type": "string"
            }
          },
          "metadata": {},
          "execution_count": 4
        }
      ]
    },
    {
      "cell_type": "markdown",
      "source": [
        "Function: 입출력\n",
        "\n",
        "Print(s[0]) 함수\n",
        "\n",
        "파이썬에서 함수는 ‘함수’라고 쓰고 괄호 반드시 써야 함\n",
        "\n",
        "함수(    입력    ) 입력이 없으면 괄호만 존재하고 아무도 안 쓰면 됨\n",
        "\n",
        "뭐가 나오고 (    ) 괄호 나오면 함수구나! 추론할 수 있음\n",
        "\n",
        "Len: 길이 계산하라는 함수 (ex. Len(s) = 6)"
      ],
      "metadata": {
        "id": "NkeKapnZq-pm"
      }
    },
    {
      "cell_type": "markdown",
      "source": [
        "\n",
        "Len(s) = 6\n",
        "Bdefefefefefefefefefef"
      ],
      "metadata": {
        "id": "VsMQ2EFpq8im"
      }
    },
    {
      "cell_type": "code",
      "metadata": {
        "id": "IevwoMpmmAuz",
        "outputId": "4ce1afd5-2fe2-44d7-e7c9-65e232c64a10",
        "colab": {
          "base_uri": "https://localhost:8080/",
          "height": 35
        }
      },
      "source": [
        "s.upper()"
      ],
      "execution_count": 5,
      "outputs": [
        {
          "output_type": "execute_result",
          "data": {
            "text/plain": [
              "'ABCDEF'"
            ],
            "application/vnd.google.colaboratory.intrinsic+json": {
              "type": "string"
            }
          },
          "metadata": {},
          "execution_count": 5
        }
      ]
    },
    {
      "cell_type": "markdown",
      "source": [
        "s.upper( ): 대문자로 만들어주는 것"
      ],
      "metadata": {
        "id": "rjYgzGRkrXju"
      }
    },
    {
      "cell_type": "code",
      "metadata": {
        "id": "LRU0Yt1amAuz",
        "outputId": "69d38073-9d87-42f9-f531-4cfb73a51727",
        "colab": {
          "base_uri": "https://localhost:8080/",
          "height": 35
        }
      },
      "source": [
        "s = ' this is a house built this year.\\n' \t\n",
        "s"
      ],
      "execution_count": 6,
      "outputs": [
        {
          "output_type": "execute_result",
          "data": {
            "text/plain": [
              "' this is a house built this year.\\n'"
            ],
            "application/vnd.google.colaboratory.intrinsic+json": {
              "type": "string"
            }
          },
          "metadata": {},
          "execution_count": 6
        }
      ]
    },
    {
      "cell_type": "markdown",
      "source": [
        "S= ‘this is a house built this year./n’\n",
        "\n",
        "셀의 제일 마지막줄에 나올 때는 print(s)라고 안 하고 그냥 's'만 쳐도 print의 효과가 있음\n",
        "셀의 제일 마지막줄만 그냥 써도 ‘print’의 효과가 있음. 중간에 나올 때는 꼭 ‘print’ 써주기"
      ],
      "metadata": {
        "id": "59tqEhCFrrql"
      }
    },
    {
      "cell_type": "code",
      "metadata": {
        "id": "nMHteyDfmAu0",
        "outputId": "2f55caa2-dd53-4fac-e876-05ca87c5d63d"
      },
      "source": [
        "result = s.find('house') \t    # index of first instance of string t inside s (-1 if not found)\n",
        "result"
      ],
      "execution_count": null,
      "outputs": [
        {
          "data": {
            "text/plain": [
              "11"
            ]
          },
          "execution_count": 11,
          "metadata": {},
          "output_type": "execute_result"
        }
      ]
    },
    {
      "cell_type": "markdown",
      "source": [
        "House를 찾아서 result에다 넣으라는 말임\n",
        "\n",
        "Result = s.find(‘house’) \n",
        "\n",
        "House가 처음으로 등장하는 게 몇 번째인지? (H가 처음으로 등장하는 것)\n",
        "\n",
        "11번째라서 result에 ‘11’이라고 뜸\n",
        "제일 먼저 나오는 거 기준으로 찾으면 됨!"
      ],
      "metadata": {
        "id": "3t0GV8qpr9eA"
      }
    },
    {
      "cell_type": "code",
      "metadata": {
        "id": "gv82JUX7mAu0",
        "outputId": "9f5c8762-1fac-4d5f-82c7-c8785a8decba",
        "colab": {
          "base_uri": "https://localhost:8080/"
        }
      },
      "source": [
        "result = s.find('this')\t      # index of first instance of string t inside s (-1 if not found)\n",
        "result"
      ],
      "execution_count": 7,
      "outputs": [
        {
          "output_type": "execute_result",
          "data": {
            "text/plain": [
              "1"
            ]
          },
          "metadata": {},
          "execution_count": 7
        }
      ]
    },
    {
      "cell_type": "code",
      "metadata": {
        "id": "ua3TjwLcmAu2",
        "outputId": "7e3beffd-3dad-4b57-ba00-81672068b87f",
        "colab": {
          "base_uri": "https://localhost:8080/",
          "height": 35
        }
      },
      "source": [
        "s = s.strip()      \t          # a copy of s without leading or trailing whitespace\n",
        "s"
      ],
      "execution_count": 9,
      "outputs": [
        {
          "output_type": "execute_result",
          "data": {
            "text/plain": [
              "'this is a house built this year.'"
            ],
            "application/vnd.google.colaboratory.intrinsic+json": {
              "type": "string"
            }
          },
          "metadata": {},
          "execution_count": 9
        }
      ]
    },
    {
      "cell_type": "markdown",
      "source": [
        "whitespace가 뒤에 달려있으면 지워라 (줄바꿈 표시)\n",
        "\n",
        "문장부호나 줄바꿈 표시 등 지저분한 것들 지워줌"
      ],
      "metadata": {
        "id": "BFKDy98ksQSo"
      }
    },
    {
      "cell_type": "code",
      "metadata": {
        "id": "l37g5DqQmAu2",
        "outputId": "16580485-e7c1-4780-fd5b-a64b279d543f",
        "colab": {
          "base_uri": "https://localhost:8080/"
        }
      },
      "source": [
        "tokens = s.split(' ')\t        # split s into a list wherever a t is found (whitespace by default)\n",
        "tokens"
      ],
      "execution_count": 10,
      "outputs": [
        {
          "output_type": "execute_result",
          "data": {
            "text/plain": [
              "['this', 'is', 'a', 'house', 'built', 'this', 'year.']"
            ]
          },
          "metadata": {},
          "execution_count": 10
        }
      ]
    },
    {
      "cell_type": "markdown",
      "source": [
        "s.split(‘   ‘): 빈칸을 보고, 빈칸이 있으면 빈칸을 중심으로 쪼개서 list로 만들라는 뜻임\n",
        "다 쪼개고 나서 list로 만들어라."
      ],
      "metadata": {
        "id": "gsCty1lFsMbM"
      }
    },
    {
      "cell_type": "code",
      "metadata": {
        "id": "64sewKE8mAu2",
        "outputId": "dd47c725-8699-4337-cc08-1a14bd206401",
        "colab": {
          "base_uri": "https://localhost:8080/",
          "height": 35
        }
      },
      "source": [
        "s = ' '.join(tokens)\t        # combine the words of the text into a string using s as the glue\n",
        "s"
      ],
      "execution_count": 11,
      "outputs": [
        {
          "output_type": "execute_result",
          "data": {
            "text/plain": [
              "'this is a house built this year.'"
            ],
            "application/vnd.google.colaboratory.intrinsic+json": {
              "type": "string"
            }
          },
          "metadata": {},
          "execution_count": 11
        }
      ]
    },
    {
      "cell_type": "markdown",
      "source": [
        "빈칸을 이용해서 join하라는 것임. \n",
        "\n",
        "List로 만든 것을 one 문장으로 만들고 싶다면\n",
        "S=’   ‘.join(tokens)\n",
        "\n",
        "빈칸이 있으면 빈칸을 중심으로 쪼개서 list로 만들라는 의미임"
      ],
      "metadata": {
        "id": "AP1JSrxlssfL"
      }
    },
    {
      "cell_type": "code",
      "metadata": {
        "id": "jfiqbBiImAu3",
        "outputId": "13300aff-f13a-4f48-c6ec-cbc5d01dd55b"
      },
      "source": [
        "s = s.replace('this', 'that') # replace instances of t with u inside s\n",
        "s"
      ],
      "execution_count": null,
      "outputs": [
        {
          "data": {
            "text/plain": [
              "'that is a house built that year.'"
            ]
          },
          "execution_count": 17,
          "metadata": {},
          "output_type": "execute_result"
        }
      ]
    },
    {
      "cell_type": "markdown",
      "source": [
        "This를 That으로 바꿔주라는 의미임"
      ],
      "metadata": {
        "id": "PSHuVajoszgg"
      }
    }
  ]
}