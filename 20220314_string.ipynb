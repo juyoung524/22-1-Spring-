{
  "nbformat": 4,
  "nbformat_minor": 0,
  "metadata": {
    "kernelspec": {
      "display_name": "Python 3",
      "language": "python",
      "name": "python3"
    },
    "language_info": {
      "codemirror_mode": {
        "name": "ipython",
        "version": 3
      },
      "file_extension": ".py",
      "mimetype": "text/x-python",
      "name": "python",
      "nbconvert_exporter": "python",
      "pygments_lexer": "ipython3",
      "version": "3.7.1"
    },
    "colab": {
      "name": "20220314_string.ipynb",
      "provenance": [],
      "collapsed_sections": [],
      "include_colab_link": true
    }
  },
  "cells": [
    {
      "cell_type": "markdown",
      "metadata": {
        "id": "view-in-github",
        "colab_type": "text"
      },
      "source": [
        "<a href=\"https://colab.research.google.com/github/juyoung524/22-1-Spring-/blob/main/20220314_string.ipynb\" target=\"_parent\"><img src=\"https://colab.research.google.com/assets/colab-badge.svg\" alt=\"Open In Colab\"/></a>"
      ]
    },
    {
      "cell_type": "code",
      "metadata": {
        "id": "zwpWU02YmAur",
        "outputId": "818bf12d-d23b-4807-ceed-60866150d656",
        "colab": {
          "base_uri": "https://localhost:8080/"
        }
      },
      "source": [
        "s = 'abcdef'\n",
        "print(s[0], s[5], s[-1], s[-6])\n",
        "print(s[1:3], s[1:], s[:3], s[:])"
      ],
      "execution_count": 1,
      "outputs": [
        {
          "output_type": "stream",
          "name": "stdout",
          "text": [
            "a f f a\n",
            "bc bcdef abc abcdef\n"
          ]
        }
      ]
    },
    {
      "cell_type": "markdown",
      "source": [
        ": 콜론이 있을 때는 '전부 다'를 의미함.\n",
        "s[1:] 이런 식으로 표기되어 있으면 첫 번째부터 끝까지를 의미함"
      ],
      "metadata": {
        "id": "VfXrPLsoqNun"
      }
    },
    {
      "cell_type": "markdown",
      "source": [
        "몇 번째라고 할 때 [0] (대괄호 표기)\n",
        "\n",
        "Index할 때는 해당하는 거 포함 안 시킴 (ex. (s[1:3]하면 콜론의 오른쪽은 포함 안 시킴. 세 번째까지가 아니라 두 번째까지만 들어감)\n"
      ],
      "metadata": {
        "id": "payNvGVvp0W0"
      }
    },
    {
      "cell_type": "code",
      "metadata": {
        "id": "mpkdZBeWmAux",
        "outputId": "a2648a39-7808-4a8e-dd58-a3c573ee380b",
        "colab": {
          "base_uri": "https://localhost:8080/"
        }
      },
      "source": [
        "n = [100, 200, 300]\n",
        "print(n[0], n[2], n[-1], n[-3])\n",
        "print(n[1:2], n[1:], n[:2], n[:])"
      ],
      "execution_count": 2,
      "outputs": [
        {
          "output_type": "stream",
          "name": "stdout",
          "text": [
            "100 300 300 100\n",
            "[200] [200, 300] [100, 200] [100, 200, 300]\n"
          ]
        }
      ]
    },
    {
      "cell_type": "code",
      "metadata": {
        "id": "ulnefmnFmAuy",
        "outputId": "8582a243-101e-4ef4-e5e6-acb1ad540b53",
        "colab": {
          "base_uri": "https://localhost:8080/"
        }
      },
      "source": [
        "len(s)"
      ],
      "execution_count": 3,
      "outputs": [
        {
          "output_type": "execute_result",
          "data": {
            "text/plain": [
              "6"
            ]
          },
          "metadata": {},
          "execution_count": 3
        }
      ]
    },
    {
      "cell_type": "markdown",
      "source": [
        "Len: 길이 의미함 (총 6개이기 때문에 6을 뱉어냄)"
      ],
      "metadata": {
        "id": "fzf9K-g7qnwv"
      }
    },
    {
      "cell_type": "code",
      "metadata": {
        "id": "a45rgiNMmAuy",
        "outputId": "9b1a4417-a513-4f77-8ae9-64352e6da015"
      },
      "source": [
        "s[1]+s[3]+s[4:]*10"
      ],
      "execution_count": null,
      "outputs": [
        {
          "data": {
            "text/plain": [
              "'bdefefefefefefefefefef'"
            ]
          },
          "execution_count": 5,
          "metadata": {},
          "output_type": "execute_result"
        }
      ]
    },
    {
      "cell_type": "markdown",
      "source": [
        "Function: 입출력\n",
        "\n",
        "Print(s[0]) 함수\n",
        "\n",
        "파이썬에서 함수는 ‘함수’라고 쓰고 괄호 반드시 써야 함\n",
        "\n",
        "함수(    입력    ) 입력이 없으면 괄호만 존재하고 아무도 안 쓰면 됨\n",
        "\n",
        "뭐가 나오고 (    ) 괄호 나오면 함수구나! 추론할 수 있음\n",
        "\n",
        "Len: 길이 계산하라는 함수 (ex. Len(s) = 6)"
      ],
      "metadata": {
        "id": "NkeKapnZq-pm"
      }
    },
    {
      "cell_type": "markdown",
      "source": [
        "\n",
        "Len(s) = 6\n",
        "Bdefefefefefefefefefef"
      ],
      "metadata": {
        "id": "VsMQ2EFpq8im"
      }
    },
    {
      "cell_type": "code",
      "metadata": {
        "id": "IevwoMpmmAuz",
        "outputId": "2d951650-c794-46d2-f709-a4c4ad9ae28b",
        "colab": {
          "base_uri": "https://localhost:8080/",
          "height": 35
        }
      },
      "source": [
        "s.upper()"
      ],
      "execution_count": 4,
      "outputs": [
        {
          "output_type": "execute_result",
          "data": {
            "text/plain": [
              "'ABCDEF'"
            ],
            "application/vnd.google.colaboratory.intrinsic+json": {
              "type": "string"
            }
          },
          "metadata": {},
          "execution_count": 4
        }
      ]
    },
    {
      "cell_type": "markdown",
      "source": [
        "S.upper( ): 대문자로 만들어주는 것"
      ],
      "metadata": {
        "id": "rjYgzGRkrXju"
      }
    },
    {
      "cell_type": "code",
      "metadata": {
        "id": "LRU0Yt1amAuz",
        "outputId": "580ab618-531a-4e77-a91f-9deb9c859d86",
        "colab": {
          "base_uri": "https://localhost:8080/",
          "height": 35
        }
      },
      "source": [
        "s = ' this is a house built this year.\\n' \t\n",
        "s"
      ],
      "execution_count": 5,
      "outputs": [
        {
          "output_type": "execute_result",
          "data": {
            "text/plain": [
              "' this is a house built this year.\\n'"
            ],
            "application/vnd.google.colaboratory.intrinsic+json": {
              "type": "string"
            }
          },
          "metadata": {},
          "execution_count": 5
        }
      ]
    },
    {
      "cell_type": "markdown",
      "source": [
        "S= ‘this is a house built this year./n’\n",
        "\n",
        "셀의 제일 마지막줄에 나올 때는 print(s)라고 안 하고 그냥 's'만 쳐도 print의 효과가 있음\n",
        "셀의 제일 마지막줄만 그냥 써도 ‘print’의 효과가 있음. 중간에 나올 때는 꼭 ‘print’ 써주기"
      ],
      "metadata": {
        "id": "59tqEhCFrrql"
      }
    },
    {
      "cell_type": "code",
      "metadata": {
        "id": "nMHteyDfmAu0",
        "outputId": "2f55caa2-dd53-4fac-e876-05ca87c5d63d"
      },
      "source": [
        "result = s.find('house') \t    # index of first instance of string t inside s (-1 if not found)\n",
        "result"
      ],
      "execution_count": null,
      "outputs": [
        {
          "data": {
            "text/plain": [
              "11"
            ]
          },
          "execution_count": 11,
          "metadata": {},
          "output_type": "execute_result"
        }
      ]
    },
    {
      "cell_type": "markdown",
      "source": [
        "Result = s.find(‘house’) \n",
        "\n",
        "House가 처음으로 끝까지 나오는 게 몇 번째인지? \n",
        "\n",
        "11번째라서 result에 ‘11’이라고 뜸\n",
        "제일 먼저 나오는 거 기준으로 찾으면 됨!"
      ],
      "metadata": {
        "id": "3t0GV8qpr9eA"
      }
    },
    {
      "cell_type": "code",
      "metadata": {
        "id": "gv82JUX7mAu0",
        "outputId": "18540837-5eb4-4cea-f087-2f7fd1581afa"
      },
      "source": [
        "result = s.find('this')\t      # index of first instance of string t inside s (-1 if not found)\n",
        "result"
      ],
      "execution_count": null,
      "outputs": [
        {
          "data": {
            "text/plain": [
              "1"
            ]
          },
          "execution_count": 12,
          "metadata": {},
          "output_type": "execute_result"
        }
      ]
    },
    {
      "cell_type": "code",
      "metadata": {
        "id": "ua3TjwLcmAu2",
        "outputId": "12f685fa-ba34-4eb0-f7f0-8062dfd7a60a",
        "colab": {
          "base_uri": "https://localhost:8080/",
          "height": 35
        }
      },
      "source": [
        "s = s.strip()      \t          # a copy of s without leading or trailing whitespace\n",
        "s"
      ],
      "execution_count": 6,
      "outputs": [
        {
          "output_type": "execute_result",
          "data": {
            "text/plain": [
              "'this is a house built this year.'"
            ],
            "application/vnd.google.colaboratory.intrinsic+json": {
              "type": "string"
            }
          },
          "metadata": {},
          "execution_count": 6
        }
      ]
    },
    {
      "cell_type": "markdown",
      "source": [
        "whitespace가 뒤에 달려있으면 지워라 (줄바꿈 표시)\n",
        "\n",
        "문장부호나 줄바꿈 표시 등 지저분한 것들 지워줌"
      ],
      "metadata": {
        "id": "BFKDy98ksQSo"
      }
    },
    {
      "cell_type": "code",
      "metadata": {
        "id": "l37g5DqQmAu2",
        "outputId": "c1eefe2c-0edc-4678-c67b-b8306ca13471"
      },
      "source": [
        "tokens = s.split(' ')\t        # split s into a list wherever a t is found (whitespace by default)\n",
        "tokens"
      ],
      "execution_count": null,
      "outputs": [
        {
          "data": {
            "text/plain": [
              "['this', 'is', 'a', 'house', 'built', 'this', 'year.']"
            ]
          },
          "execution_count": 15,
          "metadata": {},
          "output_type": "execute_result"
        }
      ]
    },
    {
      "cell_type": "markdown",
      "source": [
        "s.split(‘   ‘): 빈칸을 보고, 빈칸이 있으면 빈칸을 중심으로 쪼개서 list로 만들라는 뜻임\n",
        "다 쪼개고 나서 list로 만들어라."
      ],
      "metadata": {
        "id": "gsCty1lFsMbM"
      }
    },
    {
      "cell_type": "code",
      "metadata": {
        "id": "64sewKE8mAu2",
        "outputId": "e2e8dc1f-6b83-41ef-b746-7712099f2776"
      },
      "source": [
        "s = ' '.join(tokens)\t        # combine the words of the text into a string using s as the glue\n",
        "s"
      ],
      "execution_count": null,
      "outputs": [
        {
          "data": {
            "text/plain": [
              "'this is a house built this year.'"
            ]
          },
          "execution_count": 16,
          "metadata": {},
          "output_type": "execute_result"
        }
      ]
    },
    {
      "cell_type": "markdown",
      "source": [
        "빈칸을 이용해서 join하라는 것임. \n",
        "\n",
        "List로 만든 것을 one 문장으로 만들고 싶다면\n",
        "S=’   ‘.join(tokens)\n",
        "\n",
        "빈칸이 있으면 빈칸을 중심으로 쪼개서 list로 만들라는 의미임"
      ],
      "metadata": {
        "id": "AP1JSrxlssfL"
      }
    },
    {
      "cell_type": "code",
      "metadata": {
        "id": "jfiqbBiImAu3",
        "outputId": "13300aff-f13a-4f48-c6ec-cbc5d01dd55b"
      },
      "source": [
        "s = s.replace('this', 'that') # replace instances of t with u inside s\n",
        "s"
      ],
      "execution_count": null,
      "outputs": [
        {
          "data": {
            "text/plain": [
              "'that is a house built that year.'"
            ]
          },
          "execution_count": 17,
          "metadata": {},
          "output_type": "execute_result"
        }
      ]
    },
    {
      "cell_type": "markdown",
      "source": [
        "This를 That으로 바꿔주라는 의미임"
      ],
      "metadata": {
        "id": "PSHuVajoszgg"
      }
    }
  ]
}