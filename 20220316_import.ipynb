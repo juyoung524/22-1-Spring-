{
  "nbformat": 4,
  "nbformat_minor": 0,
  "metadata": {
    "colab": {
      "name": "20220316_import.ipynb",
      "provenance": [],
      "include_colab_link": true
    },
    "kernelspec": {
      "name": "python3",
      "display_name": "Python 3"
    },
    "language_info": {
      "name": "python"
    }
  },
  "cells": [
    {
      "cell_type": "markdown",
      "metadata": {
        "id": "view-in-github",
        "colab_type": "text"
      },
      "source": [
        "<a href=\"https://colab.research.google.com/github/juyoung524/22-1-Spring-/blob/main/20220316_import.ipynb\" target=\"_parent\"><img src=\"https://colab.research.google.com/assets/colab-badge.svg\" alt=\"Open In Colab\"/></a>"
      ]
    },
    {
      "cell_type": "markdown",
      "source": [
        "남들이 만든 package 불러올 때 쓰는 것이 ‘import’임\n",
        "\n",
        "우리는 이미 다 설치되어 있는 것 ‘import’하기만 하면 됨.\n",
        "\n",
        "‘print’ 이런 것들은 이미 built-in이기 때문에 그냥 쓰면 됨\n",
        "\n",
        "1)\tInstall해야 하는 것: 유명하지 않은 것들\n",
        "\n",
        "2)\tImport해야 하는 것: 유명해서 이미 install되어 있는 것들\n",
        "\n",
        "3)\tBuilt-in 되어 있는 것: print, len같은 것들은 원래부터 그냥 쓸 수 있음\n",
        "\n",
        "Install은 파일 자체를 컴퓨터에 까는 것\n",
        "지금 우리는 collab 쓰기 때문에 구글 컴퓨터 씀\n",
        "Import는 ‘ram’이라는 것으로 올린다고 생각하면 됨 (바로 쓸 수 있는) \n",
        "\n",
        "Install은 창고에도 없는 것\n",
        "\n",
        "Import 방법도 세부적으로 다양함\n",
        "\n",
        "Import해서 numpy 쓰면 됨\n",
        "\n",
        "Numpy 패키지가 들어있을 때 내부적으로 또 directory가 있음 (그 속에 방이 계속 있고, 방 안에는 function들이 여러 개 있을 수 있음)\n",
        "\n",
        "Numpy 실행시키면 패키지가 통으로 올라옴\n",
        "\n",
        "Numpy: random number generate하거나 행렬 같은 것 만들 때, 숫자 가지고 간단한 통계처리 할 때 numpy 필수적임\n",
        "\n",
        "AI와 data science가 어차피 수치로 하는 것이니까, numpy는 ai와 data science에서 가장 중요\n"
      ],
      "metadata": {
        "id": "tDKG87Ny3rHW"
      }
    },
    {
      "cell_type": "code",
      "metadata": {
        "id": "JXicrkYOzPRo"
      },
      "source": [
        "import numpy as np\n",
        "n = np.random.randn(100)\n",
        "\n",
        "#난수 배열, 숫자 가지고 통계처리 등등 해 줌\n",
        "#numpy라고 쓰는 게 너무 기니까 줄여서 np라고 쓰기로 약속함"
      ],
      "execution_count": 4,
      "outputs": []
    },
    {
      "cell_type": "code",
      "metadata": {
        "id": "oKT4vn4MwyLA",
        "colab": {
          "base_uri": "https://localhost:8080/",
          "height": 356
        },
        "outputId": "e35e20e0-d9da-4c29-8c01-963962b4c8d7"
      },
      "source": [
        "import matplotlib\n",
        "matplotlib.pyplot.hist(n)"
      ],
      "execution_count": 5,
      "outputs": [
        {
          "output_type": "execute_result",
          "data": {
            "text/plain": [
              "(array([ 1.,  6.,  5., 12., 19., 20., 17., 10.,  7.,  3.]),\n",
              " array([-2.51543953, -2.01534319, -1.51524685, -1.01515051, -0.51505417,\n",
              "        -0.01495783,  0.48513851,  0.98523485,  1.48533118,  1.98542752,\n",
              "         2.48552386]),\n",
              " <a list of 10 Patch objects>)"
            ]
          },
          "metadata": {},
          "execution_count": 5
        },
        {
          "output_type": "display_data",
          "data": {
            "text/plain": [
              "<Figure size 432x288 with 1 Axes>"
            ],
            "image/png": "[encoded data removed]"
          },
          "metadata": {
            "needs_background": "light"
          }
        }
      ]
    },
    {
      "cell_type": "markdown",
      "source": [
        "import matplotlib\n",
        "matplotlib.pyplot.hist(n)\n",
        "\n",
        "실행하면 그림 그려줌 (random number로)\n",
        "\n",
        "총 100개의 random number을 칸에 넣음\n",
        "\n",
        "이 칸에 몇 번이나 나오는지 계산\n",
        "\n",
        "Y축: 횟수 (frequency) \n",
        "\n",
        "Import 어떻게 쓰는지에 집중해서 봐달라\n",
        "\n",
        "하위 inventory까지 import하고 써도 됨\n",
        "\n",
        "근데 폴더 이름 계속 쓰는 것 너무 귀찮음\n",
        "\n",
        "import matplotlib.pyplot as plt\n",
        "\n",
        "plt.hist(n)\n",
        "\n",
        "plt로 줄여서 쓰는 방안 (as로 받기)\n",
        "\n",
        "matplotlib: plt로 받아서 확실히 많이 타이핑 안 해도 됨\n"
      ],
      "metadata": {
        "id": "7K7rNdsa4tu2"
      }
    },
    {
      "cell_type": "code",
      "metadata": {
        "colab": {
          "base_uri": "https://localhost:8080/",
          "height": 356
        },
        "id": "zQJ4LnbA-Hvz",
        "outputId": "2ae182b6-146e-4287-d890-24517704fca8"
      },
      "source": [
        "import matplotlib.pyplot\n",
        "matplotlib.pyplot.hist(n)"
      ],
      "execution_count": 6,
      "outputs": [
        {
          "output_type": "execute_result",
          "data": {
            "text/plain": [
              "(array([ 1.,  6.,  5., 12., 19., 20., 17., 10.,  7.,  3.]),\n",
              " array([-2.51543953, -2.01534319, -1.51524685, -1.01515051, -0.51505417,\n",
              "        -0.01495783,  0.48513851,  0.98523485,  1.48533118,  1.98542752,\n",
              "         2.48552386]),\n",
              " <a list of 10 Patch objects>)"
            ]
          },
          "metadata": {},
          "execution_count": 6
        },
        {
          "output_type": "display_data",
          "data": {
            "text/plain": [
              "<Figure size 432x288 with 1 Axes>"
            ],
            "image/png": "[encoded data removed]"
          },
          "metadata": {
            "needs_background": "light"
          }
        }
      ]
    },
    {
      "cell_type": "code",
      "metadata": {
        "id": "AWU6awi53c07",
        "outputId": "32cbd5b2-b307-4a47-c530-f43a5529ebb0",
        "colab": {
          "base_uri": "https://localhost:8080/",
          "height": 356
        }
      },
      "source": [
        "import matplotlib.pyplot as plt\n",
        "plt.hist(n)"
      ],
      "execution_count": 7,
      "outputs": [
        {
          "output_type": "execute_result",
          "data": {
            "text/plain": [
              "(array([ 1.,  6.,  5., 12., 19., 20., 17., 10.,  7.,  3.]),\n",
              " array([-2.51543953, -2.01534319, -1.51524685, -1.01515051, -0.51505417,\n",
              "        -0.01495783,  0.48513851,  0.98523485,  1.48533118,  1.98542752,\n",
              "         2.48552386]),\n",
              " <a list of 10 Patch objects>)"
            ]
          },
          "metadata": {},
          "execution_count": 7
        },
        {
          "output_type": "display_data",
          "data": {
            "text/plain": [
              "<Figure size 432x288 with 1 Axes>"
            ],
            "image/png": "[encoded data removed]"
          },
          "metadata": {
            "needs_background": "light"
          }
        }
      ]
    },
    {
      "cell_type": "markdown",
      "source": [
        "## from import를 쓰면 import as처럼 축약해서 부를 수 있는 효과"
      ],
      "metadata": {
        "id": "v1zA2xRWzpdu"
      }
    },
    {
      "cell_type": "markdown",
      "source": [
        "‘from import’를 쓰면 ‘import as’처럼 축약해서 부를 수 있는 효과\n",
        "\n",
        "from matplotlib import pyplot\n",
        "\n",
        "pyplot.hist(n)\n",
        "\n",
        "축약 효과가 있음\n",
        "\n",
        "From을 패키지로 하면 밑에 있는 function만 데려와도 됨"
      ],
      "metadata": {
        "id": "HoHNeJsJ5Ibl"
      }
    },
    {
      "cell_type": "code",
      "metadata": {
        "colab": {
          "base_uri": "https://localhost:8080/",
          "height": 356
        },
        "id": "moIjn3Kv-Hqy",
        "outputId": "782b0977-1511-49ca-c244-0df1c29caace"
      },
      "source": [
        "from matplotlib import pyplot\n",
        "pyplot.hist(n)"
      ],
      "execution_count": 8,
      "outputs": [
        {
          "output_type": "execute_result",
          "data": {
            "text/plain": [
              "(array([ 1.,  6.,  5., 12., 19., 20., 17., 10.,  7.,  3.]),\n",
              " array([-2.51543953, -2.01534319, -1.51524685, -1.01515051, -0.51505417,\n",
              "        -0.01495783,  0.48513851,  0.98523485,  1.48533118,  1.98542752,\n",
              "         2.48552386]),\n",
              " <a list of 10 Patch objects>)"
            ]
          },
          "metadata": {},
          "execution_count": 8
        },
        {
          "output_type": "display_data",
          "data": {
            "text/plain": [
              "<Figure size 432x288 with 1 Axes>"
            ],
            "image/png": "[encoded data removed]"
          },
          "metadata": {
            "needs_background": "light"
          }
        }
      ]
    },
    {
      "cell_type": "code",
      "metadata": {
        "colab": {
          "base_uri": "https://localhost:8080/",
          "height": 356
        },
        "id": "ORo259i7_Uqi",
        "outputId": "abf2639c-a6da-4de2-edcb-8bd7d546e193"
      },
      "source": [
        "from matplotlib.pyplot import hist\n",
        "hist(n)"
      ],
      "execution_count": 9,
      "outputs": [
        {
          "output_type": "execute_result",
          "data": {
            "text/plain": [
              "(array([ 1.,  6.,  5., 12., 19., 20., 17., 10.,  7.,  3.]),\n",
              " array([-2.51543953, -2.01534319, -1.51524685, -1.01515051, -0.51505417,\n",
              "        -0.01495783,  0.48513851,  0.98523485,  1.48533118,  1.98542752,\n",
              "         2.48552386]),\n",
              " <a list of 10 Patch objects>)"
            ]
          },
          "metadata": {},
          "execution_count": 9
        },
        {
          "output_type": "display_data",
          "data": {
            "text/plain": [
              "<Figure size 432x288 with 1 Axes>"
            ],
            "image/png": "[encoded data removed]"
          },
          "metadata": {
            "needs_background": "light"
          }
        }
      ]
    }
  ]
}