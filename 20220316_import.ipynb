{
  "nbformat": 4,
  "nbformat_minor": 0,
  "metadata": {
    "colab": {
      "name": "20220316_import.ipynb",
      "provenance": [],
      "include_colab_link": true
    },
    "kernelspec": {
      "name": "python3",
      "display_name": "Python 3"
    },
    "language_info": {
      "name": "python"
    }
  },
  "cells": [
    {
      "cell_type": "markdown",
      "metadata": {
        "id": "view-in-github",
        "colab_type": "text"
      },
      "source": [
        "<a href=\"https://colab.research.google.com/github/juyoung524/22-1-Spring-/blob/main/20220316_import.ipynb\" target=\"_parent\"><img src=\"https://colab.research.google.com/assets/colab-badge.svg\" alt=\"Open In Colab\"/></a>"
      ]
    },
    {
      "cell_type": "markdown",
      "source": [
        "남들이 만든 package 불러올 때 쓰는 것이 ‘import’임\n",
        "\n",
        "우리는 이미 다 설치되어 있는 것 ‘import’하기만 하면 됨.\n",
        "\n",
        "‘print’ 이런 것들은 이미 built-in이기 때문에 그냥 쓰면 됨\n",
        "\n",
        "1)\tInstall해야 하는 것: 유명하지 않은 것들\n",
        "\n",
        "2)\tImport해야 하는 것: 유명해서 이미 install되어 있는 것들\n",
        "\n",
        "3)\tBuilt-in 되어 있는 것: print, len같은 것들은 원래부터 그냥 쓸 수 있음\n",
        "\n",
        "Install은 파일 자체를 컴퓨터에 까는 것\n",
        "지금 우리는 collab 쓰기 때문에 구글 컴퓨터 씀\n",
        "Import는 ‘ram’이라는 것으로 올린다고 생각하면 됨 (바로 쓸 수 있는) \n",
        "\n",
        "Install은 창고에도 없는 것\n",
        "\n",
        "Import 방법도 세부적으로 다양함\n",
        "\n",
        "Import해서 numpy 쓰면 됨\n",
        "\n",
        "Numpy 패키지가 들어있을 때 내부적으로 또 directory가 있음 (그 속에 방이 계속 있고, 방 안에는 function들이 여러 개 있을 수 있음)\n",
        "\n",
        "Numpy 실행시키면 패키지가 통으로 올라옴\n",
        "\n",
        "Numpy: random number generate하거나 행렬 같은 것 만들 때, 숫자 가지고 간단한 통계처리 할 때 numpy 필수적임\n",
        "\n",
        "AI와 data science가 어차피 수치로 하는 것이니까, numpy는 ai와 data science에서 가장 중요\n"
      ],
      "metadata": {
        "id": "tDKG87Ny3rHW"
      }
    },
    {
      "cell_type": "code",
      "metadata": {
        "id": "JXicrkYOzPRo"
      },
      "source": [
        "import numpy as np\n",
        "n = np.random.randn(100)\n",
        "\n",
        "#난수 배열, 숫자 가지고 통계처리 등등 해 줌\n",
        "#numpy라고 쓰는 게 너무 기니까 줄여서 np라고 쓰기로 약속함"
      ],
      "execution_count": null,
      "outputs": []
    },
    {
      "cell_type": "code",
      "metadata": {
        "id": "oKT4vn4MwyLA",
        "colab": {
          "base_uri": "https://localhost:8080/",
          "height": 356
        },
        "outputId": "d27872b4-11a4-4b6a-b620-dd5e105c470b"
      },
      "source": [
        "import matplotlib\n",
        "matplotlib.pyplot.hist(n)"
      ],
      "execution_count": null,
      "outputs": [
        {
          "output_type": "execute_result",
          "data": {
            "text/plain": [
              "(array([ 3.,  8., 18., 22., 18., 12., 10.,  7.,  0.,  2.]),\n",
              " array([-1.92085667, -1.44558408, -0.97031149, -0.4950389 , -0.01976631,\n",
              "         0.45550628,  0.93077887,  1.40605145,  1.88132404,  2.35659663,\n",
              "         2.83186922]),\n",
              " <a list of 10 Patch objects>)"
            ]
          },
          "metadata": {},
          "execution_count": 2
        },
        {
          "output_type": "display_data",
          "data": {
            "text/plain": [
              "<Figure size 432x288 with 1 Axes>"
            ],
            "image/png": "[encoded data removed]"
          },
          "metadata": {
            "needs_background": "light"
          }
        }
      ]
    },
    {
      "cell_type": "markdown",
      "source": [
        "import matplotlib\n",
        "matplotlib.pyplot.hist(n)\n",
        "\n",
        "실행하면 그림 그려줌 (random number로)\n",
        "\n",
        "총 100개의 random number을 칸에 넣음\n",
        "\n",
        "이 칸에 몇 번이나 나오는지 계산\n",
        "\n",
        "Y축: 횟수 (frequency) \n",
        "\n",
        "Import 어떻게 쓰는지에 집중해서 봐달라\n",
        "\n",
        "하위 inventory까지 import하고 써도 됨\n",
        "\n",
        "근데 폴더 이름 계속 쓰는 것 너무 귀찮음\n",
        "\n",
        "import matplotlib.pyplot as plt\n",
        "\n",
        "plt.hist(n)\n",
        "\n",
        "plt로 줄여서 쓰는 방안 (as로 받기)\n",
        "\n",
        "matplotlib: plt로 받아서 확실히 많이 타이핑 안 해도 됨\n"
      ],
      "metadata": {
        "id": "7K7rNdsa4tu2"
      }
    },
    {
      "cell_type": "code",
      "metadata": {
        "colab": {
          "base_uri": "https://localhost:8080/",
          "height": 350
        },
        "id": "zQJ4LnbA-Hvz",
        "outputId": "bec7eeff-8cae-4c3d-f090-eaf78cdb5fa9"
      },
      "source": [
        "import matplotlib.pyplot\n",
        "matplotlib.pyplot.hist(n)"
      ],
      "execution_count": null,
      "outputs": [
        {
          "output_type": "execute_result",
          "data": {
            "text/plain": [
              "(array([ 4.,  4.,  4.,  8., 19., 21., 16., 13.,  6.,  5.]),\n",
              " array([-2.54804234, -2.0585933 , -1.56914426, -1.07969522, -0.59024618,\n",
              "        -0.10079714,  0.3886519 ,  0.87810094,  1.36754998,  1.85699902,\n",
              "         2.34644806]),\n",
              " <a list of 10 Patch objects>)"
            ]
          },
          "metadata": {},
          "execution_count": 4
        },
        {
          "output_type": "display_data",
          "data": {
            "image/png": "[encoded data removed]",
            "text/plain": [
              "<Figure size 432x288 with 1 Axes>"
            ]
          },
          "metadata": {
            "needs_background": "light"
          }
        }
      ]
    },
    {
      "cell_type": "code",
      "metadata": {
        "id": "AWU6awi53c07",
        "outputId": "9b49fb47-6bac-4887-8815-e5ed130f6c56",
        "colab": {
          "base_uri": "https://localhost:8080/",
          "height": 350
        }
      },
      "source": [
        "import matplotlib.pyplot as plt\n",
        "plt.hist(n)"
      ],
      "execution_count": null,
      "outputs": [
        {
          "output_type": "execute_result",
          "data": {
            "text/plain": [
              "(array([ 4.,  4.,  4.,  8., 19., 21., 16., 13.,  6.,  5.]),\n",
              " array([-2.54804234, -2.0585933 , -1.56914426, -1.07969522, -0.59024618,\n",
              "        -0.10079714,  0.3886519 ,  0.87810094,  1.36754998,  1.85699902,\n",
              "         2.34644806]),\n",
              " <a list of 10 Patch objects>)"
            ]
          },
          "metadata": {},
          "execution_count": 5
        },
        {
          "output_type": "display_data",
          "data": {
            "image/png": "[encoded data removed]",
            "text/plain": [
              "<Figure size 432x288 with 1 Axes>"
            ]
          },
          "metadata": {
            "needs_background": "light"
          }
        }
      ]
    },
    {
      "cell_type": "markdown",
      "source": [
        "## from import를 쓰면 import as처럼 축약해서 부를 수 있는 효과"
      ],
      "metadata": {
        "id": "v1zA2xRWzpdu"
      }
    },
    {
      "cell_type": "markdown",
      "source": [
        "‘from import’를 쓰면 ‘import as’처럼 축약해서 부를 수 있는 효과\n",
        "\n",
        "from matplotlib import pyplot\n",
        "\n",
        "pyplot.hist(n)\n",
        "\n",
        "축약 효과가 있음\n",
        "\n",
        "From을 패키지로 하면 밑에 있는 function만 데려와도 됨"
      ],
      "metadata": {
        "id": "HoHNeJsJ5Ibl"
      }
    },
    {
      "cell_type": "code",
      "metadata": {
        "colab": {
          "base_uri": "https://localhost:8080/",
          "height": 356
        },
        "id": "moIjn3Kv-Hqy",
        "outputId": "dd97ccb3-2c9c-44d6-b0d3-01485785af5a"
      },
      "source": [
        "from matplotlib import pyplot\n",
        "pyplot.hist(n)"
      ],
      "execution_count": null,
      "outputs": [
        {
          "output_type": "execute_result",
          "data": {
            "text/plain": [
              "(array([ 2.,  0.,  5.,  5., 19., 20., 26., 16.,  6.,  1.]),\n",
              " array([-3.23765641, -2.6610766 , -2.0844968 , -1.50791699, -0.93133718,\n",
              "        -0.35475738,  0.22182243,  0.79840224,  1.37498205,  1.95156185,\n",
              "         2.52814166]),\n",
              " <a list of 10 Patch objects>)"
            ]
          },
          "metadata": {},
          "execution_count": 5
        },
        {
          "output_type": "display_data",
          "data": {
            "text/plain": [
              "<Figure size 432x288 with 1 Axes>"
            ],
            "image/png": "[encoded data removed]"
          },
          "metadata": {
            "needs_background": "light"
          }
        }
      ]
    },
    {
      "cell_type": "code",
      "metadata": {
        "colab": {
          "base_uri": "https://localhost:8080/",
          "height": 356
        },
        "id": "ORo259i7_Uqi",
        "outputId": "f1344d01-efa9-4d4f-d711-67dceea5ff35"
      },
      "source": [
        "from matplotlib.pyplot import hist\n",
        "hist(n)"
      ],
      "execution_count": null,
      "outputs": [
        {
          "output_type": "execute_result",
          "data": {
            "text/plain": [
              "(array([ 2.,  0.,  5.,  5., 19., 20., 26., 16.,  6.,  1.]),\n",
              " array([-3.23765641, -2.6610766 , -2.0844968 , -1.50791699, -0.93133718,\n",
              "        -0.35475738,  0.22182243,  0.79840224,  1.37498205,  1.95156185,\n",
              "         2.52814166]),\n",
              " <a list of 10 Patch objects>)"
            ]
          },
          "metadata": {},
          "execution_count": 4
        },
        {
          "output_type": "display_data",
          "data": {
            "text/plain": [
              "<Figure size 432x288 with 1 Axes>"
            ],
            "image/png": "[encoded data removed]"
          },
          "metadata": {
            "needs_background": "light"
          }
        }
      ]
    }
  ]
}