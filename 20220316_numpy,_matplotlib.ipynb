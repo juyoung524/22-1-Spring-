{
  "nbformat": 4,
  "nbformat_minor": 0,
  "metadata": {
    "kernelspec": {
      "display_name": "Python 3",
      "language": "python",
      "name": "python3"
    },
    "language_info": {
      "codemirror_mode": {
        "name": "ipython",
        "version": 3
      },
      "file_extension": ".py",
      "mimetype": "text/x-python",
      "name": "python",
      "nbconvert_exporter": "python",
      "pygments_lexer": "ipython3",
      "version": "3.7.1"
    },
    "colab": {
      "name": "20220316_numpy, matplotlib.ipynb",
      "provenance": [],
      "include_colab_link": true
    }
  },
  "cells": [
    {
      "cell_type": "markdown",
      "metadata": {
        "id": "view-in-github",
        "colab_type": "text"
      },
      "source": [
        "<a href=\"https://colab.research.google.com/github/juyoung524/22-1-Spring-/blob/main/20220316_numpy%2C_matplotlib.ipynb\" target=\"_parent\"><img src=\"https://colab.research.google.com/assets/colab-badge.svg\" alt=\"Open In Colab\"/></a>"
      ]
    },
    {
      "cell_type": "markdown",
      "metadata": {
        "id": "JcCdLoe_4bY7"
      },
      "source": [
        "### create nd arrays (≈matrices)"
      ]
    },
    {
      "cell_type": "markdown",
      "source": [
        "Matrix: ‘행렬’이라는 뜻 (직사각형 숫자 배열)\n",
        "\n",
        "n-dimentional array\n",
        "\n",
        "\n",
        "2d, 3d, 4d… array\n",
        "\n",
        "Nd array 만들어 놓은 것 배워볼 것임"
      ],
      "metadata": {
        "id": "QRemZQoz588n"
      }
    },
    {
      "cell_type": "code",
      "metadata": {
        "id": "5ap7xyofShBB"
      },
      "source": [
        "import numpy as np"
      ],
      "execution_count": 1,
      "outputs": []
    },
    {
      "cell_type": "code",
      "metadata": {
        "id": "2rqpSPZCShBC",
        "colab": {
          "base_uri": "https://localhost:8080/"
        },
        "outputId": "2c18ffb3-c8e8-4757-e6d7-2e03019133da"
      },
      "source": [
        "x = np.array([1,2,3])\n",
        "\n",
        "#리스트는 그냥 리스트임. 계산될 수 없음. 그래서 array로 만들어줘야 함\n",
        "#List를 array로 바꿔주는 것\n",
        "\n",
        "print(x)\n",
        "print(type(x))\n",
        "print(x.shape)"
      ],
      "execution_count": 2,
      "outputs": [
        {
          "output_type": "stream",
          "name": "stdout",
          "text": [
            "[1 2 3]\n",
            "<class 'numpy.ndarray'>\n",
            "(3,)\n"
          ]
        }
      ]
    },
    {
      "cell_type": "markdown",
      "source": [
        "Class: numpy에서 제공하는 특수한 변수인데,\n",
        "\n",
        "그게 ndarray이다 (n 차원의 array)\n",
        "\n",
        "x = np.arange(0,10,2)(2는 increment, 몇 씩 증가하는지)"
      ],
      "metadata": {
        "id": "3R7e4pl86xsa"
      }
    },
    {
      "cell_type": "code",
      "metadata": {
        "id": "EjC88C75ShBC",
        "colab": {
          "base_uri": "https://localhost:8080/"
        },
        "outputId": "7143e4dd-2864-4b57-855e-56eb92a6bd75"
      },
      "source": [
        "x = np.arange(0,10,2)\n",
        "\n",
        "print(x)\n",
        "print(type(x))\n",
        "print(x.shape)"
      ],
      "execution_count": null,
      "outputs": [
        {
          "output_type": "stream",
          "name": "stdout",
          "text": [
            "[0 2 4 6 8]\n",
            "<class 'numpy.ndarray'>\n",
            "(5,)\n"
          ]
        }
      ]
    },
    {
      "cell_type": "markdown",
      "source": [
        "Arrange는 (0, 10, 2) increment (증가되는 것)\n",
        "0 포함해서 increment 만들면 0, 2, 4, 6, 8 \n",
        "(5,)\n",
        "\n",
        "제일 마지막 꺼 (10)는 포함 안 함\n",
        "\n",
        "(5,) 이렇게 되어 있으면 1d array를 의미함. 5개 들어 있음"
      ],
      "metadata": {
        "id": "kD6J9PYC7BVO"
      }
    },
    {
      "cell_type": "code",
      "metadata": {
        "id": "-MwkCEjTShBC",
        "colab": {
          "base_uri": "https://localhost:8080/"
        },
        "outputId": "11427674-886c-4f82-ca48-a1465f53223e"
      },
      "source": [
        "x = np.linspace(0,10,6)\n",
        "print(x)\n",
        "print(type(x))\n",
        "print(x.shape)"
      ],
      "execution_count": null,
      "outputs": [
        {
          "output_type": "stream",
          "name": "stdout",
          "text": [
            "[ 0.  2.  4.  6.  8. 10.]\n",
            "<class 'numpy.ndarray'>\n",
            "(6,)\n"
          ]
        }
      ]
    },
    {
      "cell_type": "markdown",
      "source": [
        "Linspace (0, 10, 6)\n",
        "\n",
        "=linear space라는 뜻\n",
        "\n",
        "여기서는 또 특이하게 10을 포함함. 0부터 10까지 등분해서 총 6개의 숫자 만들어라 (등간격으로)\n",
        "\n",
        "[0, 2, 4, 6, 8, 10]\n",
        "(6,  )"
      ],
      "metadata": {
        "id": "lr_tFSMm7SkC"
      }
    },
    {
      "cell_type": "code",
      "metadata": {
        "id": "tjk79SQ27fNv",
        "colab": {
          "base_uri": "https://localhost:8080/"
        },
        "outputId": "3ff3368b-6bb1-4664-933e-8504613780b1"
      },
      "source": [
        "x = np.array([[1,2,3], [4,5,6]])\n",
        "print(x)\n",
        "print(type(x))\n",
        "print(x.shape)"
      ],
      "execution_count": null,
      "outputs": [
        {
          "output_type": "stream",
          "name": "stdout",
          "text": [
            "[[1 2 3]\n",
            " [4 5 6]]\n",
            "<class 'numpy.ndarray'>\n",
            "(2, 3)\n"
          ]
        }
      ]
    },
    {
      "cell_type": "markdown",
      "source": [
        "x = np.array([[1,2,3], [4,5,6]])\n",
        "\n",
        "print(x)\n",
        "\n",
        "print(type(x))\n",
        "\n",
        "print(x.shape)\n",
        "\n",
        "이중 list로 되어 있음. 이러한 list를 array로 만들어라\n",
        "\n",
        "1 2 3\n",
        "\n",
        "4 5 6\n",
        "\n",
        "Row는 2개, 행은 3개 (2D로 만든 것임)\n",
        "\n",
        "3D면 (a,b,c)이렇게 세 개로 나옴"
      ],
      "metadata": {
        "id": "6jYvEEey7ZSb"
      }
    },
    {
      "cell_type": "code",
      "metadata": {
        "id": "C1ogg6iZ7yir",
        "colab": {
          "base_uri": "https://localhost:8080/"
        },
        "outputId": "baf27f4e-10a7-40bb-82f4-bf470d8de90c"
      },
      "source": [
        "x = np.array([[[1,2,3], [4,5,6]], [[7,8,9], [10,11,12]]])\n",
        "print(x)\n",
        "print(type(x))\n",
        "print(x.shape)"
      ],
      "execution_count": null,
      "outputs": [
        {
          "output_type": "stream",
          "name": "stdout",
          "text": [
            "[[[ 1  2  3]\n",
            "  [ 4  5  6]]\n",
            "\n",
            " [[ 7  8  9]\n",
            "  [10 11 12]]]\n",
            "<class 'numpy.ndarray'>\n",
            "(2, 2, 3)\n"
          ]
        }
      ]
    },
    {
      "cell_type": "markdown",
      "source": [
        "[ 몇 개가 중첩되어있는지 보면 몇 dimension인지 보임\n",
        "\n",
        "3개가 중첩되어 있으니까 3D임"
      ],
      "metadata": {
        "id": "UoGUH8SH7wE-"
      }
    },
    {
      "cell_type": "code",
      "metadata": {
        "id": "efgeNHtD8ZlT",
        "colab": {
          "base_uri": "https://localhost:8080/"
        },
        "outputId": "047fb9dd-8c90-4dbf-9f12-35123bed1052"
      },
      "source": [
        "x = np.ones([2, 2, 3])\n",
        "print(x)\n",
        "print(type(x))\n",
        "print(x.shape)"
      ],
      "execution_count": null,
      "outputs": [
        {
          "output_type": "stream",
          "name": "stdout",
          "text": [
            "[[[1. 1. 1.]\n",
            "  [1. 1. 1.]]\n",
            "\n",
            " [[1. 1. 1.]\n",
            "  [1. 1. 1.]]]\n",
            "<class 'numpy.ndarray'>\n",
            "(2, 2, 3)\n"
          ]
        }
      ]
    },
    {
      "cell_type": "code",
      "metadata": {
        "id": "b_F-ccY08zzl",
        "colab": {
          "base_uri": "https://localhost:8080/"
        },
        "outputId": "d56dd759-bbd1-48d5-d208-4a2084fe1cec"
      },
      "source": [
        "x = np.zeros([2, 2, 3])\n",
        "print(x)\n",
        "print(type(x))\n",
        "print(x.shape)\n",
        "x.reshape(3,2,2)"
      ],
      "execution_count": null,
      "outputs": [
        {
          "output_type": "stream",
          "name": "stdout",
          "text": [
            "[[[0. 0. 0.]\n",
            "  [0. 0. 0.]]\n",
            "\n",
            " [[0. 0. 0.]\n",
            "  [0. 0. 0.]]]\n",
            "<class 'numpy.ndarray'>\n",
            "(2, 2, 3)\n"
          ]
        },
        {
          "output_type": "execute_result",
          "data": {
            "text/plain": [
              "array([[[0., 0.],\n",
              "        [0., 0.]],\n",
              "\n",
              "       [[0., 0.],\n",
              "        [0., 0.]],\n",
              "\n",
              "       [[0., 0.],\n",
              "        [0., 0.]]])"
            ]
          },
          "metadata": {},
          "execution_count": 27
        }
      ]
    },
    {
      "cell_type": "markdown",
      "source": [
        "Ones, zeros (0으로 다 채워줄 수도 있음)\n",
        "\n",
        "Numpy 활용해서 ndarray 만드는 것\n",
        "\n",
        "one도 유용하게 쓸 수 있음"
      ],
      "metadata": {
        "id": "p87qW7HS75iK"
      }
    },
    {
      "cell_type": "markdown",
      "metadata": {
        "id": "0hQuDJ5g9gpE"
      },
      "source": [
        "### create random numbers"
      ]
    },
    {
      "cell_type": "markdown",
      "source": [
        "‘Create random numbers’: 난수를 만드는 것이 필요한 경우 많이 있음.\n",
        "\n",
        "Np.random.normal (0, 1, [2, 3, 4])\n",
        "\n",
        "구글링해서 numpy.normal.random 치면 나옴"
      ],
      "metadata": {
        "id": "lIAaOteG8WH-"
      }
    },
    {
      "cell_type": "code",
      "source": [
        "np.random.normal(0, 1, [2,3,4])"
      ],
      "metadata": {
        "id": "pCVnElBgan70",
        "outputId": "15536174-d40d-49b3-fb7d-6f76316d56b4",
        "colab": {
          "base_uri": "https://localhost:8080/"
        }
      },
      "execution_count": 3,
      "outputs": [
        {
          "output_type": "execute_result",
          "data": {
            "text/plain": [
              "array([[[ 1.2054417 ,  1.08310197, -0.2721717 , -1.26594983],\n",
              "        [-0.54466231,  0.55933583, -1.26299215, -0.38633323],\n",
              "        [ 0.5274547 , -0.95191701,  1.34866917, -1.33208476]],\n",
              "\n",
              "       [[ 1.91061451, -0.79881064,  1.62620807, -1.39163328],\n",
              "        [ 0.6321309 ,  0.9939832 , -0.3415156 ,  1.35156406],\n",
              "        [ 0.3395041 , -1.14078431,  0.94794419,  0.94743234]]])"
            ]
          },
          "metadata": {},
          "execution_count": 3
        }
      ]
    },
    {
      "cell_type": "markdown",
      "source": [
        "[[[ 세 개 중첩 (3D라는 것 의미)\n",
        "\n",
        "첫 번쨰 나오는 2는 2 dimension\n",
        "\n",
        "3D는 처음 section에 세 줄짜리 의미\n",
        "\n",
        "4는 한 줄에 몇 개 있는지 의미하는 것임"
      ],
      "metadata": {
        "id": "V5pWVLe58oEY"
      }
    },
    {
      "cell_type": "code",
      "metadata": {
        "id": "QRatmkx79otL"
      },
      "source": [
        "import matplotlib.pyplot as plt"
      ],
      "execution_count": 5,
      "outputs": []
    },
    {
      "cell_type": "code",
      "metadata": {
        "id": "z1oOAB6dShBD",
        "colab": {
          "base_uri": "https://localhost:8080/",
          "height": 664
        },
        "outputId": "2e1e60ed-4bc3-4f6e-84a0-703430cbf4c6"
      },
      "source": [
        "x = np.random.normal(0, 1, 100)\n",
        "\n",
        "#긴 한 줄의 숫자 100개 만들어주는 것임\n",
        "\n",
        "print(x)\n",
        "plt.hist(x, bins=10)\n",
        "\n",
        "#bins:통 (10개의 통 갖다놓는 것)"
      ],
      "execution_count": 7,
      "outputs": [
        {
          "output_type": "stream",
          "name": "stdout",
          "text": [
            "[ 1.20229151 -0.65199232 -0.74465382 -1.85401955  1.25550523  1.17315526\n",
            " -1.95022784  0.66929882  0.19685078  0.88417767  1.56579488  0.3457244\n",
            " -0.14961145 -0.83438666 -0.85388725  1.30400657 -0.13600523  1.64660214\n",
            "  0.32587857  1.10131053  0.68137971  0.10361119 -0.06120324 -0.2565084\n",
            " -0.48496699 -1.47660347  0.51603262  1.83230852 -0.91475372 -1.40780378\n",
            " -0.11343065 -0.25038361 -1.62431352  0.33845736  0.19028302 -0.21195387\n",
            "  1.34437292 -1.00117403 -0.78487555 -0.84156473  0.88182506  0.55288937\n",
            "  0.02547919  0.48874224  0.02448131 -1.23725064 -1.17210823 -1.49917733\n",
            "  0.17687478  0.50069544  0.27588926 -0.27378688 -0.19835283 -0.29102749\n",
            "  1.62150355 -0.47729291  0.47705374  0.10007124 -0.92912811 -0.4883001\n",
            " -1.04172313  1.26216441  0.64133643 -1.50575508 -2.26402288 -1.58134533\n",
            "  0.19459651 -0.10456945  2.29225333  0.48625295 -0.2034799  -0.51289742\n",
            "  0.2847452  -0.41037983  0.63923043  0.39619853  1.4271862  -0.43025878\n",
            "  0.1333738   0.60644483 -1.24446168  1.51169755  0.54642277  0.11800992\n",
            "  0.03775486  1.17146052 -1.93438338  0.48069983 -0.18178162  0.43301613\n",
            " -0.84605424 -1.15245741 -1.86769717 -0.62088131 -1.68652756  0.59105643\n",
            " -0.37317628 -0.05706859 -0.49237999 -1.29923024]\n"
          ]
        },
        {
          "output_type": "execute_result",
          "data": {
            "text/plain": [
              "(array([ 5.,  7.,  9., 13., 17., 18., 16.,  8.,  6.,  1.]),\n",
              " array([-2.26402288, -1.80839526, -1.35276764, -0.89714002, -0.4415124 ,\n",
              "         0.01411522,  0.46974285,  0.92537047,  1.38099809,  1.83662571,\n",
              "         2.29225333]),\n",
              " <a list of 10 Patch objects>)"
            ]
          },
          "metadata": {},
          "execution_count": 7
        },
        {
          "output_type": "display_data",
          "data": {
            "text/plain": [
              "<Figure size 432x288 with 1 Axes>"
            ],
            "image/png": "[encoded data removed]"
          },
          "metadata": {
            "needs_background": "light"
          }
        }
      ]
    },
    {
      "cell_type": "markdown",
      "source": [
        "x = np.random.normal(0, 1, 100)\n",
        "print(x)\n",
        "\n",
        "plt.hist(x, bins=10) (bin은 통을 의미함)\n",
        "\n",
        "One dimension에 길게 한 줄로 쓰는 것임\n",
        "\n",
        "총 100 개의 1d array 나옴\n",
        "\n",
        "Bins: 통을 몇 개로 할 것인가 (10개)\n",
        "\n",
        "10개의 통을 갖다 넣고 histogram 안에 배치하는 것임"
      ],
      "metadata": {
        "id": "KGFNDRFg8d3x"
      }
    },
    {
      "cell_type": "markdown",
      "metadata": {
        "id": "G0exvwBbShBE"
      },
      "source": [
        "### generate a sine curve"
      ]
    },
    {
      "cell_type": "code",
      "metadata": {
        "id": "HgQmRXzMShBE",
        "colab": {
          "base_uri": "https://localhost:8080/",
          "height": 283
        },
        "outputId": "d61a70a3-bad8-47bc-9674-61bb09176976"
      },
      "source": [
        "plt.figure()\n",
        "# 틀을 잡아주는 함수\n",
        "\n",
        "theta1 = np.linspace(0, 2*np.pi, 100)\n",
        "#0에서 360도까지 간 것. 2*np.pi는 2파이임 (파이 써줄 때 저렇게 써줘야 함)\n",
        "s1 = np.sin(theta1)\n",
        "#radian 만들어 놓은 값 여기 넣으면 받아짐\n",
        "theta2 = np.linspace(0, 2*np.pi, 100) + np.pi/2 #90도만큼을 다 더한 것\n",
        "#(radian)0에서 360도까지 갔다가 90도를 또 더해주는 것 (90도에서 450도까지 간 것)\n",
        "s2 = np.sin(theta2)\n",
        "#그림에 들어갈 내용을 numpy 이용해서 generate\n",
        "#linspace- 100개의 숫자 등간격으로 만들어라 (0부터 2*np.pi까지)\n",
        "\n",
        "plt.subplot(2, 1, 1) # (rows, columns, panel number)\n",
        "plt.plot(theta1, s1, '.')\n",
        "plt.subplot(2, 1, 2) # (rows, columns, panel number)\n",
        "plt.plot(theta2, s2, '.')"
      ],
      "execution_count": 9,
      "outputs": [
        {
          "output_type": "execute_result",
          "data": {
            "text/plain": [
              "[<matplotlib.lines.Line2D at 0x7f5799f7b410>]"
            ]
          },
          "metadata": {},
          "execution_count": 9
        },
        {
          "output_type": "display_data",
          "data": {
            "text/plain": [
              "<Figure size 432x288 with 2 Axes>"
            ],
            "image/png": "[encoded data removed]"
          },
          "metadata": {
            "needs_background": "light"
          }
        }
      ]
    },
    {
      "cell_type": "markdown",
      "source": [
        "Theta2에는 90~450에 해당되는 radiance 만들어짐\n",
        "총 100개의 숫자값이 있을 것임\n",
        "\n",
        "Plt.figure: 틀을 잡아주는 함수임\n",
        "Plt.subplot 하면 위에 사진 만큼 그려줌. (2, 1, 1)은 2 by 1으로 만들라는 뜻임\n",
        "두 줄로 해라. 1은 세로로는 한 줄로 해라\n",
        "마지막 1은 그 중에서 첫 번째 거에 그림 그리라는 것임\n",
        "Plot (theta1, s1, ‘.’)\n",
        "Theta: 두 개의 입력 반드시 받아야 함 (100개의 숫자, 100개의 숫자)\n",
        "첫 번째 그림 보면 sin곡선임. Sin 곡선을 90도만큼 이동시킨 것\n",
        "\n",
        "theta2에는 90~450에 해당하는 radiance\n",
        "\n",
        "여기도 마찬가지로 총 100개의 숫자값이 있을 것임\n"
      ],
      "metadata": {
        "id": "KwjCpgSq6I8s"
      }
    },
    {
      "cell_type": "markdown",
      "source": [
        "theta1에 있는 개수는 몇 개인가?\n",
        "\n",
        "S1에 있는 개수는 몇 개 인가?"
      ],
      "metadata": {
        "id": "xU3KOxjUicwa"
      }
    },
    {
      "cell_type": "code",
      "metadata": {
        "id": "TuH489v9BvQ7",
        "colab": {
          "base_uri": "https://localhost:8080/"
        },
        "outputId": "a0744b70-0fd7-437b-9cf5-1ae4cf7a13ac"
      },
      "source": [
        "np.corrcoef(s1,s2)"
      ],
      "execution_count": 10,
      "outputs": [
        {
          "output_type": "execute_result",
          "data": {
            "text/plain": [
              "array([[1.00000000e+00, 2.41915449e-17],\n",
              "       [2.41915449e-17, 1.00000000e+00]])"
            ]
          },
          "metadata": {},
          "execution_count": 10
        }
      ]
    },
    {
      "cell_type": "markdown",
      "source": [
        "Correlation: 한 학급에 10명 (1, 2, 3, 4, 5, 6, 7, 8, 9, 10)\n",
        "영어, 수학 점수가 10명 당 각각 두 개씩 있음\n",
        "영어축, 수학축 해서 점 총 10개 찍을 수 있음\n",
        "찍고 나서 볼 때 shape이 다양하게 가능함\n",
        "Correlation coefficient\n",
        "-1 <= r <= 1 (-1 반비례, 1 정비례로 이해하면 됨)\n",
        "서로서로 상관관계가 더 높다고 할 때 r의 절댓값이 1에 더 가까울수록 그렇게 됨. 0에 가까울 수록 두루뭉실하게 상관관계가 있어보임\n",
        "\n",
        "S1, s2를 correlation으로 쓸 수 있음 (각각 값에 해당되는 그래프 값이 어떻게 되는지 점으로 나타내서 correlation을 그려볼 수 있음)\n",
        "np.corrcoef(s1,s2)\n",
        "두 개를 correlation시켰을 때 -이 나오게 됨"
      ],
      "metadata": {
        "id": "Q7fJsuxtA6RL"
      }
    },
    {
      "cell_type": "markdown",
      "source": [
        "2.419~~~e-17\n",
        "\n",
        "e-17 = 10의 -17승임 (=0)\n",
        "\n",
        "두 개를 correlation 시켰을 때 0이 나옴"
      ],
      "metadata": {
        "id": "ZQgy5Gjz5CKI"
      }
    }
  ]
}