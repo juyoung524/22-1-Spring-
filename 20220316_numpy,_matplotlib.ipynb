{
  "nbformat": 4,
  "nbformat_minor": 0,
  "metadata": {
    "kernelspec": {
      "display_name": "Python 3",
      "language": "python",
      "name": "python3"
    },
    "language_info": {
      "codemirror_mode": {
        "name": "ipython",
        "version": 3
      },
      "file_extension": ".py",
      "mimetype": "text/x-python",
      "name": "python",
      "nbconvert_exporter": "python",
      "pygments_lexer": "ipython3",
      "version": "3.7.1"
    },
    "colab": {
      "name": "20220316_numpy, matplotlib.ipynb",
      "provenance": [],
      "include_colab_link": true
    }
  },
  "cells": [
    {
      "cell_type": "markdown",
      "metadata": {
        "id": "view-in-github",
        "colab_type": "text"
      },
      "source": [
        "<a href=\"https://colab.research.google.com/github/juyoung524/22-1-Spring-/blob/main/20220316_numpy%2C_matplotlib.ipynb\" target=\"_parent\"><img src=\"https://colab.research.google.com/assets/colab-badge.svg\" alt=\"Open In Colab\"/></a>"
      ]
    },
    {
      "cell_type": "markdown",
      "metadata": {
        "id": "JcCdLoe_4bY7"
      },
      "source": [
        "### create nd arrays (≈matrices)"
      ]
    },
    {
      "cell_type": "markdown",
      "source": [
        "Matrix: ‘행렬’이라는 뜻 (직사각형 숫자 배열)\n",
        "\n",
        "n-dimentional array\n",
        "\n",
        "\n",
        "2d, 3d, 4d… array\n",
        "\n",
        "Nd array 만들어 놓은 것 배워볼 것임"
      ],
      "metadata": {
        "id": "QRemZQoz588n"
      }
    },
    {
      "cell_type": "code",
      "metadata": {
        "id": "5ap7xyofShBB"
      },
      "source": [
        "import numpy as np"
      ],
      "execution_count": 1,
      "outputs": []
    },
    {
      "cell_type": "code",
      "metadata": {
        "id": "2rqpSPZCShBC",
        "colab": {
          "base_uri": "https://localhost:8080/"
        },
        "outputId": "8a4d14a6-b816-432a-caae-902c8c640f33"
      },
      "source": [
        "x = np.array([1,2,3])\n",
        "\n",
        "#리스트는 그냥 리스트임. 계산될 수 없음. 그래서 array로 만들어줘야 함\n",
        "#List를 array로 바꿔주는 것\n",
        "\n",
        "print(x)\n",
        "print(type(x))\n",
        "print(x.shape)"
      ],
      "execution_count": null,
      "outputs": [
        {
          "output_type": "stream",
          "name": "stdout",
          "text": [
            "[1 2 3]\n",
            "<class 'numpy.ndarray'>\n",
            "(3,)\n"
          ]
        }
      ]
    },
    {
      "cell_type": "markdown",
      "source": [
        "Class: numpy에서 제공하는 특수한 변수인데,\n",
        "\n",
        "그게 ndarray이다 (n 차원의 array)\n",
        "\n",
        "x = np.arange(0,10,2)(2는 increment, 몇 씩 증가하는지)"
      ],
      "metadata": {
        "id": "3R7e4pl86xsa"
      }
    },
    {
      "cell_type": "code",
      "metadata": {
        "id": "EjC88C75ShBC",
        "colab": {
          "base_uri": "https://localhost:8080/"
        },
        "outputId": "7143e4dd-2864-4b57-855e-56eb92a6bd75"
      },
      "source": [
        "x = np.arange(0,10,2)\n",
        "\n",
        "print(x)\n",
        "print(type(x))\n",
        "print(x.shape)"
      ],
      "execution_count": null,
      "outputs": [
        {
          "output_type": "stream",
          "name": "stdout",
          "text": [
            "[0 2 4 6 8]\n",
            "<class 'numpy.ndarray'>\n",
            "(5,)\n"
          ]
        }
      ]
    },
    {
      "cell_type": "markdown",
      "source": [
        "Arrange는 (0, 10, 2) increment (증가되는 것)\n",
        "0 포함해서 increment 만들면 0, 2, 4, 6, 8 \n",
        "(5,)"
      ],
      "metadata": {
        "id": "kD6J9PYC7BVO"
      }
    },
    {
      "cell_type": "code",
      "metadata": {
        "id": "-MwkCEjTShBC",
        "colab": {
          "base_uri": "https://localhost:8080/"
        },
        "outputId": "11427674-886c-4f82-ca48-a1465f53223e"
      },
      "source": [
        "x = np.linspace(0,10,6)\n",
        "print(x)\n",
        "print(type(x))\n",
        "print(x.shape)"
      ],
      "execution_count": null,
      "outputs": [
        {
          "output_type": "stream",
          "name": "stdout",
          "text": [
            "[ 0.  2.  4.  6.  8. 10.]\n",
            "<class 'numpy.ndarray'>\n",
            "(6,)\n"
          ]
        }
      ]
    },
    {
      "cell_type": "markdown",
      "source": [
        "Linspace (0, 10, 6)\n",
        "\n",
        "여기서는 또 특이하게 10을 포함함. 0부터 10까지 등분해서 총 6개의 숫자 만들어라 (등간격으로)\n",
        "\n",
        "[0, 2, 4, 6, 8, 10]\n",
        "(6,  )"
      ],
      "metadata": {
        "id": "lr_tFSMm7SkC"
      }
    },
    {
      "cell_type": "code",
      "metadata": {
        "id": "tjk79SQ27fNv",
        "colab": {
          "base_uri": "https://localhost:8080/"
        },
        "outputId": "3ff3368b-6bb1-4664-933e-8504613780b1"
      },
      "source": [
        "x = np.array([[1,2,3], [4,5,6]])\n",
        "print(x)\n",
        "print(type(x))\n",
        "print(x.shape)"
      ],
      "execution_count": null,
      "outputs": [
        {
          "output_type": "stream",
          "name": "stdout",
          "text": [
            "[[1 2 3]\n",
            " [4 5 6]]\n",
            "<class 'numpy.ndarray'>\n",
            "(2, 3)\n"
          ]
        }
      ]
    },
    {
      "cell_type": "markdown",
      "source": [
        "x = np.array([[1,2,3], [4,5,6]])\n",
        "\n",
        "print(x)\n",
        "\n",
        "print(type(x))\n",
        "\n",
        "print(x.shape)\n",
        "\n",
        "이중 list로 되어 있음. 이러한 list를 array로 만들어라\n",
        "\n",
        "1 2 3\n",
        "\n",
        "4 5 6\n",
        "\n",
        "Row는 2개, 행은 3개 (2D로 만든 것임)\n",
        "\n",
        "3D면 (a,b,c)이렇게 세 개로 나옴"
      ],
      "metadata": {
        "id": "6jYvEEey7ZSb"
      }
    },
    {
      "cell_type": "code",
      "metadata": {
        "id": "C1ogg6iZ7yir",
        "colab": {
          "base_uri": "https://localhost:8080/"
        },
        "outputId": "baf27f4e-10a7-40bb-82f4-bf470d8de90c"
      },
      "source": [
        "x = np.array([[[1,2,3], [4,5,6]], [[7,8,9], [10,11,12]]])\n",
        "print(x)\n",
        "print(type(x))\n",
        "print(x.shape)"
      ],
      "execution_count": null,
      "outputs": [
        {
          "output_type": "stream",
          "name": "stdout",
          "text": [
            "[[[ 1  2  3]\n",
            "  [ 4  5  6]]\n",
            "\n",
            " [[ 7  8  9]\n",
            "  [10 11 12]]]\n",
            "<class 'numpy.ndarray'>\n",
            "(2, 2, 3)\n"
          ]
        }
      ]
    },
    {
      "cell_type": "markdown",
      "source": [
        "[ 몇 개가 중첩되어있는지 보면 몇 dimension인지 보임\n",
        "\n",
        "3개가 중첩되어 있으니까 3D임"
      ],
      "metadata": {
        "id": "UoGUH8SH7wE-"
      }
    },
    {
      "cell_type": "code",
      "metadata": {
        "id": "efgeNHtD8ZlT",
        "colab": {
          "base_uri": "https://localhost:8080/"
        },
        "outputId": "047fb9dd-8c90-4dbf-9f12-35123bed1052"
      },
      "source": [
        "x = np.ones([2, 2, 3])\n",
        "print(x)\n",
        "print(type(x))\n",
        "print(x.shape)"
      ],
      "execution_count": null,
      "outputs": [
        {
          "output_type": "stream",
          "name": "stdout",
          "text": [
            "[[[1. 1. 1.]\n",
            "  [1. 1. 1.]]\n",
            "\n",
            " [[1. 1. 1.]\n",
            "  [1. 1. 1.]]]\n",
            "<class 'numpy.ndarray'>\n",
            "(2, 2, 3)\n"
          ]
        }
      ]
    },
    {
      "cell_type": "code",
      "metadata": {
        "id": "b_F-ccY08zzl",
        "colab": {
          "base_uri": "https://localhost:8080/"
        },
        "outputId": "d56dd759-bbd1-48d5-d208-4a2084fe1cec"
      },
      "source": [
        "x = np.zeros([2, 2, 3])\n",
        "print(x)\n",
        "print(type(x))\n",
        "print(x.shape)\n",
        "x.reshape(3,2,2)"
      ],
      "execution_count": null,
      "outputs": [
        {
          "output_type": "stream",
          "name": "stdout",
          "text": [
            "[[[0. 0. 0.]\n",
            "  [0. 0. 0.]]\n",
            "\n",
            " [[0. 0. 0.]\n",
            "  [0. 0. 0.]]]\n",
            "<class 'numpy.ndarray'>\n",
            "(2, 2, 3)\n"
          ]
        },
        {
          "output_type": "execute_result",
          "data": {
            "text/plain": [
              "array([[[0., 0.],\n",
              "        [0., 0.]],\n",
              "\n",
              "       [[0., 0.],\n",
              "        [0., 0.]],\n",
              "\n",
              "       [[0., 0.],\n",
              "        [0., 0.]]])"
            ]
          },
          "metadata": {},
          "execution_count": 27
        }
      ]
    },
    {
      "cell_type": "markdown",
      "source": [
        "Ones, zeros (0으로 다 채워줄 수도 있음)\n",
        "\n",
        "Numpy 활용해서 ndarray 만드는 것\n",
        "\n",
        "one도 유용하게 쓸 수 있음"
      ],
      "metadata": {
        "id": "p87qW7HS75iK"
      }
    },
    {
      "cell_type": "markdown",
      "metadata": {
        "id": "0hQuDJ5g9gpE"
      },
      "source": [
        "### create random numbers"
      ]
    },
    {
      "cell_type": "markdown",
      "source": [
        "‘Create random numbers’: 난수를 만드는 것이 필요한 경우 많이 있음.\n",
        "\n",
        "Np.random.normal (0, 1, [2, 3, 4])\n",
        "\n",
        "구글링해서 numpy.normal.random 치면 나옴"
      ],
      "metadata": {
        "id": "lIAaOteG8WH-"
      }
    },
    {
      "cell_type": "code",
      "source": [
        "np.random.normal(0, 1, [2,3,4])"
      ],
      "metadata": {
        "id": "pCVnElBgan70",
        "outputId": "76149cd3-2850-4c63-aa1c-c8f31546187a",
        "colab": {
          "base_uri": "https://localhost:8080/"
        }
      },
      "execution_count": 2,
      "outputs": [
        {
          "output_type": "execute_result",
          "data": {
            "text/plain": [
              "array([[[ 0.47763114, -0.83016617, -0.31145125, -0.58384181],\n",
              "        [ 1.53224138,  1.32713595,  0.10746252,  0.64674385],\n",
              "        [ 1.75095476,  0.54479612, -1.26553702,  1.04140113]],\n",
              "\n",
              "       [[-0.47900405,  0.7601757 , -0.80478128,  0.84881272],\n",
              "        [-0.28183317, -0.2675546 ,  0.43255868, -0.23833209],\n",
              "        [-0.80277533, -0.92709539, -1.48581321, -0.51243553]]])"
            ]
          },
          "metadata": {},
          "execution_count": 2
        }
      ]
    },
    {
      "cell_type": "markdown",
      "source": [
        "[[[ 세 개 중첩 (3D라는 것 의미)\n",
        "\n",
        "첫 번쨰 나오는 2는 2 dimension\n",
        "\n",
        "3D는 처음 section에 세 줄짜리 의미\n",
        "\n",
        "4는 한 줄에 몇 개 있는지 의미하는 것임"
      ],
      "metadata": {
        "id": "V5pWVLe58oEY"
      }
    },
    {
      "cell_type": "code",
      "metadata": {
        "id": "QRatmkx79otL"
      },
      "source": [
        "import matplotlib.pyplot as plt"
      ],
      "execution_count": 3,
      "outputs": []
    },
    {
      "cell_type": "code",
      "metadata": {
        "id": "z1oOAB6dShBD",
        "colab": {
          "base_uri": "https://localhost:8080/",
          "height": 664
        },
        "outputId": "5cddec8f-1188-4986-ccc3-e74d6cbe8101"
      },
      "source": [
        "x = np.random.normal(0, 1, 100)\n",
        "\n",
        "#긴 한 줄의 숫자 100개 만들어주는 것임\n",
        "\n",
        "print(x)\n",
        "plt.hist(x, bins=10)"
      ],
      "execution_count": 4,
      "outputs": [
        {
          "output_type": "stream",
          "name": "stdout",
          "text": [
            "[-2.73944444 -0.42930173  1.12561007  1.06274485 -0.51057612  0.42045357\n",
            " -0.51395022  0.8252792  -0.28783229 -0.38000087 -0.18577793  0.40026131\n",
            " -1.95697701 -0.36336688  0.22636267 -0.5478058   0.51214728 -2.09166831\n",
            " -1.33184629  0.35180237 -0.26185632  1.22936357 -0.23062377  0.66154597\n",
            "  1.22805599 -0.43299202  1.02104276 -0.14407149  0.24810198  0.90783088\n",
            " -0.16435778  0.95988476  0.7959291  -0.79098518  2.08115838  1.70232394\n",
            "  1.01506985 -0.17714459 -1.85064075 -0.36111873  0.16094969 -0.60522938\n",
            "  1.05939039  1.11676136 -1.02153602 -0.64012104 -1.73139136  0.10473703\n",
            "  1.6946559   2.28234917 -0.43029622 -1.44188675 -0.45234325  0.24829699\n",
            "  0.2897066  -0.12794025 -0.5388459   0.56070665 -0.2651775   1.07492053\n",
            "  0.09176103  0.7054785  -0.72680868 -0.59454014 -0.54294689  0.81572014\n",
            " -1.92037922  0.72057798  1.22219051 -0.46229587 -0.27589679  0.91310081\n",
            "  1.10993519  0.24909512  0.95070633  0.26736376 -0.70987155 -0.57897603\n",
            " -2.03761599  1.56428999 -1.09685608  0.954608    1.45576729  1.31273975\n",
            "  0.54111204  0.01400386  0.73956279  0.87005912  0.51070517 -1.43048124\n",
            "  1.27749221 -0.37281623  1.26186313 -1.42175545 -1.57458596 -0.47648119\n",
            " -0.92471656  0.04623236  0.71525037 -1.02183023]\n"
          ]
        },
        {
          "output_type": "execute_result",
          "data": {
            "text/plain": [
              "(array([ 1.,  5.,  6.,  5., 26., 15., 13., 22.,  5.,  2.]),\n",
              " array([-2.73944444, -2.23726508, -1.73508572, -1.23290636, -0.730727  ,\n",
              "        -0.22854764,  0.27363173,  0.77581109,  1.27799045,  1.78016981,\n",
              "         2.28234917]),\n",
              " <a list of 10 Patch objects>)"
            ]
          },
          "metadata": {},
          "execution_count": 4
        },
        {
          "output_type": "display_data",
          "data": {
            "text/plain": [
              "<Figure size 432x288 with 1 Axes>"
            ],
            "image/png": "[encoded data removed]"
          },
          "metadata": {
            "needs_background": "light"
          }
        }
      ]
    },
    {
      "cell_type": "markdown",
      "source": [
        "x = np.random.normal(0, 1, 100)\n",
        "print(x)\n",
        "\n",
        "plt.hist(x, bins=10) (bin은 통을 의미함)\n",
        "\n",
        "One dimension에 길게 한 줄로 쓰는 것임\n",
        "\n",
        "총 100 개의 1d array 나옴\n",
        "\n",
        "Bins: 통을 몇 개로 할 것인가 (10개)\n",
        "\n",
        "10개의 통을 갖다 넣고 histogram 안에 배치하는 것임"
      ],
      "metadata": {
        "id": "KGFNDRFg8d3x"
      }
    },
    {
      "cell_type": "markdown",
      "metadata": {
        "id": "G0exvwBbShBE"
      },
      "source": [
        "### generate a sine curve"
      ]
    },
    {
      "cell_type": "code",
      "metadata": {
        "id": "HgQmRXzMShBE",
        "colab": {
          "base_uri": "https://localhost:8080/",
          "height": 283
        },
        "outputId": "0ac09516-4973-4eed-f3a9-da5460e6902b"
      },
      "source": [
        "plt.figure()\n",
        "# 틀을 잡아주는 함수\n",
        "\n",
        "theta1 = np.linspace(0, 2*np.pi, 100)\n",
        "s1 = np.sin(theta1)\n",
        "theta2 = np.linspace(0, 2*np.pi, 100) + np.pi/2\n",
        "s2 = np.sin(theta2)\n",
        "\n",
        "#그림에 들어갈 내용을 numpy 이용해서 generate\n",
        "\n",
        "plt.subplot(2, 1, 1) # (rows, columns, panel number)\n",
        "plt.plot(theta1, s1, '.')\n",
        "plt.subplot(2, 1, 2) # (rows, columns, panel number)\n",
        "plt.plot(theta2, s2, '.')"
      ],
      "execution_count": 5,
      "outputs": [
        {
          "output_type": "execute_result",
          "data": {
            "text/plain": [
              "[<matplotlib.lines.Line2D at 0x7f2cd4197f10>]"
            ]
          },
          "metadata": {},
          "execution_count": 5
        },
        {
          "output_type": "display_data",
          "data": {
            "text/plain": [
              "<Figure size 432x288 with 2 Axes>"
            ],
            "image/png": "[encoded data removed]"
          },
          "metadata": {
            "needs_background": "light"
          }
        }
      ]
    },
    {
      "cell_type": "markdown",
      "source": [
        "Theta2에는 90~450에 해당되는 radiance 만들어짐\n",
        "총 100개의 숫자값이 있을 것임\n",
        "\n",
        "Plt.figure: 틀을 잡아주는 함수임\n",
        "Plt.subplot 하면 위에 사진 만큼 그려줌. (2, 1, 1)은 2 by 1으로 만들라는 뜻임\n",
        "두 줄로 해라. 1은 세로로는 한 줄로 해라\n",
        "마지막 1은 그 중에서 첫 번째 거에 그림 그리라는 것임\n",
        "Plot (theta1, s1, ‘.’)\n",
        "Theta: 두 개의 입력 반드시 받아야 함 (100개의 숫자, 100개의 숫자)\n",
        "첫 번째 그림 보면 sin곡선임. Sin 곡선을 90도만큼 이동시킨 것\n",
        "\n",
        "theta2에는 90~450에 해당하는 radiance\n",
        "\n",
        "여기도 마찬가지로 총 100개의 숫자값이 있을 것임\n"
      ],
      "metadata": {
        "id": "KwjCpgSq6I8s"
      }
    },
    {
      "cell_type": "code",
      "metadata": {
        "id": "TuH489v9BvQ7",
        "colab": {
          "base_uri": "https://localhost:8080/"
        },
        "outputId": "fd510180-8b4b-4502-c171-2dabfb66f02b"
      },
      "source": [
        "np.corrcoef(s1,s2)"
      ],
      "execution_count": 6,
      "outputs": [
        {
          "output_type": "execute_result",
          "data": {
            "text/plain": [
              "array([[1.00000000e+00, 2.41915449e-17],\n",
              "       [2.41915449e-17, 1.00000000e+00]])"
            ]
          },
          "metadata": {},
          "execution_count": 6
        }
      ]
    },
    {
      "cell_type": "markdown",
      "source": [
        "Correlation: 한 학급에 10명 (1, 2, 3, 4, 5, 6, 7, 8, 9, 10)\n",
        "영어, 수학 점수가 10명 당 각각 두 개씩 있음\n",
        "영어축, 수학축 해서 점 총 10개 찍을 수 있음\n",
        "찍고 나서 볼 때 shape이 다양하게 가능함\n",
        "Correlation coefficient\n",
        "-1 <= r <= 1 (-1 반비례, 1 정비례로 이해하면 됨)\n",
        "서로서로 상관관계가 더 높다고 할 때 r의 절댓값이 1에 더 가까울수록 그렇게 됨. 0에 가까울 수록 두루뭉실하게 상관관계가 있어보임\n",
        "\n",
        "S1, s2를 correlation으로 쓸 수 있음 (각각 값에 해당되는 그래프 값이 어떻게 되는지 점으로 나타내서 correlation을 그려볼 수 있음)\n",
        "np.corrcoef(s1,s2)\n",
        "두 개를 correlation시켰을 때 -이 나오게 됨"
      ],
      "metadata": {
        "id": "Q7fJsuxtA6RL"
      }
    }
  ]
}