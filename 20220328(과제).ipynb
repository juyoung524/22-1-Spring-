{
  "nbformat": 4,
  "nbformat_minor": 0,
  "metadata": {
    "colab": {
      "name": "requests_gradio.ipynb",
      "provenance": [],
      "include_colab_link": true
    },
    "kernelspec": {
      "name": "python3",
      "display_name": "Python 3"
    },
    "language_info": {
      "name": "python"
    }
  },
  "cells": [
    {
      "cell_type": "markdown",
      "metadata": {
        "id": "view-in-github",
        "colab_type": "text"
      },
      "source": [
        "<a href=\"https://colab.research.google.com/github/juyoung524/22-1-Spring-/blob/main/20220328(%EA%B3%BC%EC%A0%9C).ipynb\" target=\"_parent\"><img src=\"https://colab.research.google.com/assets/colab-badge.svg\" alt=\"Open In Colab\"/></a>"
      ]
    },
    {
      "cell_type": "code",
      "source": [
        "!pip install gradio\n",
        "import gradio as gr\n",
        "import requests\n",
        "import pandas as pd"
      ],
      "metadata": {
        "id": "8eZHGJhmqd9a"
      },
      "execution_count": null,
      "outputs": []
    },
    {
      "cell_type": "code",
      "source": [
        "URL = ('http://apis.data.go.kr/6260000/BusanTblFnrstrnStusService/'\n",
        "'getTblFnrstrnStusInfo?'\n",
        "'serviceKey=JLSeGuX9n3W0EMfx1ajNjY3tb7UDmE0ktk7OnePFxnckUei%2FYuA8GEI8omQVAWXSPwvWy09fPyxyU13K5XnMVw%3D%3D'\n",
        "'&numOfRows=10&pageNo=1'\n",
        "'&resultType=json')\n",
        "response = requests.get(URL)"
      ],
      "metadata": {
        "id": "lHHEwqpyJF7r"
      },
      "execution_count": 3,
      "outputs": []
    },
    {
      "cell_type": "code",
      "source": [
        "response"
      ],
      "metadata": {
        "id": "1GOEHunQs6HO",
        "outputId": "cd257e72-61c3-4cb1-b949-08d566ea2c31",
        "colab": {
          "base_uri": "https://localhost:8080/"
        }
      },
      "execution_count": 4,
      "outputs": [
        {
          "output_type": "execute_result",
          "data": {
            "text/plain": [
              "<Response [200]>"
            ]
          },
          "metadata": {},
          "execution_count": 4
        }
      ]
    },
    {
      "cell_type": "markdown",
      "source": [
        "#### http://jsonviewer.stack.hu/ (copy json here to view json)"
      ],
      "metadata": {
        "id": "faIENRyFfnY1"
      }
    },
    {
      "cell_type": "code",
      "source": [
        "r = response.json()\n",
        "r"
      ],
      "metadata": {
        "id": "JcLKwg0foR9p"
      },
      "execution_count": null,
      "outputs": []
    },
    {
      "cell_type": "code",
      "source": [
        "print(type(r))"
      ],
      "metadata": {
        "id": "ZT7vAKwkAC9N",
        "outputId": "9c3aa0e4-bded-49ce-d183-c34ceef6b27b",
        "colab": {
          "base_uri": "https://localhost:8080/"
        }
      },
      "execution_count": 6,
      "outputs": [
        {
          "output_type": "stream",
          "name": "stdout",
          "text": [
            "<class 'dict'>\n"
          ]
        }
      ]
    },
    {
      "cell_type": "code",
      "source": [
        "items = r['getTblFnrstrnStusInfo']['item']\n",
        "items"
      ],
      "metadata": {
        "id": "X-4qnZtFAaWT",
        "outputId": "f49f471f-3da3-48ef-bc76-9c68534a729b",
        "colab": {
          "base_uri": "https://localhost:8080/"
        }
      },
      "execution_count": 15,
      "outputs": [
        {
          "output_type": "execute_result",
          "data": {
            "text/plain": [
              "[{'addrJibun': '부산광역시 해운대구 중동 1225-5',\n",
              "  'addrRoad': '부산광역시 해운대구 해운대해변로 329-2 (중동, 2,3층)',\n",
              "  'bsnsCond': '복어취급',\n",
              "  'bsnsNm': '초원복국',\n",
              "  'bsnsSector': '일반음식점',\n",
              "  'dataDay': '2020-04-28',\n",
              "  'gugun': '부산광역시 해운대구',\n",
              "  'lat': '35.16288958',\n",
              "  'lng': '129.1659385',\n",
              "  'menu': '복국',\n",
              "  'ovrdDate': '2020-11-26',\n",
              "  'specDate': '2020-11-26',\n",
              "  'tel': '051-743-5291'},\n",
              " {'addrJibun': '부산광역시 해운대구 중동 1394-65',\n",
              "  'addrRoad': '부산광역시 해운대구 중동1로43번길 23 (중동, 1~2층)',\n",
              "  'bsnsCond': '복어취급',\n",
              "  'bsnsNm': '금수복국',\n",
              "  'bsnsSector': '일반음식점',\n",
              "  'dataDay': '2020-04-28',\n",
              "  'gugun': '부산광역시 해운대구',\n",
              "  'lat': '35.16241675',\n",
              "  'lng': '129.1644938',\n",
              "  'menu': '복국',\n",
              "  'ovrdDate': '2020-11-26',\n",
              "  'specDate': '2020-11-26',\n",
              "  'tel': '051-742-3600'},\n",
              " {'addrJibun': '부산광역시 해운대구 중동 1394-64',\n",
              "  'addrRoad': '부산광역시 해운대구 중동2로 5 (중동, 1층)',\n",
              "  'bsnsCond': '한식',\n",
              "  'bsnsNm': '기장식당',\n",
              "  'bsnsSector': '일반음식점',\n",
              "  'dataDay': '2020-04-28',\n",
              "  'gugun': '부산광역시 해운대구',\n",
              "  'lat': '35.16254039',\n",
              "  'lng': '129.164759',\n",
              "  'menu': '가자미찌개',\n",
              "  'ovrdDate': '2020-11-26',\n",
              "  'specDate': '2020-11-26',\n",
              "  'tel': '051-743-4944'},\n",
              " {'addrJibun': '부산광역시 해운대구 우동 1458',\n",
              "  'addrRoad': '부산광역시 해운대구 센텀중앙로 97(재송동, 센텀스카이비즈 지하1층 C-B 107호',\n",
              "  'bsnsCond': '한식',\n",
              "  'bsnsNm': '남도',\n",
              "  'bsnsSector': '일반음식점',\n",
              "  'dataDay': '2020-04-28',\n",
              "  'gugun': '부산광역시 해운대구',\n",
              "  'lat': '35.1751303',\n",
              "  'lng': '129.124875',\n",
              "  'menu': '고등어구이',\n",
              "  'ovrdDate': '2020-11-26',\n",
              "  'specDate': '2020-11-26',\n",
              "  'tel': '051-905-9292'},\n",
              " {'addrJibun': '부산광역시 해운대구 반여동 870-1',\n",
              "  'addrRoad': '부산광역시 해운대구 선수촌로 184 (반여동, 지상1층)',\n",
              "  'bsnsCond': '탕류(보신용)',\n",
              "  'bsnsNm': '남해돼지국밥',\n",
              "  'bsnsSector': '일반음식점',\n",
              "  'dataDay': '2020-04-28',\n",
              "  'gugun': '부산광역시 해운대구',\n",
              "  'lat': '35.20898505',\n",
              "  'lng': '129.1241611',\n",
              "  'menu': '국밥류',\n",
              "  'ovrdDate': '2020-11-26',\n",
              "  'specDate': '2020-11-26',\n",
              "  'tel': '051-523-0468'},\n",
              " {'addrJibun': '부산광역시 해운대구 중동 1318-5',\n",
              "  'addrRoad': '부산광역시 해운대구 좌동로10번길 21 (중동, 지상2층)',\n",
              "  'bsnsCond': '일식',\n",
              "  'bsnsNm': '덴포라',\n",
              "  'bsnsSector': '일반음식점',\n",
              "  'dataDay': '2020-04-28',\n",
              "  'gugun': '부산광역시 해운대구',\n",
              "  'lat': '35.16735613',\n",
              "  'lng': '129.1701187',\n",
              "  'menu': '바다가재',\n",
              "  'ovrdDate': '2020-11-26',\n",
              "  'specDate': '2020-11-26',\n",
              "  'tel': '051-742-0633'},\n",
              " {'addrJibun': '부산광역시 해운대구 우동 1435 ',\n",
              "  'addrRoad': '부산광역시 해운대구 마린시티3로 23 (우동, 벽산e오렌지상가 320호 - 325호 )',\n",
              "  'bsnsCond': '한식',\n",
              "  'bsnsNm': '동백삼계탕',\n",
              "  'bsnsSector': '일반음식점',\n",
              "  'dataDay': '2020-04-28',\n",
              "  'gugun': '부산광역시 해운대구',\n",
              "  'lat': '35.15664443',\n",
              "  'lng': '129.1469274',\n",
              "  'menu': '삼계탕',\n",
              "  'ovrdDate': '2020-11-26',\n",
              "  'specDate': '2020-11-26',\n",
              "  'tel': '051-900-9933'},\n",
              " {'addrJibun': '부산광역시 해운대구 우동 1072-38',\n",
              "  'addrRoad': '부산광역시 해운대구 해운대로469번길 142 (우동)',\n",
              "  'bsnsCond': '한식',\n",
              "  'bsnsNm': '수비가든',\n",
              "  'bsnsSector': '일반음식점',\n",
              "  'dataDay': '2020-04-28',\n",
              "  'gugun': '부산광역시 해운대구',\n",
              "  'lat': '35.16869453',\n",
              "  'lng': '129.1413557',\n",
              "  'menu': '오리구이',\n",
              "  'ovrdDate': '2020-11-26',\n",
              "  'specDate': '2020-11-26',\n",
              "  'tel': '051-742-8998'},\n",
              " {'addrJibun': '부산광역시 해운대구 중동 1380-4',\n",
              "  'addrRoad': '부산광역시 해운대구 구남로29번길 35 (중동, 2층)',\n",
              "  'bsnsCond': '한식',\n",
              "  'bsnsNm': '신토불이보쌈',\n",
              "  'bsnsSector': '일반음식점',\n",
              "  'dataDay': '2020-04-28',\n",
              "  'gugun': '부산광역시 해운대구',\n",
              "  'lat': '35.16281775',\n",
              "  'lng': '129.1621616',\n",
              "  'menu': '보쌈',\n",
              "  'ovrdDate': '2020-11-26',\n",
              "  'specDate': '2020-11-26',\n",
              "  'tel': '051-731-1441'},\n",
              " {'addrJibun': '부산광역시 해운대구 우동 1496 롯데백화점센텀시티점',\n",
              "  'addrRoad': '부산광역시 해운대구 센텀남대로 59 (우동, 롯데백화점센텀시티점6층)',\n",
              "  'bsnsCond': '중국식',\n",
              "  'bsnsNm': '얌차이나',\n",
              "  'bsnsSector': '일반음식점',\n",
              "  'dataDay': '2020-04-28',\n",
              "  'gugun': '부산광역시 해운대구',\n",
              "  'lat': '35.16985471',\n",
              "  'lng': '129.1310752',\n",
              "  'menu': '중화요리',\n",
              "  'ovrdDate': '2020-11-26',\n",
              "  'specDate': '2020-11-26',\n",
              "  'tel': '051-730-3903'}]"
            ]
          },
          "metadata": {},
          "execution_count": 15
        }
      ]
    },
    {
      "cell_type": "markdown",
      "source": [
        "List Comprehension 적극적으로 이용"
      ],
      "metadata": {
        "id": "xb3L7UjBEQJA"
      }
    },
    {
      "cell_type": "code",
      "source": [
        "addrJibun = [item['addrJibun'] for item in items]\n",
        "addrRoad = [item['addrRoad'] for item in items]\n",
        "bsnsCond = [item['bsnsCond'] for item in items]\n",
        "bsnsNm = [item['bsnsNm'] for item in items]\n",
        "bsnsSector = [item['bsnsSector'] for item in items]\n",
        "gugun = [item['gugun'] for item in items]\n",
        "menu = [item['menu'] for item in items]\n",
        "tel = [item['tel'] for item in items]\n",
        "\n",
        "addrJibun = pd.Series(addrJibun)\n",
        "addrRoad = pd.Series(addrRoad)   \n",
        "bsnsCond = pd.Series(bsnsCond)\n",
        "bsnsNm = pd.Series(bsnsNm)\n",
        "bsnsSector = pd.Series(bsnsSector)\n",
        "gugun = pd.Series(gugun)\n",
        "menu = pd.Series(menu)\n",
        "tel = pd.Series(tel)\n",
        "\n",
        "df = pd.DataFrame({ 'addrJibun': addrJibun, 'addrRoad': addrRoad, 'bsnsCond': bsnsCond, 'bsnsNm': bsnsNm, 'bsnsSector': bsnsSector, 'gugun': gugun, 'menu': menu, 'tel': tel})"
      ],
      "metadata": {
        "id": "W8lA0-IzE55W"
      },
      "execution_count": 16,
      "outputs": []
    },
    {
      "cell_type": "code",
      "source": [
        "df"
      ],
      "metadata": {
        "id": "JszqRycyFoky",
        "outputId": "e5b9534a-6c62-47e2-ed93-8861a5684d3f",
        "colab": {
          "base_uri": "https://localhost:8080/",
          "height": 997
        }
      },
      "execution_count": 17,
      "outputs": [
        {
          "output_type": "execute_result",
          "data": {
            "text/plain": [
              "                       addrJibun  \\\n",
              "0           부산광역시 해운대구 중동 1225-5   \n",
              "1          부산광역시 해운대구 중동 1394-65   \n",
              "2          부산광역시 해운대구 중동 1394-64   \n",
              "3             부산광역시 해운대구 우동 1458   \n",
              "4           부산광역시 해운대구 반여동 870-1   \n",
              "5           부산광역시 해운대구 중동 1318-5   \n",
              "6            부산광역시 해운대구 우동 1435    \n",
              "7          부산광역시 해운대구 우동 1072-38   \n",
              "8           부산광역시 해운대구 중동 1380-4   \n",
              "9  부산광역시 해운대구 우동 1496 롯데백화점센텀시티점   \n",
              "\n",
              "                                           addrRoad bsnsCond  bsnsNm  \\\n",
              "0                부산광역시 해운대구 해운대해변로 329-2 (중동, 2,3층)     복어취급    초원복국   \n",
              "1                 부산광역시 해운대구 중동1로43번길 23 (중동, 1~2층)     복어취급    금수복국   \n",
              "2                        부산광역시 해운대구 중동2로 5 (중동, 1층)       한식    기장식당   \n",
              "3    부산광역시 해운대구 센텀중앙로 97(재송동, 센텀스카이비즈 지하1층 C-B 107호       한식      남도   \n",
              "4                   부산광역시 해운대구 선수촌로 184 (반여동, 지상1층)  탕류(보신용)  남해돼지국밥   \n",
              "5                  부산광역시 해운대구 좌동로10번길 21 (중동, 지상2층)       일식     덴포라   \n",
              "6  부산광역시 해운대구 마린시티3로 23 (우동, 벽산e오렌지상가 320호 - 325호 )       한식   동백삼계탕   \n",
              "7                     부산광역시 해운대구 해운대로469번길 142 (우동)       한식    수비가든   \n",
              "8                    부산광역시 해운대구 구남로29번길 35 (중동, 2층)       한식  신토불이보쌈   \n",
              "9            부산광역시 해운대구 센텀남대로 59 (우동, 롯데백화점센텀시티점6층)      중국식    얌차이나   \n",
              "\n",
              "  bsnsSector       gugun   menu           tel  \n",
              "0      일반음식점  부산광역시 해운대구     복국  051-743-5291  \n",
              "1      일반음식점  부산광역시 해운대구     복국  051-742-3600  \n",
              "2      일반음식점  부산광역시 해운대구  가자미찌개  051-743-4944  \n",
              "3      일반음식점  부산광역시 해운대구  고등어구이  051-905-9292  \n",
              "4      일반음식점  부산광역시 해운대구    국밥류  051-523-0468  \n",
              "5      일반음식점  부산광역시 해운대구   바다가재  051-742-0633  \n",
              "6      일반음식점  부산광역시 해운대구    삼계탕  051-900-9933  \n",
              "7      일반음식점  부산광역시 해운대구   오리구이  051-742-8998  \n",
              "8      일반음식점  부산광역시 해운대구     보쌈  051-731-1441  \n",
              "9      일반음식점  부산광역시 해운대구   중화요리  051-730-3903  "
            ],
            "text/html": [
              "\n",
              "  <div id=\"df-39028c3a-66b6-4ab0-8535-d0aa4593a1ba\">\n",
              "    <div class=\"colab-df-container\">\n",
              "      <div>\n",
              "<style scoped>\n",
              "    .dataframe tbody tr th:only-of-type {\n",
              "        vertical-align: middle;\n",
              "    }\n",
              "\n",
              "    .dataframe tbody tr th {\n",
              "        vertical-align: top;\n",
              "    }\n",
              "\n",
              "    .dataframe thead th {\n",
              "        text-align: right;\n",
              "    }\n",
              "</style>\n",
              "<table border=\"1\" class=\"dataframe\">\n",
              "  <thead>\n",
              "    <tr style=\"text-align: right;\">\n",
              "      <th></th>\n",
              "      <th>addrJibun</th>\n",
              "      <th>addrRoad</th>\n",
              "      <th>bsnsCond</th>\n",
              "      <th>bsnsNm</th>\n",
              "      <th>bsnsSector</th>\n",
              "      <th>gugun</th>\n",
              "      <th>menu</th>\n",
              "      <th>tel</th>\n",
              "    </tr>\n",
              "  </thead>\n",
              "  <tbody>\n",
              "    <tr>\n",
              "      <th>0</th>\n",
              "      <td>부산광역시 해운대구 중동 1225-5</td>\n",
              "      <td>부산광역시 해운대구 해운대해변로 329-2 (중동, 2,3층)</td>\n",
              "      <td>복어취급</td>\n",
              "      <td>초원복국</td>\n",
              "      <td>일반음식점</td>\n",
              "      <td>부산광역시 해운대구</td>\n",
              "      <td>복국</td>\n",
              "      <td>051-743-5291</td>\n",
              "    </tr>\n",
              "    <tr>\n",
              "      <th>1</th>\n",
              "      <td>부산광역시 해운대구 중동 1394-65</td>\n",
              "      <td>부산광역시 해운대구 중동1로43번길 23 (중동, 1~2층)</td>\n",
              "      <td>복어취급</td>\n",
              "      <td>금수복국</td>\n",
              "      <td>일반음식점</td>\n",
              "      <td>부산광역시 해운대구</td>\n",
              "      <td>복국</td>\n",
              "      <td>051-742-3600</td>\n",
              "    </tr>\n",
              "    <tr>\n",
              "      <th>2</th>\n",
              "      <td>부산광역시 해운대구 중동 1394-64</td>\n",
              "      <td>부산광역시 해운대구 중동2로 5 (중동, 1층)</td>\n",
              "      <td>한식</td>\n",
              "      <td>기장식당</td>\n",
              "      <td>일반음식점</td>\n",
              "      <td>부산광역시 해운대구</td>\n",
              "      <td>가자미찌개</td>\n",
              "      <td>051-743-4944</td>\n",
              "    </tr>\n",
              "    <tr>\n",
              "      <th>3</th>\n",
              "      <td>부산광역시 해운대구 우동 1458</td>\n",
              "      <td>부산광역시 해운대구 센텀중앙로 97(재송동, 센텀스카이비즈 지하1층 C-B 107호</td>\n",
              "      <td>한식</td>\n",
              "      <td>남도</td>\n",
              "      <td>일반음식점</td>\n",
              "      <td>부산광역시 해운대구</td>\n",
              "      <td>고등어구이</td>\n",
              "      <td>051-905-9292</td>\n",
              "    </tr>\n",
              "    <tr>\n",
              "      <th>4</th>\n",
              "      <td>부산광역시 해운대구 반여동 870-1</td>\n",
              "      <td>부산광역시 해운대구 선수촌로 184 (반여동, 지상1층)</td>\n",
              "      <td>탕류(보신용)</td>\n",
              "      <td>남해돼지국밥</td>\n",
              "      <td>일반음식점</td>\n",
              "      <td>부산광역시 해운대구</td>\n",
              "      <td>국밥류</td>\n",
              "      <td>051-523-0468</td>\n",
              "    </tr>\n",
              "    <tr>\n",
              "      <th>5</th>\n",
              "      <td>부산광역시 해운대구 중동 1318-5</td>\n",
              "      <td>부산광역시 해운대구 좌동로10번길 21 (중동, 지상2층)</td>\n",
              "      <td>일식</td>\n",
              "      <td>덴포라</td>\n",
              "      <td>일반음식점</td>\n",
              "      <td>부산광역시 해운대구</td>\n",
              "      <td>바다가재</td>\n",
              "      <td>051-742-0633</td>\n",
              "    </tr>\n",
              "    <tr>\n",
              "      <th>6</th>\n",
              "      <td>부산광역시 해운대구 우동 1435</td>\n",
              "      <td>부산광역시 해운대구 마린시티3로 23 (우동, 벽산e오렌지상가 320호 - 325호 )</td>\n",
              "      <td>한식</td>\n",
              "      <td>동백삼계탕</td>\n",
              "      <td>일반음식점</td>\n",
              "      <td>부산광역시 해운대구</td>\n",
              "      <td>삼계탕</td>\n",
              "      <td>051-900-9933</td>\n",
              "    </tr>\n",
              "    <tr>\n",
              "      <th>7</th>\n",
              "      <td>부산광역시 해운대구 우동 1072-38</td>\n",
              "      <td>부산광역시 해운대구 해운대로469번길 142 (우동)</td>\n",
              "      <td>한식</td>\n",
              "      <td>수비가든</td>\n",
              "      <td>일반음식점</td>\n",
              "      <td>부산광역시 해운대구</td>\n",
              "      <td>오리구이</td>\n",
              "      <td>051-742-8998</td>\n",
              "    </tr>\n",
              "    <tr>\n",
              "      <th>8</th>\n",
              "      <td>부산광역시 해운대구 중동 1380-4</td>\n",
              "      <td>부산광역시 해운대구 구남로29번길 35 (중동, 2층)</td>\n",
              "      <td>한식</td>\n",
              "      <td>신토불이보쌈</td>\n",
              "      <td>일반음식점</td>\n",
              "      <td>부산광역시 해운대구</td>\n",
              "      <td>보쌈</td>\n",
              "      <td>051-731-1441</td>\n",
              "    </tr>\n",
              "    <tr>\n",
              "      <th>9</th>\n",
              "      <td>부산광역시 해운대구 우동 1496 롯데백화점센텀시티점</td>\n",
              "      <td>부산광역시 해운대구 센텀남대로 59 (우동, 롯데백화점센텀시티점6층)</td>\n",
              "      <td>중국식</td>\n",
              "      <td>얌차이나</td>\n",
              "      <td>일반음식점</td>\n",
              "      <td>부산광역시 해운대구</td>\n",
              "      <td>중화요리</td>\n",
              "      <td>051-730-3903</td>\n",
              "    </tr>\n",
              "  </tbody>\n",
              "</table>\n",
              "</div>\n",
              "      <button class=\"colab-df-convert\" onclick=\"convertToInteractive('df-39028c3a-66b6-4ab0-8535-d0aa4593a1ba')\"\n",
              "              title=\"Convert this dataframe to an interactive table.\"\n",
              "              style=\"display:none;\">\n",
              "        \n",
              "  <svg xmlns=\"http://www.w3.org/2000/svg\" height=\"24px\"viewBox=\"0 0 24 24\"\n",
              "       width=\"24px\">\n",
              "    <path d=\"M0 0h24v24H0V0z\" fill=\"none\"/>\n",
              "    <path d=\"M18.56 5.44l.94 2.06.94-2.06 2.06-.94-2.06-.94-.94-2.06-.94 2.06-2.06.94zm-11 1L8.5 8.5l.94-2.06 2.06-.94-2.06-.94L8.5 2.5l-.94 2.06-2.06.94zm10 10l.94 2.06.94-2.06 2.06-.94-2.06-.94-.94-2.06-.94 2.06-2.06.94z\"/><path d=\"M17.41 7.96l-1.37-1.37c-.4-.4-.92-.59-1.43-.59-.52 0-1.04.2-1.43.59L10.3 9.45l-7.72 7.72c-.78.78-.78 2.05 0 2.83L4 21.41c.39.39.9.59 1.41.59.51 0 1.02-.2 1.41-.59l7.78-7.78 2.81-2.81c.8-.78.8-2.07 0-2.86zM5.41 20L4 18.59l7.72-7.72 1.47 1.35L5.41 20z\"/>\n",
              "  </svg>\n",
              "      </button>\n",
              "      \n",
              "  <style>\n",
              "    .colab-df-container {\n",
              "      display:flex;\n",
              "      flex-wrap:wrap;\n",
              "      gap: 12px;\n",
              "    }\n",
              "\n",
              "    .colab-df-convert {\n",
              "      background-color: #E8F0FE;\n",
              "      border: none;\n",
              "      border-radius: 50%;\n",
              "      cursor: pointer;\n",
              "      display: none;\n",
              "      fill: #1967D2;\n",
              "      height: 32px;\n",
              "      padding: 0 0 0 0;\n",
              "      width: 32px;\n",
              "    }\n",
              "\n",
              "    .colab-df-convert:hover {\n",
              "      background-color: #E2EBFA;\n",
              "      box-shadow: 0px 1px 2px rgba(60, 64, 67, 0.3), 0px 1px 3px 1px rgba(60, 64, 67, 0.15);\n",
              "      fill: #174EA6;\n",
              "    }\n",
              "\n",
              "    [theme=dark] .colab-df-convert {\n",
              "      background-color: #3B4455;\n",
              "      fill: #D2E3FC;\n",
              "    }\n",
              "\n",
              "    [theme=dark] .colab-df-convert:hover {\n",
              "      background-color: #434B5C;\n",
              "      box-shadow: 0px 1px 3px 1px rgba(0, 0, 0, 0.15);\n",
              "      filter: drop-shadow(0px 1px 2px rgba(0, 0, 0, 0.3));\n",
              "      fill: #FFFFFF;\n",
              "    }\n",
              "  </style>\n",
              "\n",
              "      <script>\n",
              "        const buttonEl =\n",
              "          document.querySelector('#df-39028c3a-66b6-4ab0-8535-d0aa4593a1ba button.colab-df-convert');\n",
              "        buttonEl.style.display =\n",
              "          google.colab.kernel.accessAllowed ? 'block' : 'none';\n",
              "\n",
              "        async function convertToInteractive(key) {\n",
              "          const element = document.querySelector('#df-39028c3a-66b6-4ab0-8535-d0aa4593a1ba');\n",
              "          const dataTable =\n",
              "            await google.colab.kernel.invokeFunction('convertToInteractive',\n",
              "                                                     [key], {});\n",
              "          if (!dataTable) return;\n",
              "\n",
              "          const docLinkHtml = 'Like what you see? Visit the ' +\n",
              "            '<a target=\"_blank\" href=https://colab.research.google.com/notebooks/data_table.ipynb>data table notebook</a>'\n",
              "            + ' to learn more about interactive tables.';\n",
              "          element.innerHTML = '';\n",
              "          dataTable['output_type'] = 'display_data';\n",
              "          await google.colab.output.renderOutput(dataTable, element);\n",
              "          const docLink = document.createElement('div');\n",
              "          docLink.innerHTML = docLinkHtml;\n",
              "          element.appendChild(docLink);\n",
              "        }\n",
              "      </script>\n",
              "    </div>\n",
              "  </div>\n",
              "  "
            ]
          },
          "metadata": {},
          "execution_count": 17
        }
      ]
    },
    {
      "cell_type": "code",
      "source": [
        "def test(sidoName):\n",
        "  URL = ('http://apis.data.go.kr/B552584/ArpltnStatsSvc/'\n",
        "      'getCtprvnMesureSidoLIst?'\n",
        "      'sidoName='+sidoName+\n",
        "      '&searchCondition=hour'\n",
        "      '&pageNo=1'\n",
        "      '&numOfRows=100'\n",
        "      '&returnType=json'\n",
        "      '&serviceKey=miH%2BZXg85lQy4%2FkmhffvygXDIFiTwisriSLxtyECSzw6hxTVK7yI8QKIOc7mP7LEqCnhBGuj6iW1gZW65dum7A%3D%3D')\n",
        "  \n",
        "  response = requests.get(URL)\n",
        "  r = response.json()\n",
        "  items = r['response']['body']['items']\n",
        "\n",
        "  cityName = [item['cityName'] for item in items]\n",
        "  pm10Value = [item['pm10Value'] for item in items]\n",
        "  pm25Value = [item['pm25Value'] for item in items]\n",
        "  so2Value = [item['so2Value'] for item in items]\n",
        "  coValue = [item['coValue'] for item in items]\n",
        "  o3Value = [item['o3Value'] for item in items]\n",
        "  no2Value = [item['no2Value'] for item in items]\n",
        "\n",
        "  cityName = pd.Series(cityName)\n",
        "  pm10Value = pd.Series(pm10Value)   \n",
        "  pm25Value = pd.Series(pm25Value)\n",
        "  so2Value = pd.Series(so2Value)\n",
        "  coValue = pd.Series(coValue)\n",
        "  o3Value = pd.Series(o3Value)\n",
        "  no2Value = pd.Series(no2Value)\n",
        "\n",
        "  df = pd.DataFrame({ 'cityName': cityName, 'pm10Value': pm10Value, 'pm25Value': pm25Value, 'so2Value': so2Value, 'coValue': coValue, 'o3Value': o3Value, 'no2Value': no2Value})\n",
        "  return df"
      ],
      "metadata": {
        "id": "xa2Gb_qsm_G5"
      },
      "execution_count": null,
      "outputs": []
    },
    {
      "cell_type": "code",
      "source": [
        "iface = gr.Interface(test, gr.inputs.Dropdown(['서울', '부산', '대구', '인천', '광주', '대전', '울산', '경기', '강원', '충북', '충남', '전북', '전남', '경북', '경남', '제주', '세종']), outputs=['dataframe'])\n",
        "iface.launch(debug=True)"
      ],
      "metadata": {
        "id": "kxORJVPOnDSP",
        "outputId": "f394f8de-539c-4e16-db4b-1bd253f38645",
        "colab": {
          "base_uri": "https://localhost:8080/",
          "height": 591
        }
      },
      "execution_count": null,
      "outputs": [
        {
          "output_type": "stream",
          "name": "stdout",
          "text": [
            "Colab notebook detected. This cell will run indefinitely so that you can see errors and logs. To turn off, set debug=False in launch().\n",
            "Running on public URL: https://14609.gradio.app\n",
            "\n",
            "This share link expires in 72 hours. For free permanent hosting, check out Spaces (https://huggingface.co/spaces)\n"
          ]
        },
        {
          "output_type": "display_data",
          "data": {
            "text/plain": [
              "<IPython.lib.display.IFrame at 0x7f7106ad3ed0>"
            ],
            "text/html": [
              "\n",
              "        <iframe\n",
              "            width=\"900\"\n",
              "            height=\"500\"\n",
              "            src=\"https://14609.gradio.app\"\n",
              "            frameborder=\"0\"\n",
              "            allowfullscreen\n",
              "        ></iframe>\n",
              "        "
            ]
          },
          "metadata": {}
        }
      ]
    }
  ]
}