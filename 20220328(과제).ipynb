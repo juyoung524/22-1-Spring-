{
  "nbformat": 4,
  "nbformat_minor": 0,
  "metadata": {
    "colab": {
      "name": "requests_gradio.ipynb",
      "provenance": [],
      "include_colab_link": true
    },
    "kernelspec": {
      "name": "python3",
      "display_name": "Python 3"
    },
    "language_info": {
      "name": "python"
    }
  },
  "cells": [
    {
      "cell_type": "markdown",
      "metadata": {
        "id": "view-in-github",
        "colab_type": "text"
      },
      "source": [
        "<a href=\"https://colab.research.google.com/github/juyoung524/22-1-Spring-/blob/main/20220328(%EA%B3%BC%EC%A0%9C).ipynb\" target=\"_parent\"><img src=\"https://colab.research.google.com/assets/colab-badge.svg\" alt=\"Open In Colab\"/></a>"
      ]
    },
    {
      "cell_type": "code",
      "source": [
        "!pip install gradio\n",
        "import gradio as gr\n",
        "import requests\n",
        "import pandas as pd"
      ],
      "metadata": {
        "id": "8eZHGJhmqd9a"
      },
      "execution_count": null,
      "outputs": []
    },
    {
      "cell_type": "code",
      "source": [
        "URL = ('http://apis.data.go.kr/6260000/BusanTblFnrstrnStusService/'\n",
        "'getTblFnrstrnStusInfo?'\n",
        "'serviceKey=JLSeGuX9n3W0EMfx1ajNjY3tb7UDmE0ktk7OnePFxnckUei%2FYuA8GEI8omQVAWXSPwvWy09fPyxyU13K5XnMVw%3D%3D'\n",
        "'&numOfRows=10&pageNo=1'\n",
        "'&resultType=json')\n",
        "response = requests.get(URL)"
      ],
      "metadata": {
        "id": "lHHEwqpyJF7r"
      },
      "execution_count": 11,
      "outputs": []
    },
    {
      "cell_type": "code",
      "source": [
        "response"
      ],
      "metadata": {
        "id": "1GOEHunQs6HO",
        "outputId": "af99f73d-6851-468a-e340-97dcf9648e64",
        "colab": {
          "base_uri": "https://localhost:8080/"
        }
      },
      "execution_count": 12,
      "outputs": [
        {
          "output_type": "execute_result",
          "data": {
            "text/plain": [
              "<Response [200]>"
            ]
          },
          "metadata": {},
          "execution_count": 12
        }
      ]
    },
    {
      "cell_type": "markdown",
      "source": [
        "#### http://jsonviewer.stack.hu/ (copy json here to view json)"
      ],
      "metadata": {
        "id": "faIENRyFfnY1"
      }
    },
    {
      "cell_type": "code",
      "source": [
        "r = response.json()\n",
        "r"
      ],
      "metadata": {
        "id": "JcLKwg0foR9p",
        "outputId": "56e4f7a2-f4df-4ae7-ccef-22006fe6bc3b",
        "colab": {
          "base_uri": "https://localhost:8080/"
        }
      },
      "execution_count": 13,
      "outputs": [
        {
          "output_type": "execute_result",
          "data": {
            "text/plain": [
              "{'getTblFnrstrnStusInfo': {'header': {'code': '00', 'message': 'NORMAL_CODE'},\n",
              "  'item': [{'addrJibun': '부산광역시 해운대구 중동 1225-5',\n",
              "    'addrRoad': '부산광역시 해운대구 해운대해변로 329-2 (중동, 2,3층)',\n",
              "    'bsnsCond': '복어취급',\n",
              "    'bsnsNm': '초원복국',\n",
              "    'bsnsSector': '일반음식점',\n",
              "    'dataDay': '2020-04-28',\n",
              "    'gugun': '부산광역시 해운대구',\n",
              "    'lat': '35.16288958',\n",
              "    'lng': '129.1659385',\n",
              "    'menu': '복국',\n",
              "    'ovrdDate': '2020-11-26',\n",
              "    'specDate': '2020-11-26',\n",
              "    'tel': '051-743-5291'},\n",
              "   {'addrJibun': '부산광역시 해운대구 중동 1394-65',\n",
              "    'addrRoad': '부산광역시 해운대구 중동1로43번길 23 (중동, 1~2층)',\n",
              "    'bsnsCond': '복어취급',\n",
              "    'bsnsNm': '금수복국',\n",
              "    'bsnsSector': '일반음식점',\n",
              "    'dataDay': '2020-04-28',\n",
              "    'gugun': '부산광역시 해운대구',\n",
              "    'lat': '35.16241675',\n",
              "    'lng': '129.1644938',\n",
              "    'menu': '복국',\n",
              "    'ovrdDate': '2020-11-26',\n",
              "    'specDate': '2020-11-26',\n",
              "    'tel': '051-742-3600'},\n",
              "   {'addrJibun': '부산광역시 해운대구 중동 1394-64',\n",
              "    'addrRoad': '부산광역시 해운대구 중동2로 5 (중동, 1층)',\n",
              "    'bsnsCond': '한식',\n",
              "    'bsnsNm': '기장식당',\n",
              "    'bsnsSector': '일반음식점',\n",
              "    'dataDay': '2020-04-28',\n",
              "    'gugun': '부산광역시 해운대구',\n",
              "    'lat': '35.16254039',\n",
              "    'lng': '129.164759',\n",
              "    'menu': '가자미찌개',\n",
              "    'ovrdDate': '2020-11-26',\n",
              "    'specDate': '2020-11-26',\n",
              "    'tel': '051-743-4944'},\n",
              "   {'addrJibun': '부산광역시 해운대구 우동 1458',\n",
              "    'addrRoad': '부산광역시 해운대구 센텀중앙로 97(재송동, 센텀스카이비즈 지하1층 C-B 107호',\n",
              "    'bsnsCond': '한식',\n",
              "    'bsnsNm': '남도',\n",
              "    'bsnsSector': '일반음식점',\n",
              "    'dataDay': '2020-04-28',\n",
              "    'gugun': '부산광역시 해운대구',\n",
              "    'lat': '35.1751303',\n",
              "    'lng': '129.124875',\n",
              "    'menu': '고등어구이',\n",
              "    'ovrdDate': '2020-11-26',\n",
              "    'specDate': '2020-11-26',\n",
              "    'tel': '051-905-9292'},\n",
              "   {'addrJibun': '부산광역시 해운대구 반여동 870-1',\n",
              "    'addrRoad': '부산광역시 해운대구 선수촌로 184 (반여동, 지상1층)',\n",
              "    'bsnsCond': '탕류(보신용)',\n",
              "    'bsnsNm': '남해돼지국밥',\n",
              "    'bsnsSector': '일반음식점',\n",
              "    'dataDay': '2020-04-28',\n",
              "    'gugun': '부산광역시 해운대구',\n",
              "    'lat': '35.20898505',\n",
              "    'lng': '129.1241611',\n",
              "    'menu': '국밥류',\n",
              "    'ovrdDate': '2020-11-26',\n",
              "    'specDate': '2020-11-26',\n",
              "    'tel': '051-523-0468'},\n",
              "   {'addrJibun': '부산광역시 해운대구 중동 1318-5',\n",
              "    'addrRoad': '부산광역시 해운대구 좌동로10번길 21 (중동, 지상2층)',\n",
              "    'bsnsCond': '일식',\n",
              "    'bsnsNm': '덴포라',\n",
              "    'bsnsSector': '일반음식점',\n",
              "    'dataDay': '2020-04-28',\n",
              "    'gugun': '부산광역시 해운대구',\n",
              "    'lat': '35.16735613',\n",
              "    'lng': '129.1701187',\n",
              "    'menu': '바다가재',\n",
              "    'ovrdDate': '2020-11-26',\n",
              "    'specDate': '2020-11-26',\n",
              "    'tel': '051-742-0633'},\n",
              "   {'addrJibun': '부산광역시 해운대구 우동 1435 ',\n",
              "    'addrRoad': '부산광역시 해운대구 마린시티3로 23 (우동, 벽산e오렌지상가 320호 - 325호 )',\n",
              "    'bsnsCond': '한식',\n",
              "    'bsnsNm': '동백삼계탕',\n",
              "    'bsnsSector': '일반음식점',\n",
              "    'dataDay': '2020-04-28',\n",
              "    'gugun': '부산광역시 해운대구',\n",
              "    'lat': '35.15664443',\n",
              "    'lng': '129.1469274',\n",
              "    'menu': '삼계탕',\n",
              "    'ovrdDate': '2020-11-26',\n",
              "    'specDate': '2020-11-26',\n",
              "    'tel': '051-900-9933'},\n",
              "   {'addrJibun': '부산광역시 해운대구 우동 1072-38',\n",
              "    'addrRoad': '부산광역시 해운대구 해운대로469번길 142 (우동)',\n",
              "    'bsnsCond': '한식',\n",
              "    'bsnsNm': '수비가든',\n",
              "    'bsnsSector': '일반음식점',\n",
              "    'dataDay': '2020-04-28',\n",
              "    'gugun': '부산광역시 해운대구',\n",
              "    'lat': '35.16869453',\n",
              "    'lng': '129.1413557',\n",
              "    'menu': '오리구이',\n",
              "    'ovrdDate': '2020-11-26',\n",
              "    'specDate': '2020-11-26',\n",
              "    'tel': '051-742-8998'},\n",
              "   {'addrJibun': '부산광역시 해운대구 중동 1380-4',\n",
              "    'addrRoad': '부산광역시 해운대구 구남로29번길 35 (중동, 2층)',\n",
              "    'bsnsCond': '한식',\n",
              "    'bsnsNm': '신토불이보쌈',\n",
              "    'bsnsSector': '일반음식점',\n",
              "    'dataDay': '2020-04-28',\n",
              "    'gugun': '부산광역시 해운대구',\n",
              "    'lat': '35.16281775',\n",
              "    'lng': '129.1621616',\n",
              "    'menu': '보쌈',\n",
              "    'ovrdDate': '2020-11-26',\n",
              "    'specDate': '2020-11-26',\n",
              "    'tel': '051-731-1441'},\n",
              "   {'addrJibun': '부산광역시 해운대구 우동 1496 롯데백화점센텀시티점',\n",
              "    'addrRoad': '부산광역시 해운대구 센텀남대로 59 (우동, 롯데백화점센텀시티점6층)',\n",
              "    'bsnsCond': '중국식',\n",
              "    'bsnsNm': '얌차이나',\n",
              "    'bsnsSector': '일반음식점',\n",
              "    'dataDay': '2020-04-28',\n",
              "    'gugun': '부산광역시 해운대구',\n",
              "    'lat': '35.16985471',\n",
              "    'lng': '129.1310752',\n",
              "    'menu': '중화요리',\n",
              "    'ovrdDate': '2020-11-26',\n",
              "    'specDate': '2020-11-26',\n",
              "    'tel': '051-730-3903'}],\n",
              "  'numOfRows': 10,\n",
              "  'pageNo': 1,\n",
              "  'totalCount': 557}}"
            ]
          },
          "metadata": {},
          "execution_count": 13
        }
      ]
    },
    {
      "cell_type": "code",
      "source": [
        "print(type(r))"
      ],
      "metadata": {
        "id": "ZT7vAKwkAC9N",
        "outputId": "40c4b633-9909-4a5d-ebba-5ce99e29ab1f",
        "colab": {
          "base_uri": "https://localhost:8080/"
        }
      },
      "execution_count": 14,
      "outputs": [
        {
          "output_type": "stream",
          "name": "stdout",
          "text": [
            "<class 'dict'>\n"
          ]
        }
      ]
    },
    {
      "cell_type": "code",
      "source": [
        "items = r['getTblFnrstrnStusInfo']['item']\n",
        "items"
      ],
      "metadata": {
        "id": "X-4qnZtFAaWT"
      },
      "execution_count": null,
      "outputs": []
    },
    {
      "cell_type": "markdown",
      "source": [
        "List Comprehension 적극적으로 이용"
      ],
      "metadata": {
        "id": "xb3L7UjBEQJA"
      }
    },
    {
      "cell_type": "code",
      "source": [
        "addrJibun = [item['addrJibun'] for item in items]\n",
        "addrRoad = [item['addrRoad'] for item in items]\n",
        "bsnsCond = [item['bsnsCond'] for item in items]\n",
        "bsnsNm = [item['bsnsNm'] for item in items]\n",
        "bsnsSector = [item['bsnsSector'] for item in items]\n",
        "gugun = [item['gugun'] for item in items]\n",
        "menu = [item['menu'] for item in items]\n",
        "tel = [item['tel'] for item in items]\n",
        "\n",
        "addrJibun = pd.Series(addrJibun)\n",
        "addrRoad = pd.Series(addrRoad)   \n",
        "bsnsCond = pd.Series(bsnsCond)\n",
        "bsnsNm = pd.Series(bsnsNm)\n",
        "bsnsSector = pd.Series(bsnsSector)\n",
        "gugun = pd.Series(gugun)\n",
        "menu = pd.Series(menu)\n",
        "tel = pd.Series(tel)\n",
        "\n",
        "df = pd.DataFrame({ 'addrJibun': addrJibun, 'addrRoad': addrRoad, 'bsnsCond': bsnsCond, 'bsnsNm': bsnsNm, 'bsnsSector': bsnsSector, 'gugun': gugun, 'menu': menu, 'tel': tel})"
      ],
      "metadata": {
        "id": "W8lA0-IzE55W"
      },
      "execution_count": 16,
      "outputs": []
    },
    {
      "cell_type": "code",
      "source": [
        "df"
      ],
      "metadata": {
        "id": "JszqRycyFoky",
        "outputId": "bf39b3c0-146b-4d1c-e9b3-1a74de13900e",
        "colab": {
          "base_uri": "https://localhost:8080/",
          "height": 580
        }
      },
      "execution_count": 17,
      "outputs": [
        {
          "output_type": "execute_result",
          "data": {
            "text/plain": [
              "                       addrJibun  \\\n",
              "0           부산광역시 해운대구 중동 1225-5   \n",
              "1          부산광역시 해운대구 중동 1394-65   \n",
              "2          부산광역시 해운대구 중동 1394-64   \n",
              "3             부산광역시 해운대구 우동 1458   \n",
              "4           부산광역시 해운대구 반여동 870-1   \n",
              "5           부산광역시 해운대구 중동 1318-5   \n",
              "6            부산광역시 해운대구 우동 1435    \n",
              "7          부산광역시 해운대구 우동 1072-38   \n",
              "8           부산광역시 해운대구 중동 1380-4   \n",
              "9  부산광역시 해운대구 우동 1496 롯데백화점센텀시티점   \n",
              "\n",
              "                                           addrRoad bsnsCond  bsnsNm  \\\n",
              "0                부산광역시 해운대구 해운대해변로 329-2 (중동, 2,3층)     복어취급    초원복국   \n",
              "1                 부산광역시 해운대구 중동1로43번길 23 (중동, 1~2층)     복어취급    금수복국   \n",
              "2                        부산광역시 해운대구 중동2로 5 (중동, 1층)       한식    기장식당   \n",
              "3    부산광역시 해운대구 센텀중앙로 97(재송동, 센텀스카이비즈 지하1층 C-B 107호       한식      남도   \n",
              "4                   부산광역시 해운대구 선수촌로 184 (반여동, 지상1층)  탕류(보신용)  남해돼지국밥   \n",
              "5                  부산광역시 해운대구 좌동로10번길 21 (중동, 지상2층)       일식     덴포라   \n",
              "6  부산광역시 해운대구 마린시티3로 23 (우동, 벽산e오렌지상가 320호 - 325호 )       한식   동백삼계탕   \n",
              "7                     부산광역시 해운대구 해운대로469번길 142 (우동)       한식    수비가든   \n",
              "8                    부산광역시 해운대구 구남로29번길 35 (중동, 2층)       한식  신토불이보쌈   \n",
              "9            부산광역시 해운대구 센텀남대로 59 (우동, 롯데백화점센텀시티점6층)      중국식    얌차이나   \n",
              "\n",
              "  bsnsSector       gugun   menu           tel  \n",
              "0      일반음식점  부산광역시 해운대구     복국  051-743-5291  \n",
              "1      일반음식점  부산광역시 해운대구     복국  051-742-3600  \n",
              "2      일반음식점  부산광역시 해운대구  가자미찌개  051-743-4944  \n",
              "3      일반음식점  부산광역시 해운대구  고등어구이  051-905-9292  \n",
              "4      일반음식점  부산광역시 해운대구    국밥류  051-523-0468  \n",
              "5      일반음식점  부산광역시 해운대구   바다가재  051-742-0633  \n",
              "6      일반음식점  부산광역시 해운대구    삼계탕  051-900-9933  \n",
              "7      일반음식점  부산광역시 해운대구   오리구이  051-742-8998  \n",
              "8      일반음식점  부산광역시 해운대구     보쌈  051-731-1441  \n",
              "9      일반음식점  부산광역시 해운대구   중화요리  051-730-3903  "
            ],
            "text/html": [
              "\n",
              "  <div id=\"df-93232ef2-f768-470c-aa0f-189a4ceed47b\">\n",
              "    <div class=\"colab-df-container\">\n",
              "      <div>\n",
              "<style scoped>\n",
              "    .dataframe tbody tr th:only-of-type {\n",
              "        vertical-align: middle;\n",
              "    }\n",
              "\n",
              "    .dataframe tbody tr th {\n",
              "        vertical-align: top;\n",
              "    }\n",
              "\n",
              "    .dataframe thead th {\n",
              "        text-align: right;\n",
              "    }\n",
              "</style>\n",
              "<table border=\"1\" class=\"dataframe\">\n",
              "  <thead>\n",
              "    <tr style=\"text-align: right;\">\n",
              "      <th></th>\n",
              "      <th>addrJibun</th>\n",
              "      <th>addrRoad</th>\n",
              "      <th>bsnsCond</th>\n",
              "      <th>bsnsNm</th>\n",
              "      <th>bsnsSector</th>\n",
              "      <th>gugun</th>\n",
              "      <th>menu</th>\n",
              "      <th>tel</th>\n",
              "    </tr>\n",
              "  </thead>\n",
              "  <tbody>\n",
              "    <tr>\n",
              "      <th>0</th>\n",
              "      <td>부산광역시 해운대구 중동 1225-5</td>\n",
              "      <td>부산광역시 해운대구 해운대해변로 329-2 (중동, 2,3층)</td>\n",
              "      <td>복어취급</td>\n",
              "      <td>초원복국</td>\n",
              "      <td>일반음식점</td>\n",
              "      <td>부산광역시 해운대구</td>\n",
              "      <td>복국</td>\n",
              "      <td>051-743-5291</td>\n",
              "    </tr>\n",
              "    <tr>\n",
              "      <th>1</th>\n",
              "      <td>부산광역시 해운대구 중동 1394-65</td>\n",
              "      <td>부산광역시 해운대구 중동1로43번길 23 (중동, 1~2층)</td>\n",
              "      <td>복어취급</td>\n",
              "      <td>금수복국</td>\n",
              "      <td>일반음식점</td>\n",
              "      <td>부산광역시 해운대구</td>\n",
              "      <td>복국</td>\n",
              "      <td>051-742-3600</td>\n",
              "    </tr>\n",
              "    <tr>\n",
              "      <th>2</th>\n",
              "      <td>부산광역시 해운대구 중동 1394-64</td>\n",
              "      <td>부산광역시 해운대구 중동2로 5 (중동, 1층)</td>\n",
              "      <td>한식</td>\n",
              "      <td>기장식당</td>\n",
              "      <td>일반음식점</td>\n",
              "      <td>부산광역시 해운대구</td>\n",
              "      <td>가자미찌개</td>\n",
              "      <td>051-743-4944</td>\n",
              "    </tr>\n",
              "    <tr>\n",
              "      <th>3</th>\n",
              "      <td>부산광역시 해운대구 우동 1458</td>\n",
              "      <td>부산광역시 해운대구 센텀중앙로 97(재송동, 센텀스카이비즈 지하1층 C-B 107호</td>\n",
              "      <td>한식</td>\n",
              "      <td>남도</td>\n",
              "      <td>일반음식점</td>\n",
              "      <td>부산광역시 해운대구</td>\n",
              "      <td>고등어구이</td>\n",
              "      <td>051-905-9292</td>\n",
              "    </tr>\n",
              "    <tr>\n",
              "      <th>4</th>\n",
              "      <td>부산광역시 해운대구 반여동 870-1</td>\n",
              "      <td>부산광역시 해운대구 선수촌로 184 (반여동, 지상1층)</td>\n",
              "      <td>탕류(보신용)</td>\n",
              "      <td>남해돼지국밥</td>\n",
              "      <td>일반음식점</td>\n",
              "      <td>부산광역시 해운대구</td>\n",
              "      <td>국밥류</td>\n",
              "      <td>051-523-0468</td>\n",
              "    </tr>\n",
              "    <tr>\n",
              "      <th>5</th>\n",
              "      <td>부산광역시 해운대구 중동 1318-5</td>\n",
              "      <td>부산광역시 해운대구 좌동로10번길 21 (중동, 지상2층)</td>\n",
              "      <td>일식</td>\n",
              "      <td>덴포라</td>\n",
              "      <td>일반음식점</td>\n",
              "      <td>부산광역시 해운대구</td>\n",
              "      <td>바다가재</td>\n",
              "      <td>051-742-0633</td>\n",
              "    </tr>\n",
              "    <tr>\n",
              "      <th>6</th>\n",
              "      <td>부산광역시 해운대구 우동 1435</td>\n",
              "      <td>부산광역시 해운대구 마린시티3로 23 (우동, 벽산e오렌지상가 320호 - 325호 )</td>\n",
              "      <td>한식</td>\n",
              "      <td>동백삼계탕</td>\n",
              "      <td>일반음식점</td>\n",
              "      <td>부산광역시 해운대구</td>\n",
              "      <td>삼계탕</td>\n",
              "      <td>051-900-9933</td>\n",
              "    </tr>\n",
              "    <tr>\n",
              "      <th>7</th>\n",
              "      <td>부산광역시 해운대구 우동 1072-38</td>\n",
              "      <td>부산광역시 해운대구 해운대로469번길 142 (우동)</td>\n",
              "      <td>한식</td>\n",
              "      <td>수비가든</td>\n",
              "      <td>일반음식점</td>\n",
              "      <td>부산광역시 해운대구</td>\n",
              "      <td>오리구이</td>\n",
              "      <td>051-742-8998</td>\n",
              "    </tr>\n",
              "    <tr>\n",
              "      <th>8</th>\n",
              "      <td>부산광역시 해운대구 중동 1380-4</td>\n",
              "      <td>부산광역시 해운대구 구남로29번길 35 (중동, 2층)</td>\n",
              "      <td>한식</td>\n",
              "      <td>신토불이보쌈</td>\n",
              "      <td>일반음식점</td>\n",
              "      <td>부산광역시 해운대구</td>\n",
              "      <td>보쌈</td>\n",
              "      <td>051-731-1441</td>\n",
              "    </tr>\n",
              "    <tr>\n",
              "      <th>9</th>\n",
              "      <td>부산광역시 해운대구 우동 1496 롯데백화점센텀시티점</td>\n",
              "      <td>부산광역시 해운대구 센텀남대로 59 (우동, 롯데백화점센텀시티점6층)</td>\n",
              "      <td>중국식</td>\n",
              "      <td>얌차이나</td>\n",
              "      <td>일반음식점</td>\n",
              "      <td>부산광역시 해운대구</td>\n",
              "      <td>중화요리</td>\n",
              "      <td>051-730-3903</td>\n",
              "    </tr>\n",
              "  </tbody>\n",
              "</table>\n",
              "</div>\n",
              "      <button class=\"colab-df-convert\" onclick=\"convertToInteractive('df-93232ef2-f768-470c-aa0f-189a4ceed47b')\"\n",
              "              title=\"Convert this dataframe to an interactive table.\"\n",
              "              style=\"display:none;\">\n",
              "        \n",
              "  <svg xmlns=\"http://www.w3.org/2000/svg\" height=\"24px\"viewBox=\"0 0 24 24\"\n",
              "       width=\"24px\">\n",
              "    <path d=\"M0 0h24v24H0V0z\" fill=\"none\"/>\n",
              "    <path d=\"M18.56 5.44l.94 2.06.94-2.06 2.06-.94-2.06-.94-.94-2.06-.94 2.06-2.06.94zm-11 1L8.5 8.5l.94-2.06 2.06-.94-2.06-.94L8.5 2.5l-.94 2.06-2.06.94zm10 10l.94 2.06.94-2.06 2.06-.94-2.06-.94-.94-2.06-.94 2.06-2.06.94z\"/><path d=\"M17.41 7.96l-1.37-1.37c-.4-.4-.92-.59-1.43-.59-.52 0-1.04.2-1.43.59L10.3 9.45l-7.72 7.72c-.78.78-.78 2.05 0 2.83L4 21.41c.39.39.9.59 1.41.59.51 0 1.02-.2 1.41-.59l7.78-7.78 2.81-2.81c.8-.78.8-2.07 0-2.86zM5.41 20L4 18.59l7.72-7.72 1.47 1.35L5.41 20z\"/>\n",
              "  </svg>\n",
              "      </button>\n",
              "      \n",
              "  <style>\n",
              "    .colab-df-container {\n",
              "      display:flex;\n",
              "      flex-wrap:wrap;\n",
              "      gap: 12px;\n",
              "    }\n",
              "\n",
              "    .colab-df-convert {\n",
              "      background-color: #E8F0FE;\n",
              "      border: none;\n",
              "      border-radius: 50%;\n",
              "      cursor: pointer;\n",
              "      display: none;\n",
              "      fill: #1967D2;\n",
              "      height: 32px;\n",
              "      padding: 0 0 0 0;\n",
              "      width: 32px;\n",
              "    }\n",
              "\n",
              "    .colab-df-convert:hover {\n",
              "      background-color: #E2EBFA;\n",
              "      box-shadow: 0px 1px 2px rgba(60, 64, 67, 0.3), 0px 1px 3px 1px rgba(60, 64, 67, 0.15);\n",
              "      fill: #174EA6;\n",
              "    }\n",
              "\n",
              "    [theme=dark] .colab-df-convert {\n",
              "      background-color: #3B4455;\n",
              "      fill: #D2E3FC;\n",
              "    }\n",
              "\n",
              "    [theme=dark] .colab-df-convert:hover {\n",
              "      background-color: #434B5C;\n",
              "      box-shadow: 0px 1px 3px 1px rgba(0, 0, 0, 0.15);\n",
              "      filter: drop-shadow(0px 1px 2px rgba(0, 0, 0, 0.3));\n",
              "      fill: #FFFFFF;\n",
              "    }\n",
              "  </style>\n",
              "\n",
              "      <script>\n",
              "        const buttonEl =\n",
              "          document.querySelector('#df-93232ef2-f768-470c-aa0f-189a4ceed47b button.colab-df-convert');\n",
              "        buttonEl.style.display =\n",
              "          google.colab.kernel.accessAllowed ? 'block' : 'none';\n",
              "\n",
              "        async function convertToInteractive(key) {\n",
              "          const element = document.querySelector('#df-93232ef2-f768-470c-aa0f-189a4ceed47b');\n",
              "          const dataTable =\n",
              "            await google.colab.kernel.invokeFunction('convertToInteractive',\n",
              "                                                     [key], {});\n",
              "          if (!dataTable) return;\n",
              "\n",
              "          const docLinkHtml = 'Like what you see? Visit the ' +\n",
              "            '<a target=\"_blank\" href=https://colab.research.google.com/notebooks/data_table.ipynb>data table notebook</a>'\n",
              "            + ' to learn more about interactive tables.';\n",
              "          element.innerHTML = '';\n",
              "          dataTable['output_type'] = 'display_data';\n",
              "          await google.colab.output.renderOutput(dataTable, element);\n",
              "          const docLink = document.createElement('div');\n",
              "          docLink.innerHTML = docLinkHtml;\n",
              "          element.appendChild(docLink);\n",
              "        }\n",
              "      </script>\n",
              "    </div>\n",
              "  </div>\n",
              "  "
            ]
          },
          "metadata": {},
          "execution_count": 17
        }
      ]
    },
    {
      "cell_type": "code",
      "source": [
        "def test(bsnsNm):\n",
        "  URL = ('http://apis.data.go.kr/6260000/BusanTblFnrstrnStusService/'\n",
        "      'getTblFnrstrnStusInfo?'\n",
        "      'serviceKey=JLSeGuX9n3W0EMfx1ajNjY3tb7UDmE0ktk7OnePFxnckUei%2FYuA8GEI8omQVAWXSPwvWy09fPyxyU13K5XnMVw%3D%3D'\n",
        "      '&numOfRows=10&pageNo=1'\n",
        "      '&resultType=json')\n",
        "\n",
        "  response = requests.get(URL)\n",
        "  r = response.json()\n",
        "  items = r['getTblFnrstrnStusInfo']['item']\n",
        "\n",
        "  addrJibun = [item['addrJibun'] for item in items]\n",
        "  addrRoad = [item['addrRoad'] for item in items]\n",
        "  bsnsCond = [item['bsnsCond'] for item in items]\n",
        "  bsnsNm = [item['bsnsNm'] for item in items]\n",
        "  bsnsSector = [item['bsnsSector'] for item in items]\n",
        "  gugun = [item['gugun'] for item in items]\n",
        "  menu = [item['menu'] for item in items]\n",
        "  tel = [item['tel'] for item in items]\n",
        "\n",
        "  addrJibun = pd.Series(addrJibun)\n",
        "  addrRoad = pd.Series(addrRoad)   \n",
        "  bsnsCond = pd.Series(bsnsCond)\n",
        "  bsnsNm = pd.Series(bsnsNm)\n",
        "  bsnsSector = pd.Series(bsnsSector)\n",
        "  gugun = pd.Series(gugun)\n",
        "  menu = pd.Series(menu)\n",
        "  tel = pd.Series(tel)\n",
        "\n",
        "  df = pd.DataFrame({ 'bsnsNm': bsnsNm, 'addrJibun': addrJibun, 'addrRoad': addrRoad, 'bsnsCond': bsnsCond, 'bsnsSector': bsnsSector, 'gugun': gugun, 'menu': menu, 'tel': tel})\n",
        "  return df"
      ],
      "metadata": {
        "id": "xa2Gb_qsm_G5"
      },
      "execution_count": 22,
      "outputs": []
    },
    {
      "cell_type": "code",
      "source": [
        "iface = gr.Interface(test, gr.inputs.Dropdown(['초원복국', '금수복국', '기장식당', '남도', '남해돼지국밥', '덴포라', '동백삼계탕', '수비가든', '신토불이보쌈', '얌차이나']), outputs=['dataframe'])\n",
        "iface.launch(debug=True)"
      ],
      "metadata": {
        "id": "Vkeu08XzgiAE",
        "outputId": "10f32696-508e-4cc0-eaca-d3e5ba538d8e",
        "colab": {
          "base_uri": "https://localhost:8080/",
          "height": 935
        }
      },
      "execution_count": 24,
      "outputs": [
        {
          "output_type": "stream",
          "name": "stdout",
          "text": [
            "Colab notebook detected. This cell will run indefinitely so that you can see errors and logs. To turn off, set debug=False in launch().\n",
            "Running on public URL: https://52792.gradio.app\n",
            "\n",
            "This share link expires in 72 hours. For free permanent hosting, check out Spaces (https://huggingface.co/spaces)\n"
          ]
        },
        {
          "output_type": "display_data",
          "data": {
            "text/plain": [
              "<IPython.lib.display.IFrame at 0x7effce1f2f50>"
            ],
            "text/html": [
              "\n",
              "        <iframe\n",
              "            width=\"900\"\n",
              "            height=\"500\"\n",
              "            src=\"https://52792.gradio.app\"\n",
              "            frameborder=\"0\"\n",
              "            allowfullscreen\n",
              "        ></iframe>\n",
              "        "
            ]
          },
          "metadata": {}
        },
        {
          "output_type": "error",
          "ename": "KeyboardInterrupt",
          "evalue": "ignored",
          "traceback": [
            "\u001b[0;31m---------------------------------------------------------------------------\u001b[0m",
            "\u001b[0;31mKeyboardInterrupt\u001b[0m                         Traceback (most recent call last)",
            "\u001b[0;32m<ipython-input-24-9c555e8917c1>\u001b[0m in \u001b[0;36m<module>\u001b[0;34m()\u001b[0m\n\u001b[1;32m      1\u001b[0m \u001b[0miface\u001b[0m \u001b[0;34m=\u001b[0m \u001b[0mgr\u001b[0m\u001b[0;34m.\u001b[0m\u001b[0mInterface\u001b[0m\u001b[0;34m(\u001b[0m\u001b[0mtest\u001b[0m\u001b[0;34m,\u001b[0m \u001b[0mgr\u001b[0m\u001b[0;34m.\u001b[0m\u001b[0minputs\u001b[0m\u001b[0;34m.\u001b[0m\u001b[0mDropdown\u001b[0m\u001b[0;34m(\u001b[0m\u001b[0;34m[\u001b[0m\u001b[0;34m'초원복국'\u001b[0m\u001b[0;34m,\u001b[0m \u001b[0;34m'금수복국'\u001b[0m\u001b[0;34m,\u001b[0m \u001b[0;34m'기장식당'\u001b[0m\u001b[0;34m,\u001b[0m \u001b[0;34m'남도'\u001b[0m\u001b[0;34m,\u001b[0m \u001b[0;34m'남해돼지국밥'\u001b[0m\u001b[0;34m,\u001b[0m \u001b[0;34m'덴포라'\u001b[0m\u001b[0;34m,\u001b[0m \u001b[0;34m'동백삼계탕'\u001b[0m\u001b[0;34m,\u001b[0m \u001b[0;34m'수비가든'\u001b[0m\u001b[0;34m,\u001b[0m \u001b[0;34m'신토불이보쌈'\u001b[0m\u001b[0;34m,\u001b[0m \u001b[0;34m'얌차이나'\u001b[0m\u001b[0;34m]\u001b[0m\u001b[0;34m)\u001b[0m\u001b[0;34m,\u001b[0m \u001b[0moutputs\u001b[0m\u001b[0;34m=\u001b[0m\u001b[0;34m[\u001b[0m\u001b[0;34m'dataframe'\u001b[0m\u001b[0;34m]\u001b[0m\u001b[0;34m)\u001b[0m\u001b[0;34m\u001b[0m\u001b[0;34m\u001b[0m\u001b[0m\n\u001b[0;32m----> 2\u001b[0;31m \u001b[0miface\u001b[0m\u001b[0;34m.\u001b[0m\u001b[0mlaunch\u001b[0m\u001b[0;34m(\u001b[0m\u001b[0mdebug\u001b[0m\u001b[0;34m=\u001b[0m\u001b[0;32mTrue\u001b[0m\u001b[0;34m)\u001b[0m\u001b[0;34m\u001b[0m\u001b[0;34m\u001b[0m\u001b[0m\n\u001b[0m",
            "\u001b[0;32m/usr/local/lib/python3.7/dist-packages/gradio/interface.py\u001b[0m in \u001b[0;36mlaunch\u001b[0;34m(self, **args)\u001b[0m\n\u001b[1;32m    656\u001b[0m         \u001b[0;32mif\u001b[0m \u001b[0mself\u001b[0m\u001b[0;34m.\u001b[0m\u001b[0mallow_flagging\u001b[0m \u001b[0;34m!=\u001b[0m \u001b[0;34m\"never\"\u001b[0m\u001b[0;34m:\u001b[0m\u001b[0;34m\u001b[0m\u001b[0;34m\u001b[0m\u001b[0m\n\u001b[1;32m    657\u001b[0m             \u001b[0mself\u001b[0m\u001b[0;34m.\u001b[0m\u001b[0mflagging_callback\u001b[0m\u001b[0;34m.\u001b[0m\u001b[0msetup\u001b[0m\u001b[0;34m(\u001b[0m\u001b[0mself\u001b[0m\u001b[0;34m.\u001b[0m\u001b[0mflagging_dir\u001b[0m\u001b[0;34m)\u001b[0m\u001b[0;34m\u001b[0m\u001b[0;34m\u001b[0m\u001b[0m\n\u001b[0;32m--> 658\u001b[0;31m         \u001b[0;32mreturn\u001b[0m \u001b[0msuper\u001b[0m\u001b[0;34m(\u001b[0m\u001b[0;34m)\u001b[0m\u001b[0;34m.\u001b[0m\u001b[0mlaunch\u001b[0m\u001b[0;34m(\u001b[0m\u001b[0;34m**\u001b[0m\u001b[0margs\u001b[0m\u001b[0;34m)\u001b[0m\u001b[0;34m\u001b[0m\u001b[0;34m\u001b[0m\u001b[0m\n\u001b[0m\u001b[1;32m    659\u001b[0m \u001b[0;34m\u001b[0m\u001b[0m\n\u001b[1;32m    660\u001b[0m     \u001b[0;32mdef\u001b[0m \u001b[0mintegrate\u001b[0m\u001b[0;34m(\u001b[0m\u001b[0mself\u001b[0m\u001b[0;34m,\u001b[0m \u001b[0mcomet_ml\u001b[0m\u001b[0;34m=\u001b[0m\u001b[0;32mNone\u001b[0m\u001b[0;34m,\u001b[0m \u001b[0mwandb\u001b[0m\u001b[0;34m=\u001b[0m\u001b[0;32mNone\u001b[0m\u001b[0;34m,\u001b[0m \u001b[0mmlflow\u001b[0m\u001b[0;34m=\u001b[0m\u001b[0;32mNone\u001b[0m\u001b[0;34m)\u001b[0m \u001b[0;34m->\u001b[0m \u001b[0;32mNone\u001b[0m\u001b[0;34m:\u001b[0m\u001b[0;34m\u001b[0m\u001b[0;34m\u001b[0m\u001b[0m\n",
            "\u001b[0;32m/usr/local/lib/python3.7/dist-packages/gradio/launchable.py\u001b[0m in \u001b[0;36mlaunch\u001b[0;34m(self, inline, inbrowser, share, debug, auth, auth_message, private_endpoint, prevent_thread_lock, show_error, server_name, server_port, show_tips, enable_queue, height, width, encrypt, cache_examples, favicon_path, ssl_keyfile, ssl_certfile, ssl_keyfile_password)\u001b[0m\n\u001b[1;32m    208\u001b[0m         }\n\u001b[1;32m    209\u001b[0m         \u001b[0;32mif\u001b[0m \u001b[0mself\u001b[0m\u001b[0;34m.\u001b[0m\u001b[0manalytics_enabled\u001b[0m\u001b[0;34m:\u001b[0m\u001b[0;34m\u001b[0m\u001b[0;34m\u001b[0m\u001b[0m\n\u001b[0;32m--> 210\u001b[0;31m             \u001b[0mutils\u001b[0m\u001b[0;34m.\u001b[0m\u001b[0mlaunch_analytics\u001b[0m\u001b[0;34m(\u001b[0m\u001b[0mdata\u001b[0m\u001b[0;34m)\u001b[0m\u001b[0;34m\u001b[0m\u001b[0;34m\u001b[0m\u001b[0m\n\u001b[0m\u001b[1;32m    211\u001b[0m \u001b[0;34m\u001b[0m\u001b[0m\n\u001b[1;32m    212\u001b[0m         \u001b[0mutils\u001b[0m\u001b[0;34m.\u001b[0m\u001b[0mshow_tip\u001b[0m\u001b[0;34m(\u001b[0m\u001b[0mself\u001b[0m\u001b[0;34m)\u001b[0m\u001b[0;34m\u001b[0m\u001b[0;34m\u001b[0m\u001b[0m\n",
            "\u001b[0;32m/usr/local/lib/python3.7/dist-packages/gradio/utils.py\u001b[0m in \u001b[0;36mlaunch_analytics\u001b[0;34m(data)\u001b[0m\n\u001b[1;32m     75\u001b[0m     \u001b[0;32mtry\u001b[0m\u001b[0;34m:\u001b[0m\u001b[0;34m\u001b[0m\u001b[0;34m\u001b[0m\u001b[0m\n\u001b[1;32m     76\u001b[0m         requests.post(\n\u001b[0;32m---> 77\u001b[0;31m             \u001b[0manalytics_url\u001b[0m \u001b[0;34m+\u001b[0m \u001b[0;34m\"gradio-launched-analytics/\"\u001b[0m\u001b[0;34m,\u001b[0m \u001b[0mdata\u001b[0m\u001b[0;34m=\u001b[0m\u001b[0mdata\u001b[0m\u001b[0;34m,\u001b[0m \u001b[0mtimeout\u001b[0m\u001b[0;34m=\u001b[0m\u001b[0;36m3\u001b[0m\u001b[0;34m\u001b[0m\u001b[0;34m\u001b[0m\u001b[0m\n\u001b[0m\u001b[1;32m     78\u001b[0m         )\n\u001b[1;32m     79\u001b[0m     \u001b[0;32mexcept\u001b[0m \u001b[0;34m(\u001b[0m\u001b[0mrequests\u001b[0m\u001b[0;34m.\u001b[0m\u001b[0mConnectionError\u001b[0m\u001b[0;34m,\u001b[0m \u001b[0mrequests\u001b[0m\u001b[0;34m.\u001b[0m\u001b[0mexceptions\u001b[0m\u001b[0;34m.\u001b[0m\u001b[0mReadTimeout\u001b[0m\u001b[0;34m)\u001b[0m\u001b[0;34m:\u001b[0m\u001b[0;34m\u001b[0m\u001b[0;34m\u001b[0m\u001b[0m\n",
            "\u001b[0;32m/usr/local/lib/python3.7/dist-packages/requests/api.py\u001b[0m in \u001b[0;36mpost\u001b[0;34m(url, data, json, **kwargs)\u001b[0m\n\u001b[1;32m    117\u001b[0m     \"\"\"\n\u001b[1;32m    118\u001b[0m \u001b[0;34m\u001b[0m\u001b[0m\n\u001b[0;32m--> 119\u001b[0;31m     \u001b[0;32mreturn\u001b[0m \u001b[0mrequest\u001b[0m\u001b[0;34m(\u001b[0m\u001b[0;34m'post'\u001b[0m\u001b[0;34m,\u001b[0m \u001b[0murl\u001b[0m\u001b[0;34m,\u001b[0m \u001b[0mdata\u001b[0m\u001b[0;34m=\u001b[0m\u001b[0mdata\u001b[0m\u001b[0;34m,\u001b[0m \u001b[0mjson\u001b[0m\u001b[0;34m=\u001b[0m\u001b[0mjson\u001b[0m\u001b[0;34m,\u001b[0m \u001b[0;34m**\u001b[0m\u001b[0mkwargs\u001b[0m\u001b[0;34m)\u001b[0m\u001b[0;34m\u001b[0m\u001b[0;34m\u001b[0m\u001b[0m\n\u001b[0m\u001b[1;32m    120\u001b[0m \u001b[0;34m\u001b[0m\u001b[0m\n\u001b[1;32m    121\u001b[0m \u001b[0;34m\u001b[0m\u001b[0m\n",
            "\u001b[0;32m/usr/local/lib/python3.7/dist-packages/requests/api.py\u001b[0m in \u001b[0;36mrequest\u001b[0;34m(method, url, **kwargs)\u001b[0m\n\u001b[1;32m     59\u001b[0m     \u001b[0;31m# cases, and look like a memory leak in others.\u001b[0m\u001b[0;34m\u001b[0m\u001b[0;34m\u001b[0m\u001b[0;34m\u001b[0m\u001b[0m\n\u001b[1;32m     60\u001b[0m     \u001b[0;32mwith\u001b[0m \u001b[0msessions\u001b[0m\u001b[0;34m.\u001b[0m\u001b[0mSession\u001b[0m\u001b[0;34m(\u001b[0m\u001b[0;34m)\u001b[0m \u001b[0;32mas\u001b[0m \u001b[0msession\u001b[0m\u001b[0;34m:\u001b[0m\u001b[0;34m\u001b[0m\u001b[0;34m\u001b[0m\u001b[0m\n\u001b[0;32m---> 61\u001b[0;31m         \u001b[0;32mreturn\u001b[0m \u001b[0msession\u001b[0m\u001b[0;34m.\u001b[0m\u001b[0mrequest\u001b[0m\u001b[0;34m(\u001b[0m\u001b[0mmethod\u001b[0m\u001b[0;34m=\u001b[0m\u001b[0mmethod\u001b[0m\u001b[0;34m,\u001b[0m \u001b[0murl\u001b[0m\u001b[0;34m=\u001b[0m\u001b[0murl\u001b[0m\u001b[0;34m,\u001b[0m \u001b[0;34m**\u001b[0m\u001b[0mkwargs\u001b[0m\u001b[0;34m)\u001b[0m\u001b[0;34m\u001b[0m\u001b[0;34m\u001b[0m\u001b[0m\n\u001b[0m\u001b[1;32m     62\u001b[0m \u001b[0;34m\u001b[0m\u001b[0m\n\u001b[1;32m     63\u001b[0m \u001b[0;34m\u001b[0m\u001b[0m\n",
            "\u001b[0;32m/usr/local/lib/python3.7/dist-packages/requests/sessions.py\u001b[0m in \u001b[0;36mrequest\u001b[0;34m(self, method, url, params, data, headers, cookies, files, auth, timeout, allow_redirects, proxies, hooks, stream, verify, cert, json)\u001b[0m\n\u001b[1;32m    528\u001b[0m         }\n\u001b[1;32m    529\u001b[0m         \u001b[0msend_kwargs\u001b[0m\u001b[0;34m.\u001b[0m\u001b[0mupdate\u001b[0m\u001b[0;34m(\u001b[0m\u001b[0msettings\u001b[0m\u001b[0;34m)\u001b[0m\u001b[0;34m\u001b[0m\u001b[0;34m\u001b[0m\u001b[0m\n\u001b[0;32m--> 530\u001b[0;31m         \u001b[0mresp\u001b[0m \u001b[0;34m=\u001b[0m \u001b[0mself\u001b[0m\u001b[0;34m.\u001b[0m\u001b[0msend\u001b[0m\u001b[0;34m(\u001b[0m\u001b[0mprep\u001b[0m\u001b[0;34m,\u001b[0m \u001b[0;34m**\u001b[0m\u001b[0msend_kwargs\u001b[0m\u001b[0;34m)\u001b[0m\u001b[0;34m\u001b[0m\u001b[0;34m\u001b[0m\u001b[0m\n\u001b[0m\u001b[1;32m    531\u001b[0m \u001b[0;34m\u001b[0m\u001b[0m\n\u001b[1;32m    532\u001b[0m         \u001b[0;32mreturn\u001b[0m \u001b[0mresp\u001b[0m\u001b[0;34m\u001b[0m\u001b[0;34m\u001b[0m\u001b[0m\n",
            "\u001b[0;32m/usr/local/lib/python3.7/dist-packages/requests/sessions.py\u001b[0m in \u001b[0;36msend\u001b[0;34m(self, request, **kwargs)\u001b[0m\n\u001b[1;32m    641\u001b[0m \u001b[0;34m\u001b[0m\u001b[0m\n\u001b[1;32m    642\u001b[0m         \u001b[0;31m# Send the request\u001b[0m\u001b[0;34m\u001b[0m\u001b[0;34m\u001b[0m\u001b[0;34m\u001b[0m\u001b[0m\n\u001b[0;32m--> 643\u001b[0;31m         \u001b[0mr\u001b[0m \u001b[0;34m=\u001b[0m \u001b[0madapter\u001b[0m\u001b[0;34m.\u001b[0m\u001b[0msend\u001b[0m\u001b[0;34m(\u001b[0m\u001b[0mrequest\u001b[0m\u001b[0;34m,\u001b[0m \u001b[0;34m**\u001b[0m\u001b[0mkwargs\u001b[0m\u001b[0;34m)\u001b[0m\u001b[0;34m\u001b[0m\u001b[0;34m\u001b[0m\u001b[0m\n\u001b[0m\u001b[1;32m    644\u001b[0m \u001b[0;34m\u001b[0m\u001b[0m\n\u001b[1;32m    645\u001b[0m         \u001b[0;31m# Total elapsed time of the request (approximately)\u001b[0m\u001b[0;34m\u001b[0m\u001b[0;34m\u001b[0m\u001b[0;34m\u001b[0m\u001b[0m\n",
            "\u001b[0;32m/usr/local/lib/python3.7/dist-packages/requests/adapters.py\u001b[0m in \u001b[0;36msend\u001b[0;34m(self, request, stream, timeout, verify, cert, proxies)\u001b[0m\n\u001b[1;32m    447\u001b[0m                     \u001b[0mdecode_content\u001b[0m\u001b[0;34m=\u001b[0m\u001b[0;32mFalse\u001b[0m\u001b[0;34m,\u001b[0m\u001b[0;34m\u001b[0m\u001b[0;34m\u001b[0m\u001b[0m\n\u001b[1;32m    448\u001b[0m                     \u001b[0mretries\u001b[0m\u001b[0;34m=\u001b[0m\u001b[0mself\u001b[0m\u001b[0;34m.\u001b[0m\u001b[0mmax_retries\u001b[0m\u001b[0;34m,\u001b[0m\u001b[0;34m\u001b[0m\u001b[0;34m\u001b[0m\u001b[0m\n\u001b[0;32m--> 449\u001b[0;31m                     \u001b[0mtimeout\u001b[0m\u001b[0;34m=\u001b[0m\u001b[0mtimeout\u001b[0m\u001b[0;34m\u001b[0m\u001b[0;34m\u001b[0m\u001b[0m\n\u001b[0m\u001b[1;32m    450\u001b[0m                 )\n\u001b[1;32m    451\u001b[0m \u001b[0;34m\u001b[0m\u001b[0m\n",
            "\u001b[0;32m/usr/local/lib/python3.7/dist-packages/urllib3/connectionpool.py\u001b[0m in \u001b[0;36murlopen\u001b[0;34m(self, method, url, body, headers, retries, redirect, assert_same_host, timeout, pool_timeout, release_conn, chunked, body_pos, **response_kw)\u001b[0m\n\u001b[1;32m    598\u001b[0m                                                   \u001b[0mtimeout\u001b[0m\u001b[0;34m=\u001b[0m\u001b[0mtimeout_obj\u001b[0m\u001b[0;34m,\u001b[0m\u001b[0;34m\u001b[0m\u001b[0;34m\u001b[0m\u001b[0m\n\u001b[1;32m    599\u001b[0m                                                   \u001b[0mbody\u001b[0m\u001b[0;34m=\u001b[0m\u001b[0mbody\u001b[0m\u001b[0;34m,\u001b[0m \u001b[0mheaders\u001b[0m\u001b[0;34m=\u001b[0m\u001b[0mheaders\u001b[0m\u001b[0;34m,\u001b[0m\u001b[0;34m\u001b[0m\u001b[0;34m\u001b[0m\u001b[0m\n\u001b[0;32m--> 600\u001b[0;31m                                                   chunked=chunked)\n\u001b[0m\u001b[1;32m    601\u001b[0m \u001b[0;34m\u001b[0m\u001b[0m\n\u001b[1;32m    602\u001b[0m             \u001b[0;31m# If we're going to release the connection in ``finally:``, then\u001b[0m\u001b[0;34m\u001b[0m\u001b[0;34m\u001b[0m\u001b[0;34m\u001b[0m\u001b[0m\n",
            "\u001b[0;32m/usr/local/lib/python3.7/dist-packages/urllib3/connectionpool.py\u001b[0m in \u001b[0;36m_make_request\u001b[0;34m(self, conn, method, url, timeout, chunked, **httplib_request_kw)\u001b[0m\n\u001b[1;32m    341\u001b[0m         \u001b[0;31m# Trigger any extra validation we need to do.\u001b[0m\u001b[0;34m\u001b[0m\u001b[0;34m\u001b[0m\u001b[0;34m\u001b[0m\u001b[0m\n\u001b[1;32m    342\u001b[0m         \u001b[0;32mtry\u001b[0m\u001b[0;34m:\u001b[0m\u001b[0;34m\u001b[0m\u001b[0;34m\u001b[0m\u001b[0m\n\u001b[0;32m--> 343\u001b[0;31m             \u001b[0mself\u001b[0m\u001b[0;34m.\u001b[0m\u001b[0m_validate_conn\u001b[0m\u001b[0;34m(\u001b[0m\u001b[0mconn\u001b[0m\u001b[0;34m)\u001b[0m\u001b[0;34m\u001b[0m\u001b[0;34m\u001b[0m\u001b[0m\n\u001b[0m\u001b[1;32m    344\u001b[0m         \u001b[0;32mexcept\u001b[0m \u001b[0;34m(\u001b[0m\u001b[0mSocketTimeout\u001b[0m\u001b[0;34m,\u001b[0m \u001b[0mBaseSSLError\u001b[0m\u001b[0;34m)\u001b[0m \u001b[0;32mas\u001b[0m \u001b[0me\u001b[0m\u001b[0;34m:\u001b[0m\u001b[0;34m\u001b[0m\u001b[0;34m\u001b[0m\u001b[0m\n\u001b[1;32m    345\u001b[0m             \u001b[0;31m# Py2 raises this as a BaseSSLError, Py3 raises it as socket timeout.\u001b[0m\u001b[0;34m\u001b[0m\u001b[0;34m\u001b[0m\u001b[0;34m\u001b[0m\u001b[0m\n",
            "\u001b[0;32m/usr/local/lib/python3.7/dist-packages/urllib3/connectionpool.py\u001b[0m in \u001b[0;36m_validate_conn\u001b[0;34m(self, conn)\u001b[0m\n\u001b[1;32m    837\u001b[0m         \u001b[0;31m# Force connect early to allow us to validate the connection.\u001b[0m\u001b[0;34m\u001b[0m\u001b[0;34m\u001b[0m\u001b[0;34m\u001b[0m\u001b[0m\n\u001b[1;32m    838\u001b[0m         \u001b[0;32mif\u001b[0m \u001b[0;32mnot\u001b[0m \u001b[0mgetattr\u001b[0m\u001b[0;34m(\u001b[0m\u001b[0mconn\u001b[0m\u001b[0;34m,\u001b[0m \u001b[0;34m'sock'\u001b[0m\u001b[0;34m,\u001b[0m \u001b[0;32mNone\u001b[0m\u001b[0;34m)\u001b[0m\u001b[0;34m:\u001b[0m  \u001b[0;31m# AppEngine might not have  `.sock`\u001b[0m\u001b[0;34m\u001b[0m\u001b[0;34m\u001b[0m\u001b[0m\n\u001b[0;32m--> 839\u001b[0;31m             \u001b[0mconn\u001b[0m\u001b[0;34m.\u001b[0m\u001b[0mconnect\u001b[0m\u001b[0;34m(\u001b[0m\u001b[0;34m)\u001b[0m\u001b[0;34m\u001b[0m\u001b[0;34m\u001b[0m\u001b[0m\n\u001b[0m\u001b[1;32m    840\u001b[0m \u001b[0;34m\u001b[0m\u001b[0m\n\u001b[1;32m    841\u001b[0m         \u001b[0;32mif\u001b[0m \u001b[0;32mnot\u001b[0m \u001b[0mconn\u001b[0m\u001b[0;34m.\u001b[0m\u001b[0mis_verified\u001b[0m\u001b[0;34m:\u001b[0m\u001b[0;34m\u001b[0m\u001b[0;34m\u001b[0m\u001b[0m\n",
            "\u001b[0;32m/usr/local/lib/python3.7/dist-packages/urllib3/connection.py\u001b[0m in \u001b[0;36mconnect\u001b[0;34m(self)\u001b[0m\n\u001b[1;32m    342\u001b[0m             \u001b[0mca_cert_dir\u001b[0m\u001b[0;34m=\u001b[0m\u001b[0mself\u001b[0m\u001b[0;34m.\u001b[0m\u001b[0mca_cert_dir\u001b[0m\u001b[0;34m,\u001b[0m\u001b[0;34m\u001b[0m\u001b[0;34m\u001b[0m\u001b[0m\n\u001b[1;32m    343\u001b[0m             \u001b[0mserver_hostname\u001b[0m\u001b[0;34m=\u001b[0m\u001b[0mserver_hostname\u001b[0m\u001b[0;34m,\u001b[0m\u001b[0;34m\u001b[0m\u001b[0;34m\u001b[0m\u001b[0m\n\u001b[0;32m--> 344\u001b[0;31m             ssl_context=context)\n\u001b[0m\u001b[1;32m    345\u001b[0m \u001b[0;34m\u001b[0m\u001b[0m\n\u001b[1;32m    346\u001b[0m         \u001b[0;32mif\u001b[0m \u001b[0mself\u001b[0m\u001b[0;34m.\u001b[0m\u001b[0massert_fingerprint\u001b[0m\u001b[0;34m:\u001b[0m\u001b[0;34m\u001b[0m\u001b[0;34m\u001b[0m\u001b[0m\n",
            "\u001b[0;32m/usr/local/lib/python3.7/dist-packages/urllib3/util/ssl_.py\u001b[0m in \u001b[0;36mssl_wrap_socket\u001b[0;34m(sock, keyfile, certfile, cert_reqs, ca_certs, server_hostname, ssl_version, ciphers, ssl_context, ca_cert_dir)\u001b[0m\n\u001b[1;32m    343\u001b[0m             or IS_SECURETRANSPORT):\n\u001b[1;32m    344\u001b[0m         \u001b[0;32mif\u001b[0m \u001b[0mHAS_SNI\u001b[0m \u001b[0;32mand\u001b[0m \u001b[0mserver_hostname\u001b[0m \u001b[0;32mis\u001b[0m \u001b[0;32mnot\u001b[0m \u001b[0;32mNone\u001b[0m\u001b[0;34m:\u001b[0m\u001b[0;34m\u001b[0m\u001b[0;34m\u001b[0m\u001b[0m\n\u001b[0;32m--> 345\u001b[0;31m             \u001b[0;32mreturn\u001b[0m \u001b[0mcontext\u001b[0m\u001b[0;34m.\u001b[0m\u001b[0mwrap_socket\u001b[0m\u001b[0;34m(\u001b[0m\u001b[0msock\u001b[0m\u001b[0;34m,\u001b[0m \u001b[0mserver_hostname\u001b[0m\u001b[0;34m=\u001b[0m\u001b[0mserver_hostname\u001b[0m\u001b[0;34m)\u001b[0m\u001b[0;34m\u001b[0m\u001b[0;34m\u001b[0m\u001b[0m\n\u001b[0m\u001b[1;32m    346\u001b[0m \u001b[0;34m\u001b[0m\u001b[0m\n\u001b[1;32m    347\u001b[0m         warnings.warn(\n",
            "\u001b[0;32m/usr/lib/python3.7/ssl.py\u001b[0m in \u001b[0;36mwrap_socket\u001b[0;34m(self, sock, server_side, do_handshake_on_connect, suppress_ragged_eofs, server_hostname, session)\u001b[0m\n\u001b[1;32m    421\u001b[0m             \u001b[0mserver_hostname\u001b[0m\u001b[0;34m=\u001b[0m\u001b[0mserver_hostname\u001b[0m\u001b[0;34m,\u001b[0m\u001b[0;34m\u001b[0m\u001b[0;34m\u001b[0m\u001b[0m\n\u001b[1;32m    422\u001b[0m             \u001b[0mcontext\u001b[0m\u001b[0;34m=\u001b[0m\u001b[0mself\u001b[0m\u001b[0;34m,\u001b[0m\u001b[0;34m\u001b[0m\u001b[0;34m\u001b[0m\u001b[0m\n\u001b[0;32m--> 423\u001b[0;31m             \u001b[0msession\u001b[0m\u001b[0;34m=\u001b[0m\u001b[0msession\u001b[0m\u001b[0;34m\u001b[0m\u001b[0;34m\u001b[0m\u001b[0m\n\u001b[0m\u001b[1;32m    424\u001b[0m         )\n\u001b[1;32m    425\u001b[0m \u001b[0;34m\u001b[0m\u001b[0m\n",
            "\u001b[0;32m/usr/lib/python3.7/ssl.py\u001b[0m in \u001b[0;36m_create\u001b[0;34m(cls, sock, server_side, do_handshake_on_connect, suppress_ragged_eofs, server_hostname, context, session)\u001b[0m\n\u001b[1;32m    868\u001b[0m                         \u001b[0;31m# non-blocking\u001b[0m\u001b[0;34m\u001b[0m\u001b[0;34m\u001b[0m\u001b[0;34m\u001b[0m\u001b[0m\n\u001b[1;32m    869\u001b[0m                         \u001b[0;32mraise\u001b[0m \u001b[0mValueError\u001b[0m\u001b[0;34m(\u001b[0m\u001b[0;34m\"do_handshake_on_connect should not be specified for non-blocking sockets\"\u001b[0m\u001b[0;34m)\u001b[0m\u001b[0;34m\u001b[0m\u001b[0;34m\u001b[0m\u001b[0m\n\u001b[0;32m--> 870\u001b[0;31m                     \u001b[0mself\u001b[0m\u001b[0;34m.\u001b[0m\u001b[0mdo_handshake\u001b[0m\u001b[0;34m(\u001b[0m\u001b[0;34m)\u001b[0m\u001b[0;34m\u001b[0m\u001b[0;34m\u001b[0m\u001b[0m\n\u001b[0m\u001b[1;32m    871\u001b[0m             \u001b[0;32mexcept\u001b[0m \u001b[0;34m(\u001b[0m\u001b[0mOSError\u001b[0m\u001b[0;34m,\u001b[0m \u001b[0mValueError\u001b[0m\u001b[0;34m)\u001b[0m\u001b[0;34m:\u001b[0m\u001b[0;34m\u001b[0m\u001b[0;34m\u001b[0m\u001b[0m\n\u001b[1;32m    872\u001b[0m                 \u001b[0mself\u001b[0m\u001b[0;34m.\u001b[0m\u001b[0mclose\u001b[0m\u001b[0;34m(\u001b[0m\u001b[0;34m)\u001b[0m\u001b[0;34m\u001b[0m\u001b[0;34m\u001b[0m\u001b[0m\n",
            "\u001b[0;32m/usr/lib/python3.7/ssl.py\u001b[0m in \u001b[0;36mdo_handshake\u001b[0;34m(self, block)\u001b[0m\n\u001b[1;32m   1137\u001b[0m             \u001b[0;32mif\u001b[0m \u001b[0mtimeout\u001b[0m \u001b[0;34m==\u001b[0m \u001b[0;36m0.0\u001b[0m \u001b[0;32mand\u001b[0m \u001b[0mblock\u001b[0m\u001b[0;34m:\u001b[0m\u001b[0;34m\u001b[0m\u001b[0;34m\u001b[0m\u001b[0m\n\u001b[1;32m   1138\u001b[0m                 \u001b[0mself\u001b[0m\u001b[0;34m.\u001b[0m\u001b[0msettimeout\u001b[0m\u001b[0;34m(\u001b[0m\u001b[0;32mNone\u001b[0m\u001b[0;34m)\u001b[0m\u001b[0;34m\u001b[0m\u001b[0;34m\u001b[0m\u001b[0m\n\u001b[0;32m-> 1139\u001b[0;31m             \u001b[0mself\u001b[0m\u001b[0;34m.\u001b[0m\u001b[0m_sslobj\u001b[0m\u001b[0;34m.\u001b[0m\u001b[0mdo_handshake\u001b[0m\u001b[0;34m(\u001b[0m\u001b[0;34m)\u001b[0m\u001b[0;34m\u001b[0m\u001b[0;34m\u001b[0m\u001b[0m\n\u001b[0m\u001b[1;32m   1140\u001b[0m         \u001b[0;32mfinally\u001b[0m\u001b[0;34m:\u001b[0m\u001b[0;34m\u001b[0m\u001b[0;34m\u001b[0m\u001b[0m\n\u001b[1;32m   1141\u001b[0m             \u001b[0mself\u001b[0m\u001b[0;34m.\u001b[0m\u001b[0msettimeout\u001b[0m\u001b[0;34m(\u001b[0m\u001b[0mtimeout\u001b[0m\u001b[0;34m)\u001b[0m\u001b[0;34m\u001b[0m\u001b[0;34m\u001b[0m\u001b[0m\n",
            "\u001b[0;31mKeyboardInterrupt\u001b[0m: "
          ]
        }
      ]
    }
  ]
}