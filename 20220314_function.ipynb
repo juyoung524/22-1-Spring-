{
  "nbformat": 4,
  "nbformat_minor": 0,
  "metadata": {
    "colab": {
      "name": "20220314_function.ipynb",
      "provenance": [],
      "include_colab_link": true
    },
    "kernelspec": {
      "name": "python3",
      "display_name": "Python 3"
    }
  },
  "cells": [
    {
      "cell_type": "markdown",
      "metadata": {
        "id": "view-in-github",
        "colab_type": "text"
      },
      "source": [
        "<a href=\"https://colab.research.google.com/github/juyoung524/22-1-Spring-/blob/main/20220314_function.ipynb\" target=\"_parent\"><img src=\"https://colab.research.google.com/assets/colab-badge.svg\" alt=\"Open In Colab\"/></a>"
      ]
    },
    {
      "cell_type": "code",
      "metadata": {
        "id": "hpc_mhgAye2S"
      },
      "source": [
        "def add(a,b): \n",
        "  return a+b\n",
        "\n",
        "#def 함수명(입력변수1, 입력변수2): (콜론 안 적으면 error 뜸)\n",
        "#c=a+b (함수 정의에 대한 내용, 그래서 입력과 출력 있는 게 함수임.\n",
        "#return이라고 하고 출력변수명 넣어주면 됨)\n",
        "\n",
        "def subtract(a,b):\n",
        "  return a-b\n",
        "\n",
        "def multiply(a,b):\n",
        "  return a*b\n",
        "\n",
        "def divide(a,b):\n",
        "  return a/b"
      ],
      "execution_count": null,
      "outputs": []
    },
    {
      "cell_type": "markdown",
      "source": [
        "Function: 함수 이름 적고 (   ) 그 안에 input 주면 됨\n",
        "\n",
        "우리가 직접 함수 만들 수도 있음\n",
        "\n",
        "Def (define) \n",
        "Def 함수명 (입력변수, 입력변수2…): -> Colon 안 적으면 error 뜨니까 꼭 써 주기!!!\n",
        "\n",
        "C=a+b\n",
        "Return 출력변수명1, 출력변수명2\n",
        "Def 정의는 무조건 해야 함. (우리가 쓰든, 다른 사람이 쓰든 정의하는 것임)\n",
        "이름은 아무거나 해도 괜찮음 (add, ddd)\n",
        "Def Add(a,b):\n",
        "Return a+b\n",
        "Define 쪽 먼저 실행을 꼭 해줘야지 그 이후 단계에서 error나지 않음"
      ],
      "metadata": {
        "id": "AZj_whlBtbfy"
      }
    },
    {
      "cell_type": "code",
      "source": [
        "c = add(1,2); print(c)"
      ],
      "metadata": {
        "id": "9Dh34EwTulqw",
        "outputId": "0316184c-fd0f-429b-eb4a-e86e83b9c907",
        "colab": {
          "base_uri": "https://localhost:8080/"
        }
      },
      "execution_count": null,
      "outputs": [
        {
          "output_type": "stream",
          "name": "stdout",
          "text": [
            "3\n"
          ]
        }
      ]
    },
    {
      "cell_type": "code",
      "metadata": {
        "colab": {
          "base_uri": "https://localhost:8080/"
        },
        "id": "8Y4oa05Eykn4",
        "outputId": "f12612d8-2a65-42a2-810d-8d730f735740"
      },
      "source": [
        "c = add(1,2); print(c)\n",
        "c = subtract(1,2); print(c)\n",
        "c = multiply(1,2); print(c)\n",
        "c = divide(1,2); print(c)"
      ],
      "execution_count": null,
      "outputs": [
        {
          "output_type": "stream",
          "name": "stdout",
          "text": [
            "3\n",
            "-1\n",
            "2\n",
            "0.5\n"
          ]
        }
      ]
    }
  ]
}