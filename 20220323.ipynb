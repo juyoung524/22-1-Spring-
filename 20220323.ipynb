{
  "nbformat": 4,
  "nbformat_minor": 0,
  "metadata": {
    "colab": {
      "name": "20220323.ipynb",
      "provenance": [],
      "collapsed_sections": [],
      "include_colab_link": true
    },
    "kernelspec": {
      "name": "python3",
      "display_name": "Python 3"
    },
    "language_info": {
      "name": "python"
    }
  },
  "cells": [
    {
      "cell_type": "markdown",
      "metadata": {
        "id": "view-in-github",
        "colab_type": "text"
      },
      "source": [
        "<a href=\"https://colab.research.google.com/github/juyoung524/22-1-Spring-/blob/main/20220323.ipynb\" target=\"_parent\"><img src=\"https://colab.research.google.com/assets/colab-badge.svg\" alt=\"Open In Colab\"/></a>"
      ]
    },
    {
      "cell_type": "markdown",
      "source": [
        "다른 데 깔려있는 서비스를 API라고 해서 인터페이스 다른 서비스에 해주고 있을 때 개발자가 다른 서버나 데이터베이스에 있는 것을 연결해 주는 역할을 하는 것임\n",
        "\n",
        "미세먼지 앱 --> 공공정보에서 언제든지 사용할 수 있도록 제공해 주는 게 있음. 그거 땡겨와서 내 프로그램으로 만드는 것 (내 프로그램 속에 포함시켜 주는 것이 API)\n",
        "\n",
        "API 서비스 당겨올 수 있도록 파이썬에서 라이브러리 존재함 (Requests)"
      ],
      "metadata": {
        "id": "6L2ovNuK6E9B"
      }
    },
    {
      "cell_type": "markdown",
      "source": [
        "공공데이터 활용 사례: 국가에서 제공하는 API 사용해서 (API가 일종의 부품 같은 것임) 부품처럼 프로그래머가 사용할 수 있도록 제공.\n",
        "\n",
        "개발자에게 프로그래밍의 부품처럼 쓰기 쉽게 표준화해서 알려주는 것이 'request'임"
      ],
      "metadata": {
        "id": "3nOdqB1H7H2r"
      }
    },
    {
      "cell_type": "markdown",
      "source": [
        "REST API\n",
        "\n",
        "데이터포맷: JSON+XML이라는 방법으로 groupping함\n",
        "\n",
        "참고문헌: API 쓸 수 있는 방법(활용가이드)\n",
        "\n",
        "요청변수: API에다 요청함 (서비스마다 요청변수가 다 다름)\n",
        "\n",
        "데이터 찾기-데이터 목록에 '미세먼지' 이런 식으로 치면 총 225건이 검색됨 (파일 말고 모든 API) 하면 원하는 것들 찾기\n",
        "\n",
        "한국환경공단- 전국 미세먼지 다 활용 가능"
      ],
      "metadata": {
        "id": "_U4jlOot7fS0"
      }
    },
    {
      "cell_type": "markdown",
      "source": [
        "네이버 API가 유명함 (네이버 오픈 API 목록)- 네이버 로그인, 파파고 번역, 클로바 음성인식...\n",
        "\n",
        "카카오 REST API- 비즈니스 관련, 인공지능: 카카오 전유물이기 때문에 사용 가능함"
      ],
      "metadata": {
        "id": "Lepyl2Uq8aSL"
      }
    },
    {
      "cell_type": "code",
      "source": [
        "!pip install gradio\n",
        "import gradio as gr\n",
        "import requests\n",
        "import pandas as pd"
      ],
      "metadata": {
        "id": "8eZHGJhmqd9a"
      },
      "execution_count": null,
      "outputs": []
    },
    {
      "cell_type": "markdown",
      "source": [
        "URL 방식으로 주는 것을 'Rest API'라고 함"
      ],
      "metadata": {
        "id": "GhNnZIB9-SXp"
      }
    },
    {
      "cell_type": "code",
      "source": [
        "requests.get('http://apis.data.go.kr/B552584/ArpltnStatsSvc/''getCtprvnMesureSidoLIst?''sidoName=서울''&searchCondition=hour''&pageNo=1''&numOfRows=100''&returnType=json''&serviceKey=miH%2BZXg85lQy4%2FkmhffvygXDIFiTwisriSLxtyECSzw6hxTVK7yI8QKIOc7mP7LEqCnhBGuj6iW1gZW65dum7A%3D%3D')"
      ],
      "metadata": {
        "id": "0Gb8AplD9yij",
        "outputId": "f8b80709-425f-4ddb-f68c-0fa085134dd6",
        "colab": {
          "base_uri": "https://localhost:8080/"
        }
      },
      "execution_count": null,
      "outputs": [
        {
          "output_type": "execute_result",
          "data": {
            "text/plain": [
              "<Response [200]>"
            ]
          },
          "metadata": {},
          "execution_count": 2
        }
      ]
    },
    {
      "cell_type": "code",
      "source": [
        "URL = ('http://apis.data.go.kr/B552584/ArpltnStatsSvc/' #서비스 URL과 일치\n",
        "      'getCtprvnMesureSidoLIst?' #구체적인 세부 서비스 이름 (상세기능명 다음에 물음표?)\n",
        "      'sidoName=서울' #시도이름 (=모양으로)\n",
        "      '&searchCondition=hour' #&Daily인지, Hour인지 (&로 구분)\n",
        "      '&pageNo=1' #페이지 넘버 하나\n",
        "      '&numOfRows=100'\n",
        "      '&returnType=json' #json의 형태로 받고 싶다\n",
        "      '&serviceKey=miH%2BZXg85lQy4%2FkmhffvygXDIFiTwisriSLxtyECSzw6hxTVK7yI8QKIOc7mP7LEqCnhBGuj6iW1gZW65dum7A%3D%3D')\n",
        "response = requests.get(URL)"
      ],
      "metadata": {
        "id": "lHHEwqpyJF7r"
      },
      "execution_count": null,
      "outputs": []
    },
    {
      "cell_type": "code",
      "source": [
        "response"
      ],
      "metadata": {
        "colab": {
          "base_uri": "https://localhost:8080/"
        },
        "id": "Wf_71E0G_JTK",
        "outputId": "53304382-9b2f-44da-d932-4a522afc3e3b"
      },
      "execution_count": null,
      "outputs": [
        {
          "output_type": "execute_result",
          "data": {
            "text/plain": [
              "<Response [200]>"
            ]
          },
          "metadata": {},
          "execution_count": 4
        }
      ]
    },
    {
      "cell_type": "markdown",
      "source": [
        "다양한 Response Code (python 200: 잘 처리가 됐다는 의미)"
      ],
      "metadata": {
        "id": "VNJJm1CZ_L0d"
      }
    },
    {
      "cell_type": "markdown",
      "source": [
        "#### http://jsonviewer.stack.hu/ (copy json here to view json)"
      ],
      "metadata": {
        "id": "faIENRyFfnY1"
      }
    },
    {
      "cell_type": "markdown",
      "source": [
        "json으로 된 형태가 아래에 담김\n",
        "\n",
        "\n",
        "Gradio로 웹 데모 만들 때 어떤 입력, 어떤 출력값 줘야 하는지\n",
        "\n",
        "-> 입력으로 어떤 명령 주면 출력으로 받음. (입력으로 '서울' 광역도시명 주면 그것으로 세부자치단체에 대한 정보 가져옴)\n",
        "\n",
        "입, 출력을 만들어 보자!"
      ],
      "metadata": {
        "id": "9aT73GmP_sRB"
      }
    },
    {
      "cell_type": "code",
      "source": [
        "r = response.json()\n",
        "r"
      ],
      "metadata": {
        "id": "JcLKwg0foR9p"
      },
      "execution_count": null,
      "outputs": []
    },
    {
      "cell_type": "code",
      "source": [
        "print(type(r))"
      ],
      "metadata": {
        "colab": {
          "base_uri": "https://localhost:8080/"
        },
        "id": "QnA9-DKDAgAj",
        "outputId": "6f110583-806a-4a80-b683-13e60e722b7d"
      },
      "execution_count": null,
      "outputs": [
        {
          "output_type": "stream",
          "name": "stdout",
          "text": [
            "<class 'dict'>\n"
          ]
        }
      ]
    },
    {
      "cell_type": "code",
      "source": [
        "items = r['response']['body']['items']\n",
        "items"
      ],
      "metadata": {
        "id": "yitc13fGBD8E"
      },
      "execution_count": null,
      "outputs": []
    },
    {
      "cell_type": "code",
      "source": [
        "\n",
        "cityName = [item['cityName'] for item in items] #구에 대한 list가 다 들어옴 (강남구, 강동구...)\n",
        "pm10Value = [item['pm10Value'] for item in items] #pm10의 값이 강남구부터 끝까지 리스트로 잡힘\n",
        "pm25Value = [item['pm25Value'] for item in items]\n",
        "so2Value = [item['so2Value'] for item in items]\n",
        "coValue = [item['coValue'] for item in items]\n",
        "o3Value = [item['o3Value'] for item in items]\n",
        "no2Value = [item['no2Value'] for item in items]\n",
        "\n",
        "cityName = pd.Series(cityName) #pd 시리즈: 데이터프레임 속에 들어가는 column에 해당하는 값들로 변환\n",
        "pm10Value = pd.Series(pm10Value)   \n",
        "pm25Value = pd.Series(pm25Value)\n",
        "so2Value = pd.Series(so2Value)\n",
        "coValue = pd.Series(coValue)\n",
        "o3Value = pd.Series(o3Value)\n",
        "no2Value = pd.Series(no2Value)\n",
        "#칼럼에 들어가는 데이터값들로 변환(총 7개의 column 생성)\n",
        "\n",
        "df = pd.DataFrame({ 'cityName': cityName, 'pm10Value': pm10Value, 'pm25Value': pm25Value, 'so2Value': so2Value, 'coValue': coValue, 'o3Value': o3Value, 'no2Value': no2Value})"
      ],
      "metadata": {
        "id": "W8lA0-IzE55W"
      },
      "execution_count": null,
      "outputs": []
    },
    {
      "cell_type": "markdown",
      "source": [
        "맨 마지막에 df = pd.Dataframe 이후에는 칼럼명, data값 넣어주기"
      ],
      "metadata": {
        "id": "Birmi7Bjqg5k"
      }
    },
    {
      "cell_type": "code",
      "source": [
        "df"
      ],
      "metadata": {
        "colab": {
          "base_uri": "https://localhost:8080/",
          "height": 833
        },
        "id": "DDCyb8GqDLmO",
        "outputId": "b727e79c-78d8-470d-db76-32c1ebd9b4e9"
      },
      "execution_count": null,
      "outputs": [
        {
          "output_type": "execute_result",
          "data": {
            "text/plain": [
              "   cityName pm10Value pm25Value so2Value coValue o3Value no2Value\n",
              "0       강남구        20        11    0.003     0.3   0.030    0.021\n",
              "1       강동구        22        12    0.002     0.4   0.019    0.026\n",
              "2       강북구        29        16    0.003     0.4   0.023    0.027\n",
              "3       강서구        31        14    0.003     0.4   0.033    0.021\n",
              "4       관악구                                                      \n",
              "5       광진구        19        12              0.4   0.022    0.026\n",
              "6       구로구        42        12    0.003     0.4   0.034    0.021\n",
              "7       금천구        24        12    0.003     0.4   0.033    0.024\n",
              "8       노원구        26        14    0.003     0.4   0.029    0.022\n",
              "9       도봉구        34        12    0.003     0.4   0.022    0.025\n",
              "10     동대문구        27        12    0.003     0.4   0.026    0.027\n",
              "11      동작구        25        17    0.002     0.3   0.038    0.016\n",
              "12      마포구        37        14    0.002     0.4   0.031    0.028\n",
              "13     서대문구        39        16    0.003     0.5   0.026    0.027\n",
              "14      서초구        23              0.002     0.4   0.028    0.024\n",
              "15      성동구        25         9    0.002     0.3   0.021    0.023\n",
              "16      성북구        37        18    0.003     0.5   0.022    0.028\n",
              "17      송파구        28        17    0.003     0.4   0.032    0.022\n",
              "18      양천구        28        16    0.002     0.4   0.030    0.022\n",
              "19     영등포구        30        17    0.003     0.5   0.026    0.025\n",
              "20      용산구        30        16    0.003     0.4   0.028    0.026\n",
              "21      은평구                        0.004     0.5   0.028    0.026\n",
              "22      종로구        22        12    0.003     0.4   0.025    0.028\n",
              "23       중구        20        13    0.003     0.4   0.024    0.033\n",
              "24      중랑구        24        10    0.003     0.4   0.029    0.025"
            ],
            "text/html": [
              "\n",
              "  <div id=\"df-8b54a445-7aa2-44d4-a57f-72ec93ea47e6\">\n",
              "    <div class=\"colab-df-container\">\n",
              "      <div>\n",
              "<style scoped>\n",
              "    .dataframe tbody tr th:only-of-type {\n",
              "        vertical-align: middle;\n",
              "    }\n",
              "\n",
              "    .dataframe tbody tr th {\n",
              "        vertical-align: top;\n",
              "    }\n",
              "\n",
              "    .dataframe thead th {\n",
              "        text-align: right;\n",
              "    }\n",
              "</style>\n",
              "<table border=\"1\" class=\"dataframe\">\n",
              "  <thead>\n",
              "    <tr style=\"text-align: right;\">\n",
              "      <th></th>\n",
              "      <th>cityName</th>\n",
              "      <th>pm10Value</th>\n",
              "      <th>pm25Value</th>\n",
              "      <th>so2Value</th>\n",
              "      <th>coValue</th>\n",
              "      <th>o3Value</th>\n",
              "      <th>no2Value</th>\n",
              "    </tr>\n",
              "  </thead>\n",
              "  <tbody>\n",
              "    <tr>\n",
              "      <th>0</th>\n",
              "      <td>강남구</td>\n",
              "      <td>20</td>\n",
              "      <td>11</td>\n",
              "      <td>0.003</td>\n",
              "      <td>0.3</td>\n",
              "      <td>0.030</td>\n",
              "      <td>0.021</td>\n",
              "    </tr>\n",
              "    <tr>\n",
              "      <th>1</th>\n",
              "      <td>강동구</td>\n",
              "      <td>22</td>\n",
              "      <td>12</td>\n",
              "      <td>0.002</td>\n",
              "      <td>0.4</td>\n",
              "      <td>0.019</td>\n",
              "      <td>0.026</td>\n",
              "    </tr>\n",
              "    <tr>\n",
              "      <th>2</th>\n",
              "      <td>강북구</td>\n",
              "      <td>29</td>\n",
              "      <td>16</td>\n",
              "      <td>0.003</td>\n",
              "      <td>0.4</td>\n",
              "      <td>0.023</td>\n",
              "      <td>0.027</td>\n",
              "    </tr>\n",
              "    <tr>\n",
              "      <th>3</th>\n",
              "      <td>강서구</td>\n",
              "      <td>31</td>\n",
              "      <td>14</td>\n",
              "      <td>0.003</td>\n",
              "      <td>0.4</td>\n",
              "      <td>0.033</td>\n",
              "      <td>0.021</td>\n",
              "    </tr>\n",
              "    <tr>\n",
              "      <th>4</th>\n",
              "      <td>관악구</td>\n",
              "      <td></td>\n",
              "      <td></td>\n",
              "      <td></td>\n",
              "      <td></td>\n",
              "      <td></td>\n",
              "      <td></td>\n",
              "    </tr>\n",
              "    <tr>\n",
              "      <th>5</th>\n",
              "      <td>광진구</td>\n",
              "      <td>19</td>\n",
              "      <td>12</td>\n",
              "      <td></td>\n",
              "      <td>0.4</td>\n",
              "      <td>0.022</td>\n",
              "      <td>0.026</td>\n",
              "    </tr>\n",
              "    <tr>\n",
              "      <th>6</th>\n",
              "      <td>구로구</td>\n",
              "      <td>42</td>\n",
              "      <td>12</td>\n",
              "      <td>0.003</td>\n",
              "      <td>0.4</td>\n",
              "      <td>0.034</td>\n",
              "      <td>0.021</td>\n",
              "    </tr>\n",
              "    <tr>\n",
              "      <th>7</th>\n",
              "      <td>금천구</td>\n",
              "      <td>24</td>\n",
              "      <td>12</td>\n",
              "      <td>0.003</td>\n",
              "      <td>0.4</td>\n",
              "      <td>0.033</td>\n",
              "      <td>0.024</td>\n",
              "    </tr>\n",
              "    <tr>\n",
              "      <th>8</th>\n",
              "      <td>노원구</td>\n",
              "      <td>26</td>\n",
              "      <td>14</td>\n",
              "      <td>0.003</td>\n",
              "      <td>0.4</td>\n",
              "      <td>0.029</td>\n",
              "      <td>0.022</td>\n",
              "    </tr>\n",
              "    <tr>\n",
              "      <th>9</th>\n",
              "      <td>도봉구</td>\n",
              "      <td>34</td>\n",
              "      <td>12</td>\n",
              "      <td>0.003</td>\n",
              "      <td>0.4</td>\n",
              "      <td>0.022</td>\n",
              "      <td>0.025</td>\n",
              "    </tr>\n",
              "    <tr>\n",
              "      <th>10</th>\n",
              "      <td>동대문구</td>\n",
              "      <td>27</td>\n",
              "      <td>12</td>\n",
              "      <td>0.003</td>\n",
              "      <td>0.4</td>\n",
              "      <td>0.026</td>\n",
              "      <td>0.027</td>\n",
              "    </tr>\n",
              "    <tr>\n",
              "      <th>11</th>\n",
              "      <td>동작구</td>\n",
              "      <td>25</td>\n",
              "      <td>17</td>\n",
              "      <td>0.002</td>\n",
              "      <td>0.3</td>\n",
              "      <td>0.038</td>\n",
              "      <td>0.016</td>\n",
              "    </tr>\n",
              "    <tr>\n",
              "      <th>12</th>\n",
              "      <td>마포구</td>\n",
              "      <td>37</td>\n",
              "      <td>14</td>\n",
              "      <td>0.002</td>\n",
              "      <td>0.4</td>\n",
              "      <td>0.031</td>\n",
              "      <td>0.028</td>\n",
              "    </tr>\n",
              "    <tr>\n",
              "      <th>13</th>\n",
              "      <td>서대문구</td>\n",
              "      <td>39</td>\n",
              "      <td>16</td>\n",
              "      <td>0.003</td>\n",
              "      <td>0.5</td>\n",
              "      <td>0.026</td>\n",
              "      <td>0.027</td>\n",
              "    </tr>\n",
              "    <tr>\n",
              "      <th>14</th>\n",
              "      <td>서초구</td>\n",
              "      <td>23</td>\n",
              "      <td></td>\n",
              "      <td>0.002</td>\n",
              "      <td>0.4</td>\n",
              "      <td>0.028</td>\n",
              "      <td>0.024</td>\n",
              "    </tr>\n",
              "    <tr>\n",
              "      <th>15</th>\n",
              "      <td>성동구</td>\n",
              "      <td>25</td>\n",
              "      <td>9</td>\n",
              "      <td>0.002</td>\n",
              "      <td>0.3</td>\n",
              "      <td>0.021</td>\n",
              "      <td>0.023</td>\n",
              "    </tr>\n",
              "    <tr>\n",
              "      <th>16</th>\n",
              "      <td>성북구</td>\n",
              "      <td>37</td>\n",
              "      <td>18</td>\n",
              "      <td>0.003</td>\n",
              "      <td>0.5</td>\n",
              "      <td>0.022</td>\n",
              "      <td>0.028</td>\n",
              "    </tr>\n",
              "    <tr>\n",
              "      <th>17</th>\n",
              "      <td>송파구</td>\n",
              "      <td>28</td>\n",
              "      <td>17</td>\n",
              "      <td>0.003</td>\n",
              "      <td>0.4</td>\n",
              "      <td>0.032</td>\n",
              "      <td>0.022</td>\n",
              "    </tr>\n",
              "    <tr>\n",
              "      <th>18</th>\n",
              "      <td>양천구</td>\n",
              "      <td>28</td>\n",
              "      <td>16</td>\n",
              "      <td>0.002</td>\n",
              "      <td>0.4</td>\n",
              "      <td>0.030</td>\n",
              "      <td>0.022</td>\n",
              "    </tr>\n",
              "    <tr>\n",
              "      <th>19</th>\n",
              "      <td>영등포구</td>\n",
              "      <td>30</td>\n",
              "      <td>17</td>\n",
              "      <td>0.003</td>\n",
              "      <td>0.5</td>\n",
              "      <td>0.026</td>\n",
              "      <td>0.025</td>\n",
              "    </tr>\n",
              "    <tr>\n",
              "      <th>20</th>\n",
              "      <td>용산구</td>\n",
              "      <td>30</td>\n",
              "      <td>16</td>\n",
              "      <td>0.003</td>\n",
              "      <td>0.4</td>\n",
              "      <td>0.028</td>\n",
              "      <td>0.026</td>\n",
              "    </tr>\n",
              "    <tr>\n",
              "      <th>21</th>\n",
              "      <td>은평구</td>\n",
              "      <td></td>\n",
              "      <td></td>\n",
              "      <td>0.004</td>\n",
              "      <td>0.5</td>\n",
              "      <td>0.028</td>\n",
              "      <td>0.026</td>\n",
              "    </tr>\n",
              "    <tr>\n",
              "      <th>22</th>\n",
              "      <td>종로구</td>\n",
              "      <td>22</td>\n",
              "      <td>12</td>\n",
              "      <td>0.003</td>\n",
              "      <td>0.4</td>\n",
              "      <td>0.025</td>\n",
              "      <td>0.028</td>\n",
              "    </tr>\n",
              "    <tr>\n",
              "      <th>23</th>\n",
              "      <td>중구</td>\n",
              "      <td>20</td>\n",
              "      <td>13</td>\n",
              "      <td>0.003</td>\n",
              "      <td>0.4</td>\n",
              "      <td>0.024</td>\n",
              "      <td>0.033</td>\n",
              "    </tr>\n",
              "    <tr>\n",
              "      <th>24</th>\n",
              "      <td>중랑구</td>\n",
              "      <td>24</td>\n",
              "      <td>10</td>\n",
              "      <td>0.003</td>\n",
              "      <td>0.4</td>\n",
              "      <td>0.029</td>\n",
              "      <td>0.025</td>\n",
              "    </tr>\n",
              "  </tbody>\n",
              "</table>\n",
              "</div>\n",
              "      <button class=\"colab-df-convert\" onclick=\"convertToInteractive('df-8b54a445-7aa2-44d4-a57f-72ec93ea47e6')\"\n",
              "              title=\"Convert this dataframe to an interactive table.\"\n",
              "              style=\"display:none;\">\n",
              "        \n",
              "  <svg xmlns=\"http://www.w3.org/2000/svg\" height=\"24px\"viewBox=\"0 0 24 24\"\n",
              "       width=\"24px\">\n",
              "    <path d=\"M0 0h24v24H0V0z\" fill=\"none\"/>\n",
              "    <path d=\"M18.56 5.44l.94 2.06.94-2.06 2.06-.94-2.06-.94-.94-2.06-.94 2.06-2.06.94zm-11 1L8.5 8.5l.94-2.06 2.06-.94-2.06-.94L8.5 2.5l-.94 2.06-2.06.94zm10 10l.94 2.06.94-2.06 2.06-.94-2.06-.94-.94-2.06-.94 2.06-2.06.94z\"/><path d=\"M17.41 7.96l-1.37-1.37c-.4-.4-.92-.59-1.43-.59-.52 0-1.04.2-1.43.59L10.3 9.45l-7.72 7.72c-.78.78-.78 2.05 0 2.83L4 21.41c.39.39.9.59 1.41.59.51 0 1.02-.2 1.41-.59l7.78-7.78 2.81-2.81c.8-.78.8-2.07 0-2.86zM5.41 20L4 18.59l7.72-7.72 1.47 1.35L5.41 20z\"/>\n",
              "  </svg>\n",
              "      </button>\n",
              "      \n",
              "  <style>\n",
              "    .colab-df-container {\n",
              "      display:flex;\n",
              "      flex-wrap:wrap;\n",
              "      gap: 12px;\n",
              "    }\n",
              "\n",
              "    .colab-df-convert {\n",
              "      background-color: #E8F0FE;\n",
              "      border: none;\n",
              "      border-radius: 50%;\n",
              "      cursor: pointer;\n",
              "      display: none;\n",
              "      fill: #1967D2;\n",
              "      height: 32px;\n",
              "      padding: 0 0 0 0;\n",
              "      width: 32px;\n",
              "    }\n",
              "\n",
              "    .colab-df-convert:hover {\n",
              "      background-color: #E2EBFA;\n",
              "      box-shadow: 0px 1px 2px rgba(60, 64, 67, 0.3), 0px 1px 3px 1px rgba(60, 64, 67, 0.15);\n",
              "      fill: #174EA6;\n",
              "    }\n",
              "\n",
              "    [theme=dark] .colab-df-convert {\n",
              "      background-color: #3B4455;\n",
              "      fill: #D2E3FC;\n",
              "    }\n",
              "\n",
              "    [theme=dark] .colab-df-convert:hover {\n",
              "      background-color: #434B5C;\n",
              "      box-shadow: 0px 1px 3px 1px rgba(0, 0, 0, 0.15);\n",
              "      filter: drop-shadow(0px 1px 2px rgba(0, 0, 0, 0.3));\n",
              "      fill: #FFFFFF;\n",
              "    }\n",
              "  </style>\n",
              "\n",
              "      <script>\n",
              "        const buttonEl =\n",
              "          document.querySelector('#df-8b54a445-7aa2-44d4-a57f-72ec93ea47e6 button.colab-df-convert');\n",
              "        buttonEl.style.display =\n",
              "          google.colab.kernel.accessAllowed ? 'block' : 'none';\n",
              "\n",
              "        async function convertToInteractive(key) {\n",
              "          const element = document.querySelector('#df-8b54a445-7aa2-44d4-a57f-72ec93ea47e6');\n",
              "          const dataTable =\n",
              "            await google.colab.kernel.invokeFunction('convertToInteractive',\n",
              "                                                     [key], {});\n",
              "          if (!dataTable) return;\n",
              "\n",
              "          const docLinkHtml = 'Like what you see? Visit the ' +\n",
              "            '<a target=\"_blank\" href=https://colab.research.google.com/notebooks/data_table.ipynb>data table notebook</a>'\n",
              "            + ' to learn more about interactive tables.';\n",
              "          element.innerHTML = '';\n",
              "          dataTable['output_type'] = 'display_data';\n",
              "          await google.colab.output.renderOutput(dataTable, element);\n",
              "          const docLink = document.createElement('div');\n",
              "          docLink.innerHTML = docLinkHtml;\n",
              "          element.appendChild(docLink);\n",
              "        }\n",
              "      </script>\n",
              "    </div>\n",
              "  </div>\n",
              "  "
            ]
          },
          "metadata": {},
          "execution_count": 9
        }
      ]
    },
    {
      "cell_type": "markdown",
      "source": [
        "도시명: a, b, c, d 있을 때 칼럼에 들어가는 데이터값을 pd 시리즈가 만드는 것임. \n",
        "\n",
        "총 7개의 칼럼을 만듦 (pd 시리즈)\n",
        "\n",
        "데이터프레임이라는 function만 가지고 있으면 cityname, pm10value... 등이 들어감"
      ],
      "metadata": {
        "id": "dxdomPftCDCc"
      }
    },
    {
      "cell_type": "code",
      "source": [
        "def test(sidoName): #시도 이름 (ex. 광주)\n",
        "  URL = ('http://apis.data.go.kr/B552584/ArpltnStatsSvc/'\n",
        "      'getCtprvnMesureSidoLIst?'\n",
        "      'sidoName='+sidoName+\n",
        "      '&searchCondition=hour'\n",
        "      '&pageNo=1'\n",
        "      '&numOfRows=100'\n",
        "      '&returnType=json'\n",
        "      '&serviceKey=miH%2BZXg85lQy4%2FkmhffvygXDIFiTwisriSLxtyECSzw6hxTVK7yI8QKIOc7mP7LEqCnhBGuj6iW1gZW65dum7A%3D%3D')\n",
        "  \n",
        "  response = requests.get(URL)\n",
        "  r = response.json()\n",
        "  items = r['response']['body']['items']\n",
        "\n",
        "  cityName = [item['cityName'] for item in items]\n",
        "  pm10Value = [item['pm10Value'] for item in items]\n",
        "  pm25Value = [item['pm25Value'] for item in items]\n",
        "  so2Value = [item['so2Value'] for item in items]\n",
        "  coValue = [item['coValue'] for item in items]\n",
        "  o3Value = [item['o3Value'] for item in items]\n",
        "  no2Value = [item['no2Value'] for item in items]\n",
        "\n",
        "  cityName = pd.Series(cityName)\n",
        "  pm10Value = pd.Series(pm10Value)   \n",
        "  pm25Value = pd.Series(pm25Value)\n",
        "  so2Value = pd.Series(so2Value)\n",
        "  coValue = pd.Series(coValue)\n",
        "  o3Value = pd.Series(o3Value)\n",
        "  no2Value = pd.Series(no2Value)\n",
        "\n",
        "  df = pd.DataFrame({ 'cityName': cityName, 'pm10Value': pm10Value, 'pm25Value': pm25Value, 'so2Value': so2Value, 'coValue': coValue, 'o3Value': o3Value, 'no2Value': no2Value})\n",
        "  return df"
      ],
      "metadata": {
        "id": "xa2Gb_qsm_G5"
      },
      "execution_count": null,
      "outputs": []
    },
    {
      "cell_type": "code",
      "source": [
        "#!pip install gradio"
      ],
      "metadata": {
        "id": "N3GOp7hoECJp"
      },
      "execution_count": null,
      "outputs": []
    },
    {
      "cell_type": "code",
      "source": [
        "#import gradio as gr"
      ],
      "metadata": {
        "id": "w5w1UIBfES02"
      },
      "execution_count": null,
      "outputs": []
    },
    {
      "cell_type": "markdown",
      "source": [
        "Gradio 먼저 깔고 난 뒤에 우리가 원하는 방식으로 프로그램 만들 수 있음"
      ],
      "metadata": {
        "id": "Wq2m7xH_ri76"
      }
    },
    {
      "cell_type": "code",
      "source": [
        "iface = gr.Interface(test, gr.inputs.Dropdown(['서울', '부산', '대구', '인천', '광주', '대전', '울산', '경기', '강원', '충북', '충남', '전북', '전남', '경북', '경남', '제주', '세종']), outputs=['dataframe'])\n",
        "iface.launch(debug=True)"
      ],
      "metadata": {
        "id": "kxORJVPOnDSP",
        "outputId": "81624500-2ab9-4178-e4c6-3092bf54bccd",
        "colab": {
          "base_uri": "https://localhost:8080/",
          "height": 685
        }
      },
      "execution_count": null,
      "outputs": [
        {
          "output_type": "stream",
          "name": "stdout",
          "text": [
            "Colab notebook detected. This cell will run indefinitely so that you can see errors and logs. To turn off, set debug=False in launch().\n",
            "Running on public URL: https://11598.gradio.app\n",
            "\n",
            "This share link expires in 72 hours. For free permanent hosting, check out Spaces (https://huggingface.co/spaces)\n"
          ]
        },
        {
          "output_type": "display_data",
          "data": {
            "text/plain": [
              "<IPython.lib.display.IFrame at 0x7fdb3dfafdd0>"
            ],
            "text/html": [
              "\n",
              "        <iframe\n",
              "            width=\"900\"\n",
              "            height=\"500\"\n",
              "            src=\"https://11598.gradio.app\"\n",
              "            frameborder=\"0\"\n",
              "            allowfullscreen\n",
              "        ></iframe>\n",
              "        "
            ]
          },
          "metadata": {}
        },
        {
          "output_type": "stream",
          "name": "stdout",
          "text": [
            "Keyboard interruption in main thread... closing server.\n"
          ]
        },
        {
          "output_type": "execute_result",
          "data": {
            "text/plain": [
              "(<fastapi.applications.FastAPI at 0x7fdb46b796d0>,\n",
              " 'http://127.0.0.1:7860/',\n",
              " 'https://11598.gradio.app')"
            ]
          },
          "metadata": {},
          "execution_count": 11
        }
      ]
    }
  ]
}