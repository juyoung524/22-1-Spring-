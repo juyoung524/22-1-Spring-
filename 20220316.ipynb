{
  "nbformat": 4,
  "nbformat_minor": 0,
  "metadata": {
    "kernelspec": {
      "display_name": "Python 3",
      "language": "python",
      "name": "python3"
    },
    "language_info": {
      "codemirror_mode": {
        "name": "ipython",
        "version": 3
      },
      "file_extension": ".py",
      "mimetype": "text/x-python",
      "name": "python",
      "nbconvert_exporter": "python",
      "pygments_lexer": "ipython3",
      "version": "3.7.1"
    },
    "colab": {
      "name": "20220316.ipynb",
      "provenance": [],
      "include_colab_link": true
    }
  },
  "cells": [
    {
      "cell_type": "markdown",
      "metadata": {
        "id": "view-in-github",
        "colab_type": "text"
      },
      "source": [
        "<a href=\"https://colab.research.google.com/github/juyoung524/22-1-Spring-/blob/main/20220316.ipynb\" target=\"_parent\"><img src=\"https://colab.research.google.com/assets/colab-badge.svg\" alt=\"Open In Colab\"/></a>"
      ]
    },
    {
      "cell_type": "code",
      "source": [
        ""
      ],
      "metadata": {
        "id": "CFhG4nINbO_-"
      },
      "execution_count": null,
      "outputs": []
    },
    {
      "cell_type": "markdown",
      "source": [
        "**0309** **영어음성학응용**\n",
        "\n",
        "1) 변수: variables 2) 문법: syntax A. 조건 (if) B. 반복 (for) 3) 함수: function 4) 패키지 (=library): 특정 목적으로 여러 함수들을 잘 모아놓은 것을 패키지라고 부름 (통계, 시각화, AI, 머신러닝, 사운드를 위한 패키지가 있음. 패키지 공부하면 끝나는 것이다)\n",
        "\n",
        "A. Packages -> import\n",
        "\n",
        "String: variable 중 하나임. 그 중 또 중요하기 때문에 따로 빼서 파일로 만든 것임\n",
        "\n",
        "Packages 들어가 보면 뭐 배우게 될지 나옴\n",
        "\n",
        "이 정도는 배웠으면 좋겠다 하는 패키지 이름들 모아놓음.\n",
        "\n",
        "Basic python packages라고 검색하면 most popular python packages 나옴\n",
        "\n",
        "아주 popular해서 우리가 했으면 좋겠다 하는 것들\n",
        "\n",
        "Numpy- 숫자를 다루려면 numpy를 이용해야 함 (여러 가지 수치 관련된 게 여기 들어 있음. AI, data science 하려면 이거 꼭 필요함)\n",
        "\n",
        "Pandas: 엑셀 파일 처리하는 것. 테이블 형태로 된 데이터 어떻게 부르고, 쓰고 하는 것 (manipulate하는 방식들)\n",
        "\n",
        "Matplotlib: ‘matlab’라는 공학자들이 쓰는 것. 이 프로그램에서 visualize를 잘 하고 있음. 거기 있는 것과 유사하게 plotting을 잘 해 주는 library라는 뜻\n",
        "\n",
        "Scikit-learn: regression (머신러닝에 많이 쓰임) 필수적이고 기본적인 패키지로 알고 있어야 함\n",
        "\n",
        "Urllib3: url 가지고 우리가 웹을 통해서 얻을 수 있는 것들.\n",
        "\n",
        "NLTK: 어문계열 학생들에게 거의 필수적임. 이거 하나만 확실히 해도 취직하는 데 아주 도움이 될 것임.텍스트 처리하는 모든 게 다 들어 있음.\n",
        "\n",
        "Pillow: 이미지, 사진 파일들 어떻게 불러오고, 조작하고 하는 것들 해주는 곳임\n",
        "\n",
        "Librosa: 사운드 관련된 것임. 우리 수업이 ‘음성학’이니까 소리 어떻게 불러서 조작하고, 출력하는지 관련된 것임. 이 프로그램에서 다룰 것이다\n",
        "\n",
        "수업 시간에 기본적인 것들 다 다룰 것임. 처음에 import해온다. (가져오는 역할을 함)\n",
        "\n",
        "Programming Language: 모든 language는 기본적으로 ‘word’이다. Words로 이루어져 있음 한 word는 ‘meaning/content’, 뜻을 가지고 있음 (word-meaning mapping되어 있는 것) 쓰는 일반 language는 ‘word’가 핵심 프로그래밍 language도 똑같음. ‘word’에 해당되는 게 ‘variable’(변수)\n",
        "\n",
        "Var=3\n",
        "\n",
        "변수에 어떤 내용을 assign하는 것이 word 하나를 만드는 것이라고 생각하면 됨 Word만 있으면 안됨. Word들을 어떻게든 조합을 해야 함. 조합하는 방식을 ‘문법’, syntax라고 함 Word + Syntax가 있으면 language가 되는 것\n",
        "Syntax 중에서 기본이 되는 게\n",
        "1) 조건문 (if)\n",
        "2) 반복 (for)\n",
        "\n",
        "은 저장소이기 때문에 edit하거나 실행할 수 없음. 그건 Colab라는 데 가서 해야 함 클릭하면 코딩 내용과 함께 Colab으로 가게 됨\n",
        "\n",
        "변수(variables): 모든 변수는 숫자와 글자로 구성됨. (어떤 코딩이든) 1) Numbers 2) String Int: 숫자는 숫잔데, 소수점 안 달았으니까 ‘정수’라는 뜻임 Number 중에서는 int (정수)를 배움 정수 말고 ‘실수’도 있음 Float: 소수점이 있는 실수를 의미함 ‘1.0’은 실수임 (1과 1.0은 다름) Value = 가지고 있는 Content를 의미함\n",
        "\n",
        "Int, Float 타입 봄 String: ‘Quote’가 되어 있으면 string이 되는 것임 (숫자가 있더라도) List 변수: 숫자 / 문자 / list (다른 게 아니라, 여러 개 담을 때 쓰는 것임) 숫자 1, 문자 i담기가 가능했음 List = [~, ~…] (숫자, 문자 모두 들어갈 수 있음)\n",
        "\n",
        "A[0]: python에서는 0번째부터 시작함. 0번째를 가져와라 (a의 0번째) A[2] (a의 2번째) Print 안 해도 나옴. 제일 마지막줄에 있는 것은 print 안 해도 print 한 효과가 있음\n",
        "\n",
        "처음부터 끝까지 할 때 a[:]라고 표기 A[1:5] = [2, 3, 4, 5] 만약 처음부터 5까지 하고 싶으면 a[:5] = [1, 2, 3, 4, 5] A[1:-1]: [2, 3, 4, 5, 6, 7, 8, 9]\n",
        "\n",
        "숫자 String list (= tuple): a(1, 2, 3) ‘tuple’은 item을 assign해서 내부 바꾸는 것을 못 함 사람들이 실수로 중요한 정보 담아놨는데 코딩하다가 지울까봐 이런 식으로 담아둠. 그 외에는 똑 같은 거라고 생각하면 됨 괄호로 똑같이 할 수 있는데, secure하기 위해서 만든 게 ‘tuple’ Dict: 제일 어려운데 하다 보면 쉬워짐\n",
        "\n",
        "Print(type(a)), print(a[‘ba’]) 실행을 두 개 할 때 semicolon 주로 사용함\n",
        "\n",
        "다음 시간에는 For, if, syntax에 대해서 배우게 될 것 임 (list 안에서 for 쓰는 법 등)"
      ],
      "metadata": {
        "id": "vtY66bpbbaAX"
      }
    },
    {
      "cell_type": "code",
      "metadata": {
        "id": "goAyoU7vRheI",
        "outputId": "068731d9-7186-453a-9a6b-b437acc64bc5",
        "colab": {
          "base_uri": "https://localhost:8080/"
        }
      },
      "source": [
        "a = 1; print(type(a))"
      ],
      "execution_count": null,
      "outputs": [
        {
          "output_type": "stream",
          "name": "stdout",
          "text": [
            "<class 'int'>\n"
          ]
        }
      ]
    },
    {
      "cell_type": "code",
      "metadata": {
        "id": "txxnoqJuRheJ",
        "outputId": "fac1233b-b1e0-41b4-ea3c-94ad0c7104ec",
        "colab": {
          "base_uri": "https://localhost:8080/"
        }
      },
      "source": [
        "a = 1.1; print(type(a))"
      ],
      "execution_count": null,
      "outputs": [
        {
          "output_type": "stream",
          "name": "stdout",
          "text": [
            "<class 'float'>\n"
          ]
        }
      ]
    },
    {
      "cell_type": "code",
      "metadata": {
        "id": "SyP0PB86RheL",
        "outputId": "e10d274f-e7fd-4cdd-a822-847fb83560ec"
      },
      "source": [
        "a = '123'; print(type(a)); print(a[1])"
      ],
      "execution_count": null,
      "outputs": [
        {
          "output_type": "stream",
          "text": [
            "<class 'str'>\n",
            "2\n"
          ],
          "name": "stdout"
        }
      ]
    },
    {
      "cell_type": "code",
      "metadata": {
        "id": "EKYj0dvIHPo0",
        "outputId": "a1237ded-1b0a-4ec6-e393-09846b2194a5",
        "colab": {
          "base_uri": "https://localhost:8080/"
        }
      },
      "source": [
        "a = 'hello'; print(type(a)); print(a[1])"
      ],
      "execution_count": null,
      "outputs": [
        {
          "output_type": "stream",
          "name": "stdout",
          "text": [
            "<class 'str'>\n",
            "e\n"
          ]
        }
      ]
    },
    {
      "cell_type": "code",
      "metadata": {
        "id": "Df6PhU-tHXr2",
        "outputId": "3e99729c-3214-4756-e692-1522f494a01e",
        "colab": {
          "base_uri": "https://localhost:8080/"
        }
      },
      "source": [
        "a = [1, 2, 3, 4]; print(type(a)); print(a[0])"
      ],
      "execution_count": null,
      "outputs": [
        {
          "output_type": "stream",
          "name": "stdout",
          "text": [
            "<class 'list'>\n",
            "1\n"
          ]
        }
      ]
    },
    {
      "cell_type": "code",
      "metadata": {
        "id": "DfS-gknCRheL",
        "outputId": "ff76fc0a-73db-43fc-bb86-946381a6cb4d",
        "colab": {
          "base_uri": "https://localhost:8080/"
        }
      },
      "source": [
        "a = [1,'a', [3, '4']]; print(type(a)); print(a[0]); print(a[1]); print(a[2]); print(a[2][1])"
      ],
      "execution_count": null,
      "outputs": [
        {
          "output_type": "stream",
          "name": "stdout",
          "text": [
            "<class 'list'>\n",
            "1\n",
            "a\n",
            "[3, '4']\n",
            "4\n"
          ]
        }
      ]
    },
    {
      "cell_type": "code",
      "metadata": {
        "id": "2sivfloGRheM",
        "outputId": "5c768bb7-e02b-4c87-a76e-3e992cdb244e"
      },
      "source": [
        "a =\t{\"a\": \"apple\", \"b\": \"orange\", \"c\": 2014}\n",
        "print(type(a))\n",
        "print(a[\"a\"])"
      ],
      "execution_count": null,
      "outputs": [
        {
          "output_type": "stream",
          "text": [
            "<class 'dict'>\n",
            "apple\n"
          ],
          "name": "stdout"
        }
      ]
    }
  ]
}