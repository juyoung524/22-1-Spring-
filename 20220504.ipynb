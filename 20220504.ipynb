{
  "nbformat": 4,
  "nbformat_minor": 0,
  "metadata": {
    "kernelspec": {
      "display_name": "Python 3",
      "language": "python",
      "name": "python3"
    },
    "language_info": {
      "codemirror_mode": {
        "name": "ipython",
        "version": 3
      },
      "file_extension": ".py",
      "mimetype": "text/x-python",
      "name": "python",
      "nbconvert_exporter": "python",
      "pygments_lexer": "ipython3",
      "version": "3.7.1"
    },
    "colab": {
      "name": "nlp.ipynb",
      "provenance": [],
      "include_colab_link": true
    }
  },
  "cells": [
    {
      "cell_type": "markdown",
      "metadata": {
        "id": "view-in-github",
        "colab_type": "text"
      },
      "source": [
        "<a href=\"https://colab.research.google.com/github/juyoung524/22-1-Spring-/blob/main/20220504.ipynb\" target=\"_parent\"><img src=\"https://colab.research.google.com/assets/colab-badge.svg\" alt=\"Open In Colab\"/></a>"
      ]
    },
    {
      "cell_type": "markdown",
      "source": [
        "nltk: **Natural Language Tool Kit**\n",
        "\n",
        "Natural Language <-> Artificial Language\n",
        "\n",
        "사람의 언어에 대한 패키지라고 말하면 너무 광범위하니까 그냥 'nltk'라고 하면 **'Text processing'**으로 이해하면 될 것 같음 (오늘부터 두어 시간 동안 텍스트에 관련해서 할 것이고, 주 패키지는 nltk이다!)"
      ],
      "metadata": {
        "id": "-oBooUgLF1qa"
      }
    },
    {
      "cell_type": "markdown",
      "metadata": {
        "id": "ltUO0sYwyGfU"
      },
      "source": [
        "### Tokenization"
      ]
    },
    {
      "cell_type": "markdown",
      "source": [
        "text가 긴 하나의 string으로 되어 있을 때, 이게 책 하나일 수도 있고 밑에 나와있는 대로 짧을 수도 있음. **단어 하나하나 수준으로 끊어서 읽는 걸 'token'**이라고 함.\n",
        "\n",
        "끊는다는 개념이 string으로 길게 들고 있는 것이 아니라, **list 안에 단어 단어를 넣는 것**을 의미함. (tokenization)\n",
        "\n",
        "* **Normalization은 깨끗하게 하는 'cleaning'**이라고 이해하면 됨. 동사에 어미가 붙고 명사에 접두사 붙는 것을 분리하거나 청소하는 것을 'normalization'이라고 함\n",
        "\n",
        "* **Stopword**: 불용어 / **대명사, 조동사 등은 너무 많이 쓰이는 단어라서 우리가 별로 관심이 없음**. 한 소설에서 'the', 'a', 'is'가 몇 번 나왔는지는 별로 관심이 없음.\n",
        "\n",
        " --> 너무 자주 나오는 단어들은 분석에 별로 쓸모가 없기 때문에, 그런 것 따로 모아놓기도 함. (불용어 list)\n",
        "\n",
        "* **Collocation**: 우리말로 '연어' (대표적으로 숙어) (ex. take care 이런 식으로 붙어서 나올 확률이 놓음. 사람 이름: Michael Smith가 연어가 될 수도 있음)\n",
        "\n",
        "* **Concordance**: 큰 corpus가 있다고 할 때, 특정 단어의 용매가 어떻게 되는지 보여질 수 있음. 조동사 would가 큰 corpus에서 어떻게 사용됐는지 보여달라고 하면 편하게 보기 좋게 용매 찾아주는 것을 'concordance'라고 함\n",
        "\n",
        "* 사실 Text processing에서 가장 중요한 것이 '**frequency**'임. 어떤 단어가 많이 쌓였는지가 document에 대한 정의를 잘 내려줄 수 있는 것임. '핏쳐'라는 단어가 많이 나왔다고 하면 **(특정 단어가 많이 나오면) 어떤 article이라고 분석 가능**\n",
        "\n",
        "* Dictionary: 사전을 정의해 놓는 것. 통으로 불러와서 유용하게 쓸 수 있음\n",
        "\n",
        "* **POS tag**: 품사임. 각 품사의 정의와 설명이 밑에 나와 있음. (설명, 예시) 품사를 자동으로 분석해주는 것. Natural language processing의 중요한 요소 중 하나임\n",
        "\n",
        "* **Wordcloud**: 위에서 언급한 **'frequency'를 기반으로 해서 visualize**해주는 것임. 어떤 article에서 '대선'이라는 단어가 많이 나왔을 거고, 대선이 끝나고 나서는 '대선'이라는 말의 빈도가 확 줄어들었을 것임. **frequency에 기반하여 글자 크기에 차이** 두는 것이 wordcloud임\n",
        "\n",
        "* **Regular expression**: 규칙을 표현하는 것 의미함. 어떤 Text에 조작 가하고 싶을 때 어떤 규칙으로 해서 찾아내는 것임. (ex. 어떤 word file이 있을 때, 한글이든 M/S word에서 불러와서 search할 때 단순히 어떤 단어 찾아라! 할 수 있지만, 구글에서 찾을 때 여러 가지 표시를 해서 여러분들이 search option을 다양하게 할 수 있음. 훨씬 더 **여러분이 할 수 있는 모든 것을 규칙으로 담아서 search할 수 있는 것**임\n",
        "\n"
      ],
      "metadata": {
        "id": "Ti5c24ldGTZL"
      }
    },
    {
      "cell_type": "markdown",
      "source": [
        "NLP(Natural Language Processing) 시장의 수요에 비해 공급은 충분히 없는 편임. 그래서 이 쪽으로 공부를 확실히 해 둔다면, 취업 시장에서 도움이 많이 될 것임.\n",
        "\n",
        "그 중에서도 가장 한가운데 있는 기능이 바로 'regular expressions' 여기 있는 기능 잘 활용해서 어떻게 텍스트 처리하고... 하는 기능만 잘 하면 취업에 굉장히 도움이 많이 됨."
      ],
      "metadata": {
        "id": "pIvWQIjZIRjR"
      }
    },
    {
      "cell_type": "code",
      "metadata": {
        "id": "di6xZ08xsgO7"
      },
      "source": [
        "import nltk"
      ],
      "execution_count": 1,
      "outputs": []
    },
    {
      "cell_type": "code",
      "source": [
        "# copy a file from github\n",
        "import os\n",
        "url = \"https://raw.githubusercontent.com/hsnam95/class2022Spring/main/crime_punishment.txt\"\n",
        "os.system(\"curl \" + url + \" > crime_punishment.txt\")\n",
        "\n",
        "# read a text file in the server\n",
        "file = open(\"crime_punishment.txt\")\n",
        "text = file.read().replace(\"\\n\", \" \")\n",
        "file.close()"
      ],
      "metadata": {
        "id": "btgs9Nt-2Yj-"
      },
      "execution_count": 2,
      "outputs": []
    },
    {
      "cell_type": "markdown",
      "source": [
        "우리 class 사이트에 '죄와벌'이라는 텍스트를 따놓으심 (Crime_punishment) 이걸 url로 해서 가져온 것 실행하면 무슨 일이 생기냐면, 저 부분이 copy되어서 나옴 (crime_punishment)\n",
        "\n",
        "우리 서버에 내 계정 current folder에 나옴.\n",
        "\n",
        "밑게 꺼는 open해서 이 파일을 불러오고, 파일을 이렇게 쓰면 text에 모든 text가 들어와 있는 것임. (죄와벌이 싹 다 들어옴)\n",
        "\n",
        "text에다가 ~.txt에 들어온 모든 것을 string으로 가져옴. 모든 텍스트를 이 'text'라는 변수에 'string'으로 가져옴\n",
        "\n",
        "이렇게도 할 수 있지만, "
      ],
      "metadata": {
        "id": "vDIY5O5RI3Ij"
      }
    },
    {
      "cell_type": "code",
      "metadata": {
        "id": "tbHEyyNHntcZ"
      },
      "source": [
        "# or copy/pase text here\n",
        "text = 'Here’s to the crazy ones, the misfits, the rebels, the troublemakers, the round pegs in the square holes. \\\n",
        "The ones who see things differently — they’re not fond of rules. \\\n",
        "You can quote them, disagree with them, glorify or vilify them, \\\n",
        "but the only thing you can’t do is ignore them because they change things. \\\n",
        "They push the human race forward, and while some may see them as the crazy ones, we see genius, \\\n",
        "because the ones who are crazy enough to think that they can change the world, are the ones who do.'"
      ],
      "execution_count": 3,
      "outputs": []
    },
    {
      "cell_type": "markdown",
      "source": [
        "copy, paste해서 text 가져올 수도 있음."
      ],
      "metadata": {
        "id": "9cdbECXYJisf"
      }
    },
    {
      "cell_type": "code",
      "source": [
        "# write out a text file\n",
        "file = open(\"tmp.txt\", \"w\")\n",
        "file.write(text)\n",
        "file.close()"
      ],
      "metadata": {
        "id": "9saTcc9C4Cjn"
      },
      "execution_count": 4,
      "outputs": []
    },
    {
      "cell_type": "markdown",
      "source": [
        "이건 뭐냐면 우리가 어떤 'text'라는 variable에 string이 저런 식으로 들어 있다면, 우리가 저런 식으로 파일을 아웃풋으로 만들 수도 있는 것임\n",
        "\n",
        "tmp.txt 이런 식으로 아예 'write out' 할 수가 있음\n",
        "\n",
        "이 파일 속에는 금방 우리가 'text'라고 해서 금방 넣었던 내용이 담긴 텍스트파일이 담김"
      ],
      "metadata": {
        "id": "OusJfjpXJoL6"
      }
    },
    {
      "cell_type": "code",
      "metadata": {
        "id": "45jV2UYs1GEC",
        "outputId": "3a518adb-12ec-4872-a1e3-06d2cd031790",
        "colab": {
          "base_uri": "https://localhost:8080/"
        }
      },
      "source": [
        "text.split()"
      ],
      "execution_count": 6,
      "outputs": [
        {
          "output_type": "execute_result",
          "data": {
            "text/plain": [
              "['Here’s',\n",
              " 'to',\n",
              " 'the',\n",
              " 'crazy',\n",
              " 'ones,',\n",
              " 'the',\n",
              " 'misfits,',\n",
              " 'the',\n",
              " 'rebels,',\n",
              " 'the',\n",
              " 'troublemakers,',\n",
              " 'the',\n",
              " 'round',\n",
              " 'pegs',\n",
              " 'in',\n",
              " 'the',\n",
              " 'square',\n",
              " 'holes.',\n",
              " 'The',\n",
              " 'ones',\n",
              " 'who',\n",
              " 'see',\n",
              " 'things',\n",
              " 'differently',\n",
              " '—',\n",
              " 'they’re',\n",
              " 'not',\n",
              " 'fond',\n",
              " 'of',\n",
              " 'rules.',\n",
              " 'You',\n",
              " 'can',\n",
              " 'quote',\n",
              " 'them,',\n",
              " 'disagree',\n",
              " 'with',\n",
              " 'them,',\n",
              " 'glorify',\n",
              " 'or',\n",
              " 'vilify',\n",
              " 'them,',\n",
              " 'but',\n",
              " 'the',\n",
              " 'only',\n",
              " 'thing',\n",
              " 'you',\n",
              " 'can’t',\n",
              " 'do',\n",
              " 'is',\n",
              " 'ignore',\n",
              " 'them',\n",
              " 'because',\n",
              " 'they',\n",
              " 'change',\n",
              " 'things.',\n",
              " 'They',\n",
              " 'push',\n",
              " 'the',\n",
              " 'human',\n",
              " 'race',\n",
              " 'forward,',\n",
              " 'and',\n",
              " 'while',\n",
              " 'some',\n",
              " 'may',\n",
              " 'see',\n",
              " 'them',\n",
              " 'as',\n",
              " 'the',\n",
              " 'crazy',\n",
              " 'ones,',\n",
              " 'we',\n",
              " 'see',\n",
              " 'genius,',\n",
              " 'because',\n",
              " 'the',\n",
              " 'ones',\n",
              " 'who',\n",
              " 'are',\n",
              " 'crazy',\n",
              " 'enough',\n",
              " 'to',\n",
              " 'think',\n",
              " 'that',\n",
              " 'they',\n",
              " 'can',\n",
              " 'change',\n",
              " 'the',\n",
              " 'world,',\n",
              " 'are',\n",
              " 'the',\n",
              " 'ones',\n",
              " 'who',\n",
              " 'do.']"
            ]
          },
          "metadata": {},
          "execution_count": 6
        }
      ]
    },
    {
      "cell_type": "markdown",
      "source": [
        "띄어쓰기를 기준으로 다 쪼개줌. List로 string string을 다 쪼개서 하나의 아이템으로 만듦\n",
        "\n",
        "**전형적인 tokenize를 하는 것임. (띄어쓰기 기반**이니까)"
      ],
      "metadata": {
        "id": "VgoXGaJJVhcI"
      }
    },
    {
      "cell_type": "code",
      "metadata": {
        "id": "NFR-cRaahTPy",
        "outputId": "01cddaf4-6b78-4522-ba7f-d29aac254230",
        "colab": {
          "base_uri": "https://localhost:8080/",
          "height": 72
        }
      },
      "source": [
        "' '.join(text.split())"
      ],
      "execution_count": 7,
      "outputs": [
        {
          "output_type": "execute_result",
          "data": {
            "text/plain": [
              "'Here’s to the crazy ones, the misfits, the rebels, the troublemakers, the round pegs in the square holes. The ones who see things differently — they’re not fond of rules. You can quote them, disagree with them, glorify or vilify them, but the only thing you can’t do is ignore them because they change things. They push the human race forward, and while some may see them as the crazy ones, we see genius, because the ones who are crazy enough to think that they can change the world, are the ones who do.'"
            ],
            "application/vnd.google.colaboratory.intrinsic+json": {
              "type": "string"
            }
          },
          "metadata": {},
          "execution_count": 7
        }
      ]
    },
    {
      "cell_type": "markdown",
      "source": [
        "띄어쓰기 단위로 나뉘어진 list를 ' ' (Space를 스트링으로 만들어 놓은 것임) **space를 가지고 list에 있는 token들을 다 결합**시켜라!\n",
        "\n",
        "-> One text로 만들어 주는 것임\n",
        "\n",
        "Space 없이 하면 그냥 다 space 없이 만들어짐"
      ],
      "metadata": {
        "id": "SCRHHjK9VtqG"
      }
    },
    {
      "cell_type": "code",
      "metadata": {
        "id": "Gq_lPZMHntcb",
        "outputId": "6363c01d-e524-4fa2-9e8c-aceb655c4f10",
        "colab": {
          "base_uri": "https://localhost:8080/"
        }
      },
      "source": [
        "from nltk.tokenize import word_tokenize\n",
        "nltk.download('punkt')\n",
        "words = word_tokenize(text)"
      ],
      "execution_count": 8,
      "outputs": [
        {
          "output_type": "stream",
          "name": "stdout",
          "text": [
            "[nltk_data] Downloading package punkt to /root/nltk_data...\n",
            "[nltk_data]   Unzipping tokenizers/punkt.zip.\n"
          ]
        }
      ]
    },
    {
      "cell_type": "markdown",
      "source": [
        "word에는 word_tokenize를 해서 위에 있던 text를 쪼개면\n",
        "\n",
        "punctuation까지 다 분류해서 좀 더 정교하게 분류해라! (위에는 punctuation까지 다 포함해서 되어 있었는데, 그걸 더 정교하게 분류해낼 수 있음)\n",
        "\n",
        "punctuation은 사실 필요하지 않음. 없애고 싶음."
      ],
      "metadata": {
        "id": "9NB-khj0W858"
      }
    },
    {
      "cell_type": "code",
      "source": [
        "words"
      ],
      "metadata": {
        "id": "19WHOWmjXBo8"
      },
      "execution_count": null,
      "outputs": []
    },
    {
      "cell_type": "markdown",
      "source": [
        "punctuation이 따로 'token'들로 잡힘"
      ],
      "metadata": {
        "id": "y-370CDqXD3_"
      }
    },
    {
      "cell_type": "code",
      "metadata": {
        "id": "RC1fe7nWF6wN"
      },
      "source": [
        "from nltk.tokenize import RegexpTokenizer\n",
        "retokenize = RegexpTokenizer(\"[\\w]+\")\n",
        "words = retokenize.tokenize(text)"
      ],
      "execution_count": 10,
      "outputs": []
    },
    {
      "cell_type": "markdown",
      "source": [
        "**regular expression based tokenizer**\n",
        "\n",
        "잘라진 word들 보면 punctuation들이 아예 여기 빠져 있음. **여기가 우리가 진정으로 쓸 tokenizer이구나**! 하고 알 수 있음 (re tokenizer)"
      ],
      "metadata": {
        "id": "G5sIblFKXm-m"
      }
    },
    {
      "cell_type": "markdown",
      "metadata": {
        "id": "Pc42Plwx56YS"
      },
      "source": [
        "### Normalization  \n",
        "**Stemming** 어간 추출 대충의 패턴 규칙으로 어미를 잘라내는 것 (사전에 없는 어간 나올 수 있음)\n",
        "\n",
        "**Lemmatization** 표제어(기본 사전형) 추출.\n"
      ]
    },
    {
      "cell_type": "markdown",
      "source": [
        "Stemming: 어간 추출을 하는 건데, 대충의 패턴 규칙으로 어미를 잘라내는 것 (**사전에 없는 어간 나올 수 있음**) 사전에 없는 형태로 나올 수 있음"
      ],
      "metadata": {
        "id": "SmglFuyHXw4X"
      }
    },
    {
      "cell_type": "code",
      "metadata": {
        "id": "lsFfoAr259Fs"
      },
      "source": [
        "from nltk.stem import PorterStemmer\n",
        "stemmer = PorterStemmer()\n",
        "[stemmer.stem(w) for w in words]"
      ],
      "execution_count": null,
      "outputs": []
    },
    {
      "cell_type": "markdown",
      "source": [
        "막 자르다 보니까 'crazi', 'troublemak', 'squar' 이런 식으로 사전에 없는 것들이 나옴\n",
        "\n",
        "기계적으로 대충대충 끊다 보니까... 별로 안 좋음"
      ],
      "metadata": {
        "id": "JTGPt5ytYAXr"
      }
    },
    {
      "cell_type": "code",
      "metadata": {
        "id": "HkbgNiPd8BdL"
      },
      "source": [
        "from nltk.stem import LancasterStemmer\n",
        "stemmer = LancasterStemmer()\n",
        "[stemmer.stem(w) for w in words]"
      ],
      "execution_count": null,
      "outputs": []
    },
    {
      "cell_type": "markdown",
      "source": [
        "여기도 마찬가지로 말이 안 되는 단어들이 섞여 있음"
      ],
      "metadata": {
        "id": "fUobQ7ZnQ7IT"
      }
    },
    {
      "cell_type": "code",
      "metadata": {
        "id": "VIIh5pYd8f74"
      },
      "source": [
        "from nltk.stem import WordNetLemmatizer\n",
        "nltk.download('wordnet')\n",
        "lemmatizer = WordNetLemmatizer()\n",
        "[lemmatizer.lemmatize(w) for w in words]"
      ],
      "execution_count": null,
      "outputs": []
    },
    {
      "cell_type": "markdown",
      "source": [
        "**Lemmatizer: 잘라내는 것뿐만 아니라 원형으로 복구까지 하는 것**임 (목적에 따라 이게 훨씬 유용할 수 있겠죠?)\n",
        "\n",
        "존재하는 word 기반으로 하기 때문에 'wordnet'이라는 정보 쓰고 있음"
      ],
      "metadata": {
        "id": "WHnzwgWfYsT4"
      }
    },
    {
      "cell_type": "markdown",
      "metadata": {
        "id": "RPgIzrjm8_1N"
      },
      "source": [
        "### Stopword"
      ]
    },
    {
      "cell_type": "markdown",
      "source": [
        "이것도 nltk에서 제공함. 어떻게 쓰일 수 있을지 보겠습니다.\n",
        "\n",
        "words에 Regular expression 기반으로 해서 잘랐던 것이 여전히 'words'에 list로 잘랐음. 거기 들어 있음\n",
        "\n",
        "stopwords가 무엇인지 정의되어 있음 (조동사, 관사 등)"
      ],
      "metadata": {
        "id": "OHkMJ8UjY27f"
      }
    },
    {
      "cell_type": "code",
      "metadata": {
        "id": "WdM2FaN8ntcc",
        "outputId": "8059ca3b-a082-4c33-babf-0d5f748bbf08",
        "colab": {
          "base_uri": "https://localhost:8080/"
        }
      },
      "source": [
        "from nltk.corpus import stopwords  \n",
        "nltk.download('stopwords')\n",
        "print(words)\n",
        "words = [w for w in words if not w in stopwords.words('english')]\n",
        "print(words)"
      ],
      "execution_count": 13,
      "outputs": [
        {
          "output_type": "stream",
          "name": "stdout",
          "text": [
            "[nltk_data] Downloading package stopwords to /root/nltk_data...\n",
            "[nltk_data]   Unzipping corpora/stopwords.zip.\n",
            "['Here', 's', 'to', 'the', 'crazy', 'ones', 'the', 'misfits', 'the', 'rebels', 'the', 'troublemakers', 'the', 'round', 'pegs', 'in', 'the', 'square', 'holes', 'The', 'ones', 'who', 'see', 'things', 'differently', 'they', 're', 'not', 'fond', 'of', 'rules', 'You', 'can', 'quote', 'them', 'disagree', 'with', 'them', 'glorify', 'or', 'vilify', 'them', 'but', 'the', 'only', 'thing', 'you', 'can', 't', 'do', 'is', 'ignore', 'them', 'because', 'they', 'change', 'things', 'They', 'push', 'the', 'human', 'race', 'forward', 'and', 'while', 'some', 'may', 'see', 'them', 'as', 'the', 'crazy', 'ones', 'we', 'see', 'genius', 'because', 'the', 'ones', 'who', 'are', 'crazy', 'enough', 'to', 'think', 'that', 'they', 'can', 'change', 'the', 'world', 'are', 'the', 'ones', 'who', 'do']\n",
            "['Here', 'crazy', 'ones', 'misfits', 'rebels', 'troublemakers', 'round', 'pegs', 'square', 'holes', 'The', 'ones', 'see', 'things', 'differently', 'fond', 'rules', 'You', 'quote', 'disagree', 'glorify', 'vilify', 'thing', 'ignore', 'change', 'things', 'They', 'push', 'human', 'race', 'forward', 'may', 'see', 'crazy', 'ones', 'see', 'genius', 'ones', 'crazy', 'enough', 'think', 'change', 'world', 'ones']\n"
          ]
        }
      ]
    },
    {
      "cell_type": "markdown",
      "source": [
        "stopwords (english stopwords)에 list comprehension: words에 단어들이 있는데 하나하나 받아서 for loop로 검사한다\n",
        "\n",
        "if not (**그 하나하나의 단어가 stopwords에 들어있지 않으면) 그것을 취하라**! **(stopwords에 있는 것은 빼라**는 의미)\n",
        "\n",
        "위에꺼랑 비교해서 밑에꺼 보면 s, to, the 등 stopwords가 빠져 있음!\n",
        "\n",
        "(빼기 위해 사용하는 듯)"
      ],
      "metadata": {
        "id": "4jhcHjisZ6TG"
      }
    },
    {
      "cell_type": "markdown",
      "metadata": {
        "id": "OmwXTL0UA5aw"
      },
      "source": [
        "### Collocation, Concordance"
      ]
    },
    {
      "cell_type": "code",
      "metadata": {
        "id": "Fll4ygxNA3OJ",
        "outputId": "a46eb2a1-bf42-4689-9039-be82b6629cf2",
        "colab": {
          "base_uri": "https://localhost:8080/"
        }
      },
      "source": [
        "nltk.download('gutenberg')\n",
        "text = nltk.corpus.gutenberg.raw('austen-emma.txt')\n",
        "words = retokenize.tokenize(text)"
      ],
      "execution_count": 14,
      "outputs": [
        {
          "output_type": "stream",
          "name": "stdout",
          "text": [
            "[nltk_data] Downloading package gutenberg to /root/nltk_data...\n",
            "[nltk_data]   Unzipping corpora/gutenberg.zip.\n"
          ]
        }
      ]
    },
    {
      "cell_type": "markdown",
      "source": [
        "저작권이 지난, 옛날에 썼던 classic novel들을 다 모아서 그런 텍스트를 무료로 제공하는 프로젝트를 'gutenberg project'\n",
        "\n",
        "무료 corpus가 다 들어있음\n",
        "\n",
        "그걸 구성으로 하나 가져옴 (제인 오스틴의 emma라는 소설)\n",
        "\n",
        "type(text)하면 그 소설의 모든 텍스트가 스트링으로 들어있음\n",
        "\n",
        "**하나하나 단어별로 잘라서 리스트에 품고 있고자 하는 것이 'tokenize'**\n",
        "\n",
        "retokenize사용하고 있음 (regular expression based tokenizer)"
      ],
      "metadata": {
        "id": "kxvlolGuWYqb"
      }
    },
    {
      "cell_type": "code",
      "source": [
        "words"
      ],
      "metadata": {
        "id": "a0lrpkJOW-TT"
      },
      "execution_count": null,
      "outputs": []
    },
    {
      "cell_type": "code",
      "source": [
        "len(words)"
      ],
      "metadata": {
        "id": "3-l-arknXBvV",
        "outputId": "6393cbf3-2f78-4a88-b3fd-ec5b025be3c8",
        "colab": {
          "base_uri": "https://localhost:8080/"
        }
      },
      "execution_count": 16,
      "outputs": [
        {
          "output_type": "execute_result",
          "data": {
            "text/plain": [
              "161983"
            ]
          },
          "metadata": {},
          "execution_count": 16
        }
      ]
    },
    {
      "cell_type": "code",
      "metadata": {
        "id": "NqVXlhIrAtmf",
        "outputId": "8f7b593c-1497-46ba-95fc-2ad7acfab95b",
        "colab": {
          "base_uri": "https://localhost:8080/"
        }
      },
      "source": [
        "nltk.Text(words).collocations()  # default: (num=20, window_size=2)"
      ],
      "execution_count": 17,
      "outputs": [
        {
          "output_type": "stream",
          "name": "stdout",
          "text": [
            "Mrs Weston; Frank Churchill; Miss Woodhouse; Mrs Elton; Miss Bates;\n",
            "Jane Fairfax; Miss Fairfax; every thing; young man; every body; great\n",
            "deal; Mrs Goddard; dare say; Maple Grove; John Knightley; Miss Taylor;\n",
            "Miss Smith; Robert Martin; Colonel Campbell; Box Hill\n"
          ]
        }
      ]
    },
    {
      "cell_type": "markdown",
      "source": [
        "아무것도 안 쓰면 default값으로 num=20, window size=2 (총 20개의 collocation, 2개 연속으로 나오는 단어들)"
      ],
      "metadata": {
        "id": "hnzHVpVkS2Ck"
      }
    },
    {
      "cell_type": "markdown",
      "source": [
        "List를 가지고 다양한 분석을 할 수 있음. (다양한 유용한 기능들이 있음)\n",
        "\n",
        "nltk.Text(words).collocations()하면 사실 저 안에 parameter값 넣어줄 수 있음 (샵 이하 부분)\n",
        "\n",
        "collocation: 2개 연속으로 나오는 단어들 (사람 이름인 경우가 많음)\n",
        "\n",
        "단어가 3개가 연어로 되는 거 찾아라: 하면 안 나옴 (세개짜리가 없어서 안 나옴)"
      ],
      "metadata": {
        "id": "V0kleS2QXGeG"
      }
    },
    {
      "cell_type": "code",
      "metadata": {
        "id": "Aq0wiutwA_au",
        "outputId": "7b96520d-3b19-4e7a-e8db-e2c6641b45b7",
        "colab": {
          "base_uri": "https://localhost:8080/"
        }
      },
      "source": [
        "nltk.Text(words).concordance('Emma', 79, 10)"
      ],
      "execution_count": 18,
      "outputs": [
        {
          "output_type": "stream",
          "name": "stdout",
          "text": [
            "Displaying 10 of 865 matches:\n",
            "                                     Emma by Jane Austen 1816 VOLUME I CHAPTER\n",
            "                                     Emma Woodhouse handsome clever and rich w\n",
            "f both daughters but particularly of Emma Between _them_ it was more the intim\n",
            "nd friend very mutually attached and Emma doing just what she liked highly est\n",
            " by her own The real evils indeed of Emma s situation were the power of having\n",
            "ding day of this beloved friend that Emma first sat in mournful thought of any\n",
            "going only half a mile from them but Emma was aware that great must be the dif\n",
            "a day It was a melancholy change and Emma could not but sigh over it and wish \n",
            "ll the rest of her life at Hartfield Emma smiled and chatted as cheerfully as \n",
            "l be able to tell her how we all are Emma spared no exertions to maintain this\n"
          ]
        }
      ]
    },
    {
      "cell_type": "markdown",
      "source": [
        "corpus 전체에서 **'emma'라는 단어가 등장하는 앞뒤로의 context를 같이 보여주는 것을 10개를 찾아라. (10개 뽑음)**\n",
        "\n",
        "79: 한 부분이 79임 (앞뒤 다 합친 글자 수가)\n",
        "\n",
        "영어과외 할 때 유용함. 프렌즈 영어공부할 때 많이 쓰는데 그거 대본 통으로 가져와서 concordance (단어 어케 쓰이는지) 볼 수 있음\n",
        "\n",
        "구글에서도 볼 수 없는 데이터베이스 (이런 단어들이 살아 있는 회화에서 어떻게 쓰이는지) 우리가 원하는 만큼 찾아줘서 영어공부 할 수 있음"
      ],
      "metadata": {
        "id": "a7N8tV_OXhtp"
      }
    },
    {
      "cell_type": "code",
      "metadata": {
        "id": "hIAIhXvP_BjU",
        "outputId": "23a64c9f-4ca0-48bc-9583-99696fcda68f",
        "colab": {
          "base_uri": "https://localhost:8080/",
          "height": 295
        }
      },
      "source": [
        "nltk.Text(words).dispersion_plot([\"Emma\", \"Knightley\", \"Frank\", \"Jane\", \"Harriet\", \"Robert\"])"
      ],
      "execution_count": 19,
      "outputs": [
        {
          "output_type": "display_data",
          "data": {
            "text/plain": [
              "<Figure size 432x288 with 1 Axes>"
            ],
            "image/png": "[encoded data removed]"
          },
          "metadata": {
            "needs_background": "light"
          }
        }
      ]
    },
    {
      "cell_type": "markdown",
      "source": [
        "Dispersion plot: 저 안에 있는 내용들 (사람 이름을 다 넣어보심) **words라는 list 안에 들어 있는 16만개의 순서 중에서 'Emma'라는 게 등장하는 게 어디냐**를 파란색으로 표시한 것임\n",
        "\n",
        "Emma가 주인공이라서 계속 등장함. Knightley라는 사람도 처음부터 끝까지, Robert는 처음에 나왔다 끝에 나옴\n",
        "\n",
        "이것만 봐도 누가 주인공인지 알 수 있음 (Emma-Knightley는 부부임)\n",
        "\n",
        "반드시 등장인물 적을 필요는 없지만, plotting해서 볼 수 있음"
      ],
      "metadata": {
        "id": "vNYglZnqYAtI"
      }
    },
    {
      "cell_type": "code",
      "metadata": {
        "id": "lWYZOFxq_ex2",
        "outputId": "f1d744cf-8295-4e10-d88b-bd8048c325f2",
        "colab": {
          "base_uri": "https://localhost:8080/"
        }
      },
      "source": [
        "# Distributional similarity: \n",
        "# find other words which appear in the same contexts as the specified word; \n",
        "# list most similar words first.\n",
        "nltk.Text(words).similar(\"Emma\")"
      ],
      "execution_count": 20,
      "outputs": [
        {
          "output_type": "stream",
          "name": "stdout",
          "text": [
            "she it he i harriet you her jane him that me and all they them herself\n",
            "there but be isabella\n"
          ]
        }
      ]
    },
    {
      "cell_type": "markdown",
      "source": [
        "'similar': **Emma랑 분포상으로 어떤 게 유사한가?** 분포상으로 context(양옆에 나올) 단어를 찾아라.\n",
        "\n",
        "Emma가 **여자니까 'she'랑 비슷**하게 위치하고 있음. 동사는 별로 없고 대부분 대명사인 것을 확인 가능 (사람이니까)"
      ],
      "metadata": {
        "id": "WHMjhoXCPU_k"
      }
    },
    {
      "cell_type": "code",
      "metadata": {
        "id": "ZihiVSBK_vy7",
        "outputId": "69445775-9cc8-450d-8319-bd68849d45e2",
        "colab": {
          "base_uri": "https://localhost:8080/"
        }
      },
      "source": [
        "# Find contexts where the specified words appear; list most frequent common contexts first.\n",
        "nltk.Text(words).common_contexts([\"Emma\", \"she\"])"
      ],
      "execution_count": 21,
      "outputs": [
        {
          "output_type": "stream",
          "name": "stdout",
          "text": [
            "but_was and_could that_should said_and which_could whom_knew\n",
            "which_particularly and_imagined that_could said_i that_began\n",
            "and_thought do_was but_could than_had said_but manner_was this_could\n",
            "as_saw possible_could\n"
          ]
        }
      ]
    },
    {
      "cell_type": "markdown",
      "source": [
        "Common context라고 두 개 넣어 놓음. **Specified된 word 2개 넣어 놓으면, 이 두 개가 나타나는 context를 (양쪽 단어) 말해라!**\n",
        "\n",
        "이것도 빈도수별로 확률적으로 높은 것부터 나옴.\n",
        "\n",
        "but_was context에 Emma가 she랑 같이 등장할 가능성 높음."
      ],
      "metadata": {
        "id": "biSvfiSCPxpa"
      }
    },
    {
      "cell_type": "markdown",
      "metadata": {
        "id": "A8TrCE14vGcT"
      },
      "source": [
        "### Frequency distribution, Frequency plot"
      ]
    },
    {
      "cell_type": "markdown",
      "source": [
        "제일 중요하다! 어떤 단어들이 가장 frequent하게 나오는가?"
      ],
      "metadata": {
        "id": "XHuw4BjfP5_I"
      }
    },
    {
      "cell_type": "code",
      "metadata": {
        "id": "UdY3m6zSBHic",
        "outputId": "1add2017-1702-4693-a6fb-c869c820ed80",
        "colab": {
          "base_uri": "https://localhost:8080/"
        }
      },
      "source": [
        "fd = nltk.FreqDist(words).most_common(20)\n",
        "fd"
      ],
      "execution_count": 22,
      "outputs": [
        {
          "output_type": "execute_result",
          "data": {
            "text/plain": [
              "[('to', 5183),\n",
              " ('the', 4844),\n",
              " ('and', 4672),\n",
              " ('of', 4279),\n",
              " ('I', 3178),\n",
              " ('a', 3004),\n",
              " ('was', 2385),\n",
              " ('her', 2381),\n",
              " ('it', 2128),\n",
              " ('in', 2118),\n",
              " ('not', 2101),\n",
              " ('be', 1970),\n",
              " ('she', 1778),\n",
              " ('that', 1730),\n",
              " ('you', 1677),\n",
              " ('had', 1606),\n",
              " ('as', 1387),\n",
              " ('he', 1365),\n",
              " ('for', 1321),\n",
              " ('have', 1301)]"
            ]
          },
          "metadata": {},
          "execution_count": 22
        }
      ]
    },
    {
      "cell_type": "markdown",
      "source": [
        "얼마나 자주 나오는지의 정보임. **사실상 앞에 있는 것들이 stopwords**임."
      ],
      "metadata": {
        "id": "jJG1QtRxZD50"
      }
    },
    {
      "cell_type": "code",
      "metadata": {
        "id": "1tpZThNV-ftv",
        "outputId": "6b3b575b-2b4e-421f-d923-2d04dcbcd4ac",
        "colab": {
          "base_uri": "https://localhost:8080/",
          "height": 294
        }
      },
      "source": [
        "nltk.Text(words).plot(20)"
      ],
      "execution_count": 23,
      "outputs": [
        {
          "output_type": "display_data",
          "data": {
            "text/plain": [
              "<Figure size 432x288 with 1 Axes>"
            ],
            "image/png": "[encoded data removed]"
          },
          "metadata": {
            "needs_background": "light"
          }
        }
      ]
    },
    {
      "cell_type": "markdown",
      "source": [
        "똑같은 거 plot해서 볼 수도 있음"
      ],
      "metadata": {
        "id": "oNeHbluuQGlv"
      }
    },
    {
      "cell_type": "markdown",
      "metadata": {
        "id": "JSOSzIovvKvE"
      },
      "source": [
        "### Dictionary"
      ]
    },
    {
      "cell_type": "markdown",
      "source": [
        "nltk에서는 다양한 언어의 dictionary 제공함. \n",
        "\n",
        "통으로 받아올 수 있음\n",
        "\n",
        "어떤 dictionary가 있는지 찾아보고, 불러올 수 있음. 그래서 그 dictionary가 포함하고 있는 단어가 몇 개인지도 확인 가능함"
      ],
      "metadata": {
        "id": "FTsn5H_gQKcN"
      }
    },
    {
      "cell_type": "code",
      "metadata": {
        "id": "UIcAOAvqntce",
        "outputId": "0a302807-1966-4522-d8e7-c4ab645e693e",
        "colab": {
          "base_uri": "https://localhost:8080/"
        }
      },
      "source": [
        "nltk.download('words')\n",
        "nltk.corpus.words.words('en')[-20:-1]\n"
      ],
      "execution_count": 24,
      "outputs": [
        {
          "output_type": "stream",
          "name": "stdout",
          "text": [
            "[nltk_data] Downloading package words to /root/nltk_data...\n",
            "[nltk_data]   Unzipping corpora/words.zip.\n"
          ]
        },
        {
          "output_type": "execute_result",
          "data": {
            "text/plain": [
              "['zymosis',\n",
              " 'zymosterol',\n",
              " 'zymosthenic',\n",
              " 'zymotechnic',\n",
              " 'zymotechnical',\n",
              " 'zymotechnics',\n",
              " 'zymotechny',\n",
              " 'zymotic',\n",
              " 'zymotically',\n",
              " 'zymotize',\n",
              " 'zymotoxic',\n",
              " 'zymurgy',\n",
              " 'Zyrenian',\n",
              " 'Zyrian',\n",
              " 'Zyryan',\n",
              " 'zythem',\n",
              " 'Zythia',\n",
              " 'zythum',\n",
              " 'Zyzomys']"
            ]
          },
          "metadata": {},
          "execution_count": 24
        }
      ]
    },
    {
      "cell_type": "markdown",
      "source": [
        "제일 마지막 20개 보면 z자로 시작하는 게 다 나옴."
      ],
      "metadata": {
        "id": "jRrLSv4nZOwP"
      }
    },
    {
      "cell_type": "code",
      "metadata": {
        "id": "GjAy_Ju7ntce",
        "outputId": "5cbb0734-d108-4b80-c913-764708646dd5",
        "colab": {
          "base_uri": "https://localhost:8080/"
        }
      },
      "source": [
        "len(nltk.corpus.words.words('en'))"
      ],
      "execution_count": 25,
      "outputs": [
        {
          "output_type": "execute_result",
          "data": {
            "text/plain": [
              "235886"
            ]
          },
          "metadata": {},
          "execution_count": 25
        }
      ]
    },
    {
      "cell_type": "markdown",
      "source": [
        "사전이 포함하고 있는 단어: 23만 개"
      ],
      "metadata": {
        "id": "CQqI6q2gZSEN"
      }
    },
    {
      "cell_type": "markdown",
      "metadata": {
        "id": "UyIIqwosCRZa"
      },
      "source": [
        "### Extract information (pos tag, named entity)\n"
      ]
    },
    {
      "cell_type": "markdown",
      "source": [
        "#### **POS tag list**:\n",
        "\n",
        "CC\tcoordinating conjunction \\\n",
        "CD\tcardinal digit \\\n",
        "DT\tdeterminer \\\n",
        "EX\texistential there (like: \"there is\" ... think of it like \"there exists\") \\\n",
        "FW\tforeign word \\\n",
        "IN\tpreposition/subordinating conjunction \\\n",
        "JJ\tadjective\t'big' \\\n",
        "JJR\tadjective, comparative\t'bigger' \\\n",
        "JJS\tadjective, superlative\t'biggest' \\\n",
        "LS\tlist marker\t1) \\\n",
        "MD\tmodal\tcould, will \\\n",
        "NN\tnoun, singular 'desk' \\\n",
        "NNS\tnoun plural\t'desks' \\\n",
        "NNP\tproper noun, singular\t'Harrison' \\\n",
        "NNPS\tproper noun, plural\t'Americans' \\\n",
        "PDT\tpredeterminer\t'all the kids' \\\n",
        "POS\tpossessive ending\tparent's \\\n",
        "PRP\tpersonal pronoun\tI, he, she \\\n",
        "PRP\\$\tpossessive pronoun\tmy, his, hers \\\n",
        "RB\tadverb\tvery, silently, \\\n",
        "RBR\tadverb, comparative\tbetter \\\n",
        "RBS\tadverb, superlative\tbest \\\n",
        "RP\tparticle\tgive up \\\n",
        "TO\tto\tgo 'to' the store. \\\n",
        "UH\tinterjection\terrrrrrrrm \\\n",
        "VB\tverb, base form\ttake \\\n",
        "VBD\tverb, past tense\ttook \\\n",
        "VBG\tverb, gerund/present participle\ttaking \\\n",
        "VBN\tverb, past participle\ttaken \\\n",
        "VBP\tverb, sing. present, non-3d\ttake \\\n",
        "VBZ\tverb, 3rd person sing. present\ttakes \\\n",
        "WDT\twh-determiner\twhich \\\n",
        "WP\twh-pronoun\twho, what \\\n",
        "WP\\$\tpossessive wh-pronoun\twhose \\\n",
        "WRB\twh-abverb\twhere, when \\"
      ],
      "metadata": {
        "id": "NLz0kp4kekaZ"
      }
    },
    {
      "cell_type": "markdown",
      "source": [
        "POS tag (Part Of Speech)라고 해서 기본적으로 품사임.\n",
        "\n",
        "리스트 보면 접속사도 있고, 관사도 있고, 형용사도 있고 다양하게 있음. (소유격...)\n",
        "\n",
        "이 부분 같이 실행해 보겠습니다!"
      ],
      "metadata": {
        "id": "woUtgr_oQY4k"
      }
    },
    {
      "cell_type": "code",
      "metadata": {
        "id": "8VBiObftCVwH"
      },
      "source": [
        "sent = \"I am Jhon from America and would like to go to Starbuck\"\n",
        "words = nltk.word_tokenize(sent)"
      ],
      "execution_count": 26,
      "outputs": []
    },
    {
      "cell_type": "markdown",
      "source": [
        "tokenize 먼저 하고 품사 적어라!"
      ],
      "metadata": {
        "id": "rB9EBd_QZj3L"
      }
    },
    {
      "cell_type": "code",
      "metadata": {
        "id": "AwKdu36WCewv",
        "outputId": "e8dab16e-a689-457c-8d6f-596fe75be058",
        "colab": {
          "base_uri": "https://localhost:8080/"
        }
      },
      "source": [
        "nltk.download('averaged_perceptron_tagger')\n",
        "pos = nltk.pos_tag(words)"
      ],
      "execution_count": 27,
      "outputs": [
        {
          "output_type": "stream",
          "name": "stdout",
          "text": [
            "[nltk_data] Downloading package averaged_perceptron_tagger to\n",
            "[nltk_data]     /root/nltk_data...\n",
            "[nltk_data]   Unzipping taggers/averaged_perceptron_tagger.zip.\n"
          ]
        }
      ]
    },
    {
      "cell_type": "code",
      "source": [
        "pos"
      ],
      "metadata": {
        "id": "kgmZ10wCQ1rb",
        "outputId": "188bede1-806c-4697-e505-e8deab7c3594",
        "colab": {
          "base_uri": "https://localhost:8080/"
        }
      },
      "execution_count": 28,
      "outputs": [
        {
          "output_type": "execute_result",
          "data": {
            "text/plain": [
              "[('I', 'PRP'),\n",
              " ('am', 'VBP'),\n",
              " ('Jhon', 'RB'),\n",
              " ('from', 'IN'),\n",
              " ('America', 'NNP'),\n",
              " ('and', 'CC'),\n",
              " ('would', 'MD'),\n",
              " ('like', 'VB'),\n",
              " ('to', 'TO'),\n",
              " ('go', 'VB'),\n",
              " ('to', 'TO'),\n",
              " ('Starbuck', 'NNP')]"
            ]
          },
          "metadata": {},
          "execution_count": 28
        }
      ]
    },
    {
      "cell_type": "markdown",
      "source": [
        "품사가 어떤 것들인지 쭉 나옴.\n",
        "\n",
        "**Named entity라고 해서 품사 말고 다양한 것들에 대한 정보**도 줄 수 있음 (위치, 시간, GPE...)"
      ],
      "metadata": {
        "id": "tnv4-RmLZs-q"
      }
    },
    {
      "cell_type": "code",
      "metadata": {
        "id": "rnjGT1HpClE0",
        "outputId": "77b6695f-8f29-471b-f384-a25f7032aa5a",
        "colab": {
          "base_uri": "https://localhost:8080/"
        }
      },
      "source": [
        "nltk.download('maxent_ne_chunker')\n",
        "NE = nltk.ne_chunk(pos)\n",
        "# common Entity types: ORGANIZATION, PERSON, LOCATION, DATE, TIME, MONEY, and GPE (geo-political entity)"
      ],
      "execution_count": 29,
      "outputs": [
        {
          "output_type": "stream",
          "name": "stdout",
          "text": [
            "[nltk_data] Downloading package maxent_ne_chunker to\n",
            "[nltk_data]     /root/nltk_data...\n",
            "[nltk_data]   Unzipping chunkers/maxent_ne_chunker.zip.\n"
          ]
        }
      ]
    },
    {
      "cell_type": "code",
      "source": [
        "NE"
      ],
      "metadata": {
        "id": "Op0RFR_nRGVd"
      },
      "execution_count": null,
      "outputs": []
    },
    {
      "cell_type": "markdown",
      "source": [
        "대명사, 전치사, to부정사 등의 품사 정보들이 나와 있음\n",
        "\n",
        "이런 품사 말고도 다양한 것들에 대한 정보 줄 수 있음 (organization, person, location, date, time, money, GPE 등)\n",
        "\n",
        "Error가 뜨는데 업데이트와 관련되나? 하고 넘어가심"
      ],
      "metadata": {
        "id": "XXGN4TbXQ3zE"
      }
    },
    {
      "cell_type": "markdown",
      "metadata": {
        "id": "jt9DEIZ4lXQF"
      },
      "source": [
        "### Wordcloud"
      ]
    },
    {
      "cell_type": "markdown",
      "source": [
        "이건 'frequency'를 기반으로 하고, 'font size'와 관련이 있음. 조금 다른 패키지를 들고 와야 함. WordCloud에서 'STOPWORDS'를 import해야 함\n",
        "\n",
        "gutenberg에서 bible 가져오면 text에 담길 것임. Text에 string으로 성경이 담겨 있을 것임"
      ],
      "metadata": {
        "id": "NHl6xc_oRSaK"
      }
    },
    {
      "cell_type": "code",
      "metadata": {
        "id": "jypxOnw9hoyZ",
        "outputId": "eac76369-6bdd-42ac-d736-6136585e6bc4",
        "colab": {
          "base_uri": "https://localhost:8080/",
          "height": 237
        }
      },
      "source": [
        "from wordcloud import WordCloud, STOPWORDS\n",
        "import matplotlib.pyplot as plt\n",
        "\n",
        "text = nltk.corpus.gutenberg.raw('bible-kjv.txt')\n",
        "\n",
        "wc = WordCloud().generate(text) \n",
        "plt.imshow(wc)"
      ],
      "execution_count": 31,
      "outputs": [
        {
          "output_type": "execute_result",
          "data": {
            "text/plain": [
              "<matplotlib.image.AxesImage at 0x7f49303ad090>"
            ]
          },
          "metadata": {},
          "execution_count": 31
        },
        {
          "output_type": "display_data",
          "data": {
            "text/plain": [
              "<Figure size 432x288 with 1 Axes>"
            ],
            "image/png": "[encoded data removed]"
          },
          "metadata": {
            "needs_background": "light"
          }
        }
      ]
    },
    {
      "cell_type": "markdown",
      "source": [
        "이런 식으로 성경 전체에서 많이 나오는 단어들 위주로 font size가 정해짐"
      ],
      "metadata": {
        "id": "frKXOWAuaNoz"
      }
    },
    {
      "cell_type": "code",
      "metadata": {
        "id": "Q6xv5ClAl5xk",
        "outputId": "9da06496-5ac4-4879-bb11-0ce905013411",
        "colab": {
          "base_uri": "https://localhost:8080/",
          "height": 237
        }
      },
      "source": [
        "stopwords = set(STOPWORDS) \n",
        "stopwords.add('unto')\n",
        "wc = WordCloud(stopwords = stopwords).generate(text) \n",
        "plt.imshow(wc)"
      ],
      "execution_count": 32,
      "outputs": [
        {
          "output_type": "execute_result",
          "data": {
            "text/plain": [
              "<matplotlib.image.AxesImage at 0x7f49302fe790>"
            ]
          },
          "metadata": {},
          "execution_count": 32
        },
        {
          "output_type": "display_data",
          "data": {
            "text/plain": [
              "<Figure size 432x288 with 1 Axes>"
            ],
            "image/png": "[encoded data removed]"
          },
          "metadata": {
            "needs_background": "light"
          }
        }
      ]
    },
    {
      "cell_type": "markdown",
      "source": [
        "stopword set하고 추가도 할 수 있음. **'unto'같은 걸 빼고 싶다**하면 \n",
        "\n",
        "**stopwords에 unto를 더해서 generate하면 unto뿐만 아니라 다른 stopwords가 좀 빠져 있는 것**을 볼 수 있음"
      ],
      "metadata": {
        "id": "-iXrr2_xaUaM"
      }
    },
    {
      "cell_type": "markdown",
      "metadata": {
        "id": "VrVGVc0X9j7r"
      },
      "source": [
        "### Regular expression"
      ]
    },
    {
      "cell_type": "code",
      "metadata": {
        "id": "cQKgoQFI_cG-"
      },
      "source": [
        "import re"
      ],
      "execution_count": null,
      "outputs": []
    },
    {
      "cell_type": "code",
      "metadata": {
        "id": "7U2pS-NL9p38"
      },
      "source": [
        "'''       Basic Regular Expression Meta-Characters, Including Wildcards, Ranges and Closures\n",
        "\n",
        ".\t        Wildcard, matches any character\n",
        "^abc\t    Matches some pattern abc at the start of a string\n",
        "abc$\t    Matches some pattern abc at the end of a string\n",
        "[abc]\t    Matches one of a set of characters\n",
        "[^abc]    Matches anything but a set of characters\n",
        "[A-Z0-9]\tMatches one of a range of characters\n",
        "ed|ing|s\tMatches one of the specified strings (disjunction)\n",
        "*\t        Zero or more of previous item, e.g. a*, [a-z]* (also known as Kleene Closure)\n",
        "+\t        One or more of previous item, e.g. a+, [a-z]+\n",
        "?\t        Zero or one of the previous item (i.e. optional), e.g. a?, [a-z]?\n",
        "{n}\t      Exactly n repeats where n is a non-negative integer\n",
        "{n,}\t    At least n repeats\n",
        "{,n}\t    No more than n repeats\n",
        "{m,n}\t    At least m and no more than n repeats\n",
        "a(b|c)+\t  Parentheses that indicate the scope of the operators\n",
        "(...)     Matches whatever regular expression is inside the parentheses\n",
        "\\d\n",
        "Matches any decimal digit; this is equivalent to the class [0-9].\n",
        "\\D\n",
        "Matches any non-digit character; this is equivalent to the class [^0-9].\n",
        "\\s\n",
        "Matches any whitespace character; this is equivalent to the class [ \\t\\n\\r\\f\\v].\n",
        "\\S\n",
        "Matches any non-whitespace character; this is equivalent to the class [^ \\t\\n\\r\\f\\v].\n",
        "\\w\n",
        "Matches any alphanumeric character; this is equivalent to the class [a-zA-Z0-9_].\n",
        "\\W\n",
        "Matches any non-alphanumeric character; this is equivalent to the class [^a-zA-Z0-9_].\n",
        "\n",
        "'''"
      ],
      "execution_count": null,
      "outputs": []
    },
    {
      "cell_type": "code",
      "metadata": {
        "id": "sp3_Dm9Q_tNQ"
      },
      "source": [
        "engdict = nltk.corpus.words.words('en')\n",
        "\n",
        "result = [w for w in engdict if re.search('ed$', w)]\n",
        "# result = [w for w in engdict if re.search('^..j..t..$', w)]\n",
        "# result = [w for w in engdict if re.search('^[ghi][mno][jlk][def]$', w)]\n",
        "# result = [w for w in engdict if re.search('^[ah]+$', w)][:10]\n",
        "print(result[:10])"
      ],
      "execution_count": null,
      "outputs": []
    },
    {
      "cell_type": "code",
      "metadata": {
        "id": "B1a5mQYj4hwn"
      },
      "source": [
        "nltk.download('treebank')\n",
        "wsj = nltk.corpus.treebank.words()\n",
        "\n",
        "result = [w for w in wsj if re.search('(ed|ing)$', w)]\n",
        "# result = [w for w in wsj if re.search('^[0-9]+\\.[0-9]+$', w)]\n",
        "# result = [w for w in wsj if re.search('^[A-Z]+\\$$', w)]\n",
        "# result = [w for w in wsj if re.search('^[0-9]{4}$', w)]\n",
        "# result = [w for w in wsj if re.search('^[0-9]+-[a-z]{3,5}$', w)]\n",
        "# result = [w for w in wsj if re.search('^[a-z]{5,}-[a-z]{2,3}-[a-z]{,6}$', w)]\n",
        "\n",
        "result = sorted(set(result))\n",
        "print(result[:10])"
      ],
      "execution_count": null,
      "outputs": []
    }
  ]
}