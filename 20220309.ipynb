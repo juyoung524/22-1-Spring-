{
  "nbformat": 4,
  "nbformat_minor": 0,
  "metadata": {
    "kernelspec": {
      "display_name": "Python 3",
      "language": "python",
      "name": "python3"
    },
    "language_info": {
      "codemirror_mode": {
        "name": "ipython",
        "version": 3
      },
      "file_extension": ".py",
      "mimetype": "text/x-python",
      "name": "python",
      "nbconvert_exporter": "python",
      "pygments_lexer": "ipython3",
      "version": "3.7.1"
    },
    "colab": {
      "name": "20220309.ipynb",
      "provenance": [],
      "collapsed_sections": [],
      "include_colab_link": true
    }
  },
  "cells": [
    {
      "cell_type": "markdown",
      "metadata": {
        "id": "view-in-github",
        "colab_type": "text"
      },
      "source": [
        "<a href=\"https://colab.research.google.com/github/juyoung524/22-1-Spring-/blob/main/20220309.ipynb\" target=\"_parent\"><img src=\"https://colab.research.google.com/assets/colab-badge.svg\" alt=\"Open In Colab\"/></a>"
      ]
    },
    {
      "cell_type": "markdown",
      "source": [
        "**0309** **영어음성학응용**\n",
        "\n",
        "1) 변수: variables\n",
        "\n",
        "2) 문법: syntax\n",
        "A. 조건 (if) B. 반복 (for) 3) 함수: function 4) 패키지 (=library): 특정 목적으로 여러 함수들을 잘 모아놓은 것을 패키지라고 부름 (통계, 시각화, AI, 머신러닝, 사운드를 위한 패키지가 있음. 패키지 공부하면 끝나는 것이다)\n",
        "\n",
        "A. Packages -> import\n",
        "\n",
        "\n",
        "String: variable 중 하나임. 그 중 또 중요하기 때문에 따로 빼서 파일로 만든 것임\n",
        "\n",
        "Packages 들어가 보면 뭐 배우게 될지 나옴\n",
        "\n",
        "이 정도는 배웠으면 좋겠다 하는 패키지 이름들 모아놓음.\n",
        "\n",
        "Basic python packages라고 검색하면 most popular python packages 나옴\n",
        "\n",
        "아주 popular해서 우리가 했으면 좋겠다 하는 것들\n",
        "\n",
        "**Numpy**- 숫자를 다루려면 numpy를 이용해야 함- 행렬화, 구조화하기 위함 (여러 가지 수치 관련된 게 여기 들어 있음. AI, data science 하려면 이거 꼭 필요함)\n",
        "\n",
        "**Pandas**: 엑셀 파일 처리하는 것. 테이블 형태로 된 데이터 어떻게 부르고, 쓰고 하는 것 (manipulate하는 방식들)\n",
        "\n",
        "**Matplotlib**: ‘matlab’라는 공학자들이 쓰는 것. 이 프로그램에서 visualize를 잘 하고 있음. 거기 있는 것과 유사하게 plotting을 잘 해 주는 library라는 뜻\n",
        "\n",
        "**Scikit-learn: regression **(머신러닝에 많이 쓰임) 필수적이고 기본적인 패키지로 알고 있어야 함\n",
        "\n",
        "**Urllib3**: url 가지고 우리가 웹을 통해서 얻을 수 있는 것들.\n",
        "\n",
        "**NLTK**: 어문계열 학생들에게 거의 필수적임. 이거 하나만 확실히 해도 취직하는 데 아주 도움이 될 것임.텍스트 처리하는 모든 게 다 들어 있음.\n",
        "\n",
        "**Pillow**: 이미지, 사진 파일들 어떻게 불러오고, 조작하고 하는 것들 해주는 곳임\n",
        "\n",
        "**Librosa**: 사운드 관련된 것임. 우리 수업이 ‘음성학’이니까 소리 어떻게 불러서 조작하고, 출력하는지 관련된 것임. 이 프로그램에서 다룰 것이다\n",
        "\n",
        "수업 시간에 기본적인 것들 다 다룰 것임. 처음에 import해온다. (가져오는 역할을 함)\n",
        "\n",
        "Programming Language: 모든 language는 기본적으로 ‘word’이다. Words로 이루어져 있음 한 word는 ‘meaning/content’, 뜻을 가지고 있음 (word-meaning mapping되어 있는 것) 쓰는 일반 language는 ‘word’가 핵심 프로그래밍 language도 똑같음. ‘word’에 해당되는 게 ‘variable’(변수)\n",
        "\n",
        "Var=3\n",
        "\n",
        "변수에 어떤 내용을 assign하는 것이 word 하나를 만드는 것이라고 생각하면 됨 Word만 있으면 안됨. Word들을 어떻게든 조합을 해야 함. 조합하는 방식을 ‘문법’, syntax라고 함 Word + Syntax가 있으면 language가 되는 것\n",
        "Syntax 중에서 기본이 되는 게\n",
        "1) 조건문 (if)\n",
        "2) 반복 (for)\n",
        "\n",
        "은 저장소이기 때문에 edit하거나 실행할 수 없음. 그건 Colab라는 데 가서 해야 함 클릭하면 코딩 내용과 함께 Colab으로 가게 됨"
      ],
      "metadata": {
        "id": "vtY66bpbbaAX"
      }
    },
    {
      "cell_type": "code",
      "metadata": {
        "id": "goAyoU7vRheI",
        "outputId": "a89ee97b-c254-43f3-a0ba-af154c29e5d0",
        "colab": {
          "base_uri": "https://localhost:8080/"
        }
      },
      "source": [
        "a = 1; print(type(a))"
      ],
      "execution_count": 1,
      "outputs": [
        {
          "output_type": "stream",
          "name": "stdout",
          "text": [
            "<class 'int'>\n"
          ]
        }
      ]
    },
    {
      "cell_type": "markdown",
      "source": [
        "a에 뭐가 들어있는지 우리는 모름.\n",
        "왼쪽에 {x} 누르면 a에 1이란 거 넣었다는 것을 알 수 있음."
      ],
      "metadata": {
        "id": "7L5bDL4lhOGI"
      }
    },
    {
      "cell_type": "code",
      "source": [
        "b=1"
      ],
      "metadata": {
        "id": "2eDVGYGnhZg5"
      },
      "execution_count": 2,
      "outputs": []
    },
    {
      "cell_type": "code",
      "source": [
        "print(b)"
      ],
      "metadata": {
        "colab": {
          "base_uri": "https://localhost:8080/"
        },
        "id": "TTLjrMGWhvKK",
        "outputId": "6430bb6c-589d-4d65-c626-b2e7a06abfba"
      },
      "execution_count": 3,
      "outputs": [
        {
          "output_type": "stream",
          "name": "stdout",
          "text": [
            "1\n"
          ]
        }
      ]
    },
    {
      "cell_type": "markdown",
      "source": [
        "변수(variables): 모든 변수는 숫자와 글자로 구성됨. (어떤 코딩이든)\n",
        "\n",
        "1) Numbers\n",
        "2) String\n",
        "\n",
        "Int: 숫자는 숫잔데, 소수점 안 달았으니까 ‘정수’라는 뜻임 Number 중에서는 int (정수)를 배움 정수 말고 ‘실수’도 있음"
      ],
      "metadata": {
        "id": "nrQstmI5hl99"
      }
    },
    {
      "cell_type": "code",
      "source": [
        "b=3"
      ],
      "metadata": {
        "id": "5OzVe3ANh5aV"
      },
      "execution_count": 4,
      "outputs": []
    },
    {
      "cell_type": "code",
      "source": [
        "print(b)"
      ],
      "metadata": {
        "colab": {
          "base_uri": "https://localhost:8080/"
        },
        "id": "LCGwHosnh7j1",
        "outputId": "ec29e133-301c-41e9-e000-a360683b9aa7"
      },
      "execution_count": 5,
      "outputs": [
        {
          "output_type": "stream",
          "name": "stdout",
          "text": [
            "3\n"
          ]
        }
      ]
    },
    {
      "cell_type": "code",
      "source": [
        "print(a)"
      ],
      "metadata": {
        "colab": {
          "base_uri": "https://localhost:8080/"
        },
        "id": "W5rhqkbthFvs",
        "outputId": "d5c3d0aa-415d-430d-85db-b1d4d6215570"
      },
      "execution_count": 6,
      "outputs": [
        {
          "output_type": "stream",
          "name": "stdout",
          "text": [
            "1\n"
          ]
        }
      ]
    },
    {
      "cell_type": "code",
      "metadata": {
        "id": "txxnoqJuRheJ",
        "outputId": "7b760a3d-e240-43b8-b78d-b9fb9deec43e",
        "colab": {
          "base_uri": "https://localhost:8080/"
        }
      },
      "source": [
        "a = 1.1; print(type(a))"
      ],
      "execution_count": 7,
      "outputs": [
        {
          "output_type": "stream",
          "name": "stdout",
          "text": [
            "<class 'float'>\n"
          ]
        }
      ]
    },
    {
      "cell_type": "markdown",
      "source": [
        "Float: 소수점이 있는 실수를 의미함 ‘1.0’은 실수임 (1과 1.0은 다름) Value = 가지고 있는 Content를 의미함"
      ],
      "metadata": {
        "id": "wU7rRgRYiO2x"
      }
    },
    {
      "cell_type": "code",
      "metadata": {
        "id": "SyP0PB86RheL",
        "outputId": "05805435-2081-43d4-e23e-a4f2ab84ef87",
        "colab": {
          "base_uri": "https://localhost:8080/"
        }
      },
      "source": [
        "a = '123'; print(type(a)); print(a[1])"
      ],
      "execution_count": 8,
      "outputs": [
        {
          "output_type": "stream",
          "name": "stdout",
          "text": [
            "<class 'str'>\n",
            "2\n"
          ]
        }
      ]
    },
    {
      "cell_type": "markdown",
      "source": [
        "Int, Float 타입 봄 String: ‘Quote’가 되어 있으면 string이 되는 것임 (숫자가 있더라도)\n",
        "\n",
        "List 변수: 숫자 / 문자 / list (다른 게 아니라, 여러 개 담을 때 쓰는 것임) 숫자 1, 문자 i담기가 가능했음 List = [~, ~…] (숫자, 문자 모두 들어갈 수 있음)"
      ],
      "metadata": {
        "id": "fTkeJb_-isVg"
      }
    },
    {
      "cell_type": "code",
      "metadata": {
        "id": "EKYj0dvIHPo0",
        "outputId": "86e4c7f6-b23e-4c9f-b5db-12e50d625dd8",
        "colab": {
          "base_uri": "https://localhost:8080/"
        }
      },
      "source": [
        "a = 'hello'; print(type(a)); print(a[1])"
      ],
      "execution_count": 9,
      "outputs": [
        {
          "output_type": "stream",
          "name": "stdout",
          "text": [
            "<class 'str'>\n",
            "e\n"
          ]
        }
      ]
    },
    {
      "cell_type": "code",
      "metadata": {
        "id": "Df6PhU-tHXr2",
        "outputId": "e3be0e12-2380-45c9-9268-c2888769e782",
        "colab": {
          "base_uri": "https://localhost:8080/"
        }
      },
      "source": [
        "a = [1, 2, 3, 4]; print(type(a)); print(a[0])"
      ],
      "execution_count": 10,
      "outputs": [
        {
          "output_type": "stream",
          "name": "stdout",
          "text": [
            "<class 'list'>\n",
            "1\n"
          ]
        }
      ]
    },
    {
      "cell_type": "markdown",
      "source": [
        "a라는 아이템이 유형이 list가 됨"
      ],
      "metadata": {
        "id": "Q2VPHrLojMqf"
      }
    },
    {
      "cell_type": "markdown",
      "source": [
        "네 아이템 한꺼번에 들고다닐 수도 있지만, 부분적으로 쓸 수도 있음 (indexing)"
      ],
      "metadata": {
        "id": "nCmbyy7ljlYK"
      }
    },
    {
      "cell_type": "code",
      "source": [
        "a[:]"
      ],
      "metadata": {
        "colab": {
          "base_uri": "https://localhost:8080/"
        },
        "id": "DRd_GQfrj00N",
        "outputId": "ce5b193b-d35d-4367-f39f-d9fc620ac744"
      },
      "execution_count": 11,
      "outputs": [
        {
          "output_type": "execute_result",
          "data": {
            "text/plain": [
              "[1, 2, 3, 4]"
            ]
          },
          "metadata": {},
          "execution_count": 11
        }
      ]
    },
    {
      "cell_type": "markdown",
      "source": [
        "A[0]: python에서는 0번째부터 시작함. 0번째를 가져와라 (a의 0번째) A[2] (a의 2번째) Print 안 해도 나옴.\n",
        "\n",
        "제일 마지막줄에 있는 것은 print 안 해도 print 한 효과가 있음\n",
        "\n",
        ":는 전부 다 라는 뜻\n",
        "a[:]라고 하면 전부 다"
      ],
      "metadata": {
        "id": "NHb-i2Z_j6an"
      }
    },
    {
      "cell_type": "markdown",
      "source": [
        "처음부터 끝까지 할 때 a[:]라고 표기 a[1:5] = [2, 3, 4, 5] 만약 처음부터 5까지 하고 싶으면\n",
        "\n",
        "a[:5] = [1, 2, 3, 4, 5] a[1:-1] (끝에서 하나 뺀 거): [2, 3, 4, 5, 6, 7, 8, 9]"
      ],
      "metadata": {
        "id": "eHpR2bIykMXQ"
      }
    },
    {
      "cell_type": "code",
      "source": [
        "a[1:-1]"
      ],
      "metadata": {
        "colab": {
          "base_uri": "https://localhost:8080/"
        },
        "id": "4MrCDFK-kPZD",
        "outputId": "06c63e13-5708-4091-e6f4-da321d469d1a"
      },
      "execution_count": 12,
      "outputs": [
        {
          "output_type": "execute_result",
          "data": {
            "text/plain": [
              "[2, 3]"
            ]
          },
          "metadata": {},
          "execution_count": 12
        }
      ]
    },
    {
      "cell_type": "code",
      "metadata": {
        "id": "DfS-gknCRheL",
        "outputId": "9336d27e-fb44-40a8-aae8-4ed2c63d778f",
        "colab": {
          "base_uri": "https://localhost:8080/"
        }
      },
      "source": [
        "a = [1,'a', [3, '4']]; print(type(a)); print(a[0]); print(a[1]); print(a[2]); print(a[2][1])"
      ],
      "execution_count": 13,
      "outputs": [
        {
          "output_type": "stream",
          "name": "stdout",
          "text": [
            "<class 'list'>\n",
            "1\n",
            "a\n",
            "[3, '4']\n",
            "4\n"
          ]
        }
      ]
    },
    {
      "cell_type": "code",
      "source": [
        "a[2][0]"
      ],
      "metadata": {
        "colab": {
          "base_uri": "https://localhost:8080/"
        },
        "id": "bMw3VjnvlEmr",
        "outputId": "52cb4549-d4f5-4b9e-908b-416eb449859e"
      },
      "execution_count": 14,
      "outputs": [
        {
          "output_type": "execute_result",
          "data": {
            "text/plain": [
              "3"
            ]
          },
          "metadata": {},
          "execution_count": 14
        }
      ]
    },
    {
      "cell_type": "markdown",
      "source": [
        "List 안에 숫자, string, list가 모두 들어 있음 (list 안의 또 다른 list가 들어있는 것임)"
      ],
      "metadata": {
        "id": "XdzU1F7djUUt"
      }
    },
    {
      "cell_type": "code",
      "source": [
        "a='abcdef123'"
      ],
      "metadata": {
        "id": "SpdA_BZDlXDq"
      },
      "execution_count": 15,
      "outputs": []
    },
    {
      "cell_type": "markdown",
      "source": [
        "일부만 들고 가려고 할 때 똑같이 string의 맵으로 들어가서 index하면 됨"
      ],
      "metadata": {
        "id": "a29B0hyfldd3"
      }
    },
    {
      "cell_type": "code",
      "source": [
        "type(a)"
      ],
      "metadata": {
        "colab": {
          "base_uri": "https://localhost:8080/"
        },
        "id": "RGeRauMulZpF",
        "outputId": "86dca9a7-d19b-4b37-cf43-7d02a67da397"
      },
      "execution_count": 16,
      "outputs": [
        {
          "output_type": "execute_result",
          "data": {
            "text/plain": [
              "str"
            ]
          },
          "metadata": {},
          "execution_count": 16
        }
      ]
    },
    {
      "cell_type": "code",
      "source": [
        "a[:3] #처음부터 0, 1, 2 (3 포함 안함)"
      ],
      "metadata": {
        "id": "y-Y3yd2rliJK",
        "outputId": "4a12e185-5456-41ed-eb71-02394e81610f",
        "colab": {
          "base_uri": "https://localhost:8080/",
          "height": 35
        }
      },
      "execution_count": 17,
      "outputs": [
        {
          "output_type": "execute_result",
          "data": {
            "text/plain": [
              "'abc'"
            ],
            "application/vnd.google.colaboratory.intrinsic+json": {
              "type": "string"
            }
          },
          "metadata": {},
          "execution_count": 17
        }
      ]
    },
    {
      "cell_type": "code",
      "source": [
        "a[3:-1]"
      ],
      "metadata": {
        "colab": {
          "base_uri": "https://localhost:8080/",
          "height": 35
        },
        "id": "onIgd8cVlp9E",
        "outputId": "df3b61f2-df81-4b1a-e4e7-73f1da379920"
      },
      "execution_count": 18,
      "outputs": [
        {
          "output_type": "execute_result",
          "data": {
            "text/plain": [
              "'def12'"
            ],
            "application/vnd.google.colaboratory.intrinsic+json": {
              "type": "string"
            }
          },
          "metadata": {},
          "execution_count": 18
        }
      ]
    },
    {
      "cell_type": "markdown",
      "source": [
        "list와 string은 index하는 방법이 똑같음. 콜론 사용하는 방법에 익숙해 지길"
      ],
      "metadata": {
        "id": "odnE931BlyRM"
      }
    },
    {
      "cell_type": "code",
      "source": [
        "a=[1, 2, 3, 4, 5, 6, 7, 8, 9, 10]"
      ],
      "metadata": {
        "id": "IsesQJnYmX0p"
      },
      "execution_count": 19,
      "outputs": []
    },
    {
      "cell_type": "code",
      "source": [
        "a = [1, 2, 3]"
      ],
      "metadata": {
        "id": "kDPFFwQ3rZVj"
      },
      "execution_count": 20,
      "outputs": []
    },
    {
      "cell_type": "markdown",
      "source": [
        "이렇게 하면 tuple이 되는 것\n",
        "\n",
        "list와 tuple은 모든 게 똑같음."
      ],
      "metadata": {
        "id": "smsqZNsgtK3U"
      }
    },
    {
      "cell_type": "code",
      "source": [
        "a[1] = 0"
      ],
      "metadata": {
        "id": "HOKXaDxlmNMi"
      },
      "execution_count": 21,
      "outputs": []
    },
    {
      "cell_type": "code",
      "source": [
        "a = (1, 2, 3)\n",
        "#tuple로 바꿔봄"
      ],
      "metadata": {
        "id": "VjSvibqutltR"
      },
      "execution_count": 23,
      "outputs": []
    },
    {
      "cell_type": "code",
      "source": [
        "a[1] = 0"
      ],
      "metadata": {
        "id": "hhiCSV98trpC",
        "outputId": "02f51608-2163-4683-b23b-aa85a436b27e",
        "colab": {
          "base_uri": "https://localhost:8080/",
          "height": 172
        }
      },
      "execution_count": 24,
      "outputs": [
        {
          "output_type": "error",
          "ename": "TypeError",
          "evalue": "ignored",
          "traceback": [
            "\u001b[0;31m---------------------------------------------------------------------------\u001b[0m",
            "\u001b[0;31mTypeError\u001b[0m                                 Traceback (most recent call last)",
            "\u001b[0;32m<ipython-input-24-d768fd713f88>\u001b[0m in \u001b[0;36m<module>\u001b[0;34m()\u001b[0m\n\u001b[0;32m----> 1\u001b[0;31m \u001b[0ma\u001b[0m\u001b[0;34m[\u001b[0m\u001b[0;36m1\u001b[0m\u001b[0;34m]\u001b[0m \u001b[0;34m=\u001b[0m \u001b[0;36m0\u001b[0m\u001b[0;34m\u001b[0m\u001b[0;34m\u001b[0m\u001b[0m\n\u001b[0m",
            "\u001b[0;31mTypeError\u001b[0m: 'tuple' object does not support item assignment"
          ]
        }
      ]
    },
    {
      "cell_type": "markdown",
      "source": [
        "다만, tuple은 item을 assign해서 내부 바꾸는 게 안된다! 라는 error가 뜸. 사람들이 코딩하다 실수로 지울까봐 이런 식으로 담아둠"
      ],
      "metadata": {
        "id": "jW9MVT8_tvxR"
      }
    },
    {
      "cell_type": "code",
      "source": [
        "print(a)"
      ],
      "metadata": {
        "id": "dW8cVhH6rU-P",
        "outputId": "274d5280-d90a-4442-dfb6-5c3dd979db5a",
        "colab": {
          "base_uri": "https://localhost:8080/"
        }
      },
      "execution_count": 25,
      "outputs": [
        {
          "output_type": "stream",
          "name": "stdout",
          "text": [
            "(1, 2, 3)\n"
          ]
        }
      ]
    },
    {
      "cell_type": "code",
      "source": [
        "print(a[1]+a[2])"
      ],
      "metadata": {
        "colab": {
          "base_uri": "https://localhost:8080/"
        },
        "id": "DB5VIF-5msXa",
        "outputId": "c257f72a-f1f9-4a26-aaac-f7e5551c4737"
      },
      "execution_count": 26,
      "outputs": [
        {
          "output_type": "stream",
          "name": "stdout",
          "text": [
            "5\n"
          ]
        }
      ]
    },
    {
      "cell_type": "markdown",
      "source": [
        "access하고 더하는 건 되는데, 내부적인 information 바꾸는 건 안됨"
      ],
      "metadata": {
        "id": "R3VAeoXNt-Ao"
      }
    },
    {
      "cell_type": "code",
      "source": [
        "print(a)"
      ],
      "metadata": {
        "colab": {
          "base_uri": "https://localhost:8080/"
        },
        "id": "-BzpNRCDmcmG",
        "outputId": "3235b5df-4b60-4b90-a891-9d01fdb00b08"
      },
      "execution_count": 27,
      "outputs": [
        {
          "output_type": "stream",
          "name": "stdout",
          "text": [
            "(1, 2, 3)\n"
          ]
        }
      ]
    },
    {
      "cell_type": "markdown",
      "source": [
        "숫자\n",
        "\n",
        "String\n",
        "\n",
        "list (= tuple): a(1, 2, 3) ‘tuple’은 item을 assign해서 내부 바꾸는 것을 못 함\n",
        "\n",
        "사람들이 실수로 중요한 정보 담아놨는데 코딩하다가 지울까봐 이런 식으로 담아둠.\n",
        "\n",
        "그 외에는 똑 같은 거라고 생각하면 됨 괄호로 똑같이 할 수 있는데, secure하기 위해서 만든 게 ‘tuple’ Dict: 제일 어려운데 하다 보면 쉬워짐"
      ],
      "metadata": {
        "id": "HW0HcAl1lPUE"
      }
    },
    {
      "cell_type": "code",
      "source": [
        "a = {\"a\": \"apple\", \"b\": \"orange\", \"c\": 2014}"
      ],
      "metadata": {
        "id": "DF89zBJGuRS0"
      },
      "execution_count": 28,
      "outputs": []
    },
    {
      "cell_type": "markdown",
      "source": [
        "Dictionary는 표제어와 그것에 대한 설명이 있음 (쌍으로 되어 있음) 키워드와 그것에 대한 설명으로 이루어짐 (Key & Value)\n",
        "\n",
        "다 single quote로 바꿔도 상관 없음\n",
        "\n",
        "quote 달거나, key에 숫자 오는 건 괜찮음."
      ],
      "metadata": {
        "id": "G2cRTgKLuhTf"
      }
    },
    {
      "cell_type": "code",
      "source": [
        "a[\"c\"]"
      ],
      "metadata": {
        "id": "GDM-l0PWutTr",
        "outputId": "de81f319-603d-4b11-f50d-68af2c83562d",
        "colab": {
          "base_uri": "https://localhost:8080/"
        }
      },
      "execution_count": 29,
      "outputs": [
        {
          "output_type": "execute_result",
          "data": {
            "text/plain": [
              "2014"
            ]
          },
          "metadata": {},
          "execution_count": 29
        }
      ]
    },
    {
      "cell_type": "code",
      "metadata": {
        "id": "2sivfloGRheM",
        "outputId": "b8a86b07-fbb0-4716-eabc-05162d44f120",
        "colab": {
          "base_uri": "https://localhost:8080/"
        }
      },
      "source": [
        "a =\t{123: \"apple\", \"b\": \"orange\", \"c\": 2014}\n",
        "print(type(a))"
      ],
      "execution_count": 30,
      "outputs": [
        {
          "output_type": "stream",
          "name": "stdout",
          "text": [
            "<class 'dict'>\n"
          ]
        }
      ]
    },
    {
      "cell_type": "markdown",
      "source": [
        "순서가 아니라 앞에 있는 'key' 값이 access할 수 있는 열쇠임\n",
        "숫자, 문자 중 어떤 것이 와도 상관 없음 (순서 하면 error 뜸)"
      ],
      "metadata": {
        "id": "ECGV8SyPnVfJ"
      }
    },
    {
      "cell_type": "code",
      "source": [
        "a[123]"
      ],
      "metadata": {
        "colab": {
          "base_uri": "https://localhost:8080/",
          "height": 35
        },
        "id": "hHbd4_rvnOyv",
        "outputId": "90f75ac7-d136-4d4c-cabe-315e4ca593a7"
      },
      "execution_count": 31,
      "outputs": [
        {
          "output_type": "execute_result",
          "data": {
            "text/plain": [
              "'apple'"
            ],
            "application/vnd.google.colaboratory.intrinsic+json": {
              "type": "string"
            }
          },
          "metadata": {},
          "execution_count": 31
        }
      ]
    },
    {
      "cell_type": "code",
      "source": [
        "print(type(a)); print(a[\"b\"])"
      ],
      "metadata": {
        "id": "fOxAKb89v6kn",
        "outputId": "e71ea042-7069-41f1-9c5e-ea9501d3d125",
        "colab": {
          "base_uri": "https://localhost:8080/"
        }
      },
      "execution_count": 32,
      "outputs": [
        {
          "output_type": "stream",
          "name": "stdout",
          "text": [
            "<class 'dict'>\n",
            "orange\n"
          ]
        }
      ]
    },
    {
      "cell_type": "markdown",
      "source": [
        "Print(type(a)), print(a[‘ba’]) 실행을 두 개 할 때 semicolon 주로 사용함\n",
        "\n",
        "다음 시간에는 For, if, syntax에 대해서 배우게 될 것 임 (list 안에서 for 쓰는 법 등)"
      ],
      "metadata": {
        "id": "TndvCHuDl73H"
      }
    }
  ]
}