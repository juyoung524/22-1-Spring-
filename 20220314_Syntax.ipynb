{
  "nbformat": 4,
  "nbformat_minor": 0,
  "metadata": {
    "kernelspec": {
      "display_name": "Python 3",
      "language": "python",
      "name": "python3"
    },
    "language_info": {
      "codemirror_mode": {
        "name": "ipython",
        "version": 3
      },
      "file_extension": ".py",
      "mimetype": "text/x-python",
      "name": "python",
      "nbconvert_exporter": "python",
      "pygments_lexer": "ipython3",
      "version": "3.7.1"
    },
    "colab": {
      "name": "20220314_Syntax.ipynb",
      "provenance": [],
      "include_colab_link": true
    }
  },
  "cells": [
    {
      "cell_type": "markdown",
      "metadata": {
        "id": "view-in-github",
        "colab_type": "text"
      },
      "source": [
        "<a href=\"https://colab.research.google.com/github/juyoung524/22-1-Spring-/blob/main/20220314_Syntax.ipynb\" target=\"_parent\"><img src=\"https://colab.research.google.com/assets/colab-badge.svg\" alt=\"Open In Colab\"/></a>"
      ]
    },
    {
      "cell_type": "markdown",
      "source": [
        "Syntax:\n",
        "반복문(for, while)\n",
        "조건문(if, switch)\n",
        "지금은 for와 if만 필히 알자! 사실상 syntax의 전부임"
      ],
      "metadata": {
        "id": "CX6zhaADvUrA"
      }
    },
    {
      "cell_type": "code",
      "metadata": {
        "id": "Fu2mzgrqSLAU",
        "outputId": "4ff1a721-44e4-401c-b40f-7832dfb73b7c",
        "colab": {
          "base_uri": "https://localhost:8080/"
        }
      },
      "source": [
        "a = [1, 2, 3, 4]\n",
        "for i in a:\n",
        "    print(i)"
      ],
      "execution_count": null,
      "outputs": [
        {
          "output_type": "stream",
          "name": "stdout",
          "text": [
            "1\n",
            "2\n",
            "3\n",
            "4\n"
          ]
        }
      ]
    },
    {
      "cell_type": "markdown",
      "source": [
        "A = [1, 2, 3, 4]\n",
        "For    in  a:  -> For loop라고 부름 (a 개수에 맞게 네 번 돌림)\n",
        "\n",
        "띄워진 사이에 있는 것들은 for 안에 있는 것으로 해석\n",
        "\n",
        "처음부터 하나씩 받아서 올린다\n",
        "\n",
        "A에서 하나하나씩 받아서 i에 넣고 돌린다\n",
        "\n",
        "Print(i)하면 네 번 돌아가는 것임"
      ],
      "metadata": {
        "id": "3Soecm1Bva8K"
      }
    },
    {
      "cell_type": "code",
      "metadata": {
        "id": "XSJxLJVCSLAW",
        "outputId": "4372c44c-c2ac-4d6e-f46f-dec62c5059d4",
        "colab": {
          "base_uri": "https://localhost:8080/"
        }
      },
      "source": [
        "a = [1, 2, 3, 4]\n",
        "for i in range(len(a)):\n",
        "    print(a[i])"
      ],
      "execution_count": null,
      "outputs": [
        {
          "output_type": "stream",
          "name": "stdout",
          "text": [
            "1\n",
            "2\n",
            "3\n",
            "4\n"
          ]
        }
      ]
    },
    {
      "cell_type": "markdown",
      "source": [
        "For I in range(len(a)))\n",
        "\n",
        "Range(4)가 만들어내는 것이 [0 1 2 3]의 list가 만들어진다고 생각하면 됨\n",
        "\n",
        "I에 첫 번쨰부터 들어가서 0, 1, 2, 3 들어감\n",
        "\n",
        "print(a[0])\n",
        "\n",
        "range(4)\n",
        "\n",
        "따로 range 쓰지는 않음. For in 다음에 뜸\n",
        "List가 만들어짐\n",
        "\n",
        "range 안에 [0, 1, 2, 3] 리스트 만들어짐\n",
        "\n",
        "Range(4)는 [0, 1, 2, 3]에 해당되는 index가 만들어진다고 생각하면 됨"
      ],
      "metadata": {
        "id": "C2bXd_OOvuNQ"
      }
    },
    {
      "cell_type": "code",
      "metadata": {
        "id": "VTfxVRdgSLAW",
        "outputId": "439c2d5a-fc80-4c7d-a004-5bee28b4200a",
        "colab": {
          "base_uri": "https://localhost:8080/"
        }
      },
      "source": [
        "a = ['red', 'green', 'blue', 'purple']\n",
        "for i in a:\n",
        "    print(i)"
      ],
      "execution_count": null,
      "outputs": [
        {
          "output_type": "stream",
          "name": "stdout",
          "text": [
            "red\n",
            "green\n",
            "blue\n",
            "purple\n"
          ]
        }
      ]
    },
    {
      "cell_type": "code",
      "metadata": {
        "id": "Vc-7pW85SLAW",
        "outputId": "e398eadb-4b94-41bd-d454-5cd237a73444",
        "colab": {
          "base_uri": "https://localhost:8080/"
        }
      },
      "source": [
        "a = ['red', 'green', 'blue', 'purple']\n",
        "for i in range(len(a)):\n",
        "    print(a[i])\n",
        "\n",
        "#여기서 len(a)는 4과 같음"
      ],
      "execution_count": null,
      "outputs": [
        {
          "output_type": "stream",
          "name": "stdout",
          "text": [
            "red\n",
            "green\n",
            "blue\n",
            "purple\n"
          ]
        }
      ]
    },
    {
      "cell_type": "code",
      "metadata": {
        "id": "dD-ephD3SLAX",
        "outputId": "cd1b8f3c-0be7-4c54-ee18-0393d2a3b318",
        "colab": {
          "base_uri": "https://localhost:8080/"
        }
      },
      "source": [
        "a = 0\n",
        "if a != 0:\n",
        "    print(a)\n",
        "else:\n",
        "    print(a+1)"
      ],
      "execution_count": null,
      "outputs": [
        {
          "output_type": "stream",
          "name": "stdout",
          "text": [
            "1\n"
          ]
        }
      ]
    },
    {
      "cell_type": "markdown",
      "source": [
        "a=[‘red’, ‘green’, ‘blue’, ‘purple’]\n",
        "\n",
        "a=0 (오른쪽이 왼쪽에 0을 assign하는 것임)\n",
        "\n",
        "If a==0: (a가 0과 같다면. 실제로 같다는 것은 ==로 표기해야 함)\n",
        "\n",
        "Print를 해라\n",
        "\n",
        "Else:\n",
        "Print(a+1)\n",
        "\n",
        "아니라면 !로 표기함\n",
        "\n",
        "0이 아니라면 print a, else print a+1이니까 1이 나옴"
      ],
      "metadata": {
        "id": "qZUjm2Sf0k08"
      }
    },
    {
      "cell_type": "code",
      "metadata": {
        "id": "M0AZaDMvSLAY",
        "outputId": "b25a5fe6-defa-4549-85b0-0c146ff7a2a0"
      },
      "source": [
        "for i in range(1, 3):\n",
        "\n",
        "#[1, 2] (3은 제외)\n",
        "#range(3,5) -> [3, 4,]\n",
        "\n",
        "    for j in range(3, 5):\n",
        "        print(i*j)"
      ],
      "execution_count": null,
      "outputs": [
        {
          "output_type": "stream",
          "text": [
            "3\n",
            "4\n",
            "6\n",
            "8\n"
          ],
          "name": "stdout"
        }
      ]
    },
    {
      "cell_type": "markdown",
      "source": [
        "For 하나만 썼음. 근데 for 중첩해서 쓸 수 있음\n",
        "For I in range(1,3):\n",
        "\n",
        "for i in range(1, 3):\n",
        "        if j >=4:\n",
        "            print(i*j)\n",
        "\n",
        "J가 4보다 같거나 클 때만 print하라\n",
        "4, 8 두 개 나옴"
      ],
      "metadata": {
        "id": "NqMvI5cN1hA_"
      }
    },
    {
      "cell_type": "code",
      "metadata": {
        "id": "ZPpZmVIHSLAY",
        "outputId": "0bbcc529-c1d8-4774-e1ad-9de8b9e065ce"
      },
      "source": [
        "for i in range(1, 3):\n",
        "    for j in range(3, 5):\n",
        "        if j >=4:\n",
        "            print(i*j)"
      ],
      "execution_count": null,
      "outputs": [
        {
          "output_type": "stream",
          "text": [
            "4\n",
            "8\n"
          ],
          "name": "stdout"
        }
      ]
    },
    {
      "cell_type": "code",
      "metadata": {
        "id": "JQXk5vi0SLAY",
        "outputId": "040b61be-ce64-4596-bff7-59044dad8f68",
        "colab": {
          "base_uri": "https://localhost:8080/"
        }
      },
      "source": [
        "a = [1, 2, 3, 4]\n",
        "b = [i for i in a if i >=2]\n",
        "b"
      ],
      "execution_count": null,
      "outputs": [
        {
          "output_type": "execute_result",
          "data": {
            "text/plain": [
              "[2, 3, 4]"
            ]
          },
          "metadata": {},
          "execution_count": 9
        }
      ]
    },
    {
      "cell_type": "markdown",
      "source": [
        "List comprehension:\n",
        "\n",
        "a = [1, 2, 3, 4]\n",
        "\n",
        "b = [i for i in a if i >=2]\n",
        "\n",
        "b\n",
        "\n",
        "For와 if가 list 안쪽으로 들어옴\n",
        "\n",
        "A에 있는 것은 하나하나씩 i로 받는다\n",
        "\n",
        "[2, 3, 4] list 안에 for loop 넣어서 정교하고, advanced 된 방법임\n",
        "\n",
        "a = ['red', 'green', 'blue', 'purple']\n",
        "\n",
        "b = [i for i in a if len(i) >=4]\n",
        "\n",
        "b\n",
        "\n",
        "red부터 넣고, red가 길이가 4보다 크냐 (X, if 절 통과하지 못함)\n",
        "\n",
        "green, blue, purple 통과. 따라서 b에 남게 되는 list: [‘green’, ‘blue’, ‘purple’]"
      ],
      "metadata": {
        "id": "17t_enJh2DcT"
      }
    },
    {
      "cell_type": "code",
      "metadata": {
        "id": "MDmBGZ3LSLAZ",
        "outputId": "bd06f885-7334-43d9-d92d-848c615f6771"
      },
      "source": [
        "a = ['red', 'green', 'blue', 'purple']\n",
        "b = [i for i in a if len(i) >=4]\n",
        "b"
      ],
      "execution_count": null,
      "outputs": [
        {
          "output_type": "execute_result",
          "data": {
            "text/plain": [
              "['green', 'blue', 'purple']"
            ]
          },
          "metadata": {
            "tags": []
          },
          "execution_count": 13
        }
      ]
    },
    {
      "cell_type": "code",
      "source": [
        "a = ['red', 'green', 'blue', 'purple']\n",
        "b = [1, 2, 3, 4]\n",
        "c = {a[i]:b[i] for i in range(4)}\n",
        "c"
      ],
      "metadata": {
        "id": "Z6JMoDOHu48B",
        "outputId": "21c83a23-c67b-4b2e-95d5-70d808489d08",
        "colab": {
          "base_uri": "https://localhost:8080/"
        }
      },
      "execution_count": null,
      "outputs": [
        {
          "output_type": "execute_result",
          "data": {
            "text/plain": [
              "{'blue': 3, 'green': 2, 'purple': 4, 'red': 1}"
            ]
          },
          "metadata": {},
          "execution_count": 10
        }
      ]
    },
    {
      "cell_type": "markdown",
      "source": [
        "Dict comprehension: (난해하니까 잘 봐두기)\n",
        "\n",
        "a = ['red', 'green', 'blue', 'purple']\n",
        "\n",
        "b = [1, 2, 3, 4]\n",
        "\n",
        "c = {a[i]:b[i] for i in range(4)}\n",
        "\n",
        "c\n",
        "\n",
        "range(4): [0, 1, 2, 3]\n",
        "\n",
        "pairwise로 만들어짐\n",
        "\n",
        "{‘blue’:3, ‘green’:2, ‘purple’:4, ‘red’:1}\n",
        "\n",
        "Range(4) -> [0, 1, 2, 3]\n",
        "\n",
        "Range(1, 3) -> [1, 2]\n",
        "\n",
        "Range(3, 5) -> [3, 4]"
      ],
      "metadata": {
        "id": "hFJvHhAJ2V5g"
      }
    }
  ]
}